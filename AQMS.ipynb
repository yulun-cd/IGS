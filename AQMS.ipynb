{
 "cells": [
  {
   "cell_type": "code",
   "execution_count": null,
   "id": "e1a8bada",
   "metadata": {},
   "outputs": [],
   "source": [
    "import pandas as pd\n",
    "import geopandas as gpd\n",
    "import numpy as np\n",
    "import glob\n",
    "import matplotlib.pyplot as plt"
   ]
  },
  {
   "cell_type": "code",
   "execution_count": null,
   "id": "b225f0c4",
   "metadata": {},
   "outputs": [],
   "source": [
    "csv_files=glob.glob('data/AQMS'+'/*.csv')\n",
    "df=pd.concat((pd.read_csv(f) for f in csv_files))"
   ]
  },
  {
   "cell_type": "code",
   "execution_count": null,
   "id": "c4167e05",
   "metadata": {},
   "outputs": [],
   "source": [
    "df.info()"
   ]
  },
  {
   "cell_type": "code",
   "execution_count": null,
   "id": "6ad520a3",
   "metadata": {
    "scrolled": true
   },
   "outputs": [],
   "source": [
    "df.drop(['Species','Units','Provisional or Ratified'],axis=1,inplace=True)"
   ]
  },
  {
   "cell_type": "code",
   "execution_count": null,
   "id": "e4c9ca66",
   "metadata": {
    "scrolled": true
   },
   "outputs": [],
   "source": [
    "df.groupby('Site').describe()"
   ]
  },
  {
   "cell_type": "markdown",
   "id": "1c165a30",
   "metadata": {},
   "source": [
    "GN0, LW5, RB7, RD0, WM0 has too few data (less than half of the total amount)"
   ]
  },
  {
   "cell_type": "code",
   "execution_count": null,
   "id": "21bc366e",
   "metadata": {
    "scrolled": true
   },
   "outputs": [],
   "source": [
    "# list of site codes with PM data\n",
    "valid_AQMS=df.dropna()['Site'].unique().tolist()\n",
    "print(valid_AQMS)"
   ]
  },
  {
   "cell_type": "code",
   "execution_count": null,
   "id": "a8cb3261",
   "metadata": {},
   "outputs": [],
   "source": [
    "for site in ['GN0','LW5','RB7','RD0','WM0']:\n",
    "    df=df[df['Site']!=site]\n",
    "    valid_AQMS.remove(site)\n",
    "df=df[df['Site'].isin(valid_AQMS)]\n",
    "df=df.reset_index(drop=True)\n",
    "df.info()"
   ]
  },
  {
   "cell_type": "code",
   "execution_count": null,
   "id": "801a0a84",
   "metadata": {},
   "outputs": [],
   "source": [
    "# KF1 and KC1 are very similar\n",
    "fig,ax=plt.subplots()\n",
    "df[df['Site']=='KC1'].plot(x='ReadingDateTime',y='Value',ax=ax,label='KC1',linewidth=0.5)\n",
    "df[df['Site']=='KF1'].plot(x='ReadingDateTime',y='Value',ax=ax,label='KF1',linewidth=0.5)\n",
    "plt.show()"
   ]
  },
  {
   "cell_type": "code",
   "execution_count": null,
   "id": "dd4817f7",
   "metadata": {},
   "outputs": [],
   "source": [
    "# Remove KF1\n",
    "df=df[df['Site']!='KF1']\n",
    "valid_AQMS.remove('KF1')"
   ]
  },
  {
   "cell_type": "code",
   "execution_count": null,
   "id": "be753445",
   "metadata": {},
   "outputs": [],
   "source": [
    "len(df['Site'].unique())"
   ]
  },
  {
   "cell_type": "code",
   "execution_count": null,
   "id": "632527a7",
   "metadata": {},
   "outputs": [],
   "source": [
    "df.groupby('Site').describe()"
   ]
  },
  {
   "cell_type": "code",
   "execution_count": null,
   "id": "b6363e8e",
   "metadata": {
    "scrolled": true
   },
   "outputs": [],
   "source": [
    "# read in AQMS geometry\n",
    "gdf=gpd.read_file('data/AQMS/AQMS.gpkg')\n",
    "gdf.head()"
   ]
  },
  {
   "cell_type": "code",
   "execution_count": null,
   "id": "0e9dce09",
   "metadata": {
    "scrolled": false
   },
   "outputs": [],
   "source": [
    "gdf=gdf.loc[:,['latitude','longitude','siteid','sitename']]\n",
    "\n",
    "gdf.info()"
   ]
  },
  {
   "cell_type": "code",
   "execution_count": null,
   "id": "864b8af8",
   "metadata": {},
   "outputs": [],
   "source": [
    "# check if all sites with data are within the geometry dataframe\n",
    "for elem in valid_AQMS:\n",
    "    if elem not in gdf['siteid'].unique().tolist():\n",
    "        print(elem)"
   ]
  },
  {
   "cell_type": "markdown",
   "id": "e24a46b0",
   "metadata": {},
   "source": [
    "**TK3**: Thurrock - Stanford-le-Hope\n",
    "\n",
    "      51.518162000000, 0.4395480000000"
   ]
  },
  {
   "cell_type": "markdown",
   "id": "a1ec1b94",
   "metadata": {},
   "source": [
    "**Thurrock** is not in London, so ignore"
   ]
  },
  {
   "cell_type": "code",
   "execution_count": null,
   "id": "7b4fb8e0",
   "metadata": {
    "scrolled": true
   },
   "outputs": [],
   "source": [
    "valid_AQMS.remove('TK3')\n",
    "df=df[df['Site']!='TK3']"
   ]
  },
  {
   "cell_type": "code",
   "execution_count": null,
   "id": "bf4d14e9",
   "metadata": {},
   "outputs": [],
   "source": [
    "len(valid_AQMS)"
   ]
  },
  {
   "cell_type": "code",
   "execution_count": null,
   "id": "c4bb9d2f",
   "metadata": {},
   "outputs": [],
   "source": [
    "len(df['Site'].unique())"
   ]
  },
  {
   "cell_type": "code",
   "execution_count": null,
   "id": "a84e4e28",
   "metadata": {},
   "outputs": [],
   "source": [
    "AQMS_gdf=gdf[gdf['siteid'].isin(valid_AQMS)]\n",
    "AQMS_gdf.info()"
   ]
  },
  {
   "cell_type": "code",
   "execution_count": null,
   "id": "8c6a3784",
   "metadata": {},
   "outputs": [],
   "source": [
    "AQMS_gdf=AQMS_gdf.astype({'latitude':'float64','longitude':'float64','siteid':'string','sitename':'string'})\n",
    "AQMS_gdf.dtypes"
   ]
  },
  {
   "cell_type": "code",
   "execution_count": null,
   "id": "28a8d399",
   "metadata": {},
   "outputs": [],
   "source": [
    "london_gdf=gpd.read_file('data/london_boundary.shp')\n",
    "london_gdf=london_gdf.set_crs(27700)\n",
    "london_gdf.crs"
   ]
  },
  {
   "cell_type": "code",
   "execution_count": null,
   "id": "96d7f929",
   "metadata": {},
   "outputs": [],
   "source": [
    "AQMS_gdf = gpd.GeoDataFrame(AQMS_gdf, geometry=gpd.points_from_xy(AQMS_gdf.longitude, AQMS_gdf.latitude),crs='EPSG:4326')"
   ]
  },
  {
   "cell_type": "code",
   "execution_count": null,
   "id": "8abc6413",
   "metadata": {},
   "outputs": [],
   "source": [
    "AQMS_gdf=AQMS_gdf.to_crs(27700)\n",
    "AQMS_gdf=AQMS_gdf.drop(['latitude','longitude'],axis=1)"
   ]
  },
  {
   "cell_type": "code",
   "execution_count": null,
   "id": "812233ed",
   "metadata": {},
   "outputs": [],
   "source": [
    "AQMS_gdf.to_file('data/AQMS_loc.shp')"
   ]
  },
  {
   "cell_type": "markdown",
   "id": "13dfd34c",
   "metadata": {},
   "source": [
    "------\n",
    "**Geometry of sites saved.**"
   ]
  },
  {
   "cell_type": "code",
   "execution_count": null,
   "id": "ccfb46f7",
   "metadata": {},
   "outputs": [],
   "source": [
    "df.info()"
   ]
  },
  {
   "cell_type": "code",
   "execution_count": null,
   "id": "a023757c",
   "metadata": {},
   "outputs": [],
   "source": [
    "df.head()"
   ]
  },
  {
   "cell_type": "code",
   "execution_count": null,
   "id": "98278667",
   "metadata": {},
   "outputs": [],
   "source": [
    "df.info()"
   ]
  },
  {
   "cell_type": "markdown",
   "id": "ce299a91",
   "metadata": {},
   "source": [
    "There are many null values.\n",
    "\n",
    "According to [this](https://www.researchgate.net/publication/237537115_Estimation_of_missing_values_in_air_pollution_data_using_single_imputation_techniques), using mean-before-after is an approach."
   ]
  },
  {
   "cell_type": "code",
   "execution_count": null,
   "id": "5ee60ed5",
   "metadata": {},
   "outputs": [],
   "source": [
    "val=df['Value'].values\n",
    "val.shape"
   ]
  },
  {
   "cell_type": "code",
   "execution_count": null,
   "id": "1da59884",
   "metadata": {},
   "outputs": [],
   "source": [
    "for i in range(21):\n",
    "    print(val[8760*i])\n",
    "    print(val[8760*i-1])"
   ]
  },
  {
   "cell_type": "code",
   "execution_count": null,
   "id": "d0f78597",
   "metadata": {},
   "outputs": [],
   "source": [
    "val[183940:]"
   ]
  },
  {
   "cell_type": "code",
   "execution_count": null,
   "id": "667be8e9",
   "metadata": {},
   "outputs": [],
   "source": [
    "for i in range(21):\n",
    "    for j in range(8760*i,8760*(i+1)-1):\n",
    "        if np.isnan(val[j]):\n",
    "            for w in range(1,13):\n",
    "                if not np.isnan(val[j+w]):\n",
    "                    for z in range(1,w+1):\n",
    "                        val[j+z]=(val[j-1]+val[j+w])*z/(z+1)\n",
    "                    break\n",
    "            \n",
    "val.min()"
   ]
  },
  {
   "cell_type": "code",
   "execution_count": null,
   "id": "209380a1",
   "metadata": {},
   "outputs": [],
   "source": [
    "df['DateTime']=pd.to_datetime(df['ReadingDateTime'])"
   ]
  },
  {
   "cell_type": "code",
   "execution_count": null,
   "id": "17ce5e68",
   "metadata": {},
   "outputs": [],
   "source": [
    "dm_PM=pd.DataFrame()\n",
    "for site in valid_AQMS:\n",
    "    temp=df[df['Site']==site].groupby(pd.Grouper(key='DateTime',freq='D')).mean()\n",
    "    temp['Site']=site\n",
    "    dm_PM=dm_PM.append(temp)\n",
    "dm_PM"
   ]
  },
  {
   "cell_type": "code",
   "execution_count": null,
   "id": "80bb68a0",
   "metadata": {},
   "outputs": [],
   "source": [
    "dm_PM.to_csv('data/AQMS_readings.csv')\n"
   ]
  },
  {
   "cell_type": "code",
   "execution_count": null,
   "id": "3bc880f5",
   "metadata": {},
   "outputs": [],
   "source": [
    "fig,ax=plt.subplots(1,figsize=(10,8))\n",
    "\n",
    "london_gdf.plot(ax=ax,color='lightgrey')\n",
    "AQMS_gdf.plot(ax=ax,color='green',marker='^')\n",
    "\n",
    "ax.axis('off')\n",
    "plt.show()"
   ]
  }
 ],
 "metadata": {
  "interpreter": {
   "hash": "dd548d6900449ae1d7545b40857d6bc962fccbe0d49e49e9fd456ece914234e4"
  },
  "kernelspec": {
   "display_name": "Python 3 (ipykernel)",
   "language": "python",
   "name": "python3"
  },
  "language_info": {
   "codemirror_mode": {
    "name": "ipython",
    "version": 3
   },
   "file_extension": ".py",
   "mimetype": "text/x-python",
   "name": "python",
   "nbconvert_exporter": "python",
   "pygments_lexer": "ipython3",
   "version": "3.8.10"
  }
 },
 "nbformat": 4,
 "nbformat_minor": 5
}
