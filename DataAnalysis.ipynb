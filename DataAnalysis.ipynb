{
 "cells": [
  {
   "cell_type": "code",
   "execution_count": 78,
   "metadata": {},
   "outputs": [],
   "source": [
    "import pandas as pd\n",
    "import geopandas as gpd\n",
    "import numpy as np\n",
    "\n",
    "import matplotlib.pyplot as plt\n",
    "import seaborn as sns\n",
    "\n",
    "from libpysal.weights import Kernel\n",
    "from esda.moran import Moran\n",
    "\n",
    "from scipy import stats\n",
    "from sklearn.linear_model import LinearRegression\n",
    "from sklearn.cross_decomposition import PLSRegression\n",
    "from sklearn.model_selection import train_test_split, KFold, cross_val_predict, cross_val_score\n",
    "from sklearn.inspection import permutation_importance"
   ]
  },
  {
   "cell_type": "code",
   "execution_count": 2,
   "metadata": {},
   "outputs": [],
   "source": [
    "loc_gdf=gpd.read_file('data/AQMS_loc.shp')"
   ]
  },
  {
   "cell_type": "markdown",
   "metadata": {},
   "source": [
    "# Initialise"
   ]
  },
  {
   "cell_type": "code",
   "execution_count": null,
   "metadata": {},
   "outputs": [],
   "source": [
    "# Read in all the data\n",
    "\n",
    "AQMS_df=pd.read_csv('data/hourly.csv')\n",
    "Rd_gdf=gpd.read_file('data/london_Road.shp')\n",
    "Gsp_gdf=gpd.read_file('data/LD_GreenSpace.shp')\n",
    "\n",
    "cond=pd.read_csv('data/cond_hourly.csv')"
   ]
  },
  {
   "cell_type": "code",
   "execution_count": null,
   "metadata": {},
   "outputs": [],
   "source": [
    "# reindex loc_gdf and set buffer zones around each site (1km)\n",
    "\n",
    "loc_gdf=loc_gdf.set_index('siteid')\n",
    "loc_gdf['buffer_1km']=loc_gdf['geometry'].buffer(1000)"
   ]
  },
  {
   "cell_type": "code",
   "execution_count": null,
   "metadata": {},
   "outputs": [],
   "source": [
    "# Get all green spaces\n",
    "Gsp=Gsp_gdf['geometry'].unary_union\n",
    "\n",
    "# Get all roads\n",
    "Rd=Rd_gdf['geometry'].unary_union"
   ]
  },
  {
   "cell_type": "code",
   "execution_count": null,
   "metadata": {},
   "outputs": [],
   "source": [
    "# Set buffer zones for every road (50m)\n",
    "Rd_gdf['buffer_50m']=Rd_gdf['geometry'].buffer(50)\n",
    "# Get all road buffer zones\n",
    "Rd_buffer=Rd_gdf['buffer_50m'].unary_union"
   ]
  },
  {
   "cell_type": "code",
   "execution_count": null,
   "metadata": {},
   "outputs": [],
   "source": [
    "# Get all near-road green spaces\n",
    "nRd_Gsp=Gsp.intersection(Rd_buffer)"
   ]
  },
  {
   "cell_type": "code",
   "execution_count": null,
   "metadata": {},
   "outputs": [],
   "source": [
    "# Get all near-greenspace roads\n",
    "nRd_Gsp_buffer=nRd_Gsp.buffer(50)\n",
    "nGsp_Rd=Rd.intersection(nRd_Gsp_buffer)"
   ]
  },
  {
   "cell_type": "code",
   "execution_count": null,
   "metadata": {},
   "outputs": [],
   "source": [
    "# store all buffer zones in a list\n",
    "AQMS_shp=[]\n",
    "for site in loc_gdf.index:\n",
    "    AQMS_shp.append(loc_gdf.loc[site,'buffer_1km'])"
   ]
  },
  {
   "cell_type": "code",
   "execution_count": null,
   "metadata": {},
   "outputs": [],
   "source": [
    "# get all roads, green spaces, near-road green spaces and near-gsp roads in buffer zones around every sites\n",
    "Rd_shp=[]\n",
    "Gsp_shp=[]\n",
    "nRd_Gsp_shp=[]\n",
    "nGsp_Rd_shp=[]\n",
    "for poly in AQMS_shp:\n",
    "    Rd_shp.append(poly.intersection(Rd))\n",
    "    Gsp_shp.append(poly.intersection(Gsp))\n",
    "    nRd_Gsp_shp.append(poly.intersection(nRd_Gsp))\n",
    "    nGsp_Rd_shp.append(poly.intersection(nGsp_Rd))\n",
    "print(len(Rd_shp),len(Gsp_shp),len(nRd_Gsp_shp),len(nGsp_Rd_shp))"
   ]
  },
  {
   "cell_type": "code",
   "execution_count": null,
   "metadata": {},
   "outputs": [],
   "source": [
    "# append them into the dataframe\n",
    "loc_gdf['Rd']=Rd_shp\n",
    "loc_gdf['Gsp']=Gsp_shp\n",
    "loc_gdf['nRd_Gsp']=nRd_Gsp_shp\n",
    "loc_gdf['nGsp_Rd']=nGsp_Rd_shp\n",
    "\n",
    "# and set their data types to geometry\n",
    "loc_gdf=loc_gdf.set_geometry('Rd').set_geometry('Gsp').set_geometry('nRd_Gsp').set_geometry('nGsp_Rd')"
   ]
  },
  {
   "cell_type": "code",
   "execution_count": null,
   "metadata": {},
   "outputs": [],
   "source": [
    "# london boundary read in\n",
    "london=gpd.read_file('data/london_boundary.shp')"
   ]
  },
  {
   "cell_type": "code",
   "execution_count": null,
   "metadata": {},
   "outputs": [],
   "source": [
    "# visualise all the sites on the map\n",
    "fig,ax=plt.subplots(1,figsize=(15,13))\n",
    "\n",
    "london.plot(color='lightgrey',ax=ax)\n",
    "loc_gdf['buffer_1km'].plot(color='silver',ax=ax)\n",
    "loc_gdf['Gsp'].plot(label='Green space',color='limegreen',ax=ax)\n",
    "loc_gdf['nRd_Gsp'].plot(label='Near_road green space',color='darkgreen',ax=ax)\n",
    "loc_gdf['Rd'].plot(color='black',label='Road',linewidth=0.1,ax=ax)\n",
    "loc_gdf['geometry'].plot(markersize=5,marker='^',color='blue',label='Air quality monitoring site',ax=ax)\n",
    "\n",
    "ax.axis('off')\n",
    "\n",
    "legend=ax.legend(loc='best',shadow=True,fontsize=15)\n",
    "\n",
    "#plt.savefig('sample1.png',facecolor='black',dpi=500)\n",
    "plt.show()"
   ]
  },
  {
   "cell_type": "markdown",
   "metadata": {},
   "source": [
    "There are some buffers that seem to be very close to each other."
   ]
  },
  {
   "cell_type": "code",
   "execution_count": null,
   "metadata": {},
   "outputs": [],
   "source": [
    "# add a column that specifies the shortest distance of a site to its nearest neighbour\n",
    "loc_gdf['min_dis']=pd.Series(dtype='float64')\n",
    "for index, row in loc_gdf.iterrows():\n",
    "    dis=[]\n",
    "    for i, v in loc_gdf['geometry'].iteritems():\n",
    "        dis.append(row['geometry'].distance(v))\n",
    "    dis.remove(0)\n",
    "    loc_gdf.loc[index,'min_dis']=min(dis)"
   ]
  },
  {
   "cell_type": "code",
   "execution_count": null,
   "metadata": {},
   "outputs": [],
   "source": [
    "# list sites that are close to each other (within 1.5km)\n",
    "loc_gdf[loc_gdf['min_dis']<=1500]"
   ]
  },
  {
   "cell_type": "code",
   "execution_count": null,
   "metadata": {},
   "outputs": [],
   "source": [
    "# check their readings' descriptive statistics\n",
    "AQMS_df[AQMS_df['Site'].isin(['BL0','CD9','GR4','GB0'])].groupby('Site').describe()"
   ]
  },
  {
   "cell_type": "code",
   "execution_count": null,
   "metadata": {},
   "outputs": [],
   "source": [
    "stats.ttest_rel(AQMS_df[AQMS_df['Site']=='BL0'].Value.values,AQMS_df[AQMS_df['Site']=='CD9'].Value.values)"
   ]
  },
  {
   "cell_type": "code",
   "execution_count": null,
   "metadata": {},
   "outputs": [],
   "source": [
    "stats.ttest_rel(AQMS_df[AQMS_df['Site']=='GR4'].Value.values,AQMS_df[AQMS_df['Site']=='GB0'].Value.values)"
   ]
  },
  {
   "cell_type": "markdown",
   "metadata": {},
   "source": [
    "Both indicate that we should reject H0, meaning the two datasets are statistically significantly different."
   ]
  },
  {
   "cell_type": "code",
   "execution_count": null,
   "metadata": {},
   "outputs": [],
   "source": [
    "# revmove them from the list\n",
    "loc_gdf.drop(['BL0','GR4'],inplace=True)"
   ]
  },
  {
   "cell_type": "code",
   "execution_count": null,
   "metadata": {},
   "outputs": [],
   "source": [
    "# get the area of each buffer zone\n",
    "loc_gdf['buffer_area']=loc_gdf['buffer_1km'].area"
   ]
  },
  {
   "cell_type": "code",
   "execution_count": null,
   "metadata": {},
   "outputs": [],
   "source": [
    "loc_gdf['Rd_len']=loc_gdf['Rd'].length"
   ]
  },
  {
   "cell_type": "code",
   "execution_count": null,
   "metadata": {},
   "outputs": [],
   "source": [
    "# get percentages of green space and near-road green space areas \n",
    "loc_gdf['Gsp_area']=loc_gdf['Gsp'].area\n",
    "loc_gdf['pct_nRd_Gsp']=loc_gdf['nRd_Gsp'].area/loc_gdf['Gsp_area']*100"
   ]
  },
  {
   "cell_type": "code",
   "execution_count": null,
   "metadata": {},
   "outputs": [],
   "source": [
    "# near-road green space area per road length\n",
    "loc_gdf['nRd_Gsp_per_Rd_len']=loc_gdf['nRd_Gsp'].area/loc_gdf['Rd_len']"
   ]
  },
  {
   "cell_type": "code",
   "execution_count": null,
   "metadata": {},
   "outputs": [],
   "source": [
    "# percentage of near-green-space road\n",
    "loc_gdf['pct_nGsp_Rd']=loc_gdf['nGsp_Rd'].length/loc_gdf['Rd_len']*100"
   ]
  },
  {
   "cell_type": "code",
   "execution_count": null,
   "metadata": {},
   "outputs": [],
   "source": [
    "var_names=loc_gdf.columns[9:].values.tolist()"
   ]
  },
  {
   "cell_type": "code",
   "execution_count": null,
   "metadata": {},
   "outputs": [],
   "source": [
    "# merge PM reading and site geogemetry data\n",
    "df=pd.merge(AQMS_df,loc_gdf,left_on='Site',right_index=True)\n",
    "df.info()"
   ]
  },
  {
   "cell_type": "code",
   "execution_count": null,
   "metadata": {},
   "outputs": [],
   "source": [
    "# drop irrelevant columns\n",
    "df.drop(['sitename','buffer_1km','Rd','Gsp','nRd_Gsp','nGsp_Rd','min_dis','buffer_area'],\n",
    "        axis=1,inplace=True)\n",
    "df.info()"
   ]
  },
  {
   "cell_type": "code",
   "execution_count": null,
   "metadata": {},
   "outputs": [],
   "source": [
    "# covert the DateTime column to numpy.datetime variable\n",
    "df['DateTime']=pd.to_datetime(df['DateTime'])"
   ]
  },
  {
   "cell_type": "code",
   "execution_count": null,
   "metadata": {},
   "outputs": [],
   "source": [
    "# merge with conditional variables\n",
    "cond['DateTime']=pd.to_datetime(cond['DateTime'])\n",
    "df=df.merge(cond,on='DateTime')\n",
    "df.info()"
   ]
  },
  {
   "cell_type": "code",
   "execution_count": null,
   "metadata": {},
   "outputs": [],
   "source": [
    "df.hist()"
   ]
  },
  {
   "cell_type": "code",
   "execution_count": null,
   "metadata": {},
   "outputs": [],
   "source": [
    "df['Gsp_area'].hist()"
   ]
  },
  {
   "cell_type": "code",
   "execution_count": null,
   "metadata": {},
   "outputs": [],
   "source": [
    "df['log_Gsp_area']=np.log(df['Gsp_area'])\n",
    "df['log_Gsp_area'].hist()"
   ]
  },
  {
   "cell_type": "code",
   "execution_count": null,
   "metadata": {},
   "outputs": [],
   "source": [
    "df['nRd_Gsp_per_Rd_len'].hist()"
   ]
  },
  {
   "cell_type": "code",
   "execution_count": null,
   "metadata": {},
   "outputs": [],
   "source": [
    "df['log_nRd_Gsp_per_Rd_len']=np.log(df['nRd_Gsp_per_Rd_len'])\n",
    "df['log_nRd_Gsp_per_Rd_len'].hist()"
   ]
  },
  {
   "cell_type": "code",
   "execution_count": null,
   "metadata": {},
   "outputs": [],
   "source": [
    "df[var_names].describe()"
   ]
  },
  {
   "cell_type": "code",
   "execution_count": null,
   "metadata": {},
   "outputs": [],
   "source": [
    "# feature scaling\n",
    "df['Rd_len']=df['Rd_len']/1000"
   ]
  },
  {
   "cell_type": "code",
   "execution_count": null,
   "metadata": {},
   "outputs": [],
   "source": [
    "df.to_csv('temp_data.csv',index=False)"
   ]
  },
  {
   "cell_type": "markdown",
   "metadata": {},
   "source": [
    "# Temporarily save"
   ]
  },
  {
   "cell_type": "code",
   "execution_count": 3,
   "metadata": {},
   "outputs": [],
   "source": [
    "df=pd.read_csv('temp_data.csv')"
   ]
  },
  {
   "cell_type": "code",
   "execution_count": 4,
   "metadata": {},
   "outputs": [],
   "source": [
    "df['DateTime']=pd.to_datetime(df['DateTime'])"
   ]
  },
  {
   "cell_type": "code",
   "execution_count": 5,
   "metadata": {},
   "outputs": [
    {
     "name": "stdout",
     "output_type": "stream",
     "text": [
      "<class 'pandas.core.frame.DataFrame'>\n",
      "RangeIndex: 183960 entries, 0 to 183959\n",
      "Data columns (total 14 columns):\n",
      " #   Column                  Non-Null Count   Dtype         \n",
      "---  ------                  --------------   -----         \n",
      " 0   Site                    183960 non-null  object        \n",
      " 1   Value                   183960 non-null  float64       \n",
      " 2   DateTime                183960 non-null  datetime64[ns]\n",
      " 3   geometry                183960 non-null  object        \n",
      " 4   Rd_len                  183960 non-null  float64       \n",
      " 5   Gsp_area                183960 non-null  float64       \n",
      " 6   pct_nRd_Gsp             183960 non-null  float64       \n",
      " 7   nRd_Gsp_per_Rd_len      183960 non-null  float64       \n",
      " 8   pct_nGsp_Rd             183960 non-null  float64       \n",
      " 9   bp_mean                 183960 non-null  float64       \n",
      " 10  tmp_mean                183960 non-null  float64       \n",
      " 11  rh_mean                 183960 non-null  float64       \n",
      " 12  log_Gsp_area            183960 non-null  float64       \n",
      " 13  log_nRd_Gsp_per_Rd_len  183960 non-null  float64       \n",
      "dtypes: datetime64[ns](1), float64(11), object(2)\n",
      "memory usage: 19.6+ MB\n"
     ]
    }
   ],
   "source": [
    "df.info()"
   ]
  },
  {
   "cell_type": "code",
   "execution_count": 6,
   "metadata": {},
   "outputs": [],
   "source": [
    "var_names=df.columns[4:9].tolist()"
   ]
  },
  {
   "cell_type": "code",
   "execution_count": 7,
   "metadata": {},
   "outputs": [
    {
     "data": {
      "text/plain": [
       "['Rd_len',\n",
       " 'log_Gsp_area',\n",
       " 'pct_nRd_Gsp',\n",
       " 'log_nRd_Gsp_per_Rd_len',\n",
       " 'pct_nGsp_Rd']"
      ]
     },
     "execution_count": 7,
     "metadata": {},
     "output_type": "execute_result"
    }
   ],
   "source": [
    "var_names[1]='log_Gsp_area'\n",
    "var_names[3]='log_nRd_Gsp_per_Rd_len'\n",
    "var_names"
   ]
  },
  {
   "cell_type": "code",
   "execution_count": 8,
   "metadata": {},
   "outputs": [],
   "source": [
    "loc_gdf=pd.merge(df.groupby('Site').mean()[var_names],loc_gdf,left_index=True,right_on='siteid')"
   ]
  },
  {
   "cell_type": "code",
   "execution_count": 9,
   "metadata": {},
   "outputs": [],
   "source": [
    "loc_gdf=loc_gdf.set_index('siteid')"
   ]
  },
  {
   "cell_type": "code",
   "execution_count": 10,
   "metadata": {},
   "outputs": [],
   "source": [
    "# kernel weight matrix for the sites\n",
    "weight=Kernel.from_dataframe(loc_gdf,geom_col='geometry',function='gaussian')"
   ]
  },
  {
   "cell_type": "code",
   "execution_count": 11,
   "metadata": {},
   "outputs": [
    {
     "name": "stdout",
     "output_type": "stream",
     "text": [
      "Global Moran's I for Rd_len is 0.23493\n",
      "Global Moran's I for log_Gsp_area is 0.12411\n",
      "Global Moran's I for pct_nRd_Gsp is 0.11296\n",
      "Global Moran's I for log_nRd_Gsp_per_Rd_len is 0.14754\n",
      "Global Moran's I for pct_nGsp_Rd is 0.06421\n"
     ]
    }
   ],
   "source": [
    "for var in var_names:\n",
    "    moran_temp=Moran(loc_gdf[var].values,weight)\n",
    "    print(\"Global Moran's I for \"+var+' is '+str(round(moran_temp.I,5)))"
   ]
  },
  {
   "cell_type": "code",
   "execution_count": 12,
   "metadata": {},
   "outputs": [
    {
     "data": {
      "text/plain": [
       "<AxesSubplot:xlabel='hour'>"
      ]
     },
     "execution_count": 12,
     "metadata": {},
     "output_type": "execute_result"
    },
    {
     "data": {
      "image/png": "[encoded data removed]",
      "text/plain": [
       "<Figure size 432x288 with 1 Axes>"
      ]
     },
     "metadata": {
      "needs_background": "light"
     },
     "output_type": "display_data"
    }
   ],
   "source": [
    "df['hour']=df['DateTime'].dt.hour\n",
    "df.groupby('hour').mean()['Value'].plot()"
   ]
  },
  {
   "cell_type": "code",
   "execution_count": 13,
   "metadata": {},
   "outputs": [
    {
     "data": {
      "text/plain": [
       "<AxesSubplot:xlabel='dayofweek'>"
      ]
     },
     "execution_count": 13,
     "metadata": {},
     "output_type": "execute_result"
    },
    {
     "data": {
      "image/png": "[encoded data removed]",
      "text/plain": [
       "<Figure size 432x288 with 1 Axes>"
      ]
     },
     "metadata": {
      "needs_background": "light"
     },
     "output_type": "display_data"
    }
   ],
   "source": [
    "df['dayofweek']=df['DateTime'].dt.dayofweek\n",
    "df.groupby('dayofweek').mean()['Value'].plot()"
   ]
  },
  {
   "cell_type": "code",
   "execution_count": 14,
   "metadata": {},
   "outputs": [
    {
     "data": {
      "text/plain": [
       "<AxesSubplot:xlabel='dayofmonth'>"
      ]
     },
     "execution_count": 14,
     "metadata": {},
     "output_type": "execute_result"
    },
    {
     "data": {
      "image/png": "[encoded data removed]",
      "text/plain": [
       "<Figure size 432x288 with 1 Axes>"
      ]
     },
     "metadata": {
      "needs_background": "light"
     },
     "output_type": "display_data"
    }
   ],
   "source": [
    "df['dayofmonth']=df['DateTime'].dt.day\n",
    "df.groupby('dayofmonth').mean()['Value'].plot()"
   ]
  },
  {
   "cell_type": "code",
   "execution_count": 17,
   "metadata": {},
   "outputs": [],
   "source": [
    "def get_importance(reg, features, target, feature_names, rep=20):\n",
    "    reg.fit(features, target)\n",
    "    result={}\n",
    "    importance = permutation_importance(reg, features, target, n_repeats=rep)\n",
    "    for i, v in enumerate(importance.importances_mean):\n",
    "        result[feature_names[i]] = round(v, 5)\n",
    "    return result"
   ]
  },
  {
   "cell_type": "code",
   "execution_count": 101,
   "metadata": {},
   "outputs": [],
   "source": [
    "def get_cv_score(reg, features, target, iter=100, split=10):\n",
    "    reg.fit(features, target)\n",
    "    r2=[]\n",
    "    for i in range(iter):\n",
    "        kf = KFold(n_splits=split, shuffle=True, random_state=i)\n",
    "        cv = cross_val_score(reg, features, target, cv=kf).tolist()\n",
    "        r2 = r2 + cv\n",
    "    \n",
    "    return ({'r2' : np.mean(r2), 'variance' : np.var(r2)})"
   ]
  },
  {
   "cell_type": "code",
   "execution_count": 19,
   "metadata": {},
   "outputs": [
    {
     "data": {
      "text/plain": [
       "{'Rd_len': 0.00061,\n",
       " 'log_Gsp_area': 0.00231,\n",
       " 'pct_nRd_Gsp': 0.00979,\n",
       " 'log_nRd_Gsp_per_Rd_len': 0.00187,\n",
       " 'pct_nGsp_Rd': 0.0061,\n",
       " 'bp_mean': 0.0825,\n",
       " 'tmp_mean': 0.04135,\n",
       " 'rh_mean': 0.00065}"
      ]
     },
     "execution_count": 19,
     "metadata": {},
     "output_type": "execute_result"
    }
   ],
   "source": [
    "reg = LinearRegression()\n",
    "var = var_names + ['bp_mean', 'tmp_mean', 'rh_mean']\n",
    "\n",
    "X = df[var].values\n",
    "y = df['Value'].values\n",
    "\n",
    "get_importance(reg, X, y, feature_names=var)"
   ]
  },
  {
   "cell_type": "code",
   "execution_count": 23,
   "metadata": {},
   "outputs": [
    {
     "data": {
      "text/plain": [
       "{'r2_cv': 0.06483,\n",
       " 'tau_cv': 0.19098,\n",
       " 'r2_var_cv': 1.1081033669121493e-09,\n",
       " 'tau_var_cv': 1.784458613085053e-09}"
      ]
     },
     "execution_count": 23,
     "metadata": {},
     "output_type": "execute_result"
    }
   ],
   "source": [
    "get_cv_score(reg, X, y)"
   ]
  },
  {
   "cell_type": "code",
   "execution_count": 30,
   "metadata": {},
   "outputs": [
    {
     "name": "stdout",
     "output_type": "stream",
     "text": [
      "r2 (obs):  0.06625\n",
      "tau (obs):  0.19314\n"
     ]
    }
   ],
   "source": [
    "X_train, X_test, y_train, y_test = train_test_split(X, y)\n",
    "\n",
    "reg.fit(X_train, y_train)\n",
    "pred = reg.predict(X_test)\n",
    "\n",
    "r = stats.pearsonr(y_test, pred)[0]\n",
    "r2 = r**2\n",
    "t,p_value = stats.kendalltau(y_test, pred)\n",
    "print(\"r2 (obs): \", round(r2,5))   \n",
    "print(\"tau (obs): \", round(t,5))"
   ]
  },
  {
   "cell_type": "code",
   "execution_count": 105,
   "metadata": {},
   "outputs": [],
   "source": [
    "h_fi = []\n",
    "h_cv = []\n",
    "h_coef = []\n",
    "for hour in df['hour'].unique():\n",
    "    X = df[df['hour']==hour].loc[:,var].values\n",
    "    y = df[df['hour']==hour].loc[:,'Value'].values\n",
    "    \n",
    "    importance = list(get_importance(reg, X, y, feature_names=var).values())\n",
    "    h_fi.append(importance)\n",
    "    \n",
    "    cv = list(get_cv_score(reg, X, y).values())\n",
    "    h_cv.append(cv)\n",
    "    \n",
    "    coef = reg.coef_.tolist()\n",
    "    coef.append(reg.intercept_)\n",
    "    h_coef.append(coef)\n",
    "    \n",
    "var_col=['fi_' + elem for elem in var]\n",
    "h_fi = pd.DataFrame(h_fi, columns=var_col)\n",
    "h_cv = pd.DataFrame(h_cv, columns=['r2_cv', 'r2_var'])\n",
    "h_coef = pd.DataFrame(h_coef, columns=var+['intercept'])"
   ]
  },
  {
   "cell_type": "code",
   "execution_count": 106,
   "metadata": {},
   "outputs": [
    {
     "data": {
      "text/html": [
       "<div>\n",
       "<style scoped>\n",
       "    .dataframe tbody tr th:only-of-type {\n",
       "        vertical-align: middle;\n",
       "    }\n",
       "\n",
       "    .dataframe tbody tr th {\n",
       "        vertical-align: top;\n",
       "    }\n",
       "\n",
       "    .dataframe thead th {\n",
       "        text-align: right;\n",
       "    }\n",
       "</style>\n",
       "<table border=\"1\" class=\"dataframe\">\n",
       "  <thead>\n",
       "    <tr style=\"text-align: right;\">\n",
       "      <th></th>\n",
       "      <th>Rd_len</th>\n",
       "      <th>log_Gsp_area</th>\n",
       "      <th>pct_nRd_Gsp</th>\n",
       "      <th>log_nRd_Gsp_per_Rd_len</th>\n",
       "      <th>pct_nGsp_Rd</th>\n",
       "      <th>bp_mean</th>\n",
       "      <th>tmp_mean</th>\n",
       "      <th>rh_mean</th>\n",
       "      <th>intercept</th>\n",
       "      <th>r2_cv</th>\n",
       "      <th>r2_var</th>\n",
       "      <th>fi_Rd_len</th>\n",
       "      <th>fi_log_Gsp_area</th>\n",
       "      <th>fi_pct_nRd_Gsp</th>\n",
       "      <th>fi_log_nRd_Gsp_per_Rd_len</th>\n",
       "      <th>fi_pct_nGsp_Rd</th>\n",
       "      <th>fi_bp_mean</th>\n",
       "      <th>fi_tmp_mean</th>\n",
       "      <th>fi_rh_mean</th>\n",
       "    </tr>\n",
       "  </thead>\n",
       "  <tbody>\n",
       "    <tr>\n",
       "      <th>0</th>\n",
       "      <td>-0.400459</td>\n",
       "      <td>14.445871</td>\n",
       "      <td>0.376688</td>\n",
       "      <td>-12.842407</td>\n",
       "      <td>-0.247065</td>\n",
       "      <td>0.202783</td>\n",
       "      <td>-0.530646</td>\n",
       "      <td>0.116184</td>\n",
       "      <td>-359.161120</td>\n",
       "      <td>0.108095</td>\n",
       "      <td>0.000535</td>\n",
       "      <td>0.35144</td>\n",
       "      <td>2.23693</td>\n",
       "      <td>1.02325</td>\n",
       "      <td>1.32322</td>\n",
       "      <td>0.03863</td>\n",
       "      <td>0.08202</td>\n",
       "      <td>0.08080</td>\n",
       "      <td>0.01109</td>\n",
       "    </tr>\n",
       "    <tr>\n",
       "      <th>1</th>\n",
       "      <td>0.009116</td>\n",
       "      <td>-0.456809</td>\n",
       "      <td>0.013030</td>\n",
       "      <td>1.293369</td>\n",
       "      <td>-0.066925</td>\n",
       "      <td>0.196386</td>\n",
       "      <td>-0.483837</td>\n",
       "      <td>0.172304</td>\n",
       "      <td>-191.641636</td>\n",
       "      <td>0.095605</td>\n",
       "      <td>0.000433</td>\n",
       "      <td>0.00027</td>\n",
       "      <td>0.00257</td>\n",
       "      <td>0.00153</td>\n",
       "      <td>0.01477</td>\n",
       "      <td>0.00310</td>\n",
       "      <td>0.08526</td>\n",
       "      <td>0.07452</td>\n",
       "      <td>0.02490</td>\n",
       "    </tr>\n",
       "    <tr>\n",
       "      <th>2</th>\n",
       "      <td>-0.029306</td>\n",
       "      <td>0.990506</td>\n",
       "      <td>0.046972</td>\n",
       "      <td>-0.026651</td>\n",
       "      <td>-0.085198</td>\n",
       "      <td>0.192388</td>\n",
       "      <td>-0.484688</td>\n",
       "      <td>0.213033</td>\n",
       "      <td>-208.059063</td>\n",
       "      <td>0.097723</td>\n",
       "      <td>0.000408</td>\n",
       "      <td>0.00204</td>\n",
       "      <td>0.01116</td>\n",
       "      <td>0.01695</td>\n",
       "      <td>0.00001</td>\n",
       "      <td>0.00506</td>\n",
       "      <td>0.08063</td>\n",
       "      <td>0.06986</td>\n",
       "      <td>0.03578</td>\n",
       "    </tr>\n",
       "    <tr>\n",
       "      <th>3</th>\n",
       "      <td>-0.036879</td>\n",
       "      <td>1.270951</td>\n",
       "      <td>0.051805</td>\n",
       "      <td>-0.390410</td>\n",
       "      <td>-0.078414</td>\n",
       "      <td>0.182571</td>\n",
       "      <td>-0.479667</td>\n",
       "      <td>0.251145</td>\n",
       "      <td>-205.217170</td>\n",
       "      <td>0.098620</td>\n",
       "      <td>0.000816</td>\n",
       "      <td>0.00265</td>\n",
       "      <td>0.01621</td>\n",
       "      <td>0.01916</td>\n",
       "      <td>0.00134</td>\n",
       "      <td>0.00393</td>\n",
       "      <td>0.06490</td>\n",
       "      <td>0.06230</td>\n",
       "      <td>0.04239</td>\n",
       "    </tr>\n",
       "    <tr>\n",
       "      <th>4</th>\n",
       "      <td>0.009838</td>\n",
       "      <td>-0.377391</td>\n",
       "      <td>0.017509</td>\n",
       "      <td>1.249723</td>\n",
       "      <td>-0.076128</td>\n",
       "      <td>0.172279</td>\n",
       "      <td>-0.495817</td>\n",
       "      <td>0.286448</td>\n",
       "      <td>-179.577032</td>\n",
       "      <td>0.119112</td>\n",
       "      <td>0.000480</td>\n",
       "      <td>0.00027</td>\n",
       "      <td>0.00183</td>\n",
       "      <td>0.00280</td>\n",
       "      <td>0.01548</td>\n",
       "      <td>0.00433</td>\n",
       "      <td>0.07234</td>\n",
       "      <td>0.08182</td>\n",
       "      <td>0.06847</td>\n",
       "    </tr>\n",
       "  </tbody>\n",
       "</table>\n",
       "</div>"
      ],
      "text/plain": [
       "     Rd_len  log_Gsp_area  pct_nRd_Gsp  log_nRd_Gsp_per_Rd_len  pct_nGsp_Rd  \\\n",
       "0 -0.400459     14.445871     0.376688              -12.842407    -0.247065   \n",
       "1  0.009116     -0.456809     0.013030                1.293369    -0.066925   \n",
       "2 -0.029306      0.990506     0.046972               -0.026651    -0.085198   \n",
       "3 -0.036879      1.270951     0.051805               -0.390410    -0.078414   \n",
       "4  0.009838     -0.377391     0.017509                1.249723    -0.076128   \n",
       "\n",
       "    bp_mean  tmp_mean   rh_mean   intercept     r2_cv    r2_var  fi_Rd_len  \\\n",
       "0  0.202783 -0.530646  0.116184 -359.161120  0.108095  0.000535    0.35144   \n",
       "1  0.196386 -0.483837  0.172304 -191.641636  0.095605  0.000433    0.00027   \n",
       "2  0.192388 -0.484688  0.213033 -208.059063  0.097723  0.000408    0.00204   \n",
       "3  0.182571 -0.479667  0.251145 -205.217170  0.098620  0.000816    0.00265   \n",
       "4  0.172279 -0.495817  0.286448 -179.577032  0.119112  0.000480    0.00027   \n",
       "\n",
       "   fi_log_Gsp_area  fi_pct_nRd_Gsp  fi_log_nRd_Gsp_per_Rd_len  fi_pct_nGsp_Rd  \\\n",
       "0          2.23693         1.02325                    1.32322         0.03863   \n",
       "1          0.00257         0.00153                    0.01477         0.00310   \n",
       "2          0.01116         0.01695                    0.00001         0.00506   \n",
       "3          0.01621         0.01916                    0.00134         0.00393   \n",
       "4          0.00183         0.00280                    0.01548         0.00433   \n",
       "\n",
       "   fi_bp_mean  fi_tmp_mean  fi_rh_mean  \n",
       "0     0.08202      0.08080     0.01109  \n",
       "1     0.08526      0.07452     0.02490  \n",
       "2     0.08063      0.06986     0.03578  \n",
       "3     0.06490      0.06230     0.04239  \n",
       "4     0.07234      0.08182     0.06847  "
      ]
     },
     "execution_count": 106,
     "metadata": {},
     "output_type": "execute_result"
    }
   ],
   "source": [
    "h_reg = pd.concat([h_coef, h_cv, h_fi], axis=1)\n",
    "h_reg.head()"
   ]
  },
  {
   "cell_type": "code",
   "execution_count": 50,
   "metadata": {},
   "outputs": [],
   "source": [
    "# set up a new column for month information\n",
    "df['month']=df['DateTime'].dt.month"
   ]
  },
  {
   "cell_type": "code",
   "execution_count": 103,
   "metadata": {},
   "outputs": [],
   "source": [
    "m_fi = []\n",
    "m_cv = []\n",
    "m_coef = []\n",
    "for month in df['month'].unique():\n",
    "    X = df[df['month']==month].loc[:, var].values\n",
    "    y = df[df['month']==month].loc[:, 'Value'].values\n",
    "    \n",
    "    importance = list(get_importance(reg, X, y, feature_names=var).values())\n",
    "    m_fi.append(importance)\n",
    "    \n",
    "    cv = list(get_cv_score(reg, X, y).values())\n",
    "    m_cv.append(cv)\n",
    "    \n",
    "    coef = reg.coef_.tolist()\n",
    "    coef.append(reg.intercept_)\n",
    "    m_coef.append(coef)\n",
    "    \n",
    "m_fi = pd.DataFrame(m_fi, columns=var_col)\n",
    "m_cv = pd.DataFrame(m_cv, columns=['r2', 'r2_var'])\n",
    "m_coef = pd.DataFrame(m_coef, columns=var+['intercept'])"
   ]
  },
  {
   "cell_type": "code",
   "execution_count": 104,
   "metadata": {},
   "outputs": [
    {
     "data": {
      "text/html": [
       "<div>\n",
       "<style scoped>\n",
       "    .dataframe tbody tr th:only-of-type {\n",
       "        vertical-align: middle;\n",
       "    }\n",
       "\n",
       "    .dataframe tbody tr th {\n",
       "        vertical-align: top;\n",
       "    }\n",
       "\n",
       "    .dataframe thead th {\n",
       "        text-align: right;\n",
       "    }\n",
       "</style>\n",
       "<table border=\"1\" class=\"dataframe\">\n",
       "  <thead>\n",
       "    <tr style=\"text-align: right;\">\n",
       "      <th></th>\n",
       "      <th>Rd_len</th>\n",
       "      <th>log_Gsp_area</th>\n",
       "      <th>pct_nRd_Gsp</th>\n",
       "      <th>log_nRd_Gsp_per_Rd_len</th>\n",
       "      <th>pct_nGsp_Rd</th>\n",
       "      <th>bp_mean</th>\n",
       "      <th>tmp_mean</th>\n",
       "      <th>rh_mean</th>\n",
       "      <th>intercept</th>\n",
       "      <th>r2</th>\n",
       "      <th>r2_var</th>\n",
       "      <th>fi_Rd_len</th>\n",
       "      <th>fi_log_Gsp_area</th>\n",
       "      <th>fi_pct_nRd_Gsp</th>\n",
       "      <th>fi_log_nRd_Gsp_per_Rd_len</th>\n",
       "      <th>fi_pct_nGsp_Rd</th>\n",
       "      <th>fi_bp_mean</th>\n",
       "      <th>fi_tmp_mean</th>\n",
       "      <th>fi_rh_mean</th>\n",
       "    </tr>\n",
       "  </thead>\n",
       "  <tbody>\n",
       "    <tr>\n",
       "      <th>0</th>\n",
       "      <td>0.100491</td>\n",
       "      <td>-2.028771</td>\n",
       "      <td>-0.035764</td>\n",
       "      <td>2.880863</td>\n",
       "      <td>-0.077744</td>\n",
       "      <td>0.163545</td>\n",
       "      <td>-0.340180</td>\n",
       "      <td>0.074633</td>\n",
       "      <td>-133.957579</td>\n",
       "      <td>0.090053</td>\n",
       "      <td>0.000199</td>\n",
       "      <td>0.04129</td>\n",
       "      <td>0.08146</td>\n",
       "      <td>0.01700</td>\n",
       "      <td>0.12414</td>\n",
       "      <td>0.00715</td>\n",
       "      <td>0.08841</td>\n",
       "      <td>0.08753</td>\n",
       "      <td>0.01978</td>\n",
       "    </tr>\n",
       "    <tr>\n",
       "      <th>1</th>\n",
       "      <td>0.308741</td>\n",
       "      <td>-9.305301</td>\n",
       "      <td>-0.186668</td>\n",
       "      <td>9.284862</td>\n",
       "      <td>-0.013517</td>\n",
       "      <td>0.372008</td>\n",
       "      <td>-0.766852</td>\n",
       "      <td>-0.057307</td>\n",
       "      <td>-244.665829</td>\n",
       "      <td>0.220658</td>\n",
       "      <td>0.000294</td>\n",
       "      <td>0.16037</td>\n",
       "      <td>0.70990</td>\n",
       "      <td>0.19243</td>\n",
       "      <td>0.53199</td>\n",
       "      <td>0.00008</td>\n",
       "      <td>0.22028</td>\n",
       "      <td>0.18721</td>\n",
       "      <td>0.00882</td>\n",
       "    </tr>\n",
       "    <tr>\n",
       "      <th>2</th>\n",
       "      <td>0.101008</td>\n",
       "      <td>-2.124645</td>\n",
       "      <td>-0.032198</td>\n",
       "      <td>3.265911</td>\n",
       "      <td>-0.105691</td>\n",
       "      <td>0.166388</td>\n",
       "      <td>-0.130599</td>\n",
       "      <td>0.029156</td>\n",
       "      <td>-135.125105</td>\n",
       "      <td>0.053479</td>\n",
       "      <td>0.000157</td>\n",
       "      <td>0.02823</td>\n",
       "      <td>0.06037</td>\n",
       "      <td>0.00911</td>\n",
       "      <td>0.10676</td>\n",
       "      <td>0.00901</td>\n",
       "      <td>0.08699</td>\n",
       "      <td>0.00627</td>\n",
       "      <td>0.00324</td>\n",
       "    </tr>\n",
       "    <tr>\n",
       "      <th>3</th>\n",
       "      <td>0.210943</td>\n",
       "      <td>-5.878628</td>\n",
       "      <td>-0.132197</td>\n",
       "      <td>6.324078</td>\n",
       "      <td>0.018908</td>\n",
       "      <td>0.255632</td>\n",
       "      <td>0.202873</td>\n",
       "      <td>0.060444</td>\n",
       "      <td>-181.593997</td>\n",
       "      <td>0.037335</td>\n",
       "      <td>0.000068</td>\n",
       "      <td>0.05286</td>\n",
       "      <td>0.19904</td>\n",
       "      <td>0.06804</td>\n",
       "      <td>0.17686</td>\n",
       "      <td>0.00018</td>\n",
       "      <td>0.08004</td>\n",
       "      <td>0.00967</td>\n",
       "      <td>0.00892</td>\n",
       "    </tr>\n",
       "    <tr>\n",
       "      <th>4</th>\n",
       "      <td>-0.082969</td>\n",
       "      <td>5.044967</td>\n",
       "      <td>0.125608</td>\n",
       "      <td>-3.254626</td>\n",
       "      <td>-0.178526</td>\n",
       "      <td>0.007167</td>\n",
       "      <td>-0.267126</td>\n",
       "      <td>0.030084</td>\n",
       "      <td>-53.593888</td>\n",
       "      <td>0.077060</td>\n",
       "      <td>0.000586</td>\n",
       "      <td>0.03376</td>\n",
       "      <td>0.61731</td>\n",
       "      <td>0.25828</td>\n",
       "      <td>0.19392</td>\n",
       "      <td>0.04649</td>\n",
       "      <td>0.00015</td>\n",
       "      <td>0.05476</td>\n",
       "      <td>0.00976</td>\n",
       "    </tr>\n",
       "  </tbody>\n",
       "</table>\n",
       "</div>"
      ],
      "text/plain": [
       "     Rd_len  log_Gsp_area  pct_nRd_Gsp  log_nRd_Gsp_per_Rd_len  pct_nGsp_Rd  \\\n",
       "0  0.100491     -2.028771    -0.035764                2.880863    -0.077744   \n",
       "1  0.308741     -9.305301    -0.186668                9.284862    -0.013517   \n",
       "2  0.101008     -2.124645    -0.032198                3.265911    -0.105691   \n",
       "3  0.210943     -5.878628    -0.132197                6.324078     0.018908   \n",
       "4 -0.082969      5.044967     0.125608               -3.254626    -0.178526   \n",
       "\n",
       "    bp_mean  tmp_mean   rh_mean   intercept        r2    r2_var  fi_Rd_len  \\\n",
       "0  0.163545 -0.340180  0.074633 -133.957579  0.090053  0.000199    0.04129   \n",
       "1  0.372008 -0.766852 -0.057307 -244.665829  0.220658  0.000294    0.16037   \n",
       "2  0.166388 -0.130599  0.029156 -135.125105  0.053479  0.000157    0.02823   \n",
       "3  0.255632  0.202873  0.060444 -181.593997  0.037335  0.000068    0.05286   \n",
       "4  0.007167 -0.267126  0.030084  -53.593888  0.077060  0.000586    0.03376   \n",
       "\n",
       "   fi_log_Gsp_area  fi_pct_nRd_Gsp  fi_log_nRd_Gsp_per_Rd_len  fi_pct_nGsp_Rd  \\\n",
       "0          0.08146         0.01700                    0.12414         0.00715   \n",
       "1          0.70990         0.19243                    0.53199         0.00008   \n",
       "2          0.06037         0.00911                    0.10676         0.00901   \n",
       "3          0.19904         0.06804                    0.17686         0.00018   \n",
       "4          0.61731         0.25828                    0.19392         0.04649   \n",
       "\n",
       "   fi_bp_mean  fi_tmp_mean  fi_rh_mean  \n",
       "0     0.08841      0.08753     0.01978  \n",
       "1     0.22028      0.18721     0.00882  \n",
       "2     0.08699      0.00627     0.00324  \n",
       "3     0.08004      0.00967     0.00892  \n",
       "4     0.00015      0.05476     0.00976  "
      ]
     },
     "execution_count": 104,
     "metadata": {},
     "output_type": "execute_result"
    }
   ],
   "source": [
    "m_reg = pd.concat([m_coef, m_cv, m_fi], axis=1)\n",
    "m_reg.head()"
   ]
  },
  {
   "cell_type": "code",
   "execution_count": 72,
   "metadata": {},
   "outputs": [
    {
     "data": {
      "text/plain": [
       "<AxesSubplot:xlabel='month'>"
      ]
     },
     "execution_count": 72,
     "metadata": {},
     "output_type": "execute_result"
    },
    {
     "data": {
      "image/png": "[encoded data removed]",
      "text/plain": [
       "<Figure size 432x288 with 1 Axes>"
      ]
     },
     "metadata": {
      "needs_background": "light"
     },
     "output_type": "display_data"
    }
   ],
   "source": [
    "df.groupby('month').mean()['Value'].plot()"
   ]
  },
  {
   "cell_type": "code",
   "execution_count": 74,
   "metadata": {},
   "outputs": [
    {
     "name": "stdout",
     "output_type": "stream",
     "text": [
      "<class 'pandas.core.frame.DataFrame'>\n",
      "RangeIndex: 183960 entries, 0 to 183959\n",
      "Data columns (total 18 columns):\n",
      " #   Column                  Non-Null Count   Dtype         \n",
      "---  ------                  --------------   -----         \n",
      " 0   Site                    183960 non-null  object        \n",
      " 1   Value                   183960 non-null  float64       \n",
      " 2   DateTime                183960 non-null  datetime64[ns]\n",
      " 3   geometry                183960 non-null  object        \n",
      " 4   Rd_len                  183960 non-null  float64       \n",
      " 5   Gsp_area                183960 non-null  float64       \n",
      " 6   pct_nRd_Gsp             183960 non-null  float64       \n",
      " 7   nRd_Gsp_per_Rd_len      183960 non-null  float64       \n",
      " 8   pct_nGsp_Rd             183960 non-null  float64       \n",
      " 9   bp_mean                 183960 non-null  float64       \n",
      " 10  tmp_mean                183960 non-null  float64       \n",
      " 11  rh_mean                 183960 non-null  float64       \n",
      " 12  log_Gsp_area            183960 non-null  float64       \n",
      " 13  log_nRd_Gsp_per_Rd_len  183960 non-null  float64       \n",
      " 14  hour                    183960 non-null  int64         \n",
      " 15  dayofweek               183960 non-null  int64         \n",
      " 16  dayofmonth              183960 non-null  int64         \n",
      " 17  month                   183960 non-null  int64         \n",
      "dtypes: datetime64[ns](1), float64(11), int64(4), object(2)\n",
      "memory usage: 25.3+ MB\n"
     ]
    }
   ],
   "source": [
    "df.info()"
   ]
  },
  {
   "cell_type": "code",
   "execution_count": 75,
   "metadata": {},
   "outputs": [
    {
     "name": "stdout",
     "output_type": "stream",
     "text": [
      "high period: (60480, 14)\n",
      "low period: (123480, 14)\n"
     ]
    }
   ],
   "source": [
    "high_period = df[df['month'].isin([1, 2, 3, 4])].drop(['geometry','hour','dayofweek','dayofmonth'],axis=1)\n",
    "low_period = df[~df['month'].isin([1, 2, 3, 4])].drop(['geometry','hour','dayofweek','dayofmonth'],axis=1)\n",
    "\n",
    "print('high period: '+str(high_period.shape)+'\\nlow period: '+str(low_period.shape))"
   ]
  },
  {
   "cell_type": "code",
   "execution_count": 76,
   "metadata": {},
   "outputs": [
    {
     "data": {
      "text/plain": [
       "{'Rd_len': 0.05733,\n",
       " 'log_Gsp_area': 0.20014,\n",
       " 'pct_nRd_Gsp': 0.05409,\n",
       " 'log_nRd_Gsp_per_Rd_len': 0.19169,\n",
       " 'pct_nGsp_Rd': 0.00124,\n",
       " 'bp_mean': 0.1036,\n",
       " 'tmp_mean': 0.01219,\n",
       " 'rh_mean': 0.00186}"
      ]
     },
     "execution_count": 76,
     "metadata": {},
     "output_type": "execute_result"
    }
   ],
   "source": [
    "hp_X = high_period[var].values\n",
    "hp_y = high_period['Value'].values\n",
    "\n",
    "get_importance(reg, hp_X, hp_y, feature_names=var)"
   ]
  },
  {
   "cell_type": "code",
   "execution_count": 107,
   "metadata": {},
   "outputs": [
    {
     "data": {
      "text/plain": [
       "{'r2': 0.06261427365049085, 'variance': 3.906089452940173e-05}"
      ]
     },
     "execution_count": 107,
     "metadata": {},
     "output_type": "execute_result"
    }
   ],
   "source": [
    "get_cv_score(reg, hp_X, hp_y)"
   ]
  },
  {
   "cell_type": "code",
   "execution_count": 108,
   "metadata": {},
   "outputs": [
    {
     "data": {
      "text/plain": [
       "[0.17682924161278382,\n",
       " -4.7138597226268555,\n",
       " -0.09416197820318661,\n",
       " 5.335403898698772,\n",
       " -0.04581446903199904,\n",
       " 0.22824010079214643,\n",
       " -0.19089626774204416,\n",
       " 0.025193915179077715,\n",
       " -164.23360373280613]"
      ]
     },
     "execution_count": 108,
     "metadata": {},
     "output_type": "execute_result"
    }
   ],
   "source": [
    "reg.coef_.tolist() + [reg.intercept_]"
   ]
  },
  {
   "cell_type": "code",
   "execution_count": 109,
   "metadata": {},
   "outputs": [
    {
     "data": {
      "text/plain": [
       "{'Rd_len': 0.01941,\n",
       " 'log_Gsp_area': 0.19139,\n",
       " 'pct_nRd_Gsp': 0.13251,\n",
       " 'log_nRd_Gsp_per_Rd_len': 0.06773,\n",
       " 'pct_nGsp_Rd': 0.01443,\n",
       " 'bp_mean': 0.05292,\n",
       " 'tmp_mean': 0.00568,\n",
       " 'rh_mean': 0.02377}"
      ]
     },
     "execution_count": 109,
     "metadata": {},
     "output_type": "execute_result"
    }
   ],
   "source": [
    "lp_X = low_period[var].values\n",
    "lp_y = low_period['Value'].values\n",
    "\n",
    "get_importance(reg, lp_X, lp_y, feature_names=var)"
   ]
  },
  {
   "cell_type": "code",
   "execution_count": 110,
   "metadata": {},
   "outputs": [
    {
     "data": {
      "text/plain": [
       "{'r2': 0.04531013999755216, 'variance': 7.679723500130711e-05}"
      ]
     },
     "execution_count": 110,
     "metadata": {},
     "output_type": "execute_result"
    }
   ],
   "source": [
    "get_cv_score(reg, lp_X, lp_y)"
   ]
  },
  {
   "cell_type": "code",
   "execution_count": 111,
   "metadata": {},
   "outputs": [
    {
     "data": {
      "text/plain": [
       "[-0.06477883610681165,\n",
       " 2.9045030591594285,\n",
       " 0.09368049866702144,\n",
       " -1.999571170705888,\n",
       " -0.10322265309086215,\n",
       " 0.12175789535158825,\n",
       " -0.07656150063701962,\n",
       " 0.05585286850974443,\n",
       " -149.76070408096325]"
      ]
     },
     "execution_count": 111,
     "metadata": {},
     "output_type": "execute_result"
    }
   ],
   "source": [
    "reg.coef_.tolist() + [reg.intercept_]"
   ]
  },
  {
   "cell_type": "markdown",
   "metadata": {},
   "source": [
    "# Mean analysis"
   ]
  },
  {
   "cell_type": "code",
   "execution_count": null,
   "metadata": {},
   "outputs": [],
   "source": [
    "hmean_df = df.groupby(['hour','Site']).mean()\n",
    "hmean_df.info()"
   ]
  },
  {
   "cell_type": "code",
   "execution_count": null,
   "metadata": {},
   "outputs": [],
   "source": [
    "hmean_df.drop(['bp_mean','tmp_mean','rh_mean','dayofweek','dayofmonth'],axis=1,inplace=True)"
   ]
  },
  {
   "cell_type": "code",
   "execution_count": null,
   "metadata": {},
   "outputs": [],
   "source": [
    "hmean_df.hist()"
   ]
  },
  {
   "cell_type": "code",
   "execution_count": null,
   "metadata": {},
   "outputs": [],
   "source": [
    "sns.heatmap(hmean_df[['Value']+var_names].corr().round(4),annot=True,fmt='.4f',cmap='magma')\n",
    "plt.show()"
   ]
  },
  {
   "cell_type": "code",
   "execution_count": null,
   "metadata": {},
   "outputs": [],
   "source": [
    "def get_corr(df,iter_range,method='pearson',features=var_names,target='Value'):\n",
    "    result=[]\n",
    "    for index in iter_range:\n",
    "        result.append(df.loc[(index,)].corr(method=method).loc[features,target])\n",
    "    result=np.asarray(result)\n",
    "    return result"
   ]
  },
  {
   "cell_type": "code",
   "execution_count": null,
   "metadata": {},
   "outputs": [],
   "source": [
    "def get_moran(df,iter_range,w=weight,target='Value'):\n",
    "    result=[]\n",
    "    for index in iter_range:\n",
    "        result.append(Moran(df.loc[(index,),target].values,w).I)\n",
    "    return result"
   ]
  },
  {
   "cell_type": "code",
   "execution_count": null,
   "metadata": {},
   "outputs": [],
   "source": [
    "def get_reg_info(df,iter_range,features=var_names,target='Value',reg=LinearRegression()):\n",
    "    result=[]\n",
    "    for index in iter_range:\n",
    "        x=df.loc[(index,),features].values\n",
    "        #x=(x-np.mean(x,axis=0))/np.std(x,axis=0)\n",
    "        \n",
    "        y=df.loc[(index,),target].values\n",
    "        #y=(y-np.mean(y,axis=0))/np.std(y,axis=0)\n",
    "        \n",
    "        reg.fit(x,y)\n",
    "        coef=reg.coef_.tolist()\n",
    "        coef.append(reg.score(x,y))\n",
    "        result.append(coef)\n",
    "    result=pd.DataFrame(result,columns=features+['score'])\n",
    "    return result"
   ]
  },
  {
   "cell_type": "code",
   "execution_count": null,
   "metadata": {},
   "outputs": [],
   "source": [
    "hmean_corr=get_corr(hmean_df,range(24))\n",
    "sns.lineplot(data=hmean_corr,legend=False)\n",
    "plt.legend(labels=var_names)\n",
    "plt.show()"
   ]
  },
  {
   "cell_type": "code",
   "execution_count": null,
   "metadata": {},
   "outputs": [],
   "source": [
    "hmean_corr_sp=get_corr(hmean_df,range(24),method='spearman')\n",
    "sns.lineplot(data=hmean_corr_sp,legend=False)\n",
    "plt.legend(labels=var_names)\n",
    "plt.show()"
   ]
  },
  {
   "cell_type": "code",
   "execution_count": null,
   "metadata": {},
   "outputs": [],
   "source": [
    "hmean_moran=get_moran(hmean_df,range(24))\n",
    "sns.lineplot(x=range(24),y=hmean_moran)"
   ]
  },
  {
   "cell_type": "code",
   "execution_count": null,
   "metadata": {},
   "outputs": [],
   "source": [
    "hmean_reg=get_reg_info(hmean_df,range(24))\n",
    "sns.lineplot(x=range(24),y=hmean_reg['score'])"
   ]
  },
  {
   "cell_type": "code",
   "execution_count": null,
   "metadata": {},
   "outputs": [],
   "source": [
    "# plot monthly mean\n",
    "df.groupby('month').mean()['Value'].plot()"
   ]
  },
  {
   "cell_type": "code",
   "execution_count": null,
   "metadata": {},
   "outputs": [],
   "source": [
    "mmean_df=df.groupby(['month','Site']).mean()\n",
    "mmean_df.info()"
   ]
  },
  {
   "cell_type": "code",
   "execution_count": null,
   "metadata": {},
   "outputs": [],
   "source": [
    "mmean_corr=get_corr(mmean_df,range(1,13))\n",
    "sns.lineplot(data=mmean_corr,legend=False)\n",
    "plt.legend(labels=var_names,loc='upper left')\n",
    "plt.show()"
   ]
  },
  {
   "cell_type": "code",
   "execution_count": null,
   "metadata": {},
   "outputs": [],
   "source": [
    "mmean_corr_sp=get_corr(mmean_df,range(1,13),method='spearman')\n",
    "sns.lineplot(data=mmean_corr_sp,legend=False)\n",
    "plt.legend(labels=var_names,loc='upper left')\n",
    "plt.show()"
   ]
  },
  {
   "cell_type": "code",
   "execution_count": null,
   "metadata": {},
   "outputs": [],
   "source": [
    "mmean_moran=get_moran(mmean_df,range(1,13))\n",
    "sns.lineplot(x=range(1,13),y=mmean_moran)"
   ]
  },
  {
   "cell_type": "code",
   "execution_count": null,
   "metadata": {},
   "outputs": [],
   "source": [
    "mmean_reg=get_reg_info(mmean_df,range(1,13))\n",
    "sns.lineplot(x=range(1,13),y=mmean_reg['score'])"
   ]
  },
  {
   "cell_type": "code",
   "execution_count": null,
   "metadata": {},
   "outputs": [],
   "source": [
    "# identify high period and low period\n",
    "high=df[df['month'].isin([1,2,3,4])].groupby('Site').mean()\n",
    "low=df[~df['month'].isin([1,2,3,4])].groupby('Site').mean()\n",
    "\n",
    "print('high: '+str(high.shape)+'\\nlow: '+str(low.shape))"
   ]
  },
  {
   "cell_type": "code",
   "execution_count": null,
   "metadata": {},
   "outputs": [],
   "source": [
    "sns.heatmap(high[['Value']+var_names].corr().round(4),annot=True,fmt='.4f',cmap='magma')\n",
    "plt.show()"
   ]
  },
  {
   "cell_type": "code",
   "execution_count": null,
   "metadata": {},
   "outputs": [],
   "source": [
    "high_moran=Moran(high['Value'].values,weight)\n",
    "round(high_moran.I,5)"
   ]
  },
  {
   "cell_type": "code",
   "execution_count": null,
   "metadata": {},
   "outputs": [],
   "source": [
    "reg_high=LinearRegression()\n",
    "y_high = high['Value'].values\n",
    "x_high = high[var_names].values\n",
    "reg_high.fit(x_high, y_high)\n",
    "reg_high.score(x_high,y_high)"
   ]
  },
  {
   "cell_type": "code",
   "execution_count": null,
   "metadata": {},
   "outputs": [],
   "source": [
    "prd_high = reg_high.predict(x_high)\n",
    "\n",
    "r = stats.pearsonr(y_high, prd_high)[0]\n",
    "r2 = r**2\n",
    "t, p_value = stats.kendalltau(y_high, prd_high)\n",
    "print('r2 (obs): ', round(r2, 5))\n",
    "print('tau (obs): ', round(t, 5))"
   ]
  },
  {
   "cell_type": "code",
   "execution_count": null,
   "metadata": {},
   "outputs": [],
   "source": [
    "cv_r2_high = []\n",
    "cv_tau_high = []\n",
    "\n",
    "for i in range(100):\n",
    "    kf = KFold(n_splits=4, shuffle=True, random_state=i)\n",
    "    cvprd_high = cross_val_predict(reg_high, x_high, y_high, cv=kf)  #predict using current random folds\n",
    "    \n",
    "    #correlations\n",
    "    r = stats.pearsonr(y_high,cvprd_high)[0]\n",
    "    t, p_value = stats.kendalltau(y_high, prd_high)\n",
    "    \n",
    "    #append to list\n",
    "    cv_r2_high.append(r**2)\n",
    "    cv_tau_high.append(t)\n",
    "\n",
    "print('r2 (cv): ', round(np.mean(cv_r2_high), 5))\n",
    "print('tau (cv): ', round(np.mean(cv_tau_high),5))\n",
    "print('r2 variance (cv): ', 1.96 * np.var(cv_r2_high))\n",
    "print('tau variance (cv): ', 1.96 * np.var(cv_tau_high))"
   ]
  },
  {
   "cell_type": "code",
   "execution_count": null,
   "metadata": {},
   "outputs": [],
   "source": [
    "sns.heatmap(low[['Value']+var_names].corr().round(4),annot=True,fmt='.4f',cmap='magma')\n",
    "plt.show()"
   ]
  },
  {
   "cell_type": "code",
   "execution_count": null,
   "metadata": {},
   "outputs": [],
   "source": [
    "low_moran=Moran(low['Value'].values,weight)\n",
    "round(low_moran.I,5)"
   ]
  },
  {
   "cell_type": "code",
   "execution_count": null,
   "metadata": {},
   "outputs": [],
   "source": [
    "reg_low = LinearRegression()\n",
    "y_low = low['Value'].values\n",
    "x_low = low[var_names].values\n",
    "reg_low.fit(x_low, y_low)\n",
    "prd_low = reg_low.predict(x_low)\n",
    "\n",
    "r = low['Value'].corr(pd.Series(prd_low))\n",
    "r2 = r**2\n",
    "t = low['Value'].corr(pd.Series(prd_low), method='kendall')\n",
    "print(\"r2 (cv): \", round(r2,3))   \n",
    "print(\"tau (cv): \", round(t,3))"
   ]
  },
  {
   "cell_type": "code",
   "execution_count": null,
   "metadata": {},
   "outputs": [],
   "source": [
    "sns.heatmap(all[['Value']+var_names].corr().round(4),annot=True,fmt='.4f',cmap='magma')\n",
    "plt.show()"
   ]
  },
  {
   "cell_type": "code",
   "execution_count": null,
   "metadata": {},
   "outputs": [],
   "source": [
    "all=df.groupby('Site').mean()\n",
    "all_moran=Moran(all['Value'].values,weight)\n",
    "round(all_moran.I,5)"
   ]
  },
  {
   "cell_type": "code",
   "execution_count": null,
   "metadata": {},
   "outputs": [],
   "source": [
    "y_all=(all.groupby('Site').mean()['Value'].values)\n",
    "x_all=(all.groupby('Site').mean()[var_names].values)\n",
    "\n",
    "reg.fit(x_all,y_all)\n",
    "reg.score(x_all,y_all)"
   ]
  }
 ],
 "metadata": {
  "interpreter": {
   "hash": "203d01a3458eace725dddcfcdb2c604435d077f4f6685c100707a5d3f77ea293"
  },
  "kernelspec": {
   "display_name": "Python 3.8.10 64-bit ('sds2021': conda)",
   "language": "python",
   "name": "python3"
  },
  "language_info": {
   "codemirror_mode": {
    "name": "ipython",
    "version": 3
   },
   "file_extension": ".py",
   "mimetype": "text/x-python",
   "name": "python",
   "nbconvert_exporter": "python",
   "pygments_lexer": "ipython3",
   "version": "3.8.10"
  },
  "orig_nbformat": 4
 },
 "nbformat": 4,
 "nbformat_minor": 2
}
