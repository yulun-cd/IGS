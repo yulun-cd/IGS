{
 "cells": [
  {
   "cell_type": "code",
   "execution_count": 1,
   "metadata": {},
   "outputs": [],
   "source": [
    "import pandas as pd\n",
    "import geopandas as gpd\n",
    "import numpy as np\n",
    "\n",
    "import matplotlib.pyplot as plt\n",
    "import seaborn as sns\n",
    "\n",
    "from spreg import OLS\n",
    "from libpysal.weights import Kernel\n",
    "from esda.moran import Moran\n",
    "import statsmodels.api as sm"
   ]
  },
  {
   "cell_type": "code",
   "execution_count": 2,
   "metadata": {},
   "outputs": [],
   "source": [
    "# Read in all the data\n",
    "\n",
    "AQMS_df=pd.read_csv('data/daily.csv')\n",
    "Rd_gdf=gpd.read_file('data/london_Road.shp')\n",
    "Gsp_gdf=gpd.read_file('data/LD_GreenSpace.shp')\n",
    "loc_gdf=gpd.read_file('data/AQMS_loc.shp')\n",
    "cond=pd.read_csv('data/cond_daily.csv')"
   ]
  },
  {
   "cell_type": "code",
   "execution_count": 3,
   "metadata": {},
   "outputs": [
    {
     "name": "stdout",
     "output_type": "stream",
     "text": [
      "<class 'pandas.core.frame.DataFrame'>\n",
      "RangeIndex: 7665 entries, 0 to 7664\n",
      "Data columns (total 3 columns):\n",
      " #   Column    Non-Null Count  Dtype  \n",
      "---  ------    --------------  -----  \n",
      " 0   DateTime  7665 non-null   object \n",
      " 1   Value     7665 non-null   float64\n",
      " 2   Site      7665 non-null   object \n",
      "dtypes: float64(1), object(2)\n",
      "memory usage: 179.8+ KB\n"
     ]
    }
   ],
   "source": [
    "AQMS_df.info()"
   ]
  },
  {
   "cell_type": "code",
   "execution_count": 4,
   "metadata": {},
   "outputs": [
    {
     "name": "stdout",
     "output_type": "stream",
     "text": [
      "<class 'geopandas.geodataframe.GeoDataFrame'>\n",
      "RangeIndex: 209201 entries, 0 to 209200\n",
      "Data columns (total 20 columns):\n",
      " #   Column      Non-Null Count   Dtype   \n",
      "---  ------      --------------   -----   \n",
      " 0   fictitious  209201 non-null  object  \n",
      " 1   identifier  209201 non-null  object  \n",
      " 2   class       209201 non-null  object  \n",
      " 3   roadNumber  32375 non-null   object  \n",
      " 4   name1       172339 non-null  object  \n",
      " 5   name1_lang  0 non-null       object  \n",
      " 6   name2       0 non-null       object  \n",
      " 7   name2_lang  0 non-null       object  \n",
      " 8   formOfWay   209201 non-null  object  \n",
      " 9   length      209201 non-null  int64   \n",
      " 10  primary     209201 non-null  object  \n",
      " 11  trunkRoad   209201 non-null  object  \n",
      " 12  loop        209201 non-null  object  \n",
      " 13  startNode   209201 non-null  object  \n",
      " 14  endNode     209201 non-null  object  \n",
      " 15  structure   93 non-null      object  \n",
      " 16  nameTOID    172339 non-null  object  \n",
      " 17  numberTOID  32375 non-null   object  \n",
      " 18  function    209201 non-null  object  \n",
      " 19  geometry    209201 non-null  geometry\n",
      "dtypes: geometry(1), int64(1), object(18)\n",
      "memory usage: 31.9+ MB\n"
     ]
    }
   ],
   "source": [
    "Rd_gdf.info()"
   ]
  },
  {
   "cell_type": "code",
   "execution_count": 5,
   "metadata": {},
   "outputs": [
    {
     "name": "stdout",
     "output_type": "stream",
     "text": [
      "<class 'geopandas.geodataframe.GeoDataFrame'>\n",
      "RangeIndex: 10021 entries, 0 to 10020\n",
      "Data columns (total 6 columns):\n",
      " #   Column     Non-Null Count  Dtype   \n",
      "---  ------     --------------  -----   \n",
      " 0   function   10021 non-null  object  \n",
      " 1   distName1  2679 non-null   object  \n",
      " 2   distName2  11 non-null     object  \n",
      " 3   distName3  0 non-null      object  \n",
      " 4   distName4  0 non-null      object  \n",
      " 5   geometry   10021 non-null  geometry\n",
      "dtypes: geometry(1), object(5)\n",
      "memory usage: 469.9+ KB\n"
     ]
    }
   ],
   "source": [
    "Gsp_gdf.info()"
   ]
  },
  {
   "cell_type": "code",
   "execution_count": 6,
   "metadata": {},
   "outputs": [
    {
     "name": "stdout",
     "output_type": "stream",
     "text": [
      "<class 'geopandas.geodataframe.GeoDataFrame'>\n",
      "RangeIndex: 21 entries, 0 to 20\n",
      "Data columns (total 3 columns):\n",
      " #   Column    Non-Null Count  Dtype   \n",
      "---  ------    --------------  -----   \n",
      " 0   siteid    21 non-null     object  \n",
      " 1   sitename  21 non-null     object  \n",
      " 2   geometry  21 non-null     geometry\n",
      "dtypes: geometry(1), object(2)\n",
      "memory usage: 632.0+ bytes\n"
     ]
    }
   ],
   "source": [
    "loc_gdf.info()"
   ]
  },
  {
   "cell_type": "code",
   "execution_count": 7,
   "metadata": {},
   "outputs": [
    {
     "name": "stdout",
     "output_type": "stream",
     "text": [
      "<class 'pandas.core.frame.DataFrame'>\n",
      "RangeIndex: 365 entries, 0 to 364\n",
      "Data columns (total 4 columns):\n",
      " #   Column    Non-Null Count  Dtype  \n",
      "---  ------    --------------  -----  \n",
      " 0   DateTime  365 non-null    object \n",
      " 1   bp_mean   365 non-null    float64\n",
      " 2   tmp_mean  365 non-null    float64\n",
      " 3   rh_mean   365 non-null    float64\n",
      "dtypes: float64(3), object(1)\n",
      "memory usage: 11.5+ KB\n"
     ]
    }
   ],
   "source": [
    "cond.info()"
   ]
  },
  {
   "cell_type": "code",
   "execution_count": 8,
   "metadata": {},
   "outputs": [
    {
     "data": {
      "text/html": [
       "<div>\n",
       "<style scoped>\n",
       "    .dataframe tbody tr th:only-of-type {\n",
       "        vertical-align: middle;\n",
       "    }\n",
       "\n",
       "    .dataframe tbody tr th {\n",
       "        vertical-align: top;\n",
       "    }\n",
       "\n",
       "    .dataframe thead th {\n",
       "        text-align: right;\n",
       "    }\n",
       "</style>\n",
       "<table border=\"1\" class=\"dataframe\">\n",
       "  <thead>\n",
       "    <tr style=\"text-align: right;\">\n",
       "      <th></th>\n",
       "      <th>sitename</th>\n",
       "      <th>geometry</th>\n",
       "      <th>buffer_1km</th>\n",
       "    </tr>\n",
       "    <tr>\n",
       "      <th>siteid</th>\n",
       "      <th></th>\n",
       "      <th></th>\n",
       "      <th></th>\n",
       "    </tr>\n",
       "  </thead>\n",
       "  <tbody>\n",
       "    <tr>\n",
       "      <th>BX9</th>\n",
       "      <td>Bexley - Slade Green FDMS</td>\n",
       "      <td>POINT (551862.205 176375.976)</td>\n",
       "      <td>POLYGON ((552862.205 176375.976, 552857.390 17...</td>\n",
       "    </tr>\n",
       "    <tr>\n",
       "      <th>BL0</th>\n",
       "      <td>Camden - Bloomsbury</td>\n",
       "      <td>POINT (530120.048 182038.807)</td>\n",
       "      <td>POLYGON ((531120.048 182038.807, 531115.233 18...</td>\n",
       "    </tr>\n",
       "    <tr>\n",
       "      <th>CD9</th>\n",
       "      <td>Camden - Euston Road</td>\n",
       "      <td>POINT (529900.870 182666.124)</td>\n",
       "      <td>POLYGON ((530900.870 182666.124, 530896.055 18...</td>\n",
       "    </tr>\n",
       "    <tr>\n",
       "      <th>CD1</th>\n",
       "      <td>Camden - Swiss Cottage</td>\n",
       "      <td>POINT (526629.730 184391.024)</td>\n",
       "      <td>POLYGON ((527629.730 184391.024, 527624.915 18...</td>\n",
       "    </tr>\n",
       "    <tr>\n",
       "      <th>CT2</th>\n",
       "      <td>City of London - Farringdon Street</td>\n",
       "      <td>POINT (531622.273 181213.818)</td>\n",
       "      <td>POLYGON ((532622.273 181213.818, 532617.458 18...</td>\n",
       "    </tr>\n",
       "  </tbody>\n",
       "</table>\n",
       "</div>"
      ],
      "text/plain": [
       "                                  sitename                       geometry  \\\n",
       "siteid                                                                      \n",
       "BX9              Bexley - Slade Green FDMS  POINT (551862.205 176375.976)   \n",
       "BL0                    Camden - Bloomsbury  POINT (530120.048 182038.807)   \n",
       "CD9                   Camden - Euston Road  POINT (529900.870 182666.124)   \n",
       "CD1                 Camden - Swiss Cottage  POINT (526629.730 184391.024)   \n",
       "CT2     City of London - Farringdon Street  POINT (531622.273 181213.818)   \n",
       "\n",
       "                                               buffer_1km  \n",
       "siteid                                                     \n",
       "BX9     POLYGON ((552862.205 176375.976, 552857.390 17...  \n",
       "BL0     POLYGON ((531120.048 182038.807, 531115.233 18...  \n",
       "CD9     POLYGON ((530900.870 182666.124, 530896.055 18...  \n",
       "CD1     POLYGON ((527629.730 184391.024, 527624.915 18...  \n",
       "CT2     POLYGON ((532622.273 181213.818, 532617.458 18...  "
      ]
     },
     "execution_count": 8,
     "metadata": {},
     "output_type": "execute_result"
    }
   ],
   "source": [
    "# reindex loc_gdf and set buffer zones around each site (1km)\n",
    "\n",
    "loc_gdf=loc_gdf.set_index('siteid')\n",
    "loc_gdf['buffer_1km']=loc_gdf['geometry'].buffer(1000)\n",
    "loc_gdf.head()"
   ]
  },
  {
   "cell_type": "code",
   "execution_count": 9,
   "metadata": {},
   "outputs": [],
   "source": [
    "# Get all green spaces\n",
    "\n",
    "Gsp=Gsp_gdf['geometry'].unary_union"
   ]
  },
  {
   "cell_type": "code",
   "execution_count": 10,
   "metadata": {},
   "outputs": [],
   "source": [
    "# Set buffer zones for every road (50m)\n",
    "\n",
    "Rd_gdf['buffer_50m']=Rd_gdf['geometry'].buffer(50)"
   ]
  },
  {
   "cell_type": "code",
   "execution_count": 11,
   "metadata": {},
   "outputs": [],
   "source": [
    "# Get all roads\n",
    "Rd=Rd_gdf['geometry'].unary_union"
   ]
  },
  {
   "cell_type": "code",
   "execution_count": 12,
   "metadata": {},
   "outputs": [],
   "source": [
    "# Get all road buffer zones\n",
    "\n",
    "Rd_buffer=Rd_gdf['buffer_50m'].unary_union"
   ]
  },
  {
   "cell_type": "code",
   "execution_count": 13,
   "metadata": {},
   "outputs": [],
   "source": [
    "# Get all near-road green spaces\n",
    "\n",
    "nRd_Gsp=Gsp.intersection(Rd_buffer)"
   ]
  },
  {
   "cell_type": "code",
   "execution_count": 14,
   "metadata": {},
   "outputs": [],
   "source": [
    "# store all buffer zones in a list\n",
    "AQMS_shp=[]\n",
    "for site in loc_gdf.index:\n",
    "    AQMS_shp.append(loc_gdf.loc[site,'buffer_1km'])"
   ]
  },
  {
   "cell_type": "code",
   "execution_count": 15,
   "metadata": {},
   "outputs": [
    {
     "name": "stdout",
     "output_type": "stream",
     "text": [
      "21 21 21\n"
     ]
    }
   ],
   "source": [
    "# get all roads, green spaces and near-road green spaces in buffer zones around every sites\n",
    "Rd_shp=[]\n",
    "Gsp_shp=[]\n",
    "nRd_Gsp_shp=[]\n",
    "for poly in AQMS_shp:\n",
    "    Rd_shp.append(poly.intersection(Rd))\n",
    "    Gsp_shp.append(poly.intersection(Gsp))\n",
    "    nRd_Gsp_shp.append(poly.intersection(nRd_Gsp))\n",
    "print(len(Rd_shp),len(Gsp_shp),len(nRd_Gsp_shp))"
   ]
  },
  {
   "cell_type": "code",
   "execution_count": 16,
   "metadata": {},
   "outputs": [
    {
     "data": {
      "text/html": [
       "<div>\n",
       "<style scoped>\n",
       "    .dataframe tbody tr th:only-of-type {\n",
       "        vertical-align: middle;\n",
       "    }\n",
       "\n",
       "    .dataframe tbody tr th {\n",
       "        vertical-align: top;\n",
       "    }\n",
       "\n",
       "    .dataframe thead th {\n",
       "        text-align: right;\n",
       "    }\n",
       "</style>\n",
       "<table border=\"1\" class=\"dataframe\">\n",
       "  <thead>\n",
       "    <tr style=\"text-align: right;\">\n",
       "      <th></th>\n",
       "      <th>sitename</th>\n",
       "      <th>geometry</th>\n",
       "      <th>buffer_1km</th>\n",
       "      <th>Road</th>\n",
       "      <th>GreenSpace</th>\n",
       "      <th>NR_GreenSpace</th>\n",
       "    </tr>\n",
       "    <tr>\n",
       "      <th>siteid</th>\n",
       "      <th></th>\n",
       "      <th></th>\n",
       "      <th></th>\n",
       "      <th></th>\n",
       "      <th></th>\n",
       "      <th></th>\n",
       "    </tr>\n",
       "  </thead>\n",
       "  <tbody>\n",
       "    <tr>\n",
       "      <th>BX9</th>\n",
       "      <td>Bexley - Slade Green FDMS</td>\n",
       "      <td>POINT (551862.205 176375.976)</td>\n",
       "      <td>POLYGON ((552862.205 176375.976, 552857.390 17...</td>\n",
       "      <td>MULTILINESTRING Z ((552075.170 175434.690 0.00...</td>\n",
       "      <td>MULTIPOLYGON Z (((551286.362 175559.542 0.000,...</td>\n",
       "      <td>MULTIPOLYGON Z (((551286.362 175559.542 0.000,...</td>\n",
       "    </tr>\n",
       "    <tr>\n",
       "      <th>BL0</th>\n",
       "      <td>Camden - Bloomsbury</td>\n",
       "      <td>POINT (530120.048 182038.807)</td>\n",
       "      <td>POLYGON ((531120.048 182038.807, 531115.233 18...</td>\n",
       "      <td>MULTILINESTRING Z ((530175.051 181041.510 0.00...</td>\n",
       "      <td>MULTIPOLYGON Z (((530885.507 181396.082 0.000,...</td>\n",
       "      <td>MULTIPOLYGON Z (((530885.507 181396.082 0.000,...</td>\n",
       "    </tr>\n",
       "    <tr>\n",
       "      <th>CD9</th>\n",
       "      <td>Camden - Euston Road</td>\n",
       "      <td>POINT (529900.870 182666.124)</td>\n",
       "      <td>POLYGON ((530900.870 182666.124, 530896.055 18...</td>\n",
       "      <td>MULTILINESTRING Z ((529650.665 181699.144 0.00...</td>\n",
       "      <td>MULTIPOLYGON Z (((530446.501 181828.697 0.000,...</td>\n",
       "      <td>MULTIPOLYGON Z (((530446.501 181828.697 0.000,...</td>\n",
       "    </tr>\n",
       "    <tr>\n",
       "      <th>CD1</th>\n",
       "      <td>Camden - Swiss Cottage</td>\n",
       "      <td>POINT (526629.730 184391.024)</td>\n",
       "      <td>POLYGON ((527629.730 184391.024, 527624.915 18...</td>\n",
       "      <td>MULTILINESTRING Z ((526806.590 183407.535 0.00...</td>\n",
       "      <td>MULTIPOLYGON Z (((527584.073 184093.479 0.000,...</td>\n",
       "      <td>MULTIPOLYGON Z (((527584.073 184093.479 0.000,...</td>\n",
       "    </tr>\n",
       "    <tr>\n",
       "      <th>CT2</th>\n",
       "      <td>City of London - Farringdon Street</td>\n",
       "      <td>POINT (531622.273 181213.818)</td>\n",
       "      <td>POLYGON ((532622.273 181213.818, 532617.458 18...</td>\n",
       "      <td>MULTILINESTRING Z ((531654.940 180215.423 0.00...</td>\n",
       "      <td>MULTIPOLYGON Z (((531473.204 182201.430 0.000,...</td>\n",
       "      <td>MULTIPOLYGON Z (((531473.204 182201.430 0.000,...</td>\n",
       "    </tr>\n",
       "    <tr>\n",
       "      <th>CT3</th>\n",
       "      <td>City of London - Sir John Cass School</td>\n",
       "      <td>POINT (533480.243 181186.837)</td>\n",
       "      <td>POLYGON ((534480.243 181186.837, 534475.427 18...</td>\n",
       "      <td>MULTILINESTRING Z ((533123.210 180253.779 0.00...</td>\n",
       "      <td>MULTIPOLYGON Z (((534480.226 181186.502 0.000,...</td>\n",
       "      <td>MULTIPOLYGON Z (((534480.226 181186.502 0.000,...</td>\n",
       "    </tr>\n",
       "    <tr>\n",
       "      <th>CR8</th>\n",
       "      <td>Croydon - Norbury Manor</td>\n",
       "      <td>POINT (530322.972 169553.770)</td>\n",
       "      <td>POLYGON ((531322.972 169553.770, 531318.157 16...</td>\n",
       "      <td>MULTILINESTRING Z ((530343.828 168554.795 0.00...</td>\n",
       "      <td>MULTIPOLYGON Z (((530029.704 168597.897 0.000,...</td>\n",
       "      <td>MULTIPOLYGON Z (((530029.704 168597.897 0.000,...</td>\n",
       "    </tr>\n",
       "    <tr>\n",
       "      <th>GR4</th>\n",
       "      <td>Greenwich - Eltham</td>\n",
       "      <td>POINT (543978.694 174655.234)</td>\n",
       "      <td>POLYGON ((544978.694 174655.234, 544973.878 17...</td>\n",
       "      <td>MULTILINESTRING Z ((544415.352 173756.882 0.00...</td>\n",
       "      <td>MULTIPOLYGON Z (((544534.534 173823.964 0.000,...</td>\n",
       "      <td>MULTIPOLYGON Z (((544534.534 173823.964 0.000,...</td>\n",
       "    </tr>\n",
       "    <tr>\n",
       "      <th>GB0</th>\n",
       "      <td>Greenwich - Falconwood FDMS</td>\n",
       "      <td>POINT (544997.933 175098.152)</td>\n",
       "      <td>POLYGON ((545997.933 175098.152, 545993.118 17...</td>\n",
       "      <td>MULTILINESTRING Z ((544952.089 174100.404 0.00...</td>\n",
       "      <td>MULTIPOLYGON Z (((545373.964 174171.892 0.000,...</td>\n",
       "      <td>MULTIPOLYGON Z (((545223.244 174124.937 0.000,...</td>\n",
       "    </tr>\n",
       "    <tr>\n",
       "      <th>GN6</th>\n",
       "      <td>Greenwich - John Harrison Way</td>\n",
       "      <td>POINT (539685.230 179119.938)</td>\n",
       "      <td>POLYGON ((540685.230 179119.938, 540680.415 17...</td>\n",
       "      <td>MULTILINESTRING Z ((539715.046 178121.403 0.00...</td>\n",
       "      <td>MULTIPOLYGON Z (((539996.407 178170.473 0.000,...</td>\n",
       "      <td>MULTIPOLYGON Z (((539996.407 178170.473 0.000,...</td>\n",
       "    </tr>\n",
       "    <tr>\n",
       "      <th>GN3</th>\n",
       "      <td>Greenwich - Plumstead High Street</td>\n",
       "      <td>POINT (545560.664 178526.019)</td>\n",
       "      <td>POLYGON ((546560.664 178526.019, 546555.849 17...</td>\n",
       "      <td>MULTILINESTRING Z ((545635.000 177544.000 0.00...</td>\n",
       "      <td>MULTIPOLYGON Z (((545902.127 177587.391 0.000,...</td>\n",
       "      <td>MULTIPOLYGON Z (((545902.127 177587.391 0.000,...</td>\n",
       "    </tr>\n",
       "    <tr>\n",
       "      <th>GR9</th>\n",
       "      <td>Greenwich - Westhorne Avenue</td>\n",
       "      <td>POINT (541879.857 175016.634)</td>\n",
       "      <td>POLYGON ((542879.857 175016.634, 542875.042 17...</td>\n",
       "      <td>MULTILINESTRING Z ((541625.000 174104.000 0.00...</td>\n",
       "      <td>MULTIPOLYGON Z (((541512.360 174087.320 0.000,...</td>\n",
       "      <td>MULTIPOLYGON Z (((541512.360 174087.320 0.000,...</td>\n",
       "    </tr>\n",
       "    <tr>\n",
       "      <th>HV1</th>\n",
       "      <td>Havering - Rainham</td>\n",
       "      <td>POINT (553108.080 182512.846)</td>\n",
       "      <td>POLYGON ((554108.080 182512.846, 554103.265 18...</td>\n",
       "      <td>MULTILINESTRING Z ((553157.014 181515.250 0.00...</td>\n",
       "      <td>MULTIPOLYGON Z (((552196.328 182104.523 0.000,...</td>\n",
       "      <td>MULTIPOLYGON Z (((552196.328 182104.523 0.000,...</td>\n",
       "    </tr>\n",
       "    <tr>\n",
       "      <th>LH0</th>\n",
       "      <td>Hillingdon - Harlington</td>\n",
       "      <td>POINT (508292.938 177798.905)</td>\n",
       "      <td>POLYGON ((509292.938 177798.905, 509288.123 17...</td>\n",
       "      <td>MULTILINESTRING Z ((508483.972 176817.518 0.00...</td>\n",
       "      <td>MULTIPOLYGON Z (((507807.977 178672.696 0.000,...</td>\n",
       "      <td>MULTIPOLYGON Z (((507807.977 178672.696 0.000,...</td>\n",
       "    </tr>\n",
       "    <tr>\n",
       "      <th>KC1</th>\n",
       "      <td>Kensington and Chelsea - North Ken</td>\n",
       "      <td>POINT (524043.377 181748.825)</td>\n",
       "      <td>POLYGON ((525043.377 181748.825, 525038.562 18...</td>\n",
       "      <td>MULTILINESTRING Z ((523936.028 180755.024 0.00...</td>\n",
       "      <td>MULTIPOLYGON Z (((524899.890 181235.036 0.000,...</td>\n",
       "      <td>MULTIPOLYGON Z (((524899.890 181235.036 0.000,...</td>\n",
       "    </tr>\n",
       "    <tr>\n",
       "      <th>HP1</th>\n",
       "      <td>Lewisham - Honor Oak Park</td>\n",
       "      <td>POINT (536471.270 174125.052)</td>\n",
       "      <td>POLYGON ((537471.270 174125.052, 537466.454 17...</td>\n",
       "      <td>MULTILINESTRING Z ((536848.778 173199.321 0.00...</td>\n",
       "      <td>MULTIPOLYGON Z (((535537.541 174480.209 0.000,...</td>\n",
       "      <td>MULTIPOLYGON Z (((535537.541 174480.209 0.000,...</td>\n",
       "    </tr>\n",
       "    <tr>\n",
       "      <th>LW2</th>\n",
       "      <td>Lewisham - New Cross</td>\n",
       "      <td>POINT (536241.365 176932.134)</td>\n",
       "      <td>POLYGON ((537241.365 176932.134, 537236.549 17...</td>\n",
       "      <td>MULTILINESTRING Z ((536173.000 175937.000 0.00...</td>\n",
       "      <td>MULTIPOLYGON Z (((537142.701 176501.787 0.000,...</td>\n",
       "      <td>MULTIPOLYGON Z (((537142.701 176501.787 0.000,...</td>\n",
       "    </tr>\n",
       "    <tr>\n",
       "      <th>TD5</th>\n",
       "      <td>London Teddington Bushy Park</td>\n",
       "      <td>POINT (515118.557 170881.057)</td>\n",
       "      <td>POLYGON ((516118.557 170881.057, 516113.742 17...</td>\n",
       "      <td>MULTILINESTRING Z ((515983.987 170382.147 0.00...</td>\n",
       "      <td>MULTIPOLYGON Z (((515987.970 170388.792 0.000,...</td>\n",
       "      <td>MULTIPOLYGON Z (((515987.970 170388.792 0.000,...</td>\n",
       "    </tr>\n",
       "    <tr>\n",
       "      <th>ST5</th>\n",
       "      <td>Sutton - Beddington Lane north</td>\n",
       "      <td>POINT (529398.283 167221.137)</td>\n",
       "      <td>POLYGON ((530398.283 167221.137, 530393.468 16...</td>\n",
       "      <td>MULTILINESTRING Z ((529569.070 166242.620 0.00...</td>\n",
       "      <td>MULTIPOLYGON Z (((530398.283 167221.137 0.000,...</td>\n",
       "      <td>MULTIPOLYGON Z (((530398.283 167221.137 0.000,...</td>\n",
       "    </tr>\n",
       "    <tr>\n",
       "      <th>TH4</th>\n",
       "      <td>Tower Hamlets - Blackwall</td>\n",
       "      <td>POINT (538288.159 181448.847)</td>\n",
       "      <td>POLYGON ((539288.159 181448.847, 539283.344 18...</td>\n",
       "      <td>MULTILINESTRING Z ((538168.530 180514.000 0.00...</td>\n",
       "      <td>MULTIPOLYGON Z (((537643.124 180685.482 0.000,...</td>\n",
       "      <td>MULTIPOLYGON Z (((537643.124 180685.482 0.000,...</td>\n",
       "    </tr>\n",
       "    <tr>\n",
       "      <th>MY7</th>\n",
       "      <td>Westminster - Marylebone Road FDMS</td>\n",
       "      <td>POINT (528125.458 182016.273)</td>\n",
       "      <td>POLYGON ((529125.458 182016.273, 529120.642 18...</td>\n",
       "      <td>MULTILINESTRING Z ((528055.650 181033.800 0.00...</td>\n",
       "      <td>MULTIPOLYGON Z (((527127.680 181971.043 0.000,...</td>\n",
       "      <td>MULTIPOLYGON Z (((527127.680 181971.043 0.000,...</td>\n",
       "    </tr>\n",
       "  </tbody>\n",
       "</table>\n",
       "</div>"
      ],
      "text/plain": [
       "                                     sitename                       geometry  \\\n",
       "siteid                                                                         \n",
       "BX9                 Bexley - Slade Green FDMS  POINT (551862.205 176375.976)   \n",
       "BL0                       Camden - Bloomsbury  POINT (530120.048 182038.807)   \n",
       "CD9                      Camden - Euston Road  POINT (529900.870 182666.124)   \n",
       "CD1                    Camden - Swiss Cottage  POINT (526629.730 184391.024)   \n",
       "CT2        City of London - Farringdon Street  POINT (531622.273 181213.818)   \n",
       "CT3     City of London - Sir John Cass School  POINT (533480.243 181186.837)   \n",
       "CR8                   Croydon - Norbury Manor  POINT (530322.972 169553.770)   \n",
       "GR4                        Greenwich - Eltham  POINT (543978.694 174655.234)   \n",
       "GB0               Greenwich - Falconwood FDMS  POINT (544997.933 175098.152)   \n",
       "GN6             Greenwich - John Harrison Way  POINT (539685.230 179119.938)   \n",
       "GN3         Greenwich - Plumstead High Street  POINT (545560.664 178526.019)   \n",
       "GR9              Greenwich - Westhorne Avenue  POINT (541879.857 175016.634)   \n",
       "HV1                        Havering - Rainham  POINT (553108.080 182512.846)   \n",
       "LH0                   Hillingdon - Harlington  POINT (508292.938 177798.905)   \n",
       "KC1        Kensington and Chelsea - North Ken  POINT (524043.377 181748.825)   \n",
       "HP1                 Lewisham - Honor Oak Park  POINT (536471.270 174125.052)   \n",
       "LW2                      Lewisham - New Cross  POINT (536241.365 176932.134)   \n",
       "TD5              London Teddington Bushy Park  POINT (515118.557 170881.057)   \n",
       "ST5            Sutton - Beddington Lane north  POINT (529398.283 167221.137)   \n",
       "TH4                 Tower Hamlets - Blackwall  POINT (538288.159 181448.847)   \n",
       "MY7        Westminster - Marylebone Road FDMS  POINT (528125.458 182016.273)   \n",
       "\n",
       "                                               buffer_1km  \\\n",
       "siteid                                                      \n",
       "BX9     POLYGON ((552862.205 176375.976, 552857.390 17...   \n",
       "BL0     POLYGON ((531120.048 182038.807, 531115.233 18...   \n",
       "CD9     POLYGON ((530900.870 182666.124, 530896.055 18...   \n",
       "CD1     POLYGON ((527629.730 184391.024, 527624.915 18...   \n",
       "CT2     POLYGON ((532622.273 181213.818, 532617.458 18...   \n",
       "CT3     POLYGON ((534480.243 181186.837, 534475.427 18...   \n",
       "CR8     POLYGON ((531322.972 169553.770, 531318.157 16...   \n",
       "GR4     POLYGON ((544978.694 174655.234, 544973.878 17...   \n",
       "GB0     POLYGON ((545997.933 175098.152, 545993.118 17...   \n",
       "GN6     POLYGON ((540685.230 179119.938, 540680.415 17...   \n",
       "GN3     POLYGON ((546560.664 178526.019, 546555.849 17...   \n",
       "GR9     POLYGON ((542879.857 175016.634, 542875.042 17...   \n",
       "HV1     POLYGON ((554108.080 182512.846, 554103.265 18...   \n",
       "LH0     POLYGON ((509292.938 177798.905, 509288.123 17...   \n",
       "KC1     POLYGON ((525043.377 181748.825, 525038.562 18...   \n",
       "HP1     POLYGON ((537471.270 174125.052, 537466.454 17...   \n",
       "LW2     POLYGON ((537241.365 176932.134, 537236.549 17...   \n",
       "TD5     POLYGON ((516118.557 170881.057, 516113.742 17...   \n",
       "ST5     POLYGON ((530398.283 167221.137, 530393.468 16...   \n",
       "TH4     POLYGON ((539288.159 181448.847, 539283.344 18...   \n",
       "MY7     POLYGON ((529125.458 182016.273, 529120.642 18...   \n",
       "\n",
       "                                                     Road  \\\n",
       "siteid                                                      \n",
       "BX9     MULTILINESTRING Z ((552075.170 175434.690 0.00...   \n",
       "BL0     MULTILINESTRING Z ((530175.051 181041.510 0.00...   \n",
       "CD9     MULTILINESTRING Z ((529650.665 181699.144 0.00...   \n",
       "CD1     MULTILINESTRING Z ((526806.590 183407.535 0.00...   \n",
       "CT2     MULTILINESTRING Z ((531654.940 180215.423 0.00...   \n",
       "CT3     MULTILINESTRING Z ((533123.210 180253.779 0.00...   \n",
       "CR8     MULTILINESTRING Z ((530343.828 168554.795 0.00...   \n",
       "GR4     MULTILINESTRING Z ((544415.352 173756.882 0.00...   \n",
       "GB0     MULTILINESTRING Z ((544952.089 174100.404 0.00...   \n",
       "GN6     MULTILINESTRING Z ((539715.046 178121.403 0.00...   \n",
       "GN3     MULTILINESTRING Z ((545635.000 177544.000 0.00...   \n",
       "GR9     MULTILINESTRING Z ((541625.000 174104.000 0.00...   \n",
       "HV1     MULTILINESTRING Z ((553157.014 181515.250 0.00...   \n",
       "LH0     MULTILINESTRING Z ((508483.972 176817.518 0.00...   \n",
       "KC1     MULTILINESTRING Z ((523936.028 180755.024 0.00...   \n",
       "HP1     MULTILINESTRING Z ((536848.778 173199.321 0.00...   \n",
       "LW2     MULTILINESTRING Z ((536173.000 175937.000 0.00...   \n",
       "TD5     MULTILINESTRING Z ((515983.987 170382.147 0.00...   \n",
       "ST5     MULTILINESTRING Z ((529569.070 166242.620 0.00...   \n",
       "TH4     MULTILINESTRING Z ((538168.530 180514.000 0.00...   \n",
       "MY7     MULTILINESTRING Z ((528055.650 181033.800 0.00...   \n",
       "\n",
       "                                               GreenSpace  \\\n",
       "siteid                                                      \n",
       "BX9     MULTIPOLYGON Z (((551286.362 175559.542 0.000,...   \n",
       "BL0     MULTIPOLYGON Z (((530885.507 181396.082 0.000,...   \n",
       "CD9     MULTIPOLYGON Z (((530446.501 181828.697 0.000,...   \n",
       "CD1     MULTIPOLYGON Z (((527584.073 184093.479 0.000,...   \n",
       "CT2     MULTIPOLYGON Z (((531473.204 182201.430 0.000,...   \n",
       "CT3     MULTIPOLYGON Z (((534480.226 181186.502 0.000,...   \n",
       "CR8     MULTIPOLYGON Z (((530029.704 168597.897 0.000,...   \n",
       "GR4     MULTIPOLYGON Z (((544534.534 173823.964 0.000,...   \n",
       "GB0     MULTIPOLYGON Z (((545373.964 174171.892 0.000,...   \n",
       "GN6     MULTIPOLYGON Z (((539996.407 178170.473 0.000,...   \n",
       "GN3     MULTIPOLYGON Z (((545902.127 177587.391 0.000,...   \n",
       "GR9     MULTIPOLYGON Z (((541512.360 174087.320 0.000,...   \n",
       "HV1     MULTIPOLYGON Z (((552196.328 182104.523 0.000,...   \n",
       "LH0     MULTIPOLYGON Z (((507807.977 178672.696 0.000,...   \n",
       "KC1     MULTIPOLYGON Z (((524899.890 181235.036 0.000,...   \n",
       "HP1     MULTIPOLYGON Z (((535537.541 174480.209 0.000,...   \n",
       "LW2     MULTIPOLYGON Z (((537142.701 176501.787 0.000,...   \n",
       "TD5     MULTIPOLYGON Z (((515987.970 170388.792 0.000,...   \n",
       "ST5     MULTIPOLYGON Z (((530398.283 167221.137 0.000,...   \n",
       "TH4     MULTIPOLYGON Z (((537643.124 180685.482 0.000,...   \n",
       "MY7     MULTIPOLYGON Z (((527127.680 181971.043 0.000,...   \n",
       "\n",
       "                                            NR_GreenSpace  \n",
       "siteid                                                     \n",
       "BX9     MULTIPOLYGON Z (((551286.362 175559.542 0.000,...  \n",
       "BL0     MULTIPOLYGON Z (((530885.507 181396.082 0.000,...  \n",
       "CD9     MULTIPOLYGON Z (((530446.501 181828.697 0.000,...  \n",
       "CD1     MULTIPOLYGON Z (((527584.073 184093.479 0.000,...  \n",
       "CT2     MULTIPOLYGON Z (((531473.204 182201.430 0.000,...  \n",
       "CT3     MULTIPOLYGON Z (((534480.226 181186.502 0.000,...  \n",
       "CR8     MULTIPOLYGON Z (((530029.704 168597.897 0.000,...  \n",
       "GR4     MULTIPOLYGON Z (((544534.534 173823.964 0.000,...  \n",
       "GB0     MULTIPOLYGON Z (((545223.244 174124.937 0.000,...  \n",
       "GN6     MULTIPOLYGON Z (((539996.407 178170.473 0.000,...  \n",
       "GN3     MULTIPOLYGON Z (((545902.127 177587.391 0.000,...  \n",
       "GR9     MULTIPOLYGON Z (((541512.360 174087.320 0.000,...  \n",
       "HV1     MULTIPOLYGON Z (((552196.328 182104.523 0.000,...  \n",
       "LH0     MULTIPOLYGON Z (((507807.977 178672.696 0.000,...  \n",
       "KC1     MULTIPOLYGON Z (((524899.890 181235.036 0.000,...  \n",
       "HP1     MULTIPOLYGON Z (((535537.541 174480.209 0.000,...  \n",
       "LW2     MULTIPOLYGON Z (((537142.701 176501.787 0.000,...  \n",
       "TD5     MULTIPOLYGON Z (((515987.970 170388.792 0.000,...  \n",
       "ST5     MULTIPOLYGON Z (((530398.283 167221.137 0.000,...  \n",
       "TH4     MULTIPOLYGON Z (((537643.124 180685.482 0.000,...  \n",
       "MY7     MULTIPOLYGON Z (((527127.680 181971.043 0.000,...  "
      ]
     },
     "execution_count": 16,
     "metadata": {},
     "output_type": "execute_result"
    }
   ],
   "source": [
    "# append them into the dataframe\n",
    "loc_gdf['Road']=Rd_shp\n",
    "loc_gdf['GreenSpace']=Gsp_shp\n",
    "loc_gdf['NR_GreenSpace']=nRd_Gsp_shp\n",
    "loc_gdf=loc_gdf.set_geometry('Road').set_geometry('GreenSpace').set_geometry('NR_GreenSpace')\n",
    "loc_gdf"
   ]
  },
  {
   "cell_type": "code",
   "execution_count": 17,
   "metadata": {},
   "outputs": [],
   "source": [
    "london=gpd.read_file('data/london_boundary.shp')"
   ]
  },
  {
   "cell_type": "code",
   "execution_count": 18,
   "metadata": {},
   "outputs": [
    {
     "data": {
      "image/png": "[encoded data removed]",
      "text/plain": [
       "<Figure size 1080x936 with 1 Axes>"
      ]
     },
     "metadata": {
      "needs_background": "light"
     },
     "output_type": "display_data"
    }
   ],
   "source": [
    "# visualise all the sites on the map\n",
    "fig,ax=plt.subplots(1,figsize=(15,13))\n",
    "\n",
    "london.plot(color='lightgrey',ax=ax)\n",
    "loc_gdf['buffer_1km'].plot(color='silver',ax=ax)\n",
    "loc_gdf['GreenSpace'].plot(label='Green space',color='limegreen',ax=ax)\n",
    "loc_gdf['NR_GreenSpace'].plot(label='Near_road green space',color='darkgreen',ax=ax)\n",
    "loc_gdf['Road'].plot(color='black',label='Road',linewidth=0.1,ax=ax)\n",
    "loc_gdf['geometry'].plot(markersize=5,marker='^',color='blue',label='Air quality monitoring site',ax=ax)\n",
    "\n",
    "ax.axis('off')\n",
    "\n",
    "legend=ax.legend(loc='best',shadow=True,fontsize=15)\n",
    "\n",
    "#plt.savefig('sample1.png',facecolor='black',dpi=500)\n",
    "plt.show()"
   ]
  },
  {
   "cell_type": "markdown",
   "metadata": {},
   "source": [
    "There are some buffers that seem to be very close to others."
   ]
  },
  {
   "cell_type": "code",
   "execution_count": 19,
   "metadata": {},
   "outputs": [],
   "source": [
    "# add a column that specifies the shortest distance of a site to its nearest neighbour\n",
    "loc_gdf['min_dis']=pd.Series(dtype='float64')\n",
    "for index, row in loc_gdf.iterrows():\n",
    "    dis=[]\n",
    "    for i, v in loc_gdf['geometry'].iteritems():\n",
    "        dis.append(row['geometry'].distance(v))\n",
    "    dis.remove(0)\n",
    "    loc_gdf.loc[index,'min_dis']=min(dis)"
   ]
  },
  {
   "cell_type": "code",
   "execution_count": 20,
   "metadata": {},
   "outputs": [
    {
     "data": {
      "text/html": [
       "<div>\n",
       "<style scoped>\n",
       "    .dataframe tbody tr th:only-of-type {\n",
       "        vertical-align: middle;\n",
       "    }\n",
       "\n",
       "    .dataframe tbody tr th {\n",
       "        vertical-align: top;\n",
       "    }\n",
       "\n",
       "    .dataframe thead th {\n",
       "        text-align: right;\n",
       "    }\n",
       "</style>\n",
       "<table border=\"1\" class=\"dataframe\">\n",
       "  <thead>\n",
       "    <tr style=\"text-align: right;\">\n",
       "      <th></th>\n",
       "      <th>sitename</th>\n",
       "      <th>geometry</th>\n",
       "      <th>buffer_1km</th>\n",
       "      <th>Road</th>\n",
       "      <th>GreenSpace</th>\n",
       "      <th>NR_GreenSpace</th>\n",
       "      <th>min_dis</th>\n",
       "    </tr>\n",
       "    <tr>\n",
       "      <th>siteid</th>\n",
       "      <th></th>\n",
       "      <th></th>\n",
       "      <th></th>\n",
       "      <th></th>\n",
       "      <th></th>\n",
       "      <th></th>\n",
       "      <th></th>\n",
       "    </tr>\n",
       "  </thead>\n",
       "  <tbody>\n",
       "    <tr>\n",
       "      <th>BL0</th>\n",
       "      <td>Camden - Bloomsbury</td>\n",
       "      <td>POINT (530120.048 182038.807)</td>\n",
       "      <td>POLYGON ((531120.048 182038.807, 531115.233 18...</td>\n",
       "      <td>MULTILINESTRING Z ((530175.051 181041.510 0.00...</td>\n",
       "      <td>MULTIPOLYGON Z (((530885.507 181396.082 0.000,...</td>\n",
       "      <td>MULTIPOLYGON Z (((530885.507 181396.082 0.000,...</td>\n",
       "      <td>664.503439</td>\n",
       "    </tr>\n",
       "    <tr>\n",
       "      <th>CD9</th>\n",
       "      <td>Camden - Euston Road</td>\n",
       "      <td>POINT (529900.870 182666.124)</td>\n",
       "      <td>POLYGON ((530900.870 182666.124, 530896.055 18...</td>\n",
       "      <td>MULTILINESTRING Z ((529650.665 181699.144 0.00...</td>\n",
       "      <td>MULTIPOLYGON Z (((530446.501 181828.697 0.000,...</td>\n",
       "      <td>MULTIPOLYGON Z (((530446.501 181828.697 0.000,...</td>\n",
       "      <td>664.503439</td>\n",
       "    </tr>\n",
       "    <tr>\n",
       "      <th>GR4</th>\n",
       "      <td>Greenwich - Eltham</td>\n",
       "      <td>POINT (543978.694 174655.234)</td>\n",
       "      <td>POLYGON ((544978.694 174655.234, 544973.878 17...</td>\n",
       "      <td>MULTILINESTRING Z ((544415.352 173756.882 0.00...</td>\n",
       "      <td>MULTIPOLYGON Z (((544534.534 173823.964 0.000,...</td>\n",
       "      <td>MULTIPOLYGON Z (((544534.534 173823.964 0.000,...</td>\n",
       "      <td>1111.316933</td>\n",
       "    </tr>\n",
       "    <tr>\n",
       "      <th>GB0</th>\n",
       "      <td>Greenwich - Falconwood FDMS</td>\n",
       "      <td>POINT (544997.933 175098.152)</td>\n",
       "      <td>POLYGON ((545997.933 175098.152, 545993.118 17...</td>\n",
       "      <td>MULTILINESTRING Z ((544952.089 174100.404 0.00...</td>\n",
       "      <td>MULTIPOLYGON Z (((545373.964 174171.892 0.000,...</td>\n",
       "      <td>MULTIPOLYGON Z (((545223.244 174124.937 0.000,...</td>\n",
       "      <td>1111.316933</td>\n",
       "    </tr>\n",
       "  </tbody>\n",
       "</table>\n",
       "</div>"
      ],
      "text/plain": [
       "                           sitename                       geometry  \\\n",
       "siteid                                                               \n",
       "BL0             Camden - Bloomsbury  POINT (530120.048 182038.807)   \n",
       "CD9            Camden - Euston Road  POINT (529900.870 182666.124)   \n",
       "GR4              Greenwich - Eltham  POINT (543978.694 174655.234)   \n",
       "GB0     Greenwich - Falconwood FDMS  POINT (544997.933 175098.152)   \n",
       "\n",
       "                                               buffer_1km  \\\n",
       "siteid                                                      \n",
       "BL0     POLYGON ((531120.048 182038.807, 531115.233 18...   \n",
       "CD9     POLYGON ((530900.870 182666.124, 530896.055 18...   \n",
       "GR4     POLYGON ((544978.694 174655.234, 544973.878 17...   \n",
       "GB0     POLYGON ((545997.933 175098.152, 545993.118 17...   \n",
       "\n",
       "                                                     Road  \\\n",
       "siteid                                                      \n",
       "BL0     MULTILINESTRING Z ((530175.051 181041.510 0.00...   \n",
       "CD9     MULTILINESTRING Z ((529650.665 181699.144 0.00...   \n",
       "GR4     MULTILINESTRING Z ((544415.352 173756.882 0.00...   \n",
       "GB0     MULTILINESTRING Z ((544952.089 174100.404 0.00...   \n",
       "\n",
       "                                               GreenSpace  \\\n",
       "siteid                                                      \n",
       "BL0     MULTIPOLYGON Z (((530885.507 181396.082 0.000,...   \n",
       "CD9     MULTIPOLYGON Z (((530446.501 181828.697 0.000,...   \n",
       "GR4     MULTIPOLYGON Z (((544534.534 173823.964 0.000,...   \n",
       "GB0     MULTIPOLYGON Z (((545373.964 174171.892 0.000,...   \n",
       "\n",
       "                                            NR_GreenSpace      min_dis  \n",
       "siteid                                                                  \n",
       "BL0     MULTIPOLYGON Z (((530885.507 181396.082 0.000,...   664.503439  \n",
       "CD9     MULTIPOLYGON Z (((530446.501 181828.697 0.000,...   664.503439  \n",
       "GR4     MULTIPOLYGON Z (((544534.534 173823.964 0.000,...  1111.316933  \n",
       "GB0     MULTIPOLYGON Z (((545223.244 174124.937 0.000,...  1111.316933  "
      ]
     },
     "execution_count": 20,
     "metadata": {},
     "output_type": "execute_result"
    }
   ],
   "source": [
    "# list sites that are close to each other (within 1.5km)\n",
    "loc_gdf[loc_gdf['min_dis']<=1500]"
   ]
  },
  {
   "cell_type": "code",
   "execution_count": 21,
   "metadata": {},
   "outputs": [
    {
     "data": {
      "text/html": [
       "<div>\n",
       "<style scoped>\n",
       "    .dataframe tbody tr th:only-of-type {\n",
       "        vertical-align: middle;\n",
       "    }\n",
       "\n",
       "    .dataframe tbody tr th {\n",
       "        vertical-align: top;\n",
       "    }\n",
       "\n",
       "    .dataframe thead tr th {\n",
       "        text-align: left;\n",
       "    }\n",
       "\n",
       "    .dataframe thead tr:last-of-type th {\n",
       "        text-align: right;\n",
       "    }\n",
       "</style>\n",
       "<table border=\"1\" class=\"dataframe\">\n",
       "  <thead>\n",
       "    <tr>\n",
       "      <th></th>\n",
       "      <th colspan=\"8\" halign=\"left\">Value</th>\n",
       "    </tr>\n",
       "    <tr>\n",
       "      <th></th>\n",
       "      <th>count</th>\n",
       "      <th>mean</th>\n",
       "      <th>std</th>\n",
       "      <th>min</th>\n",
       "      <th>25%</th>\n",
       "      <th>50%</th>\n",
       "      <th>75%</th>\n",
       "      <th>max</th>\n",
       "    </tr>\n",
       "    <tr>\n",
       "      <th>Site</th>\n",
       "      <th></th>\n",
       "      <th></th>\n",
       "      <th></th>\n",
       "      <th></th>\n",
       "      <th></th>\n",
       "      <th></th>\n",
       "      <th></th>\n",
       "      <th></th>\n",
       "    </tr>\n",
       "  </thead>\n",
       "  <tbody>\n",
       "    <tr>\n",
       "      <th>BL0</th>\n",
       "      <td>365.0</td>\n",
       "      <td>10.773266</td>\n",
       "      <td>8.609044</td>\n",
       "      <td>2.779167</td>\n",
       "      <td>5.454167</td>\n",
       "      <td>7.479167</td>\n",
       "      <td>12.054167</td>\n",
       "      <td>48.720833</td>\n",
       "    </tr>\n",
       "    <tr>\n",
       "      <th>CD9</th>\n",
       "      <td>365.0</td>\n",
       "      <td>13.636306</td>\n",
       "      <td>8.786610</td>\n",
       "      <td>4.220833</td>\n",
       "      <td>8.229167</td>\n",
       "      <td>10.462500</td>\n",
       "      <td>15.316667</td>\n",
       "      <td>53.466667</td>\n",
       "    </tr>\n",
       "    <tr>\n",
       "      <th>GB0</th>\n",
       "      <td>365.0</td>\n",
       "      <td>12.170311</td>\n",
       "      <td>7.673069</td>\n",
       "      <td>3.975000</td>\n",
       "      <td>7.300000</td>\n",
       "      <td>9.683333</td>\n",
       "      <td>13.829167</td>\n",
       "      <td>46.891667</td>\n",
       "    </tr>\n",
       "    <tr>\n",
       "      <th>GR4</th>\n",
       "      <td>365.0</td>\n",
       "      <td>10.887170</td>\n",
       "      <td>8.333161</td>\n",
       "      <td>2.512500</td>\n",
       "      <td>6.041667</td>\n",
       "      <td>8.158333</td>\n",
       "      <td>11.721337</td>\n",
       "      <td>62.054167</td>\n",
       "    </tr>\n",
       "  </tbody>\n",
       "</table>\n",
       "</div>"
      ],
      "text/plain": [
       "      Value                                                                 \\\n",
       "      count       mean       std       min       25%        50%        75%   \n",
       "Site                                                                         \n",
       "BL0   365.0  10.773266  8.609044  2.779167  5.454167   7.479167  12.054167   \n",
       "CD9   365.0  13.636306  8.786610  4.220833  8.229167  10.462500  15.316667   \n",
       "GB0   365.0  12.170311  7.673069  3.975000  7.300000   9.683333  13.829167   \n",
       "GR4   365.0  10.887170  8.333161  2.512500  6.041667   8.158333  11.721337   \n",
       "\n",
       "                 \n",
       "            max  \n",
       "Site             \n",
       "BL0   48.720833  \n",
       "CD9   53.466667  \n",
       "GB0   46.891667  \n",
       "GR4   62.054167  "
      ]
     },
     "execution_count": 21,
     "metadata": {},
     "output_type": "execute_result"
    }
   ],
   "source": [
    "AQMS_df[AQMS_df['Site'].isin(['BL0','CD9','GR4','GB0'])].groupby('Site').describe()"
   ]
  },
  {
   "cell_type": "code",
   "execution_count": 22,
   "metadata": {},
   "outputs": [],
   "source": [
    "loc_gdf.drop(['BL0','GR4'],inplace=True)"
   ]
  },
  {
   "cell_type": "code",
   "execution_count": 24,
   "metadata": {},
   "outputs": [],
   "source": [
    "loc_gdf['buffer_area']=loc_gdf['buffer_1km'].area"
   ]
  },
  {
   "cell_type": "code",
   "execution_count": 25,
   "metadata": {},
   "outputs": [],
   "source": [
    "loc_gdf['pct_Gsp_area']=loc_gdf['GreenSpace'].area/loc_gdf['buffer_area'] # percentage of gsp area\n",
    "loc_gdf['pct_nR_Gsp_area']=loc_gdf['NR_GreenSpace'].area/loc_gdf['buffer_area'] # percentage of near road gsp area"
   ]
  },
  {
   "cell_type": "code",
   "execution_count": 26,
   "metadata": {},
   "outputs": [
    {
     "name": "stdout",
     "output_type": "stream",
     "text": [
      "<class 'geopandas.geodataframe.GeoDataFrame'>\n",
      "Index: 19 entries, BX9 to MY7\n",
      "Data columns (total 10 columns):\n",
      " #   Column           Non-Null Count  Dtype   \n",
      "---  ------           --------------  -----   \n",
      " 0   sitename         19 non-null     object  \n",
      " 1   geometry         19 non-null     geometry\n",
      " 2   buffer_1km       19 non-null     geometry\n",
      " 3   Road             19 non-null     geometry\n",
      " 4   GreenSpace       19 non-null     geometry\n",
      " 5   NR_GreenSpace    19 non-null     geometry\n",
      " 6   min_dis          19 non-null     float64 \n",
      " 7   buffer_area      19 non-null     float64 \n",
      " 8   pct_Gsp_area     19 non-null     float64 \n",
      " 9   pct_nR_Gsp_area  19 non-null     float64 \n",
      "dtypes: float64(4), geometry(5), object(1)\n",
      "memory usage: 1.6+ KB\n"
     ]
    }
   ],
   "source": [
    "loc_gdf.info()"
   ]
  },
  {
   "cell_type": "code",
   "execution_count": 27,
   "metadata": {},
   "outputs": [
    {
     "name": "stdout",
     "output_type": "stream",
     "text": [
      "<class 'pandas.core.frame.DataFrame'>\n",
      "Int64Index: 6935 entries, 0 to 7664\n",
      "Data columns (total 13 columns):\n",
      " #   Column           Non-Null Count  Dtype   \n",
      "---  ------           --------------  -----   \n",
      " 0   DateTime         6935 non-null   object  \n",
      " 1   Value            6935 non-null   float64 \n",
      " 2   Site             6935 non-null   object  \n",
      " 3   sitename         6935 non-null   object  \n",
      " 4   geometry         6935 non-null   geometry\n",
      " 5   buffer_1km       6935 non-null   geometry\n",
      " 6   Road             6935 non-null   geometry\n",
      " 7   GreenSpace       6935 non-null   geometry\n",
      " 8   NR_GreenSpace    6935 non-null   geometry\n",
      " 9   min_dis          6935 non-null   float64 \n",
      " 10  buffer_area      6935 non-null   float64 \n",
      " 11  pct_Gsp_area     6935 non-null   float64 \n",
      " 12  pct_nR_Gsp_area  6935 non-null   float64 \n",
      "dtypes: float64(5), geometry(5), object(3)\n",
      "memory usage: 758.5+ KB\n"
     ]
    }
   ],
   "source": [
    "df=pd.merge(AQMS_df,loc_gdf,left_on='Site',right_index=True)\n",
    "df.info()"
   ]
  },
  {
   "cell_type": "code",
   "execution_count": 28,
   "metadata": {},
   "outputs": [],
   "source": [
    "df.drop(['sitename','buffer_1km','Road','GreenSpace','NR_GreenSpace','min_dis','buffer_area'],\n",
    "        axis=1,inplace=True)"
   ]
  },
  {
   "cell_type": "code",
   "execution_count": 29,
   "metadata": {},
   "outputs": [
    {
     "data": {
      "text/plain": [
       "<AxesSubplot:>"
      ]
     },
     "execution_count": 29,
     "metadata": {},
     "output_type": "execute_result"
    },
    {
     "data": {
      "image/png": "[encoded data removed]",
      "text/plain": [
       "<Figure size 432x288 with 2 Axes>"
      ]
     },
     "metadata": {
      "needs_background": "light"
     },
     "output_type": "display_data"
    }
   ],
   "source": [
    "# check correlation between PM data and the conditional variables\n",
    "sns.heatmap(df.merge(cond,how='left',on='DateTime').corr(),cmap='magma',annot=True,\n",
    "            fmt='0.4f')"
   ]
  },
  {
   "cell_type": "code",
   "execution_count": null,
   "metadata": {},
   "outputs": [],
   "source": [
    "# prepare variables for the OLS model\n",
    "Y=df['Value'].values\n",
    "X=np.tile(cond[['bp_mean','tmp_mean']].values,(19,1))\n",
    "print(X.shape,Y.shape)"
   ]
  },
  {
   "cell_type": "code",
   "execution_count": null,
   "metadata": {},
   "outputs": [],
   "source": [
    "# fit a OLS model\n",
    "m_multi=sm.OLS(Y,X)\n",
    "m_multi_fit=m_multi.fit()\n",
    "print(m_multi_fit.summary())"
   ]
  },
  {
   "cell_type": "code",
   "execution_count": 33,
   "metadata": {},
   "outputs": [],
   "source": [
    "# kernel weight matrix for 19 sites\n",
    "weight=Kernel.from_dataframe(loc_gdf,geom_col='geometry',function='gaussian')"
   ]
  },
  {
   "cell_type": "code",
   "execution_count": 41,
   "metadata": {},
   "outputs": [],
   "source": [
    "# covert the DateTime column to numpy.datetime variable\n",
    "df['Date']=pd.to_datetime(df['DateTime'])\n",
    "df.drop('DateTime',axis=1,inplace=True)"
   ]
  },
  {
   "cell_type": "code",
   "execution_count": 35,
   "metadata": {},
   "outputs": [
    {
     "data": {
      "text/plain": [
       "365"
      ]
     },
     "execution_count": 35,
     "metadata": {},
     "output_type": "execute_result"
    }
   ],
   "source": [
    "# moran's Is for PM readings on different days\n",
    "moran=[]\n",
    "for date in df['Date'].unique():\n",
    "    mi=Moran(df[df['Date']==date].Value.values,weight)\n",
    "    moran.append(mi.I)\n",
    "len(moran)"
   ]
  },
  {
   "cell_type": "code",
   "execution_count": 36,
   "metadata": {},
   "outputs": [
    {
     "data": {
      "text/plain": [
       "<AxesSubplot:>"
      ]
     },
     "execution_count": 36,
     "metadata": {},
     "output_type": "execute_result"
    },
    {
     "data": {
      "image/png": "[encoded data removed]",
      "text/plain": [
       "<Figure size 432x288 with 1 Axes>"
      ]
     },
     "metadata": {},
     "output_type": "display_data"
    }
   ],
   "source": [
    "# change of moran's I during the year of 2019\n",
    "sns.set_theme(style='darkgrid')\n",
    "sns.lineplot(x=df['Date'].unique(),y=moran)"
   ]
  },
  {
   "cell_type": "code",
   "execution_count": 38,
   "metadata": {},
   "outputs": [
    {
     "data": {
      "text/plain": [
       "0.22754"
      ]
     },
     "execution_count": 38,
     "metadata": {},
     "output_type": "execute_result"
    }
   ],
   "source": [
    "moran_gsp=Moran(loc_gdf['pct_Gsp_area'].values,weight)\n",
    "round(moran_gsp.I,5)"
   ]
  },
  {
   "cell_type": "code",
   "execution_count": 39,
   "metadata": {},
   "outputs": [
    {
     "data": {
      "text/plain": [
       "0.10186"
      ]
     },
     "execution_count": 39,
     "metadata": {},
     "output_type": "execute_result"
    }
   ],
   "source": [
    "moran_nR=Moran(loc_gdf['pct_nR_Gsp_area'].values,weight)\n",
    "round(moran_nR.I,5)"
   ]
  },
  {
   "cell_type": "code",
   "execution_count": 40,
   "metadata": {},
   "outputs": [
    {
     "name": "stdout",
     "output_type": "stream",
     "text": [
      "<class 'pandas.core.frame.DataFrame'>\n",
      "Int64Index: 6935 entries, 0 to 6934\n",
      "Data columns (total 10 columns):\n",
      " #   Column           Non-Null Count  Dtype         \n",
      "---  ------           --------------  -----         \n",
      " 0   DateTime         6935 non-null   object        \n",
      " 1   Value            6935 non-null   float64       \n",
      " 2   Site             6935 non-null   object        \n",
      " 3   geometry         6935 non-null   geometry      \n",
      " 4   pct_Gsp_area     6935 non-null   float64       \n",
      " 5   pct_nR_Gsp_area  6935 non-null   float64       \n",
      " 6   Date             6935 non-null   datetime64[ns]\n",
      " 7   bp_mean          6935 non-null   float64       \n",
      " 8   tmp_mean         6935 non-null   float64       \n",
      " 9   rh_mean          6935 non-null   float64       \n",
      "dtypes: datetime64[ns](1), float64(6), geometry(1), object(2)\n",
      "memory usage: 596.0+ KB\n"
     ]
    }
   ],
   "source": [
    "df=df.merge(cond,on='DateTime')\n",
    "df.info()"
   ]
  },
  {
   "cell_type": "code",
   "execution_count": 42,
   "metadata": {},
   "outputs": [],
   "source": [
    "df['month']=df['Date'].dt.month"
   ]
  },
  {
   "cell_type": "code",
   "execution_count": 43,
   "metadata": {},
   "outputs": [
    {
     "data": {
      "text/plain": [
       "Value                     float64\n",
       "Site                       object\n",
       "geometry                 geometry\n",
       "pct_Gsp_area              float64\n",
       "pct_nR_Gsp_area           float64\n",
       "Date               datetime64[ns]\n",
       "bp_mean                   float64\n",
       "tmp_mean                  float64\n",
       "rh_mean                   float64\n",
       "month                       int64\n",
       "dtype: object"
      ]
     },
     "execution_count": 43,
     "metadata": {},
     "output_type": "execute_result"
    }
   ],
   "source": [
    "df.dtypes"
   ]
  },
  {
   "cell_type": "code",
   "execution_count": 45,
   "metadata": {},
   "outputs": [
    {
     "data": {
      "text/plain": [
       "<AxesSubplot:xlabel='month'>"
      ]
     },
     "execution_count": 45,
     "metadata": {},
     "output_type": "execute_result"
    },
    {
     "data": {
      "image/png": "[encoded data removed]",
      "text/plain": [
       "<Figure size 432x288 with 1 Axes>"
      ]
     },
     "metadata": {},
     "output_type": "display_data"
    }
   ],
   "source": [
    "df.groupby('month').mean()['Value'].plot()"
   ]
  },
  {
   "cell_type": "code",
   "execution_count": 46,
   "metadata": {},
   "outputs": [
    {
     "data": {
      "text/plain": [
       "0        True\n",
       "1        True\n",
       "2        True\n",
       "3        True\n",
       "4        True\n",
       "        ...  \n",
       "6930    False\n",
       "6931    False\n",
       "6932    False\n",
       "6933    False\n",
       "6934    False\n",
       "Name: month, Length: 6935, dtype: bool"
      ]
     },
     "execution_count": 46,
     "metadata": {},
     "output_type": "execute_result"
    }
   ],
   "source": [
    "df['month'].isin([1,2,3,4])"
   ]
  },
  {
   "cell_type": "code",
   "execution_count": 47,
   "metadata": {},
   "outputs": [],
   "source": [
    "high=df[df['month'].isin([1,2,3,4])].copy()\n",
    "low=df[~df['month'].isin([1,2,3,4])].copy()"
   ]
  },
  {
   "cell_type": "code",
   "execution_count": 51,
   "metadata": {},
   "outputs": [
    {
     "name": "stdout",
     "output_type": "stream",
     "text": [
      "high:(2280, 10)\n",
      "low:(4655, 10)\n"
     ]
    }
   ],
   "source": [
    "print('high:'+str(high.shape)+'\\nlow:'+str(low.shape))"
   ]
  },
  {
   "cell_type": "code",
   "execution_count": 55,
   "metadata": {},
   "outputs": [
    {
     "name": "stdout",
     "output_type": "stream",
     "text": [
      "                                 OLS Regression Results                                \n",
      "=======================================================================================\n",
      "Dep. Variable:                      y   R-squared (uncentered):                   0.669\n",
      "Model:                            OLS   Adj. R-squared (uncentered):              0.668\n",
      "Method:                 Least Squares   F-statistic:                              919.4\n",
      "Date:                Thu, 03 Mar 2022   Prob (F-statistic):                        0.00\n",
      "Time:                        14:01:24   Log-Likelihood:                         -8671.1\n",
      "No. Observations:                2280   AIC:                                  1.735e+04\n",
      "Df Residuals:                    2275   BIC:                                  1.738e+04\n",
      "Df Model:                           5                                                  \n",
      "Covariance Type:            nonrobust                                                  \n",
      "==============================================================================\n",
      "                 coef    std err          t      P>|t|      [0.025      0.975]\n",
      "------------------------------------------------------------------------------\n",
      "x1            -5.3462      4.539     -1.178      0.239     -14.248       3.556\n",
      "x2            19.6367     15.888      1.236      0.217     -11.519      50.792\n",
      "x3             0.0379      0.002     15.609      0.000       0.033       0.043\n",
      "x4            -0.3219      0.058     -5.528      0.000      -0.436      -0.208\n",
      "x5            -0.2614      0.027     -9.596      0.000      -0.315      -0.208\n",
      "==============================================================================\n",
      "Omnibus:                      482.905   Durbin-Watson:                   0.169\n",
      "Prob(Omnibus):                  0.000   Jarque-Bera (JB):              870.172\n",
      "Skew:                           1.330   Prob(JB):                    1.11e-189\n",
      "Kurtosis:                       4.444   Cond. No.                     7.30e+04\n",
      "==============================================================================\n",
      "\n",
      "Notes:\n",
      "[1] R² is computed without centering (uncentered) since the model does not contain a constant.\n",
      "[2] Standard Errors assume that the covariance matrix of the errors is correctly specified.\n",
      "[3] The condition number is large, 7.3e+04. This might indicate that there are\n",
      "strong multicollinearity or other numerical problems.\n"
     ]
    }
   ],
   "source": [
    "vars=['pct_Gsp_area','pct_nR_Gsp_area','bp_mean','tmp_mean','rh_mean']\n",
    "Y=high['Value'].values\n",
    "X=high[vars].values\n",
    "m_high=sm.OLS(Y,X)\n",
    "m_high_fit=m_high.fit()\n",
    "print(m_high_fit.summary())"
   ]
  },
  {
   "cell_type": "code",
   "execution_count": 56,
   "metadata": {},
   "outputs": [
    {
     "data": {
      "text/plain": [
       "0.07758598838595276"
      ]
     },
     "execution_count": 56,
     "metadata": {},
     "output_type": "execute_result"
    }
   ],
   "source": [
    "from sklearn.linear_model import LinearRegression\n",
    "\n",
    "reg=LinearRegression().fit(X,Y)\n",
    "reg.score(X,Y)"
   ]
  },
  {
   "cell_type": "code",
   "execution_count": 54,
   "metadata": {},
   "outputs": [
    {
     "data": {
      "text/html": [
       "<div>\n",
       "<style scoped>\n",
       "    .dataframe tbody tr th:only-of-type {\n",
       "        vertical-align: middle;\n",
       "    }\n",
       "\n",
       "    .dataframe tbody tr th {\n",
       "        vertical-align: top;\n",
       "    }\n",
       "\n",
       "    .dataframe thead th {\n",
       "        text-align: right;\n",
       "    }\n",
       "</style>\n",
       "<table border=\"1\" class=\"dataframe\">\n",
       "  <thead>\n",
       "    <tr style=\"text-align: right;\">\n",
       "      <th></th>\n",
       "      <th>Value</th>\n",
       "      <th>pct_Gsp_area</th>\n",
       "      <th>pct_nR_Gsp_area</th>\n",
       "      <th>bp_mean</th>\n",
       "      <th>tmp_mean</th>\n",
       "      <th>rh_mean</th>\n",
       "      <th>month</th>\n",
       "    </tr>\n",
       "  </thead>\n",
       "  <tbody>\n",
       "    <tr>\n",
       "      <th>Value</th>\n",
       "      <td>1.000</td>\n",
       "      <td>-0.002</td>\n",
       "      <td>0.012</td>\n",
       "      <td>0.258</td>\n",
       "      <td>-0.021</td>\n",
       "      <td>-0.149</td>\n",
       "      <td>0.153</td>\n",
       "    </tr>\n",
       "    <tr>\n",
       "      <th>pct_Gsp_area</th>\n",
       "      <td>-0.002</td>\n",
       "      <td>1.000</td>\n",
       "      <td>0.874</td>\n",
       "      <td>0.000</td>\n",
       "      <td>0.000</td>\n",
       "      <td>-0.000</td>\n",
       "      <td>0.000</td>\n",
       "    </tr>\n",
       "    <tr>\n",
       "      <th>pct_nR_Gsp_area</th>\n",
       "      <td>0.012</td>\n",
       "      <td>0.874</td>\n",
       "      <td>1.000</td>\n",
       "      <td>-0.000</td>\n",
       "      <td>-0.000</td>\n",
       "      <td>0.000</td>\n",
       "      <td>-0.000</td>\n",
       "    </tr>\n",
       "    <tr>\n",
       "      <th>bp_mean</th>\n",
       "      <td>0.258</td>\n",
       "      <td>0.000</td>\n",
       "      <td>-0.000</td>\n",
       "      <td>1.000</td>\n",
       "      <td>0.039</td>\n",
       "      <td>-0.328</td>\n",
       "      <td>0.073</td>\n",
       "    </tr>\n",
       "    <tr>\n",
       "      <th>tmp_mean</th>\n",
       "      <td>-0.021</td>\n",
       "      <td>0.000</td>\n",
       "      <td>-0.000</td>\n",
       "      <td>0.039</td>\n",
       "      <td>1.000</td>\n",
       "      <td>-0.472</td>\n",
       "      <td>0.196</td>\n",
       "    </tr>\n",
       "    <tr>\n",
       "      <th>rh_mean</th>\n",
       "      <td>-0.149</td>\n",
       "      <td>-0.000</td>\n",
       "      <td>0.000</td>\n",
       "      <td>-0.328</td>\n",
       "      <td>-0.472</td>\n",
       "      <td>1.000</td>\n",
       "      <td>-0.262</td>\n",
       "    </tr>\n",
       "    <tr>\n",
       "      <th>month</th>\n",
       "      <td>0.153</td>\n",
       "      <td>0.000</td>\n",
       "      <td>-0.000</td>\n",
       "      <td>0.073</td>\n",
       "      <td>0.196</td>\n",
       "      <td>-0.262</td>\n",
       "      <td>1.000</td>\n",
       "    </tr>\n",
       "  </tbody>\n",
       "</table>\n",
       "</div>"
      ],
      "text/plain": [
       "                 Value  pct_Gsp_area  pct_nR_Gsp_area  bp_mean  tmp_mean  \\\n",
       "Value            1.000        -0.002            0.012    0.258    -0.021   \n",
       "pct_Gsp_area    -0.002         1.000            0.874    0.000     0.000   \n",
       "pct_nR_Gsp_area  0.012         0.874            1.000   -0.000    -0.000   \n",
       "bp_mean          0.258         0.000           -0.000    1.000     0.039   \n",
       "tmp_mean        -0.021         0.000           -0.000    0.039     1.000   \n",
       "rh_mean         -0.149        -0.000            0.000   -0.328    -0.472   \n",
       "month            0.153         0.000           -0.000    0.073     0.196   \n",
       "\n",
       "                 rh_mean  month  \n",
       "Value             -0.149  0.153  \n",
       "pct_Gsp_area      -0.000  0.000  \n",
       "pct_nR_Gsp_area    0.000 -0.000  \n",
       "bp_mean           -0.328  0.073  \n",
       "tmp_mean          -0.472  0.196  \n",
       "rh_mean            1.000 -0.262  \n",
       "month             -0.262  1.000  "
      ]
     },
     "execution_count": 54,
     "metadata": {},
     "output_type": "execute_result"
    }
   ],
   "source": [
    "high.corr().round(3)"
   ]
  }
 ],
 "metadata": {
  "interpreter": {
   "hash": "203d01a3458eace725dddcfcdb2c604435d077f4f6685c100707a5d3f77ea293"
  },
  "kernelspec": {
   "display_name": "Python 3.8.10 64-bit ('sds2021': conda)",
   "language": "python",
   "name": "python3"
  },
  "language_info": {
   "codemirror_mode": {
    "name": "ipython",
    "version": 3
   },
   "file_extension": ".py",
   "mimetype": "text/x-python",
   "name": "python",
   "nbconvert_exporter": "python",
   "pygments_lexer": "ipython3",
   "version": "3.8.10"
  },
  "orig_nbformat": 4
 },
 "nbformat": 4,
 "nbformat_minor": 2
}
