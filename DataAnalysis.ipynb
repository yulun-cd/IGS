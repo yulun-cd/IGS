{
 "cells": [
  {
   "cell_type": "code",
   "execution_count": 1,
   "metadata": {},
   "outputs": [],
   "source": [
    "import pandas as pd\n",
    "import geopandas as gpd\n",
    "import numpy as np\n",
    "\n",
    "import matplotlib.pyplot as plt\n",
    "import seaborn as sns\n",
    "\n",
    "from spreg import OLS\n",
    "from libpysal.weights import Kernel\n",
    "from esda.moran import Moran\n",
    "import statsmodels.api as sm\n",
    "from scipy import stats"
   ]
  },
  {
   "cell_type": "code",
   "execution_count": 2,
   "metadata": {},
   "outputs": [],
   "source": [
    "# Read in all the data\n",
    "\n",
    "AQMS_df=pd.read_csv('data/hourly.csv')\n",
    "Rd_gdf=gpd.read_file('data/london_Road.shp')\n",
    "Gsp_gdf=gpd.read_file('data/LD_GreenSpace.shp')\n",
    "loc_gdf=gpd.read_file('data/AQMS_loc.shp')\n",
    "cond=pd.read_csv('data/cond_hourly.csv')"
   ]
  },
  {
   "cell_type": "code",
   "execution_count": 3,
   "metadata": {},
   "outputs": [
    {
     "data": {
      "text/html": [
       "<div>\n",
       "<style scoped>\n",
       "    .dataframe tbody tr th:only-of-type {\n",
       "        vertical-align: middle;\n",
       "    }\n",
       "\n",
       "    .dataframe tbody tr th {\n",
       "        vertical-align: top;\n",
       "    }\n",
       "\n",
       "    .dataframe thead th {\n",
       "        text-align: right;\n",
       "    }\n",
       "</style>\n",
       "<table border=\"1\" class=\"dataframe\">\n",
       "  <thead>\n",
       "    <tr style=\"text-align: right;\">\n",
       "      <th></th>\n",
       "      <th>sitename</th>\n",
       "      <th>geometry</th>\n",
       "      <th>buffer_1km</th>\n",
       "    </tr>\n",
       "    <tr>\n",
       "      <th>siteid</th>\n",
       "      <th></th>\n",
       "      <th></th>\n",
       "      <th></th>\n",
       "    </tr>\n",
       "  </thead>\n",
       "  <tbody>\n",
       "    <tr>\n",
       "      <th>BX9</th>\n",
       "      <td>Bexley - Slade Green FDMS</td>\n",
       "      <td>POINT (551862.205 176375.976)</td>\n",
       "      <td>POLYGON ((552862.205 176375.976, 552857.390 17...</td>\n",
       "    </tr>\n",
       "    <tr>\n",
       "      <th>BL0</th>\n",
       "      <td>Camden - Bloomsbury</td>\n",
       "      <td>POINT (530120.048 182038.807)</td>\n",
       "      <td>POLYGON ((531120.048 182038.807, 531115.233 18...</td>\n",
       "    </tr>\n",
       "    <tr>\n",
       "      <th>CD9</th>\n",
       "      <td>Camden - Euston Road</td>\n",
       "      <td>POINT (529900.870 182666.124)</td>\n",
       "      <td>POLYGON ((530900.870 182666.124, 530896.055 18...</td>\n",
       "    </tr>\n",
       "    <tr>\n",
       "      <th>CD1</th>\n",
       "      <td>Camden - Swiss Cottage</td>\n",
       "      <td>POINT (526629.730 184391.024)</td>\n",
       "      <td>POLYGON ((527629.730 184391.024, 527624.915 18...</td>\n",
       "    </tr>\n",
       "    <tr>\n",
       "      <th>CT2</th>\n",
       "      <td>City of London - Farringdon Street</td>\n",
       "      <td>POINT (531622.273 181213.818)</td>\n",
       "      <td>POLYGON ((532622.273 181213.818, 532617.458 18...</td>\n",
       "    </tr>\n",
       "  </tbody>\n",
       "</table>\n",
       "</div>"
      ],
      "text/plain": [
       "                                  sitename                       geometry  \\\n",
       "siteid                                                                      \n",
       "BX9              Bexley - Slade Green FDMS  POINT (551862.205 176375.976)   \n",
       "BL0                    Camden - Bloomsbury  POINT (530120.048 182038.807)   \n",
       "CD9                   Camden - Euston Road  POINT (529900.870 182666.124)   \n",
       "CD1                 Camden - Swiss Cottage  POINT (526629.730 184391.024)   \n",
       "CT2     City of London - Farringdon Street  POINT (531622.273 181213.818)   \n",
       "\n",
       "                                               buffer_1km  \n",
       "siteid                                                     \n",
       "BX9     POLYGON ((552862.205 176375.976, 552857.390 17...  \n",
       "BL0     POLYGON ((531120.048 182038.807, 531115.233 18...  \n",
       "CD9     POLYGON ((530900.870 182666.124, 530896.055 18...  \n",
       "CD1     POLYGON ((527629.730 184391.024, 527624.915 18...  \n",
       "CT2     POLYGON ((532622.273 181213.818, 532617.458 18...  "
      ]
     },
     "execution_count": 3,
     "metadata": {},
     "output_type": "execute_result"
    }
   ],
   "source": [
    "# reindex loc_gdf and set buffer zones around each site (1km)\n",
    "\n",
    "loc_gdf=loc_gdf.set_index('siteid')\n",
    "loc_gdf['buffer_1km']=loc_gdf['geometry'].buffer(1000)\n",
    "loc_gdf.head()"
   ]
  },
  {
   "cell_type": "code",
   "execution_count": 4,
   "metadata": {},
   "outputs": [],
   "source": [
    "# Get all green spaces\n",
    "Gsp=Gsp_gdf['geometry'].unary_union\n",
    "\n",
    "# Get all roads\n",
    "Rd=Rd_gdf['geometry'].unary_union"
   ]
  },
  {
   "cell_type": "code",
   "execution_count": 5,
   "metadata": {},
   "outputs": [],
   "source": [
    "# Set buffer zones for every road (50m)\n",
    "Rd_gdf['buffer_50m']=Rd_gdf['geometry'].buffer(50)\n",
    "# Get all road buffer zones\n",
    "Rd_buffer=Rd_gdf['buffer_50m'].unary_union"
   ]
  },
  {
   "cell_type": "code",
   "execution_count": 6,
   "metadata": {},
   "outputs": [],
   "source": [
    "# Get all near-road green spaces\n",
    "nRd_Gsp=Gsp.intersection(Rd_buffer)"
   ]
  },
  {
   "cell_type": "code",
   "execution_count": 7,
   "metadata": {},
   "outputs": [],
   "source": [
    "# store all buffer zones in a list\n",
    "AQMS_shp=[]\n",
    "for site in loc_gdf.index:\n",
    "    AQMS_shp.append(loc_gdf.loc[site,'buffer_1km'])"
   ]
  },
  {
   "cell_type": "code",
   "execution_count": 8,
   "metadata": {},
   "outputs": [
    {
     "name": "stdout",
     "output_type": "stream",
     "text": [
      "21 21 21\n"
     ]
    }
   ],
   "source": [
    "# get all roads, green spaces and near-road green spaces in buffer zones around every sites\n",
    "Rd_shp=[]\n",
    "Gsp_shp=[]\n",
    "nRd_Gsp_shp=[]\n",
    "for poly in AQMS_shp:\n",
    "    Rd_shp.append(poly.intersection(Rd))\n",
    "    Gsp_shp.append(poly.intersection(Gsp))\n",
    "    nRd_Gsp_shp.append(poly.intersection(nRd_Gsp))\n",
    "print(len(Rd_shp),len(Gsp_shp),len(nRd_Gsp_shp))"
   ]
  },
  {
   "cell_type": "code",
   "execution_count": 9,
   "metadata": {},
   "outputs": [],
   "source": [
    "# append them into the dataframe\n",
    "loc_gdf['Road']=Rd_shp\n",
    "loc_gdf['GreenSpace']=Gsp_shp\n",
    "loc_gdf['NR_GreenSpace']=nRd_Gsp_shp\n",
    "\n",
    "# and set their data types to geometry\n",
    "loc_gdf=loc_gdf.set_geometry('Road').set_geometry('GreenSpace').set_geometry('NR_GreenSpace')"
   ]
  },
  {
   "cell_type": "code",
   "execution_count": 10,
   "metadata": {},
   "outputs": [],
   "source": [
    "# london boundary read in\n",
    "london=gpd.read_file('data/london_boundary.shp')"
   ]
  },
  {
   "cell_type": "code",
   "execution_count": 11,
   "metadata": {},
   "outputs": [
    {
     "data": {
      "image/png": "[encoded data removed]",
      "text/plain": [
       "<Figure size 1080x936 with 1 Axes>"
      ]
     },
     "metadata": {
      "needs_background": "light"
     },
     "output_type": "display_data"
    }
   ],
   "source": [
    "# visualise all the sites on the map\n",
    "fig,ax=plt.subplots(1,figsize=(15,13))\n",
    "\n",
    "london.plot(color='lightgrey',ax=ax)\n",
    "loc_gdf['buffer_1km'].plot(color='silver',ax=ax)\n",
    "loc_gdf['GreenSpace'].plot(label='Green space',color='limegreen',ax=ax)\n",
    "loc_gdf['NR_GreenSpace'].plot(label='Near_road green space',color='darkgreen',ax=ax)\n",
    "loc_gdf['Road'].plot(color='black',label='Road',linewidth=0.1,ax=ax)\n",
    "loc_gdf['geometry'].plot(markersize=5,marker='^',color='blue',label='Air quality monitoring site',ax=ax)\n",
    "\n",
    "ax.axis('off')\n",
    "\n",
    "legend=ax.legend(loc='best',shadow=True,fontsize=15)\n",
    "\n",
    "#plt.savefig('sample1.png',facecolor='black',dpi=500)\n",
    "plt.show()"
   ]
  },
  {
   "cell_type": "markdown",
   "metadata": {},
   "source": [
    "There are some buffers that seem to be very close to each other."
   ]
  },
  {
   "cell_type": "code",
   "execution_count": 12,
   "metadata": {},
   "outputs": [],
   "source": [
    "# add a column that specifies the shortest distance of a site to its nearest neighbour\n",
    "loc_gdf['min_dis']=pd.Series(dtype='float64')\n",
    "for index, row in loc_gdf.iterrows():\n",
    "    dis=[]\n",
    "    for i, v in loc_gdf['geometry'].iteritems():\n",
    "        dis.append(row['geometry'].distance(v))\n",
    "    dis.remove(0)\n",
    "    loc_gdf.loc[index,'min_dis']=min(dis)"
   ]
  },
  {
   "cell_type": "code",
   "execution_count": 13,
   "metadata": {},
   "outputs": [
    {
     "data": {
      "text/html": [
       "<div>\n",
       "<style scoped>\n",
       "    .dataframe tbody tr th:only-of-type {\n",
       "        vertical-align: middle;\n",
       "    }\n",
       "\n",
       "    .dataframe tbody tr th {\n",
       "        vertical-align: top;\n",
       "    }\n",
       "\n",
       "    .dataframe thead th {\n",
       "        text-align: right;\n",
       "    }\n",
       "</style>\n",
       "<table border=\"1\" class=\"dataframe\">\n",
       "  <thead>\n",
       "    <tr style=\"text-align: right;\">\n",
       "      <th></th>\n",
       "      <th>sitename</th>\n",
       "      <th>geometry</th>\n",
       "      <th>buffer_1km</th>\n",
       "      <th>Road</th>\n",
       "      <th>GreenSpace</th>\n",
       "      <th>NR_GreenSpace</th>\n",
       "      <th>min_dis</th>\n",
       "    </tr>\n",
       "    <tr>\n",
       "      <th>siteid</th>\n",
       "      <th></th>\n",
       "      <th></th>\n",
       "      <th></th>\n",
       "      <th></th>\n",
       "      <th></th>\n",
       "      <th></th>\n",
       "      <th></th>\n",
       "    </tr>\n",
       "  </thead>\n",
       "  <tbody>\n",
       "    <tr>\n",
       "      <th>BL0</th>\n",
       "      <td>Camden - Bloomsbury</td>\n",
       "      <td>POINT (530120.048 182038.807)</td>\n",
       "      <td>POLYGON ((531120.048 182038.807, 531115.233 18...</td>\n",
       "      <td>MULTILINESTRING Z ((530175.051 181041.510 0.00...</td>\n",
       "      <td>MULTIPOLYGON Z (((530885.507 181396.082 0.000,...</td>\n",
       "      <td>MULTIPOLYGON Z (((530885.507 181396.082 0.000,...</td>\n",
       "      <td>664.503439</td>\n",
       "    </tr>\n",
       "    <tr>\n",
       "      <th>CD9</th>\n",
       "      <td>Camden - Euston Road</td>\n",
       "      <td>POINT (529900.870 182666.124)</td>\n",
       "      <td>POLYGON ((530900.870 182666.124, 530896.055 18...</td>\n",
       "      <td>MULTILINESTRING Z ((529650.665 181699.144 0.00...</td>\n",
       "      <td>MULTIPOLYGON Z (((530446.501 181828.697 0.000,...</td>\n",
       "      <td>MULTIPOLYGON Z (((530446.501 181828.697 0.000,...</td>\n",
       "      <td>664.503439</td>\n",
       "    </tr>\n",
       "    <tr>\n",
       "      <th>GR4</th>\n",
       "      <td>Greenwich - Eltham</td>\n",
       "      <td>POINT (543978.694 174655.234)</td>\n",
       "      <td>POLYGON ((544978.694 174655.234, 544973.878 17...</td>\n",
       "      <td>MULTILINESTRING Z ((544415.352 173756.882 0.00...</td>\n",
       "      <td>MULTIPOLYGON Z (((544534.534 173823.964 0.000,...</td>\n",
       "      <td>MULTIPOLYGON Z (((544534.534 173823.964 0.000,...</td>\n",
       "      <td>1111.316933</td>\n",
       "    </tr>\n",
       "    <tr>\n",
       "      <th>GB0</th>\n",
       "      <td>Greenwich - Falconwood FDMS</td>\n",
       "      <td>POINT (544997.933 175098.152)</td>\n",
       "      <td>POLYGON ((545997.933 175098.152, 545993.118 17...</td>\n",
       "      <td>MULTILINESTRING Z ((544952.089 174100.404 0.00...</td>\n",
       "      <td>MULTIPOLYGON Z (((545373.964 174171.892 0.000,...</td>\n",
       "      <td>MULTIPOLYGON Z (((545223.244 174124.937 0.000,...</td>\n",
       "      <td>1111.316933</td>\n",
       "    </tr>\n",
       "  </tbody>\n",
       "</table>\n",
       "</div>"
      ],
      "text/plain": [
       "                           sitename                       geometry  \\\n",
       "siteid                                                               \n",
       "BL0             Camden - Bloomsbury  POINT (530120.048 182038.807)   \n",
       "CD9            Camden - Euston Road  POINT (529900.870 182666.124)   \n",
       "GR4              Greenwich - Eltham  POINT (543978.694 174655.234)   \n",
       "GB0     Greenwich - Falconwood FDMS  POINT (544997.933 175098.152)   \n",
       "\n",
       "                                               buffer_1km  \\\n",
       "siteid                                                      \n",
       "BL0     POLYGON ((531120.048 182038.807, 531115.233 18...   \n",
       "CD9     POLYGON ((530900.870 182666.124, 530896.055 18...   \n",
       "GR4     POLYGON ((544978.694 174655.234, 544973.878 17...   \n",
       "GB0     POLYGON ((545997.933 175098.152, 545993.118 17...   \n",
       "\n",
       "                                                     Road  \\\n",
       "siteid                                                      \n",
       "BL0     MULTILINESTRING Z ((530175.051 181041.510 0.00...   \n",
       "CD9     MULTILINESTRING Z ((529650.665 181699.144 0.00...   \n",
       "GR4     MULTILINESTRING Z ((544415.352 173756.882 0.00...   \n",
       "GB0     MULTILINESTRING Z ((544952.089 174100.404 0.00...   \n",
       "\n",
       "                                               GreenSpace  \\\n",
       "siteid                                                      \n",
       "BL0     MULTIPOLYGON Z (((530885.507 181396.082 0.000,...   \n",
       "CD9     MULTIPOLYGON Z (((530446.501 181828.697 0.000,...   \n",
       "GR4     MULTIPOLYGON Z (((544534.534 173823.964 0.000,...   \n",
       "GB0     MULTIPOLYGON Z (((545373.964 174171.892 0.000,...   \n",
       "\n",
       "                                            NR_GreenSpace      min_dis  \n",
       "siteid                                                                  \n",
       "BL0     MULTIPOLYGON Z (((530885.507 181396.082 0.000,...   664.503439  \n",
       "CD9     MULTIPOLYGON Z (((530446.501 181828.697 0.000,...   664.503439  \n",
       "GR4     MULTIPOLYGON Z (((544534.534 173823.964 0.000,...  1111.316933  \n",
       "GB0     MULTIPOLYGON Z (((545223.244 174124.937 0.000,...  1111.316933  "
      ]
     },
     "execution_count": 13,
     "metadata": {},
     "output_type": "execute_result"
    }
   ],
   "source": [
    "# list sites that are close to each other (within 1.5km)\n",
    "loc_gdf[loc_gdf['min_dis']<=1500]"
   ]
  },
  {
   "cell_type": "code",
   "execution_count": 14,
   "metadata": {},
   "outputs": [
    {
     "data": {
      "text/html": [
       "<div>\n",
       "<style scoped>\n",
       "    .dataframe tbody tr th:only-of-type {\n",
       "        vertical-align: middle;\n",
       "    }\n",
       "\n",
       "    .dataframe tbody tr th {\n",
       "        vertical-align: top;\n",
       "    }\n",
       "\n",
       "    .dataframe thead tr th {\n",
       "        text-align: left;\n",
       "    }\n",
       "\n",
       "    .dataframe thead tr:last-of-type th {\n",
       "        text-align: right;\n",
       "    }\n",
       "</style>\n",
       "<table border=\"1\" class=\"dataframe\">\n",
       "  <thead>\n",
       "    <tr>\n",
       "      <th></th>\n",
       "      <th colspan=\"8\" halign=\"left\">Value</th>\n",
       "    </tr>\n",
       "    <tr>\n",
       "      <th></th>\n",
       "      <th>count</th>\n",
       "      <th>mean</th>\n",
       "      <th>std</th>\n",
       "      <th>min</th>\n",
       "      <th>25%</th>\n",
       "      <th>50%</th>\n",
       "      <th>75%</th>\n",
       "      <th>max</th>\n",
       "    </tr>\n",
       "    <tr>\n",
       "      <th>Site</th>\n",
       "      <th></th>\n",
       "      <th></th>\n",
       "      <th></th>\n",
       "      <th></th>\n",
       "      <th></th>\n",
       "      <th></th>\n",
       "      <th></th>\n",
       "      <th></th>\n",
       "    </tr>\n",
       "  </thead>\n",
       "  <tbody>\n",
       "    <tr>\n",
       "      <th>BL0</th>\n",
       "      <td>8760.0</td>\n",
       "      <td>10.773266</td>\n",
       "      <td>9.996294</td>\n",
       "      <td>-3.3</td>\n",
       "      <td>4.8</td>\n",
       "      <td>7.8</td>\n",
       "      <td>12.425</td>\n",
       "      <td>92.4</td>\n",
       "    </tr>\n",
       "    <tr>\n",
       "      <th>CD9</th>\n",
       "      <td>8760.0</td>\n",
       "      <td>13.636306</td>\n",
       "      <td>10.394547</td>\n",
       "      <td>-7.3</td>\n",
       "      <td>7.2</td>\n",
       "      <td>11.0</td>\n",
       "      <td>16.300</td>\n",
       "      <td>83.9</td>\n",
       "    </tr>\n",
       "    <tr>\n",
       "      <th>GB0</th>\n",
       "      <td>8760.0</td>\n",
       "      <td>12.170311</td>\n",
       "      <td>8.973293</td>\n",
       "      <td>-1.2</td>\n",
       "      <td>6.8</td>\n",
       "      <td>9.5</td>\n",
       "      <td>14.000</td>\n",
       "      <td>79.8</td>\n",
       "    </tr>\n",
       "    <tr>\n",
       "      <th>GR4</th>\n",
       "      <td>8760.0</td>\n",
       "      <td>10.887170</td>\n",
       "      <td>9.774989</td>\n",
       "      <td>-2.7</td>\n",
       "      <td>5.3</td>\n",
       "      <td>8.2</td>\n",
       "      <td>12.300</td>\n",
       "      <td>97.6</td>\n",
       "    </tr>\n",
       "  </tbody>\n",
       "</table>\n",
       "</div>"
      ],
      "text/plain": [
       "       Value                                                    \n",
       "       count       mean        std  min  25%   50%     75%   max\n",
       "Site                                                            \n",
       "BL0   8760.0  10.773266   9.996294 -3.3  4.8   7.8  12.425  92.4\n",
       "CD9   8760.0  13.636306  10.394547 -7.3  7.2  11.0  16.300  83.9\n",
       "GB0   8760.0  12.170311   8.973293 -1.2  6.8   9.5  14.000  79.8\n",
       "GR4   8760.0  10.887170   9.774989 -2.7  5.3   8.2  12.300  97.6"
      ]
     },
     "execution_count": 14,
     "metadata": {},
     "output_type": "execute_result"
    }
   ],
   "source": [
    "# check their readings' descriptive statistics\n",
    "AQMS_df[AQMS_df['Site'].isin(['BL0','CD9','GR4','GB0'])].groupby('Site').describe()"
   ]
  },
  {
   "cell_type": "code",
   "execution_count": 27,
   "metadata": {},
   "outputs": [
    {
     "data": {
      "text/plain": [
       "Ttest_relResult(statistic=-64.40471791106997, pvalue=0.0)"
      ]
     },
     "execution_count": 27,
     "metadata": {},
     "output_type": "execute_result"
    }
   ],
   "source": [
    "stats.ttest_rel(AQMS_df[AQMS_df['Site']=='BL0'].Value.values,AQMS_df[AQMS_df['Site']=='CD9'].Value.values)"
   ]
  },
  {
   "cell_type": "code",
   "execution_count": 37,
   "metadata": {},
   "outputs": [
    {
     "data": {
      "text/plain": [
       "Ttest_relResult(statistic=-26.387207954060155, pvalue=1.0213098987166908e-147)"
      ]
     },
     "execution_count": 37,
     "metadata": {},
     "output_type": "execute_result"
    }
   ],
   "source": [
    "stats.ttest_rel(AQMS_df[AQMS_df['Site']=='GR4'].Value.values,AQMS_df[AQMS_df['Site']=='GB0'].Value.values)"
   ]
  },
  {
   "cell_type": "markdown",
   "metadata": {},
   "source": [
    "Both indicate that we should reject H0, meaning the two datasets are statistically significantly different."
   ]
  },
  {
   "cell_type": "code",
   "execution_count": null,
   "metadata": {},
   "outputs": [],
   "source": [
    "# revmove them from the list\n",
    "loc_gdf.drop(['BL0','GR4'],inplace=True)"
   ]
  },
  {
   "cell_type": "code",
   "execution_count": 38,
   "metadata": {},
   "outputs": [],
   "source": [
    "# get the area of each buffer zone\n",
    "loc_gdf['buffer_area']=loc_gdf['buffer_1km'].area"
   ]
  },
  {
   "cell_type": "code",
   "execution_count": 39,
   "metadata": {},
   "outputs": [],
   "source": [
    "loc_gdf['rd_len']=loc_gdf['Road'].length"
   ]
  },
  {
   "cell_type": "code",
   "execution_count": 40,
   "metadata": {},
   "outputs": [],
   "source": [
    "# get percentages of green space and near-road green space areas \n",
    "loc_gdf['pct_Gsp_area']=loc_gdf['GreenSpace'].area/loc_gdf['buffer_area'] # percentage of gsp area\n",
    "loc_gdf['pct_nR_Gsp_area']=loc_gdf['NR_GreenSpace'].area/loc_gdf['buffer_area'] # percentage of near road gsp area"
   ]
  },
  {
   "cell_type": "code",
   "execution_count": 41,
   "metadata": {},
   "outputs": [
    {
     "data": {
      "text/html": [
       "<div>\n",
       "<style scoped>\n",
       "    .dataframe tbody tr th:only-of-type {\n",
       "        vertical-align: middle;\n",
       "    }\n",
       "\n",
       "    .dataframe tbody tr th {\n",
       "        vertical-align: top;\n",
       "    }\n",
       "\n",
       "    .dataframe thead th {\n",
       "        text-align: right;\n",
       "    }\n",
       "</style>\n",
       "<table border=\"1\" class=\"dataframe\">\n",
       "  <thead>\n",
       "    <tr style=\"text-align: right;\">\n",
       "      <th></th>\n",
       "      <th>sitename</th>\n",
       "      <th>geometry</th>\n",
       "      <th>buffer_1km</th>\n",
       "      <th>Road</th>\n",
       "      <th>GreenSpace</th>\n",
       "      <th>NR_GreenSpace</th>\n",
       "      <th>min_dis</th>\n",
       "      <th>buffer_area</th>\n",
       "      <th>rd_len</th>\n",
       "      <th>pct_Gsp_area</th>\n",
       "      <th>pct_nR_Gsp_area</th>\n",
       "    </tr>\n",
       "    <tr>\n",
       "      <th>siteid</th>\n",
       "      <th></th>\n",
       "      <th></th>\n",
       "      <th></th>\n",
       "      <th></th>\n",
       "      <th></th>\n",
       "      <th></th>\n",
       "      <th></th>\n",
       "      <th></th>\n",
       "      <th></th>\n",
       "      <th></th>\n",
       "      <th></th>\n",
       "    </tr>\n",
       "  </thead>\n",
       "  <tbody>\n",
       "    <tr>\n",
       "      <th>BX9</th>\n",
       "      <td>Bexley - Slade Green FDMS</td>\n",
       "      <td>POINT (551862.205 176375.976)</td>\n",
       "      <td>POLYGON ((552862.205 176375.976, 552857.390 17...</td>\n",
       "      <td>MULTILINESTRING Z ((552075.170 175434.690 0.00...</td>\n",
       "      <td>MULTIPOLYGON Z (((551286.362 175559.542 0.000,...</td>\n",
       "      <td>MULTIPOLYGON Z (((551286.362 175559.542 0.000,...</td>\n",
       "      <td>6262.058504</td>\n",
       "      <td>3.136548e+06</td>\n",
       "      <td>36565.805888</td>\n",
       "      <td>0.062358</td>\n",
       "      <td>0.022665</td>\n",
       "    </tr>\n",
       "    <tr>\n",
       "      <th>BL0</th>\n",
       "      <td>Camden - Bloomsbury</td>\n",
       "      <td>POINT (530120.048 182038.807)</td>\n",
       "      <td>POLYGON ((531120.048 182038.807, 531115.233 18...</td>\n",
       "      <td>MULTILINESTRING Z ((530175.051 181041.510 0.00...</td>\n",
       "      <td>MULTIPOLYGON Z (((530885.507 181396.082 0.000,...</td>\n",
       "      <td>MULTIPOLYGON Z (((530885.507 181396.082 0.000,...</td>\n",
       "      <td>664.503439</td>\n",
       "      <td>3.136548e+06</td>\n",
       "      <td>66247.190928</td>\n",
       "      <td>0.052078</td>\n",
       "      <td>0.042567</td>\n",
       "    </tr>\n",
       "    <tr>\n",
       "      <th>CD9</th>\n",
       "      <td>Camden - Euston Road</td>\n",
       "      <td>POINT (529900.870 182666.124)</td>\n",
       "      <td>POLYGON ((530900.870 182666.124, 530896.055 18...</td>\n",
       "      <td>MULTILINESTRING Z ((529650.665 181699.144 0.00...</td>\n",
       "      <td>MULTIPOLYGON Z (((530446.501 181828.697 0.000,...</td>\n",
       "      <td>MULTIPOLYGON Z (((530446.501 181828.697 0.000,...</td>\n",
       "      <td>664.503439</td>\n",
       "      <td>3.136548e+06</td>\n",
       "      <td>60641.160028</td>\n",
       "      <td>0.052833</td>\n",
       "      <td>0.042514</td>\n",
       "    </tr>\n",
       "    <tr>\n",
       "      <th>CD1</th>\n",
       "      <td>Camden - Swiss Cottage</td>\n",
       "      <td>POINT (526629.730 184391.024)</td>\n",
       "      <td>POLYGON ((527629.730 184391.024, 527624.915 18...</td>\n",
       "      <td>MULTILINESTRING Z ((526806.590 183407.535 0.00...</td>\n",
       "      <td>MULTIPOLYGON Z (((527584.073 184093.479 0.000,...</td>\n",
       "      <td>MULTIPOLYGON Z (((527584.073 184093.479 0.000,...</td>\n",
       "      <td>2806.536146</td>\n",
       "      <td>3.136548e+06</td>\n",
       "      <td>51527.369854</td>\n",
       "      <td>0.035043</td>\n",
       "      <td>0.012352</td>\n",
       "    </tr>\n",
       "    <tr>\n",
       "      <th>CT2</th>\n",
       "      <td>City of London - Farringdon Street</td>\n",
       "      <td>POINT (531622.273 181213.818)</td>\n",
       "      <td>POLYGON ((532622.273 181213.818, 532617.458 18...</td>\n",
       "      <td>MULTILINESTRING Z ((531654.940 180215.423 0.00...</td>\n",
       "      <td>MULTIPOLYGON Z (((531473.204 182201.430 0.000,...</td>\n",
       "      <td>MULTIPOLYGON Z (((531473.204 182201.430 0.000,...</td>\n",
       "      <td>1713.851661</td>\n",
       "      <td>3.136548e+06</td>\n",
       "      <td>54095.918801</td>\n",
       "      <td>0.025462</td>\n",
       "      <td>0.019591</td>\n",
       "    </tr>\n",
       "  </tbody>\n",
       "</table>\n",
       "</div>"
      ],
      "text/plain": [
       "                                  sitename                       geometry  \\\n",
       "siteid                                                                      \n",
       "BX9              Bexley - Slade Green FDMS  POINT (551862.205 176375.976)   \n",
       "BL0                    Camden - Bloomsbury  POINT (530120.048 182038.807)   \n",
       "CD9                   Camden - Euston Road  POINT (529900.870 182666.124)   \n",
       "CD1                 Camden - Swiss Cottage  POINT (526629.730 184391.024)   \n",
       "CT2     City of London - Farringdon Street  POINT (531622.273 181213.818)   \n",
       "\n",
       "                                               buffer_1km  \\\n",
       "siteid                                                      \n",
       "BX9     POLYGON ((552862.205 176375.976, 552857.390 17...   \n",
       "BL0     POLYGON ((531120.048 182038.807, 531115.233 18...   \n",
       "CD9     POLYGON ((530900.870 182666.124, 530896.055 18...   \n",
       "CD1     POLYGON ((527629.730 184391.024, 527624.915 18...   \n",
       "CT2     POLYGON ((532622.273 181213.818, 532617.458 18...   \n",
       "\n",
       "                                                     Road  \\\n",
       "siteid                                                      \n",
       "BX9     MULTILINESTRING Z ((552075.170 175434.690 0.00...   \n",
       "BL0     MULTILINESTRING Z ((530175.051 181041.510 0.00...   \n",
       "CD9     MULTILINESTRING Z ((529650.665 181699.144 0.00...   \n",
       "CD1     MULTILINESTRING Z ((526806.590 183407.535 0.00...   \n",
       "CT2     MULTILINESTRING Z ((531654.940 180215.423 0.00...   \n",
       "\n",
       "                                               GreenSpace  \\\n",
       "siteid                                                      \n",
       "BX9     MULTIPOLYGON Z (((551286.362 175559.542 0.000,...   \n",
       "BL0     MULTIPOLYGON Z (((530885.507 181396.082 0.000,...   \n",
       "CD9     MULTIPOLYGON Z (((530446.501 181828.697 0.000,...   \n",
       "CD1     MULTIPOLYGON Z (((527584.073 184093.479 0.000,...   \n",
       "CT2     MULTIPOLYGON Z (((531473.204 182201.430 0.000,...   \n",
       "\n",
       "                                            NR_GreenSpace      min_dis  \\\n",
       "siteid                                                                   \n",
       "BX9     MULTIPOLYGON Z (((551286.362 175559.542 0.000,...  6262.058504   \n",
       "BL0     MULTIPOLYGON Z (((530885.507 181396.082 0.000,...   664.503439   \n",
       "CD9     MULTIPOLYGON Z (((530446.501 181828.697 0.000,...   664.503439   \n",
       "CD1     MULTIPOLYGON Z (((527584.073 184093.479 0.000,...  2806.536146   \n",
       "CT2     MULTIPOLYGON Z (((531473.204 182201.430 0.000,...  1713.851661   \n",
       "\n",
       "         buffer_area        rd_len  pct_Gsp_area  pct_nR_Gsp_area  \n",
       "siteid                                                             \n",
       "BX9     3.136548e+06  36565.805888      0.062358         0.022665  \n",
       "BL0     3.136548e+06  66247.190928      0.052078         0.042567  \n",
       "CD9     3.136548e+06  60641.160028      0.052833         0.042514  \n",
       "CD1     3.136548e+06  51527.369854      0.035043         0.012352  \n",
       "CT2     3.136548e+06  54095.918801      0.025462         0.019591  "
      ]
     },
     "execution_count": 41,
     "metadata": {},
     "output_type": "execute_result"
    }
   ],
   "source": [
    "loc_gdf.head()"
   ]
  },
  {
   "cell_type": "code",
   "execution_count": 42,
   "metadata": {},
   "outputs": [
    {
     "name": "stdout",
     "output_type": "stream",
     "text": [
      "<class 'pandas.core.frame.DataFrame'>\n",
      "Int64Index: 183960 entries, 0 to 183959\n",
      "Data columns (total 14 columns):\n",
      " #   Column           Non-Null Count   Dtype   \n",
      "---  ------           --------------   -----   \n",
      " 0   Site             183960 non-null  object  \n",
      " 1   Value            183960 non-null  float64 \n",
      " 2   DateTime         183960 non-null  object  \n",
      " 3   sitename         183960 non-null  object  \n",
      " 4   geometry         183960 non-null  geometry\n",
      " 5   buffer_1km       183960 non-null  geometry\n",
      " 6   Road             183960 non-null  geometry\n",
      " 7   GreenSpace       183960 non-null  geometry\n",
      " 8   NR_GreenSpace    183960 non-null  geometry\n",
      " 9   min_dis          183960 non-null  float64 \n",
      " 10  buffer_area      183960 non-null  float64 \n",
      " 11  rd_len           183960 non-null  float64 \n",
      " 12  pct_Gsp_area     183960 non-null  float64 \n",
      " 13  pct_nR_Gsp_area  183960 non-null  float64 \n",
      "dtypes: float64(6), geometry(5), object(3)\n",
      "memory usage: 21.1+ MB\n"
     ]
    }
   ],
   "source": [
    "# merge PM reading and site geogemetry data\n",
    "df=pd.merge(AQMS_df,loc_gdf,left_on='Site',right_index=True)\n",
    "df.info()"
   ]
  },
  {
   "cell_type": "code",
   "execution_count": 43,
   "metadata": {},
   "outputs": [],
   "source": [
    "# drop irrelevant columns\n",
    "df.drop(['sitename','buffer_1km','Road','GreenSpace','NR_GreenSpace','min_dis','buffer_area'],\n",
    "        axis=1,inplace=True)"
   ]
  },
  {
   "cell_type": "code",
   "execution_count": 44,
   "metadata": {},
   "outputs": [
    {
     "data": {
      "text/plain": [
       "<AxesSubplot:>"
      ]
     },
     "execution_count": 44,
     "metadata": {},
     "output_type": "execute_result"
    },
    {
     "data": {
      "image/png": "[encoded data removed]",
      "text/plain": [
       "<Figure size 432x288 with 2 Axes>"
      ]
     },
     "metadata": {
      "needs_background": "light"
     },
     "output_type": "display_data"
    }
   ],
   "source": [
    "# check correlation between PM data and the conditional variables\n",
    "sns.heatmap(df.merge(cond,how='left',on='DateTime').corr(),cmap='magma',annot=True,\n",
    "            fmt='0.4f')"
   ]
  },
  {
   "cell_type": "code",
   "execution_count": 47,
   "metadata": {},
   "outputs": [
    {
     "data": {
      "text/plain": [
       "(21,)"
      ]
     },
     "execution_count": 47,
     "metadata": {},
     "output_type": "execute_result"
    }
   ],
   "source": [
    "df['Site'].unique().shape"
   ]
  },
  {
   "cell_type": "code",
   "execution_count": 50,
   "metadata": {},
   "outputs": [
    {
     "name": "stdout",
     "output_type": "stream",
     "text": [
      "(183960, 3) (183960,)\n"
     ]
    }
   ],
   "source": [
    "# prepare variables for the OLS model\n",
    "Y=df['Value'].values\n",
    "X=np.tile(cond[['bp_mean','tmp_mean','rh_mean']].values,(21,1))\n",
    "print(X.shape,Y.shape)"
   ]
  },
  {
   "cell_type": "code",
   "execution_count": 51,
   "metadata": {},
   "outputs": [
    {
     "data": {
      "text/html": [
       "<table class=\"simpletable\">\n",
       "<caption>OLS Regression Results</caption>\n",
       "<tr>\n",
       "  <th>Dep. Variable:</th>            <td>y</td>        <th>  R-squared (uncentered):</th>       <td>   0.569</td>  \n",
       "</tr>\n",
       "<tr>\n",
       "  <th>Model:</th>                   <td>OLS</td>       <th>  Adj. R-squared (uncentered):</th>  <td>   0.569</td>  \n",
       "</tr>\n",
       "<tr>\n",
       "  <th>Method:</th>             <td>Least Squares</td>  <th>  F-statistic:       </th>           <td>8.103e+04</td> \n",
       "</tr>\n",
       "<tr>\n",
       "  <th>Date:</th>             <td>Tue, 08 Mar 2022</td> <th>  Prob (F-statistic):</th>            <td>  0.00</td>   \n",
       "</tr>\n",
       "<tr>\n",
       "  <th>Time:</th>                 <td>15:15:45</td>     <th>  Log-Likelihood:    </th>          <td>-6.9042e+05</td>\n",
       "</tr>\n",
       "<tr>\n",
       "  <th>No. Observations:</th>      <td>183960</td>      <th>  AIC:               </th>           <td>1.381e+06</td> \n",
       "</tr>\n",
       "<tr>\n",
       "  <th>Df Residuals:</th>          <td>183957</td>      <th>  BIC:               </th>           <td>1.381e+06</td> \n",
       "</tr>\n",
       "<tr>\n",
       "  <th>Df Model:</th>              <td>     3</td>      <th>                     </th>               <td> </td>     \n",
       "</tr>\n",
       "<tr>\n",
       "  <th>Covariance Type:</th>      <td>nonrobust</td>    <th>                     </th>               <td> </td>     \n",
       "</tr>\n",
       "</table>\n",
       "<table class=\"simpletable\">\n",
       "<tr>\n",
       "   <td></td>     <th>coef</th>     <th>std err</th>      <th>t</th>      <th>P>|t|</th>  <th>[0.025</th>    <th>0.975]</th>  \n",
       "</tr>\n",
       "<tr>\n",
       "  <th>x1</th> <td>    0.0187</td> <td>    0.000</td> <td>  103.250</td> <td> 0.000</td> <td>    0.018</td> <td>    0.019</td>\n",
       "</tr>\n",
       "<tr>\n",
       "  <th>x2</th> <td>   -0.3361</td> <td>    0.005</td> <td>  -67.010</td> <td> 0.000</td> <td>   -0.346</td> <td>   -0.326</td>\n",
       "</tr>\n",
       "<tr>\n",
       "  <th>x3</th> <td>   -0.0385</td> <td>    0.002</td> <td>  -21.582</td> <td> 0.000</td> <td>   -0.042</td> <td>   -0.035</td>\n",
       "</tr>\n",
       "</table>\n",
       "<table class=\"simpletable\">\n",
       "<tr>\n",
       "  <th>Omnibus:</th>       <td>234870.942</td> <th>  Durbin-Watson:     </th>   <td>   0.289</td>   \n",
       "</tr>\n",
       "<tr>\n",
       "  <th>Prob(Omnibus):</th>   <td> 0.000</td>   <th>  Jarque-Bera (JB):  </th> <td>346510017.774</td>\n",
       "</tr>\n",
       "<tr>\n",
       "  <th>Skew:</th>            <td> 6.280</td>   <th>  Prob(JB):          </th>   <td>    0.00</td>   \n",
       "</tr>\n",
       "<tr>\n",
       "  <th>Kurtosis:</th>        <td>215.248</td>  <th>  Cond. No.          </th>   <td>    215.</td>   \n",
       "</tr>\n",
       "</table><br/><br/>Notes:<br/>[1] R² is computed without centering (uncentered) since the model does not contain a constant.<br/>[2] Standard Errors assume that the covariance matrix of the errors is correctly specified."
      ],
      "text/plain": [
       "<class 'statsmodels.iolib.summary.Summary'>\n",
       "\"\"\"\n",
       "                                 OLS Regression Results                                \n",
       "=======================================================================================\n",
       "Dep. Variable:                      y   R-squared (uncentered):                   0.569\n",
       "Model:                            OLS   Adj. R-squared (uncentered):              0.569\n",
       "Method:                 Least Squares   F-statistic:                          8.103e+04\n",
       "Date:                Tue, 08 Mar 2022   Prob (F-statistic):                        0.00\n",
       "Time:                        15:15:45   Log-Likelihood:                     -6.9042e+05\n",
       "No. Observations:              183960   AIC:                                  1.381e+06\n",
       "Df Residuals:                  183957   BIC:                                  1.381e+06\n",
       "Df Model:                           3                                                  \n",
       "Covariance Type:            nonrobust                                                  \n",
       "==============================================================================\n",
       "                 coef    std err          t      P>|t|      [0.025      0.975]\n",
       "------------------------------------------------------------------------------\n",
       "x1             0.0187      0.000    103.250      0.000       0.018       0.019\n",
       "x2            -0.3361      0.005    -67.010      0.000      -0.346      -0.326\n",
       "x3            -0.0385      0.002    -21.582      0.000      -0.042      -0.035\n",
       "==============================================================================\n",
       "Omnibus:                   234870.942   Durbin-Watson:                   0.289\n",
       "Prob(Omnibus):                  0.000   Jarque-Bera (JB):        346510017.774\n",
       "Skew:                           6.280   Prob(JB):                         0.00\n",
       "Kurtosis:                     215.248   Cond. No.                         215.\n",
       "==============================================================================\n",
       "\n",
       "Notes:\n",
       "[1] R² is computed without centering (uncentered) since the model does not contain a constant.\n",
       "[2] Standard Errors assume that the covariance matrix of the errors is correctly specified.\n",
       "\"\"\""
      ]
     },
     "execution_count": 51,
     "metadata": {},
     "output_type": "execute_result"
    }
   ],
   "source": [
    "# fit a OLS model\n",
    "m_multi=sm.OLS(Y,X)\n",
    "m_multi_fit=m_multi.fit()\n",
    "m_multi_fit.summary()"
   ]
  },
  {
   "cell_type": "code",
   "execution_count": 52,
   "metadata": {},
   "outputs": [],
   "source": [
    "# kernel weight matrix for the sites\n",
    "weight=Kernel.from_dataframe(loc_gdf,geom_col='geometry',function='gaussian')"
   ]
  },
  {
   "cell_type": "code",
   "execution_count": 53,
   "metadata": {},
   "outputs": [],
   "source": [
    "# covert the DateTime column to numpy.datetime variable\n",
    "df['DateTime']=pd.to_datetime(df['DateTime'])"
   ]
  },
  {
   "cell_type": "code",
   "execution_count": 54,
   "metadata": {},
   "outputs": [
    {
     "data": {
      "text/plain": [
       "8760"
      ]
     },
     "execution_count": 54,
     "metadata": {},
     "output_type": "execute_result"
    }
   ],
   "source": [
    "# moran's Is for PM readings on different days\n",
    "moran=[]\n",
    "for date in df['DateTime'].unique():\n",
    "    mi=Moran(df[df['DateTime']==date].Value.values,weight)\n",
    "    moran.append(mi.I)\n",
    "len(moran)"
   ]
  },
  {
   "cell_type": "code",
   "execution_count": 65,
   "metadata": {},
   "outputs": [
    {
     "data": {
      "text/plain": [
       "<AxesSubplot:>"
      ]
     },
     "execution_count": 65,
     "metadata": {},
     "output_type": "execute_result"
    },
    {
     "data": {
      "image/png": "[encoded data removed]",
      "text/plain": [
       "<Figure size 432x288 with 1 Axes>"
      ]
     },
     "metadata": {},
     "output_type": "display_data"
    }
   ],
   "source": [
    "# change of moran's I during the year of 2019\n",
    "sns.set_theme(style='darkgrid')\n",
    "sns.lineplot(x=df['DateTime'].unique(),y=moran,linewidth=0.1)"
   ]
  },
  {
   "cell_type": "code",
   "execution_count": 56,
   "metadata": {},
   "outputs": [
    {
     "data": {
      "text/plain": [
       "0.15159"
      ]
     },
     "execution_count": 56,
     "metadata": {},
     "output_type": "execute_result"
    }
   ],
   "source": [
    "# global moran's I for pct of gsp\n",
    "moran_gsp=Moran(loc_gdf['pct_Gsp_area'].values,weight)\n",
    "round(moran_gsp.I,5)"
   ]
  },
  {
   "cell_type": "code",
   "execution_count": 57,
   "metadata": {},
   "outputs": [
    {
     "data": {
      "text/plain": [
       "0.08686"
      ]
     },
     "execution_count": 57,
     "metadata": {},
     "output_type": "execute_result"
    }
   ],
   "source": [
    "# global moran's I for pct of near-road gsp\n",
    "moran_nR=Moran(loc_gdf['pct_nR_Gsp_area'].values,weight)\n",
    "round(moran_nR.I,5)"
   ]
  },
  {
   "cell_type": "code",
   "execution_count": 58,
   "metadata": {},
   "outputs": [
    {
     "name": "stdout",
     "output_type": "stream",
     "text": [
      "<class 'pandas.core.frame.DataFrame'>\n",
      "Int64Index: 183960 entries, 0 to 183959\n",
      "Data columns (total 10 columns):\n",
      " #   Column           Non-Null Count   Dtype         \n",
      "---  ------           --------------   -----         \n",
      " 0   Site             183960 non-null  object        \n",
      " 1   Value            183960 non-null  float64       \n",
      " 2   DateTime         183960 non-null  datetime64[ns]\n",
      " 3   geometry         183960 non-null  geometry      \n",
      " 4   rd_len           183960 non-null  float64       \n",
      " 5   pct_Gsp_area     183960 non-null  float64       \n",
      " 6   pct_nR_Gsp_area  183960 non-null  float64       \n",
      " 7   bp_mean          183960 non-null  float64       \n",
      " 8   tmp_mean         183960 non-null  float64       \n",
      " 9   rh_mean          183960 non-null  float64       \n",
      "dtypes: datetime64[ns](1), float64(7), geometry(1), object(1)\n",
      "memory usage: 15.4+ MB\n"
     ]
    }
   ],
   "source": [
    "# merge with conditional variables\n",
    "cond['DateTime']=pd.to_datetime(cond['DateTime'])\n",
    "df=df.merge(cond,on='DateTime')\n",
    "df.info()"
   ]
  },
  {
   "cell_type": "code",
   "execution_count": 59,
   "metadata": {},
   "outputs": [],
   "source": [
    "# set up a new column for month information\n",
    "df['month']=df['DateTime'].dt.month"
   ]
  },
  {
   "cell_type": "code",
   "execution_count": 60,
   "metadata": {},
   "outputs": [
    {
     "data": {
      "text/plain": [
       "<AxesSubplot:xlabel='month'>"
      ]
     },
     "execution_count": 60,
     "metadata": {},
     "output_type": "execute_result"
    },
    {
     "data": {
      "image/png": "[encoded data removed]",
      "text/plain": [
       "<Figure size 432x288 with 1 Axes>"
      ]
     },
     "metadata": {},
     "output_type": "display_data"
    }
   ],
   "source": [
    "# plot monthly mean\n",
    "df.groupby('month').mean()['Value'].plot()"
   ]
  },
  {
   "cell_type": "code",
   "execution_count": 61,
   "metadata": {},
   "outputs": [],
   "source": [
    "# identify high period and low period\n",
    "high=df[df['month'].isin([1,2,3,4])].copy()\n",
    "low=df[~df['month'].isin([1,2,3,4])].copy()"
   ]
  },
  {
   "cell_type": "code",
   "execution_count": 62,
   "metadata": {},
   "outputs": [
    {
     "name": "stdout",
     "output_type": "stream",
     "text": [
      "high: (60480, 11)\n",
      "low: (123480, 11)\n"
     ]
    }
   ],
   "source": [
    "print('high: '+str(high.shape)+'\\nlow: '+str(low.shape))"
   ]
  },
  {
   "cell_type": "code",
   "execution_count": 71,
   "metadata": {},
   "outputs": [
    {
     "name": "stdout",
     "output_type": "stream",
     "text": [
      "REGRESSION\n",
      "----------\n",
      "SUMMARY OF OUTPUT: ORDINARY LEAST SQUARES\n",
      "-----------------------------------------\n",
      "Data set            :     unknown\n",
      "Weights matrix      :        None\n",
      "Dependent Variable  :     dep_var                Number of Observations:       60480\n",
      "Mean dependent var  :     15.1481                Number of Variables   :           6\n",
      "S.D. dependent var  :     13.1975                Degrees of Freedom    :       60474\n",
      "R-squared           :      0.0618\n",
      "Adjusted R-squared  :      0.0617\n",
      "Sum squared residual: 9883325.791                F-statistic           :    796.1438\n",
      "Sigma-square        :     163.431                Prob(F-statistic)     :           0\n",
      "S.E. of regression  :      12.784                Log likelihood        : -239929.261\n",
      "Sigma-square ML     :     163.415                Akaike info criterion :  479870.522\n",
      "S.E of regression ML:     12.7834                Schwarz criterion     :  479924.583\n",
      "\n",
      "------------------------------------------------------------------------------------\n",
      "            Variable     Coefficient       Std.Error     t-Statistic     Probability\n",
      "------------------------------------------------------------------------------------\n",
      "            CONSTANT    -220.6855832       4.2170101     -52.3322403       0.0000000\n",
      "               var_1      -5.3044489       0.9179067      -5.7788542       0.0000000\n",
      "               var_2      20.8359087       3.4698640       6.0048200       0.0000000\n",
      "               var_3       0.2332048       0.0040585      57.4613001       0.0000000\n",
      "               var_4      -0.1920117       0.0127516     -15.0578338       0.0000000\n",
      "               var_5       0.0248297       0.0045015       5.5158888       0.0000000\n",
      "------------------------------------------------------------------------------------\n",
      "\n",
      "REGRESSION DIAGNOSTICS\n",
      "MULTICOLLINEARITY CONDITION NUMBER          258.933\n",
      "\n",
      "TEST ON NORMALITY OF ERRORS\n",
      "TEST                             DF        VALUE           PROB\n",
      "Jarque-Bera                       2     2453571.717           0.0000\n",
      "\n",
      "DIAGNOSTICS FOR HETEROSKEDASTICITY\n",
      "RANDOM COEFFICIENTS\n",
      "TEST                             DF        VALUE           PROB\n",
      "Breusch-Pagan test                5         880.466           0.0000\n",
      "Koenker-Bassett test              5          53.739           0.0000\n",
      "================================ END OF REPORT =====================================\n"
     ]
    }
   ],
   "source": [
    "vars=['pct_Gsp_area','pct_nR_Gsp_area','bp_mean','tmp_mean','rh_mean']\n",
    "\n",
    "Y=high['Value'].values\n",
    "X=high[vars].values\n",
    "\n",
    "m_high=OLS(Y,X)\n",
    "print(m_high.summary)"
   ]
  },
  {
   "cell_type": "code",
   "execution_count": 72,
   "metadata": {},
   "outputs": [
    {
     "data": {
      "text/plain": [
       "0.0617599314960704"
      ]
     },
     "execution_count": 72,
     "metadata": {},
     "output_type": "execute_result"
    }
   ],
   "source": [
    "from sklearn.linear_model import LinearRegression\n",
    "\n",
    "reg=LinearRegression().fit(X,Y)\n",
    "reg.score(X,Y)"
   ]
  },
  {
   "cell_type": "code",
   "execution_count": 66,
   "metadata": {},
   "outputs": [
    {
     "data": {
      "text/plain": [
       "<AxesSubplot:xlabel='DateTime'>"
      ]
     },
     "execution_count": 66,
     "metadata": {},
     "output_type": "execute_result"
    },
    {
     "data": {
      "image/png": "[encoded data removed]",
      "text/plain": [
       "<Figure size 432x288 with 1 Axes>"
      ]
     },
     "metadata": {},
     "output_type": "display_data"
    }
   ],
   "source": [
    "high.groupby('DateTime').mean()['Value'].plot()"
   ]
  },
  {
   "cell_type": "code",
   "execution_count": 67,
   "metadata": {},
   "outputs": [],
   "source": [
    "df['week']=df['DateTime'].dt.isocalendar().week"
   ]
  },
  {
   "cell_type": "code",
   "execution_count": 68,
   "metadata": {},
   "outputs": [
    {
     "name": "stdout",
     "output_type": "stream",
     "text": [
      "<class 'pandas.core.frame.DataFrame'>\n",
      "RangeIndex: 1092 entries, 0 to 1091\n",
      "Data columns (total 10 columns):\n",
      " #   Column           Non-Null Count  Dtype  \n",
      "---  ------           --------------  -----  \n",
      " 0   Site             1092 non-null   object \n",
      " 1   week             1092 non-null   int64  \n",
      " 2   Value            1092 non-null   float64\n",
      " 3   rd_len           1092 non-null   float64\n",
      " 4   pct_Gsp_area     1092 non-null   float64\n",
      " 5   pct_nR_Gsp_area  1092 non-null   float64\n",
      " 6   bp_mean          1092 non-null   float64\n",
      " 7   tmp_mean         1092 non-null   float64\n",
      " 8   rh_mean          1092 non-null   float64\n",
      " 9   month            1092 non-null   float64\n",
      "dtypes: float64(8), int64(1), object(1)\n",
      "memory usage: 85.4+ KB\n"
     ]
    }
   ],
   "source": [
    "weekly=df.groupby(['Site','week']).mean().reset_index()\n",
    "weekly.info()"
   ]
  },
  {
   "cell_type": "code",
   "execution_count": 69,
   "metadata": {},
   "outputs": [],
   "source": [
    "weekly.drop('month',axis=1,inplace=True)"
   ]
  },
  {
   "cell_type": "code",
   "execution_count": 73,
   "metadata": {},
   "outputs": [
    {
     "data": {
      "text/html": [
       "<div>\n",
       "<style scoped>\n",
       "    .dataframe tbody tr th:only-of-type {\n",
       "        vertical-align: middle;\n",
       "    }\n",
       "\n",
       "    .dataframe tbody tr th {\n",
       "        vertical-align: top;\n",
       "    }\n",
       "\n",
       "    .dataframe thead th {\n",
       "        text-align: right;\n",
       "    }\n",
       "</style>\n",
       "<table border=\"1\" class=\"dataframe\">\n",
       "  <thead>\n",
       "    <tr style=\"text-align: right;\">\n",
       "      <th></th>\n",
       "      <th>Value</th>\n",
       "      <th>pct_Gsp_area</th>\n",
       "      <th>pct_nR_Gsp_area</th>\n",
       "      <th>bp_mean</th>\n",
       "      <th>tmp_mean</th>\n",
       "      <th>rh_mean</th>\n",
       "    </tr>\n",
       "  </thead>\n",
       "  <tbody>\n",
       "    <tr>\n",
       "      <th>Value</th>\n",
       "      <td>1.0000</td>\n",
       "      <td>-0.0203</td>\n",
       "      <td>0.0001</td>\n",
       "      <td>0.3915</td>\n",
       "      <td>-0.2028</td>\n",
       "      <td>-0.2888</td>\n",
       "    </tr>\n",
       "    <tr>\n",
       "      <th>pct_Gsp_area</th>\n",
       "      <td>-0.0203</td>\n",
       "      <td>1.0000</td>\n",
       "      <td>0.8479</td>\n",
       "      <td>0.0000</td>\n",
       "      <td>0.0000</td>\n",
       "      <td>0.0000</td>\n",
       "    </tr>\n",
       "    <tr>\n",
       "      <th>pct_nR_Gsp_area</th>\n",
       "      <td>0.0001</td>\n",
       "      <td>0.8479</td>\n",
       "      <td>1.0000</td>\n",
       "      <td>0.0000</td>\n",
       "      <td>0.0000</td>\n",
       "      <td>0.0000</td>\n",
       "    </tr>\n",
       "    <tr>\n",
       "      <th>bp_mean</th>\n",
       "      <td>0.3915</td>\n",
       "      <td>0.0000</td>\n",
       "      <td>0.0000</td>\n",
       "      <td>1.0000</td>\n",
       "      <td>0.0868</td>\n",
       "      <td>-0.4388</td>\n",
       "    </tr>\n",
       "    <tr>\n",
       "      <th>tmp_mean</th>\n",
       "      <td>-0.2028</td>\n",
       "      <td>0.0000</td>\n",
       "      <td>0.0000</td>\n",
       "      <td>0.0868</td>\n",
       "      <td>1.0000</td>\n",
       "      <td>-0.5006</td>\n",
       "    </tr>\n",
       "    <tr>\n",
       "      <th>rh_mean</th>\n",
       "      <td>-0.2888</td>\n",
       "      <td>0.0000</td>\n",
       "      <td>0.0000</td>\n",
       "      <td>-0.4388</td>\n",
       "      <td>-0.5006</td>\n",
       "      <td>1.0000</td>\n",
       "    </tr>\n",
       "  </tbody>\n",
       "</table>\n",
       "</div>"
      ],
      "text/plain": [
       "                  Value  pct_Gsp_area  pct_nR_Gsp_area  bp_mean  tmp_mean  \\\n",
       "Value            1.0000       -0.0203           0.0001   0.3915   -0.2028   \n",
       "pct_Gsp_area    -0.0203        1.0000           0.8479   0.0000    0.0000   \n",
       "pct_nR_Gsp_area  0.0001        0.8479           1.0000   0.0000    0.0000   \n",
       "bp_mean          0.3915        0.0000           0.0000   1.0000    0.0868   \n",
       "tmp_mean        -0.2028        0.0000           0.0000   0.0868    1.0000   \n",
       "rh_mean         -0.2888        0.0000           0.0000  -0.4388   -0.5006   \n",
       "\n",
       "                 rh_mean  \n",
       "Value            -0.2888  \n",
       "pct_Gsp_area      0.0000  \n",
       "pct_nR_Gsp_area   0.0000  \n",
       "bp_mean          -0.4388  \n",
       "tmp_mean         -0.5006  \n",
       "rh_mean           1.0000  "
      ]
     },
     "execution_count": 73,
     "metadata": {},
     "output_type": "execute_result"
    }
   ],
   "source": [
    "weekly[['Value']+vars].corr().round(4)"
   ]
  },
  {
   "cell_type": "code",
   "execution_count": 74,
   "metadata": {},
   "outputs": [
    {
     "name": "stdout",
     "output_type": "stream",
     "text": [
      "REGRESSION\n",
      "----------\n",
      "SUMMARY OF OUTPUT: ORDINARY LEAST SQUARES\n",
      "-----------------------------------------\n",
      "Data set            :     unknown\n",
      "Weights matrix      :        None\n",
      "Dependent Variable  :  PM reading                Number of Observations:        1092\n",
      "Mean dependent var  :      0.0273                Number of Variables   :           6\n",
      "S.D. dependent var  :      0.0130                Degrees of Freedom    :        1086\n",
      "R-squared           :      0.2986\n",
      "Adjusted R-squared  :      0.2954\n",
      "Sum squared residual:       0.129                F-statistic           :     92.4676\n",
      "Sigma-square        :       0.000                Prob(F-statistic)     :   3.581e-81\n",
      "S.E. of regression  :       0.011                Log likelihood        :    3389.162\n",
      "Sigma-square ML     :       0.000                Akaike info criterion :   -6766.325\n",
      "S.E of regression ML:      0.0109                Schwarz criterion     :   -6736.350\n",
      "\n",
      "------------------------------------------------------------------------------------\n",
      "            Variable     Coefficient       Std.Error     t-Statistic     Probability\n",
      "------------------------------------------------------------------------------------\n",
      "            CONSTANT      -0.3667925       0.0553175      -6.6306774       0.0000000\n",
      "        pct_Gsp_area      -0.0088069       0.0058196      -1.5133094       0.1304920\n",
      "     pct_nR_Gsp_area       0.0282874       0.0219994       1.2858276       0.1987773\n",
      "             bp_mean       0.0004695       0.0000520       9.0296996       0.0000000\n",
      "            tmp_mean      -0.0014614       0.0001043     -14.0157830       0.0000000\n",
      "             rh_mean      -0.0007857       0.0000676     -11.6288600       0.0000000\n",
      "------------------------------------------------------------------------------------\n",
      "\n",
      "REGRESSION DIAGNOSTICS\n",
      "MULTICOLLINEARITY CONDITION NUMBER          537.297\n",
      "\n",
      "TEST ON NORMALITY OF ERRORS\n",
      "TEST                             DF        VALUE           PROB\n",
      "Jarque-Bera                       2        1992.691           0.0000\n",
      "\n",
      "DIAGNOSTICS FOR HETEROSKEDASTICITY\n",
      "RANDOM COEFFICIENTS\n",
      "TEST                             DF        VALUE           PROB\n",
      "Breusch-Pagan test                5         426.449           0.0000\n",
      "Koenker-Bassett test              5         112.422           0.0000\n",
      "================================ END OF REPORT =====================================\n"
     ]
    }
   ],
   "source": [
    "Y=weekly['Value'].values\n",
    "Y=Y/np.linalg.norm(Y,axis=0)\n",
    "\n",
    "X=weekly[vars].values\n",
    "\n",
    "m_weekly=OLS(Y,X,name_y='PM reading',name_x=vars)\n",
    "\n",
    "print(m_weekly.summary)"
   ]
  },
  {
   "cell_type": "code",
   "execution_count": 76,
   "metadata": {},
   "outputs": [
    {
     "data": {
      "text/plain": [
       "<AxesSubplot:xlabel='DateTime'>"
      ]
     },
     "execution_count": 76,
     "metadata": {},
     "output_type": "execute_result"
    },
    {
     "data": {
      "image/png": "[encoded data removed]",
      "text/plain": [
       "<Figure size 432x288 with 1 Axes>"
      ]
     },
     "metadata": {},
     "output_type": "display_data"
    }
   ],
   "source": [
    "df.groupby(df['DateTime'].dt.hour).mean()['Value'].plot()"
   ]
  },
  {
   "cell_type": "code",
   "execution_count": 77,
   "metadata": {},
   "outputs": [
    {
     "data": {
      "text/plain": [
       "<AxesSubplot:xlabel='DateTime'>"
      ]
     },
     "execution_count": 77,
     "metadata": {},
     "output_type": "execute_result"
    },
    {
     "data": {
      "image/png": "[encoded data removed]",
      "text/plain": [
       "<Figure size 432x288 with 1 Axes>"
      ]
     },
     "metadata": {},
     "output_type": "display_data"
    }
   ],
   "source": [
    "df.groupby(df['DateTime'].dt.dayofweek).mean()['Value'].plot()"
   ]
  },
  {
   "cell_type": "code",
   "execution_count": 78,
   "metadata": {},
   "outputs": [
    {
     "data": {
      "text/plain": [
       "<AxesSubplot:xlabel='DateTime'>"
      ]
     },
     "execution_count": 78,
     "metadata": {},
     "output_type": "execute_result"
    },
    {
     "data": {
      "image/png": "[encoded data removed]",
      "text/plain": [
       "<Figure size 432x288 with 1 Axes>"
      ]
     },
     "metadata": {},
     "output_type": "display_data"
    }
   ],
   "source": [
    "df.groupby(df['DateTime'].dt.day).mean()['Value'].plot()"
   ]
  },
  {
   "cell_type": "code",
   "execution_count": 86,
   "metadata": {},
   "outputs": [],
   "source": [
    "time_df=df.set_index('DateTime')"
   ]
  },
  {
   "cell_type": "code",
   "execution_count": 95,
   "metadata": {},
   "outputs": [
    {
     "data": {
      "text/plain": [
       "DateTime\n",
       "2019-01-01    13.0\n",
       "2019-01-01    17.0\n",
       "2019-01-01    36.0\n",
       "2019-01-01    21.4\n",
       "2019-01-01    16.1\n",
       "2019-01-01    29.1\n",
       "2019-01-01    23.3\n",
       "2019-01-01    53.3\n",
       "2019-01-01    43.1\n",
       "2019-01-01    14.7\n",
       "2019-01-01    15.8\n",
       "2019-01-01    11.2\n",
       "2019-01-01    14.0\n",
       "2019-01-01    26.3\n",
       "2019-01-01    22.0\n",
       "2019-01-01    35.1\n",
       "2019-01-01    20.4\n",
       "2019-01-01    20.5\n",
       "2019-01-01    11.0\n",
       "2019-01-01    18.2\n",
       "2019-01-01    35.5\n",
       "Name: Value, dtype: float64"
      ]
     },
     "execution_count": 95,
     "metadata": {},
     "output_type": "execute_result"
    }
   ],
   "source": [
    "time_df.loc[time_df.index[0],'Value']"
   ]
  },
  {
   "cell_type": "code",
   "execution_count": 81,
   "metadata": {},
   "outputs": [
    {
     "data": {
      "text/plain": [
       "numpy.datetime64"
      ]
     },
     "execution_count": 81,
     "metadata": {},
     "output_type": "execute_result"
    }
   ],
   "source": [
    "for time in time_df.index.values:\n",
    "    y=df[df['DateTime']==time]"
   ]
  }
 ],
 "metadata": {
  "interpreter": {
   "hash": "203d01a3458eace725dddcfcdb2c604435d077f4f6685c100707a5d3f77ea293"
  },
  "kernelspec": {
   "display_name": "Python 3.8.10 64-bit ('sds2021': conda)",
   "language": "python",
   "name": "python3"
  },
  "language_info": {
   "codemirror_mode": {
    "name": "ipython",
    "version": 3
   },
   "file_extension": ".py",
   "mimetype": "text/x-python",
   "name": "python",
   "nbconvert_exporter": "python",
   "pygments_lexer": "ipython3",
   "version": "3.8.10"
  },
  "orig_nbformat": 4
 },
 "nbformat": 4,
 "nbformat_minor": 2
}
