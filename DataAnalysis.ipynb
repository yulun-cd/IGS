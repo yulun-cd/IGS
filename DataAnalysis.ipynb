{
 "cells": [
  {
   "cell_type": "code",
   "execution_count": 1,
   "metadata": {},
   "outputs": [],
   "source": [
    "import pandas as pd\n",
    "import geopandas as gpd\n",
    "import numpy as np\n",
    "\n",
    "import matplotlib.pyplot as plt\n",
    "import seaborn as sns\n",
    "\n",
    "from spreg import OLS\n",
    "from libpysal.weights import Kernel\n",
    "from esda.moran import Moran\n",
    "import statsmodels.api as sm"
   ]
  },
  {
   "cell_type": "code",
   "execution_count": 2,
   "metadata": {},
   "outputs": [],
   "source": [
    "# Read in all the data\n",
    "\n",
    "AQMS_df=pd.read_csv('data/daily.csv')\n",
    "Rd_gdf=gpd.read_file('data/london_Road.shp')\n",
    "Gsp_gdf=gpd.read_file('data/LD_GreenSpace.shp')\n",
    "loc_gdf=gpd.read_file('data/AQMS_loc.shp')\n",
    "cond=pd.read_csv('data/cond_daily.csv')"
   ]
  },
  {
   "cell_type": "code",
   "execution_count": 3,
   "metadata": {},
   "outputs": [
    {
     "name": "stdout",
     "output_type": "stream",
     "text": [
      "<class 'pandas.core.frame.DataFrame'>\n",
      "RangeIndex: 7665 entries, 0 to 7664\n",
      "Data columns (total 3 columns):\n",
      " #   Column    Non-Null Count  Dtype  \n",
      "---  ------    --------------  -----  \n",
      " 0   DateTime  7665 non-null   object \n",
      " 1   Value     7665 non-null   float64\n",
      " 2   Site      7665 non-null   object \n",
      "dtypes: float64(1), object(2)\n",
      "memory usage: 179.8+ KB\n"
     ]
    }
   ],
   "source": [
    "AQMS_df.info()"
   ]
  },
  {
   "cell_type": "code",
   "execution_count": 4,
   "metadata": {},
   "outputs": [
    {
     "name": "stdout",
     "output_type": "stream",
     "text": [
      "<class 'geopandas.geodataframe.GeoDataFrame'>\n",
      "RangeIndex: 21 entries, 0 to 20\n",
      "Data columns (total 3 columns):\n",
      " #   Column    Non-Null Count  Dtype   \n",
      "---  ------    --------------  -----   \n",
      " 0   siteid    21 non-null     object  \n",
      " 1   sitename  21 non-null     object  \n",
      " 2   geometry  21 non-null     geometry\n",
      "dtypes: geometry(1), object(2)\n",
      "memory usage: 632.0+ bytes\n"
     ]
    }
   ],
   "source": [
    "loc_gdf.info()"
   ]
  },
  {
   "cell_type": "code",
   "execution_count": 5,
   "metadata": {},
   "outputs": [
    {
     "name": "stdout",
     "output_type": "stream",
     "text": [
      "<class 'pandas.core.frame.DataFrame'>\n",
      "RangeIndex: 365 entries, 0 to 364\n",
      "Data columns (total 4 columns):\n",
      " #   Column    Non-Null Count  Dtype  \n",
      "---  ------    --------------  -----  \n",
      " 0   DateTime  365 non-null    object \n",
      " 1   bp_mean   365 non-null    float64\n",
      " 2   tmp_mean  365 non-null    float64\n",
      " 3   rh_mean   365 non-null    float64\n",
      "dtypes: float64(3), object(1)\n",
      "memory usage: 11.5+ KB\n"
     ]
    }
   ],
   "source": [
    "cond.info()"
   ]
  },
  {
   "cell_type": "code",
   "execution_count": 6,
   "metadata": {},
   "outputs": [
    {
     "data": {
      "text/html": [
       "<div>\n",
       "<style scoped>\n",
       "    .dataframe tbody tr th:only-of-type {\n",
       "        vertical-align: middle;\n",
       "    }\n",
       "\n",
       "    .dataframe tbody tr th {\n",
       "        vertical-align: top;\n",
       "    }\n",
       "\n",
       "    .dataframe thead th {\n",
       "        text-align: right;\n",
       "    }\n",
       "</style>\n",
       "<table border=\"1\" class=\"dataframe\">\n",
       "  <thead>\n",
       "    <tr style=\"text-align: right;\">\n",
       "      <th></th>\n",
       "      <th>sitename</th>\n",
       "      <th>geometry</th>\n",
       "      <th>buffer_1km</th>\n",
       "    </tr>\n",
       "    <tr>\n",
       "      <th>siteid</th>\n",
       "      <th></th>\n",
       "      <th></th>\n",
       "      <th></th>\n",
       "    </tr>\n",
       "  </thead>\n",
       "  <tbody>\n",
       "    <tr>\n",
       "      <th>BX9</th>\n",
       "      <td>Bexley - Slade Green FDMS</td>\n",
       "      <td>POINT (551862.205 176375.976)</td>\n",
       "      <td>POLYGON ((552862.205 176375.976, 552857.390 17...</td>\n",
       "    </tr>\n",
       "    <tr>\n",
       "      <th>BL0</th>\n",
       "      <td>Camden - Bloomsbury</td>\n",
       "      <td>POINT (530120.048 182038.807)</td>\n",
       "      <td>POLYGON ((531120.048 182038.807, 531115.233 18...</td>\n",
       "    </tr>\n",
       "    <tr>\n",
       "      <th>CD9</th>\n",
       "      <td>Camden - Euston Road</td>\n",
       "      <td>POINT (529900.870 182666.124)</td>\n",
       "      <td>POLYGON ((530900.870 182666.124, 530896.055 18...</td>\n",
       "    </tr>\n",
       "    <tr>\n",
       "      <th>CD1</th>\n",
       "      <td>Camden - Swiss Cottage</td>\n",
       "      <td>POINT (526629.730 184391.024)</td>\n",
       "      <td>POLYGON ((527629.730 184391.024, 527624.915 18...</td>\n",
       "    </tr>\n",
       "    <tr>\n",
       "      <th>CT2</th>\n",
       "      <td>City of London - Farringdon Street</td>\n",
       "      <td>POINT (531622.273 181213.818)</td>\n",
       "      <td>POLYGON ((532622.273 181213.818, 532617.458 18...</td>\n",
       "    </tr>\n",
       "  </tbody>\n",
       "</table>\n",
       "</div>"
      ],
      "text/plain": [
       "                                  sitename                       geometry  \\\n",
       "siteid                                                                      \n",
       "BX9              Bexley - Slade Green FDMS  POINT (551862.205 176375.976)   \n",
       "BL0                    Camden - Bloomsbury  POINT (530120.048 182038.807)   \n",
       "CD9                   Camden - Euston Road  POINT (529900.870 182666.124)   \n",
       "CD1                 Camden - Swiss Cottage  POINT (526629.730 184391.024)   \n",
       "CT2     City of London - Farringdon Street  POINT (531622.273 181213.818)   \n",
       "\n",
       "                                               buffer_1km  \n",
       "siteid                                                     \n",
       "BX9     POLYGON ((552862.205 176375.976, 552857.390 17...  \n",
       "BL0     POLYGON ((531120.048 182038.807, 531115.233 18...  \n",
       "CD9     POLYGON ((530900.870 182666.124, 530896.055 18...  \n",
       "CD1     POLYGON ((527629.730 184391.024, 527624.915 18...  \n",
       "CT2     POLYGON ((532622.273 181213.818, 532617.458 18...  "
      ]
     },
     "execution_count": 6,
     "metadata": {},
     "output_type": "execute_result"
    }
   ],
   "source": [
    "# reindex loc_gdf and set buffer zones around each site (1km)\n",
    "\n",
    "loc_gdf=loc_gdf.set_index('siteid')\n",
    "loc_gdf['buffer_1km']=loc_gdf['geometry'].buffer(1000)\n",
    "loc_gdf.head()"
   ]
  },
  {
   "cell_type": "code",
   "execution_count": 7,
   "metadata": {},
   "outputs": [],
   "source": [
    "# Get all green spaces\n",
    "\n",
    "Gsp=Gsp_gdf['geometry'].unary_union"
   ]
  },
  {
   "cell_type": "code",
   "execution_count": 8,
   "metadata": {},
   "outputs": [],
   "source": [
    "# Set buffer zones for every road (50m)\n",
    "\n",
    "Rd_gdf['buffer_50m']=Rd_gdf['geometry'].buffer(50)"
   ]
  },
  {
   "cell_type": "code",
   "execution_count": 9,
   "metadata": {},
   "outputs": [],
   "source": [
    "# Get all roads\n",
    "Rd=Rd_gdf['geometry'].unary_union"
   ]
  },
  {
   "cell_type": "code",
   "execution_count": 10,
   "metadata": {},
   "outputs": [],
   "source": [
    "# Get all road buffer zones\n",
    "\n",
    "Rd_buffer=Rd_gdf['buffer_50m'].unary_union"
   ]
  },
  {
   "cell_type": "code",
   "execution_count": 11,
   "metadata": {},
   "outputs": [],
   "source": [
    "# Get all near-road green spaces\n",
    "\n",
    "nRd_Gsp=Gsp.intersection(Rd_buffer)"
   ]
  },
  {
   "cell_type": "code",
   "execution_count": 12,
   "metadata": {},
   "outputs": [],
   "source": [
    "# store all buffer zones in a list\n",
    "AQMS_shp=[]\n",
    "for site in loc_gdf.index:\n",
    "    AQMS_shp.append(loc_gdf.loc[site,'buffer_1km'])"
   ]
  },
  {
   "cell_type": "code",
   "execution_count": 13,
   "metadata": {},
   "outputs": [
    {
     "name": "stdout",
     "output_type": "stream",
     "text": [
      "21 21 21\n"
     ]
    }
   ],
   "source": [
    "# get all roads, green spaces and near-road green spaces in buffer zones around every sites\n",
    "Rd_shp=[]\n",
    "Gsp_shp=[]\n",
    "nRd_Gsp_shp=[]\n",
    "for poly in AQMS_shp:\n",
    "    Rd_shp.append(poly.intersection(Rd))\n",
    "    Gsp_shp.append(poly.intersection(Gsp))\n",
    "    nRd_Gsp_shp.append(poly.intersection(nRd_Gsp))\n",
    "print(len(Rd_shp),len(Gsp_shp),len(nRd_Gsp_shp))"
   ]
  },
  {
   "cell_type": "code",
   "execution_count": 14,
   "metadata": {},
   "outputs": [
    {
     "data": {
      "text/html": [
       "<div>\n",
       "<style scoped>\n",
       "    .dataframe tbody tr th:only-of-type {\n",
       "        vertical-align: middle;\n",
       "    }\n",
       "\n",
       "    .dataframe tbody tr th {\n",
       "        vertical-align: top;\n",
       "    }\n",
       "\n",
       "    .dataframe thead th {\n",
       "        text-align: right;\n",
       "    }\n",
       "</style>\n",
       "<table border=\"1\" class=\"dataframe\">\n",
       "  <thead>\n",
       "    <tr style=\"text-align: right;\">\n",
       "      <th></th>\n",
       "      <th>sitename</th>\n",
       "      <th>geometry</th>\n",
       "      <th>buffer_1km</th>\n",
       "      <th>Road</th>\n",
       "      <th>GreenSpace</th>\n",
       "      <th>NR_GreenSpace</th>\n",
       "    </tr>\n",
       "    <tr>\n",
       "      <th>siteid</th>\n",
       "      <th></th>\n",
       "      <th></th>\n",
       "      <th></th>\n",
       "      <th></th>\n",
       "      <th></th>\n",
       "      <th></th>\n",
       "    </tr>\n",
       "  </thead>\n",
       "  <tbody>\n",
       "    <tr>\n",
       "      <th>BX9</th>\n",
       "      <td>Bexley - Slade Green FDMS</td>\n",
       "      <td>POINT (551862.205 176375.976)</td>\n",
       "      <td>POLYGON ((552862.205 176375.976, 552857.390 17...</td>\n",
       "      <td>MULTILINESTRING Z ((552075.170 175434.690 0.00...</td>\n",
       "      <td>MULTIPOLYGON Z (((551286.362 175559.542 0.000,...</td>\n",
       "      <td>MULTIPOLYGON Z (((551286.362 175559.542 0.000,...</td>\n",
       "    </tr>\n",
       "    <tr>\n",
       "      <th>BL0</th>\n",
       "      <td>Camden - Bloomsbury</td>\n",
       "      <td>POINT (530120.048 182038.807)</td>\n",
       "      <td>POLYGON ((531120.048 182038.807, 531115.233 18...</td>\n",
       "      <td>MULTILINESTRING Z ((530175.051 181041.510 0.00...</td>\n",
       "      <td>MULTIPOLYGON Z (((530885.507 181396.082 0.000,...</td>\n",
       "      <td>MULTIPOLYGON Z (((530885.507 181396.082 0.000,...</td>\n",
       "    </tr>\n",
       "    <tr>\n",
       "      <th>CD9</th>\n",
       "      <td>Camden - Euston Road</td>\n",
       "      <td>POINT (529900.870 182666.124)</td>\n",
       "      <td>POLYGON ((530900.870 182666.124, 530896.055 18...</td>\n",
       "      <td>MULTILINESTRING Z ((529650.665 181699.144 0.00...</td>\n",
       "      <td>MULTIPOLYGON Z (((530446.501 181828.697 0.000,...</td>\n",
       "      <td>MULTIPOLYGON Z (((530446.501 181828.697 0.000,...</td>\n",
       "    </tr>\n",
       "    <tr>\n",
       "      <th>CD1</th>\n",
       "      <td>Camden - Swiss Cottage</td>\n",
       "      <td>POINT (526629.730 184391.024)</td>\n",
       "      <td>POLYGON ((527629.730 184391.024, 527624.915 18...</td>\n",
       "      <td>MULTILINESTRING Z ((526806.590 183407.535 0.00...</td>\n",
       "      <td>MULTIPOLYGON Z (((527584.073 184093.479 0.000,...</td>\n",
       "      <td>MULTIPOLYGON Z (((527584.073 184093.479 0.000,...</td>\n",
       "    </tr>\n",
       "    <tr>\n",
       "      <th>CT2</th>\n",
       "      <td>City of London - Farringdon Street</td>\n",
       "      <td>POINT (531622.273 181213.818)</td>\n",
       "      <td>POLYGON ((532622.273 181213.818, 532617.458 18...</td>\n",
       "      <td>MULTILINESTRING Z ((531654.940 180215.423 0.00...</td>\n",
       "      <td>MULTIPOLYGON Z (((531473.204 182201.430 0.000,...</td>\n",
       "      <td>MULTIPOLYGON Z (((531473.204 182201.430 0.000,...</td>\n",
       "    </tr>\n",
       "    <tr>\n",
       "      <th>CT3</th>\n",
       "      <td>City of London - Sir John Cass School</td>\n",
       "      <td>POINT (533480.243 181186.837)</td>\n",
       "      <td>POLYGON ((534480.243 181186.837, 534475.427 18...</td>\n",
       "      <td>MULTILINESTRING Z ((533123.210 180253.779 0.00...</td>\n",
       "      <td>MULTIPOLYGON Z (((534480.226 181186.502 0.000,...</td>\n",
       "      <td>MULTIPOLYGON Z (((534480.226 181186.502 0.000,...</td>\n",
       "    </tr>\n",
       "    <tr>\n",
       "      <th>CR8</th>\n",
       "      <td>Croydon - Norbury Manor</td>\n",
       "      <td>POINT (530322.972 169553.770)</td>\n",
       "      <td>POLYGON ((531322.972 169553.770, 531318.157 16...</td>\n",
       "      <td>MULTILINESTRING Z ((530343.828 168554.795 0.00...</td>\n",
       "      <td>MULTIPOLYGON Z (((530029.704 168597.897 0.000,...</td>\n",
       "      <td>MULTIPOLYGON Z (((530029.704 168597.897 0.000,...</td>\n",
       "    </tr>\n",
       "    <tr>\n",
       "      <th>GR4</th>\n",
       "      <td>Greenwich - Eltham</td>\n",
       "      <td>POINT (543978.694 174655.234)</td>\n",
       "      <td>POLYGON ((544978.694 174655.234, 544973.878 17...</td>\n",
       "      <td>MULTILINESTRING Z ((544415.352 173756.882 0.00...</td>\n",
       "      <td>MULTIPOLYGON Z (((544534.534 173823.964 0.000,...</td>\n",
       "      <td>MULTIPOLYGON Z (((544534.534 173823.964 0.000,...</td>\n",
       "    </tr>\n",
       "    <tr>\n",
       "      <th>GB0</th>\n",
       "      <td>Greenwich - Falconwood FDMS</td>\n",
       "      <td>POINT (544997.933 175098.152)</td>\n",
       "      <td>POLYGON ((545997.933 175098.152, 545993.118 17...</td>\n",
       "      <td>MULTILINESTRING Z ((544952.089 174100.404 0.00...</td>\n",
       "      <td>MULTIPOLYGON Z (((545373.964 174171.892 0.000,...</td>\n",
       "      <td>MULTIPOLYGON Z (((545223.244 174124.937 0.000,...</td>\n",
       "    </tr>\n",
       "    <tr>\n",
       "      <th>GN6</th>\n",
       "      <td>Greenwich - John Harrison Way</td>\n",
       "      <td>POINT (539685.230 179119.938)</td>\n",
       "      <td>POLYGON ((540685.230 179119.938, 540680.415 17...</td>\n",
       "      <td>MULTILINESTRING Z ((539715.046 178121.403 0.00...</td>\n",
       "      <td>MULTIPOLYGON Z (((539996.407 178170.473 0.000,...</td>\n",
       "      <td>MULTIPOLYGON Z (((539996.407 178170.473 0.000,...</td>\n",
       "    </tr>\n",
       "    <tr>\n",
       "      <th>GN3</th>\n",
       "      <td>Greenwich - Plumstead High Street</td>\n",
       "      <td>POINT (545560.664 178526.019)</td>\n",
       "      <td>POLYGON ((546560.664 178526.019, 546555.849 17...</td>\n",
       "      <td>MULTILINESTRING Z ((545635.000 177544.000 0.00...</td>\n",
       "      <td>MULTIPOLYGON Z (((545902.127 177587.391 0.000,...</td>\n",
       "      <td>MULTIPOLYGON Z (((545902.127 177587.391 0.000,...</td>\n",
       "    </tr>\n",
       "    <tr>\n",
       "      <th>GR9</th>\n",
       "      <td>Greenwich - Westhorne Avenue</td>\n",
       "      <td>POINT (541879.857 175016.634)</td>\n",
       "      <td>POLYGON ((542879.857 175016.634, 542875.042 17...</td>\n",
       "      <td>MULTILINESTRING Z ((541625.000 174104.000 0.00...</td>\n",
       "      <td>MULTIPOLYGON Z (((541512.360 174087.320 0.000,...</td>\n",
       "      <td>MULTIPOLYGON Z (((541512.360 174087.320 0.000,...</td>\n",
       "    </tr>\n",
       "    <tr>\n",
       "      <th>HV1</th>\n",
       "      <td>Havering - Rainham</td>\n",
       "      <td>POINT (553108.080 182512.846)</td>\n",
       "      <td>POLYGON ((554108.080 182512.846, 554103.265 18...</td>\n",
       "      <td>MULTILINESTRING Z ((553157.014 181515.250 0.00...</td>\n",
       "      <td>MULTIPOLYGON Z (((552196.328 182104.523 0.000,...</td>\n",
       "      <td>MULTIPOLYGON Z (((552196.328 182104.523 0.000,...</td>\n",
       "    </tr>\n",
       "    <tr>\n",
       "      <th>LH0</th>\n",
       "      <td>Hillingdon - Harlington</td>\n",
       "      <td>POINT (508292.938 177798.905)</td>\n",
       "      <td>POLYGON ((509292.938 177798.905, 509288.123 17...</td>\n",
       "      <td>MULTILINESTRING Z ((508483.972 176817.518 0.00...</td>\n",
       "      <td>MULTIPOLYGON Z (((507807.977 178672.696 0.000,...</td>\n",
       "      <td>MULTIPOLYGON Z (((507807.977 178672.696 0.000,...</td>\n",
       "    </tr>\n",
       "    <tr>\n",
       "      <th>KC1</th>\n",
       "      <td>Kensington and Chelsea - North Ken</td>\n",
       "      <td>POINT (524043.377 181748.825)</td>\n",
       "      <td>POLYGON ((525043.377 181748.825, 525038.562 18...</td>\n",
       "      <td>MULTILINESTRING Z ((523936.028 180755.024 0.00...</td>\n",
       "      <td>MULTIPOLYGON Z (((524899.890 181235.036 0.000,...</td>\n",
       "      <td>MULTIPOLYGON Z (((524899.890 181235.036 0.000,...</td>\n",
       "    </tr>\n",
       "    <tr>\n",
       "      <th>HP1</th>\n",
       "      <td>Lewisham - Honor Oak Park</td>\n",
       "      <td>POINT (536471.270 174125.052)</td>\n",
       "      <td>POLYGON ((537471.270 174125.052, 537466.454 17...</td>\n",
       "      <td>MULTILINESTRING Z ((536848.778 173199.321 0.00...</td>\n",
       "      <td>MULTIPOLYGON Z (((535537.541 174480.209 0.000,...</td>\n",
       "      <td>MULTIPOLYGON Z (((535537.541 174480.209 0.000,...</td>\n",
       "    </tr>\n",
       "    <tr>\n",
       "      <th>LW2</th>\n",
       "      <td>Lewisham - New Cross</td>\n",
       "      <td>POINT (536241.365 176932.134)</td>\n",
       "      <td>POLYGON ((537241.365 176932.134, 537236.549 17...</td>\n",
       "      <td>MULTILINESTRING Z ((536173.000 175937.000 0.00...</td>\n",
       "      <td>MULTIPOLYGON Z (((537142.701 176501.787 0.000,...</td>\n",
       "      <td>MULTIPOLYGON Z (((537142.701 176501.787 0.000,...</td>\n",
       "    </tr>\n",
       "    <tr>\n",
       "      <th>TD5</th>\n",
       "      <td>London Teddington Bushy Park</td>\n",
       "      <td>POINT (515118.557 170881.057)</td>\n",
       "      <td>POLYGON ((516118.557 170881.057, 516113.742 17...</td>\n",
       "      <td>MULTILINESTRING Z ((515983.987 170382.147 0.00...</td>\n",
       "      <td>MULTIPOLYGON Z (((515987.970 170388.792 0.000,...</td>\n",
       "      <td>MULTIPOLYGON Z (((515987.970 170388.792 0.000,...</td>\n",
       "    </tr>\n",
       "    <tr>\n",
       "      <th>ST5</th>\n",
       "      <td>Sutton - Beddington Lane north</td>\n",
       "      <td>POINT (529398.283 167221.137)</td>\n",
       "      <td>POLYGON ((530398.283 167221.137, 530393.468 16...</td>\n",
       "      <td>MULTILINESTRING Z ((529569.070 166242.620 0.00...</td>\n",
       "      <td>MULTIPOLYGON Z (((530398.283 167221.137 0.000,...</td>\n",
       "      <td>MULTIPOLYGON Z (((530398.283 167221.137 0.000,...</td>\n",
       "    </tr>\n",
       "    <tr>\n",
       "      <th>TH4</th>\n",
       "      <td>Tower Hamlets - Blackwall</td>\n",
       "      <td>POINT (538288.159 181448.847)</td>\n",
       "      <td>POLYGON ((539288.159 181448.847, 539283.344 18...</td>\n",
       "      <td>MULTILINESTRING Z ((538168.530 180514.000 0.00...</td>\n",
       "      <td>MULTIPOLYGON Z (((537643.124 180685.482 0.000,...</td>\n",
       "      <td>MULTIPOLYGON Z (((537643.124 180685.482 0.000,...</td>\n",
       "    </tr>\n",
       "    <tr>\n",
       "      <th>MY7</th>\n",
       "      <td>Westminster - Marylebone Road FDMS</td>\n",
       "      <td>POINT (528125.458 182016.273)</td>\n",
       "      <td>POLYGON ((529125.458 182016.273, 529120.642 18...</td>\n",
       "      <td>MULTILINESTRING Z ((528055.650 181033.800 0.00...</td>\n",
       "      <td>MULTIPOLYGON Z (((527127.680 181971.043 0.000,...</td>\n",
       "      <td>MULTIPOLYGON Z (((527127.680 181971.043 0.000,...</td>\n",
       "    </tr>\n",
       "  </tbody>\n",
       "</table>\n",
       "</div>"
      ],
      "text/plain": [
       "                                     sitename                       geometry  \\\n",
       "siteid                                                                         \n",
       "BX9                 Bexley - Slade Green FDMS  POINT (551862.205 176375.976)   \n",
       "BL0                       Camden - Bloomsbury  POINT (530120.048 182038.807)   \n",
       "CD9                      Camden - Euston Road  POINT (529900.870 182666.124)   \n",
       "CD1                    Camden - Swiss Cottage  POINT (526629.730 184391.024)   \n",
       "CT2        City of London - Farringdon Street  POINT (531622.273 181213.818)   \n",
       "CT3     City of London - Sir John Cass School  POINT (533480.243 181186.837)   \n",
       "CR8                   Croydon - Norbury Manor  POINT (530322.972 169553.770)   \n",
       "GR4                        Greenwich - Eltham  POINT (543978.694 174655.234)   \n",
       "GB0               Greenwich - Falconwood FDMS  POINT (544997.933 175098.152)   \n",
       "GN6             Greenwich - John Harrison Way  POINT (539685.230 179119.938)   \n",
       "GN3         Greenwich - Plumstead High Street  POINT (545560.664 178526.019)   \n",
       "GR9              Greenwich - Westhorne Avenue  POINT (541879.857 175016.634)   \n",
       "HV1                        Havering - Rainham  POINT (553108.080 182512.846)   \n",
       "LH0                   Hillingdon - Harlington  POINT (508292.938 177798.905)   \n",
       "KC1        Kensington and Chelsea - North Ken  POINT (524043.377 181748.825)   \n",
       "HP1                 Lewisham - Honor Oak Park  POINT (536471.270 174125.052)   \n",
       "LW2                      Lewisham - New Cross  POINT (536241.365 176932.134)   \n",
       "TD5              London Teddington Bushy Park  POINT (515118.557 170881.057)   \n",
       "ST5            Sutton - Beddington Lane north  POINT (529398.283 167221.137)   \n",
       "TH4                 Tower Hamlets - Blackwall  POINT (538288.159 181448.847)   \n",
       "MY7        Westminster - Marylebone Road FDMS  POINT (528125.458 182016.273)   \n",
       "\n",
       "                                               buffer_1km  \\\n",
       "siteid                                                      \n",
       "BX9     POLYGON ((552862.205 176375.976, 552857.390 17...   \n",
       "BL0     POLYGON ((531120.048 182038.807, 531115.233 18...   \n",
       "CD9     POLYGON ((530900.870 182666.124, 530896.055 18...   \n",
       "CD1     POLYGON ((527629.730 184391.024, 527624.915 18...   \n",
       "CT2     POLYGON ((532622.273 181213.818, 532617.458 18...   \n",
       "CT3     POLYGON ((534480.243 181186.837, 534475.427 18...   \n",
       "CR8     POLYGON ((531322.972 169553.770, 531318.157 16...   \n",
       "GR4     POLYGON ((544978.694 174655.234, 544973.878 17...   \n",
       "GB0     POLYGON ((545997.933 175098.152, 545993.118 17...   \n",
       "GN6     POLYGON ((540685.230 179119.938, 540680.415 17...   \n",
       "GN3     POLYGON ((546560.664 178526.019, 546555.849 17...   \n",
       "GR9     POLYGON ((542879.857 175016.634, 542875.042 17...   \n",
       "HV1     POLYGON ((554108.080 182512.846, 554103.265 18...   \n",
       "LH0     POLYGON ((509292.938 177798.905, 509288.123 17...   \n",
       "KC1     POLYGON ((525043.377 181748.825, 525038.562 18...   \n",
       "HP1     POLYGON ((537471.270 174125.052, 537466.454 17...   \n",
       "LW2     POLYGON ((537241.365 176932.134, 537236.549 17...   \n",
       "TD5     POLYGON ((516118.557 170881.057, 516113.742 17...   \n",
       "ST5     POLYGON ((530398.283 167221.137, 530393.468 16...   \n",
       "TH4     POLYGON ((539288.159 181448.847, 539283.344 18...   \n",
       "MY7     POLYGON ((529125.458 182016.273, 529120.642 18...   \n",
       "\n",
       "                                                     Road  \\\n",
       "siteid                                                      \n",
       "BX9     MULTILINESTRING Z ((552075.170 175434.690 0.00...   \n",
       "BL0     MULTILINESTRING Z ((530175.051 181041.510 0.00...   \n",
       "CD9     MULTILINESTRING Z ((529650.665 181699.144 0.00...   \n",
       "CD1     MULTILINESTRING Z ((526806.590 183407.535 0.00...   \n",
       "CT2     MULTILINESTRING Z ((531654.940 180215.423 0.00...   \n",
       "CT3     MULTILINESTRING Z ((533123.210 180253.779 0.00...   \n",
       "CR8     MULTILINESTRING Z ((530343.828 168554.795 0.00...   \n",
       "GR4     MULTILINESTRING Z ((544415.352 173756.882 0.00...   \n",
       "GB0     MULTILINESTRING Z ((544952.089 174100.404 0.00...   \n",
       "GN6     MULTILINESTRING Z ((539715.046 178121.403 0.00...   \n",
       "GN3     MULTILINESTRING Z ((545635.000 177544.000 0.00...   \n",
       "GR9     MULTILINESTRING Z ((541625.000 174104.000 0.00...   \n",
       "HV1     MULTILINESTRING Z ((553157.014 181515.250 0.00...   \n",
       "LH0     MULTILINESTRING Z ((508483.972 176817.518 0.00...   \n",
       "KC1     MULTILINESTRING Z ((523936.028 180755.024 0.00...   \n",
       "HP1     MULTILINESTRING Z ((536848.778 173199.321 0.00...   \n",
       "LW2     MULTILINESTRING Z ((536173.000 175937.000 0.00...   \n",
       "TD5     MULTILINESTRING Z ((515983.987 170382.147 0.00...   \n",
       "ST5     MULTILINESTRING Z ((529569.070 166242.620 0.00...   \n",
       "TH4     MULTILINESTRING Z ((538168.530 180514.000 0.00...   \n",
       "MY7     MULTILINESTRING Z ((528055.650 181033.800 0.00...   \n",
       "\n",
       "                                               GreenSpace  \\\n",
       "siteid                                                      \n",
       "BX9     MULTIPOLYGON Z (((551286.362 175559.542 0.000,...   \n",
       "BL0     MULTIPOLYGON Z (((530885.507 181396.082 0.000,...   \n",
       "CD9     MULTIPOLYGON Z (((530446.501 181828.697 0.000,...   \n",
       "CD1     MULTIPOLYGON Z (((527584.073 184093.479 0.000,...   \n",
       "CT2     MULTIPOLYGON Z (((531473.204 182201.430 0.000,...   \n",
       "CT3     MULTIPOLYGON Z (((534480.226 181186.502 0.000,...   \n",
       "CR8     MULTIPOLYGON Z (((530029.704 168597.897 0.000,...   \n",
       "GR4     MULTIPOLYGON Z (((544534.534 173823.964 0.000,...   \n",
       "GB0     MULTIPOLYGON Z (((545373.964 174171.892 0.000,...   \n",
       "GN6     MULTIPOLYGON Z (((539996.407 178170.473 0.000,...   \n",
       "GN3     MULTIPOLYGON Z (((545902.127 177587.391 0.000,...   \n",
       "GR9     MULTIPOLYGON Z (((541512.360 174087.320 0.000,...   \n",
       "HV1     MULTIPOLYGON Z (((552196.328 182104.523 0.000,...   \n",
       "LH0     MULTIPOLYGON Z (((507807.977 178672.696 0.000,...   \n",
       "KC1     MULTIPOLYGON Z (((524899.890 181235.036 0.000,...   \n",
       "HP1     MULTIPOLYGON Z (((535537.541 174480.209 0.000,...   \n",
       "LW2     MULTIPOLYGON Z (((537142.701 176501.787 0.000,...   \n",
       "TD5     MULTIPOLYGON Z (((515987.970 170388.792 0.000,...   \n",
       "ST5     MULTIPOLYGON Z (((530398.283 167221.137 0.000,...   \n",
       "TH4     MULTIPOLYGON Z (((537643.124 180685.482 0.000,...   \n",
       "MY7     MULTIPOLYGON Z (((527127.680 181971.043 0.000,...   \n",
       "\n",
       "                                            NR_GreenSpace  \n",
       "siteid                                                     \n",
       "BX9     MULTIPOLYGON Z (((551286.362 175559.542 0.000,...  \n",
       "BL0     MULTIPOLYGON Z (((530885.507 181396.082 0.000,...  \n",
       "CD9     MULTIPOLYGON Z (((530446.501 181828.697 0.000,...  \n",
       "CD1     MULTIPOLYGON Z (((527584.073 184093.479 0.000,...  \n",
       "CT2     MULTIPOLYGON Z (((531473.204 182201.430 0.000,...  \n",
       "CT3     MULTIPOLYGON Z (((534480.226 181186.502 0.000,...  \n",
       "CR8     MULTIPOLYGON Z (((530029.704 168597.897 0.000,...  \n",
       "GR4     MULTIPOLYGON Z (((544534.534 173823.964 0.000,...  \n",
       "GB0     MULTIPOLYGON Z (((545223.244 174124.937 0.000,...  \n",
       "GN6     MULTIPOLYGON Z (((539996.407 178170.473 0.000,...  \n",
       "GN3     MULTIPOLYGON Z (((545902.127 177587.391 0.000,...  \n",
       "GR9     MULTIPOLYGON Z (((541512.360 174087.320 0.000,...  \n",
       "HV1     MULTIPOLYGON Z (((552196.328 182104.523 0.000,...  \n",
       "LH0     MULTIPOLYGON Z (((507807.977 178672.696 0.000,...  \n",
       "KC1     MULTIPOLYGON Z (((524899.890 181235.036 0.000,...  \n",
       "HP1     MULTIPOLYGON Z (((535537.541 174480.209 0.000,...  \n",
       "LW2     MULTIPOLYGON Z (((537142.701 176501.787 0.000,...  \n",
       "TD5     MULTIPOLYGON Z (((515987.970 170388.792 0.000,...  \n",
       "ST5     MULTIPOLYGON Z (((530398.283 167221.137 0.000,...  \n",
       "TH4     MULTIPOLYGON Z (((537643.124 180685.482 0.000,...  \n",
       "MY7     MULTIPOLYGON Z (((527127.680 181971.043 0.000,...  "
      ]
     },
     "execution_count": 14,
     "metadata": {},
     "output_type": "execute_result"
    }
   ],
   "source": [
    "# append them into the dataframe\n",
    "loc_gdf['Road']=Rd_shp\n",
    "loc_gdf['GreenSpace']=Gsp_shp\n",
    "loc_gdf['NR_GreenSpace']=nRd_Gsp_shp\n",
    "loc_gdf=loc_gdf.set_geometry('Road').set_geometry('GreenSpace').set_geometry('NR_GreenSpace')\n",
    "loc_gdf"
   ]
  },
  {
   "cell_type": "code",
   "execution_count": 15,
   "metadata": {},
   "outputs": [],
   "source": [
    "# london boundary\n",
    "london=gpd.read_file('data/london_boundary.shp')"
   ]
  },
  {
   "cell_type": "code",
   "execution_count": 16,
   "metadata": {},
   "outputs": [
    {
     "data": {
      "image/png": "[encoded data removed]",
      "text/plain": [
       "<Figure size 1080x936 with 1 Axes>"
      ]
     },
     "metadata": {
      "needs_background": "light"
     },
     "output_type": "display_data"
    }
   ],
   "source": [
    "# visualise all the sites on the map\n",
    "fig,ax=plt.subplots(1,figsize=(15,13))\n",
    "\n",
    "london.plot(color='lightgrey',ax=ax)\n",
    "loc_gdf['buffer_1km'].plot(color='silver',ax=ax)\n",
    "loc_gdf['GreenSpace'].plot(label='Green space',color='limegreen',ax=ax)\n",
    "loc_gdf['NR_GreenSpace'].plot(label='Near_road green space',color='darkgreen',ax=ax)\n",
    "loc_gdf['Road'].plot(color='black',label='Road',linewidth=0.1,ax=ax)\n",
    "loc_gdf['geometry'].plot(markersize=5,marker='^',color='blue',label='Air quality monitoring site',ax=ax)\n",
    "\n",
    "ax.axis('off')\n",
    "\n",
    "legend=ax.legend(loc='best',shadow=True,fontsize=15)\n",
    "\n",
    "#plt.savefig('sample1.png',facecolor='black',dpi=500)\n",
    "plt.show()"
   ]
  },
  {
   "cell_type": "markdown",
   "metadata": {},
   "source": [
    "There are some buffers that seem to be very close to others."
   ]
  },
  {
   "cell_type": "code",
   "execution_count": 17,
   "metadata": {},
   "outputs": [],
   "source": [
    "# add a column that specifies the shortest distance of a site to its nearest neighbour\n",
    "loc_gdf['min_dis']=pd.Series(dtype='float64')\n",
    "for index, row in loc_gdf.iterrows():\n",
    "    dis=[]\n",
    "    for i, v in loc_gdf['geometry'].iteritems():\n",
    "        dis.append(row['geometry'].distance(v))\n",
    "    dis.remove(0)\n",
    "    loc_gdf.loc[index,'min_dis']=min(dis)"
   ]
  },
  {
   "cell_type": "code",
   "execution_count": 18,
   "metadata": {},
   "outputs": [
    {
     "data": {
      "text/html": [
       "<div>\n",
       "<style scoped>\n",
       "    .dataframe tbody tr th:only-of-type {\n",
       "        vertical-align: middle;\n",
       "    }\n",
       "\n",
       "    .dataframe tbody tr th {\n",
       "        vertical-align: top;\n",
       "    }\n",
       "\n",
       "    .dataframe thead th {\n",
       "        text-align: right;\n",
       "    }\n",
       "</style>\n",
       "<table border=\"1\" class=\"dataframe\">\n",
       "  <thead>\n",
       "    <tr style=\"text-align: right;\">\n",
       "      <th></th>\n",
       "      <th>sitename</th>\n",
       "      <th>geometry</th>\n",
       "      <th>buffer_1km</th>\n",
       "      <th>Road</th>\n",
       "      <th>GreenSpace</th>\n",
       "      <th>NR_GreenSpace</th>\n",
       "      <th>min_dis</th>\n",
       "    </tr>\n",
       "    <tr>\n",
       "      <th>siteid</th>\n",
       "      <th></th>\n",
       "      <th></th>\n",
       "      <th></th>\n",
       "      <th></th>\n",
       "      <th></th>\n",
       "      <th></th>\n",
       "      <th></th>\n",
       "    </tr>\n",
       "  </thead>\n",
       "  <tbody>\n",
       "    <tr>\n",
       "      <th>BL0</th>\n",
       "      <td>Camden - Bloomsbury</td>\n",
       "      <td>POINT (530120.048 182038.807)</td>\n",
       "      <td>POLYGON ((531120.048 182038.807, 531115.233 18...</td>\n",
       "      <td>MULTILINESTRING Z ((530175.051 181041.510 0.00...</td>\n",
       "      <td>MULTIPOLYGON Z (((530885.507 181396.082 0.000,...</td>\n",
       "      <td>MULTIPOLYGON Z (((530885.507 181396.082 0.000,...</td>\n",
       "      <td>664.503439</td>\n",
       "    </tr>\n",
       "    <tr>\n",
       "      <th>CD9</th>\n",
       "      <td>Camden - Euston Road</td>\n",
       "      <td>POINT (529900.870 182666.124)</td>\n",
       "      <td>POLYGON ((530900.870 182666.124, 530896.055 18...</td>\n",
       "      <td>MULTILINESTRING Z ((529650.665 181699.144 0.00...</td>\n",
       "      <td>MULTIPOLYGON Z (((530446.501 181828.697 0.000,...</td>\n",
       "      <td>MULTIPOLYGON Z (((530446.501 181828.697 0.000,...</td>\n",
       "      <td>664.503439</td>\n",
       "    </tr>\n",
       "    <tr>\n",
       "      <th>GR4</th>\n",
       "      <td>Greenwich - Eltham</td>\n",
       "      <td>POINT (543978.694 174655.234)</td>\n",
       "      <td>POLYGON ((544978.694 174655.234, 544973.878 17...</td>\n",
       "      <td>MULTILINESTRING Z ((544415.352 173756.882 0.00...</td>\n",
       "      <td>MULTIPOLYGON Z (((544534.534 173823.964 0.000,...</td>\n",
       "      <td>MULTIPOLYGON Z (((544534.534 173823.964 0.000,...</td>\n",
       "      <td>1111.316933</td>\n",
       "    </tr>\n",
       "    <tr>\n",
       "      <th>GB0</th>\n",
       "      <td>Greenwich - Falconwood FDMS</td>\n",
       "      <td>POINT (544997.933 175098.152)</td>\n",
       "      <td>POLYGON ((545997.933 175098.152, 545993.118 17...</td>\n",
       "      <td>MULTILINESTRING Z ((544952.089 174100.404 0.00...</td>\n",
       "      <td>MULTIPOLYGON Z (((545373.964 174171.892 0.000,...</td>\n",
       "      <td>MULTIPOLYGON Z (((545223.244 174124.937 0.000,...</td>\n",
       "      <td>1111.316933</td>\n",
       "    </tr>\n",
       "  </tbody>\n",
       "</table>\n",
       "</div>"
      ],
      "text/plain": [
       "                           sitename                       geometry  \\\n",
       "siteid                                                               \n",
       "BL0             Camden - Bloomsbury  POINT (530120.048 182038.807)   \n",
       "CD9            Camden - Euston Road  POINT (529900.870 182666.124)   \n",
       "GR4              Greenwich - Eltham  POINT (543978.694 174655.234)   \n",
       "GB0     Greenwich - Falconwood FDMS  POINT (544997.933 175098.152)   \n",
       "\n",
       "                                               buffer_1km  \\\n",
       "siteid                                                      \n",
       "BL0     POLYGON ((531120.048 182038.807, 531115.233 18...   \n",
       "CD9     POLYGON ((530900.870 182666.124, 530896.055 18...   \n",
       "GR4     POLYGON ((544978.694 174655.234, 544973.878 17...   \n",
       "GB0     POLYGON ((545997.933 175098.152, 545993.118 17...   \n",
       "\n",
       "                                                     Road  \\\n",
       "siteid                                                      \n",
       "BL0     MULTILINESTRING Z ((530175.051 181041.510 0.00...   \n",
       "CD9     MULTILINESTRING Z ((529650.665 181699.144 0.00...   \n",
       "GR4     MULTILINESTRING Z ((544415.352 173756.882 0.00...   \n",
       "GB0     MULTILINESTRING Z ((544952.089 174100.404 0.00...   \n",
       "\n",
       "                                               GreenSpace  \\\n",
       "siteid                                                      \n",
       "BL0     MULTIPOLYGON Z (((530885.507 181396.082 0.000,...   \n",
       "CD9     MULTIPOLYGON Z (((530446.501 181828.697 0.000,...   \n",
       "GR4     MULTIPOLYGON Z (((544534.534 173823.964 0.000,...   \n",
       "GB0     MULTIPOLYGON Z (((545373.964 174171.892 0.000,...   \n",
       "\n",
       "                                            NR_GreenSpace      min_dis  \n",
       "siteid                                                                  \n",
       "BL0     MULTIPOLYGON Z (((530885.507 181396.082 0.000,...   664.503439  \n",
       "CD9     MULTIPOLYGON Z (((530446.501 181828.697 0.000,...   664.503439  \n",
       "GR4     MULTIPOLYGON Z (((544534.534 173823.964 0.000,...  1111.316933  \n",
       "GB0     MULTIPOLYGON Z (((545223.244 174124.937 0.000,...  1111.316933  "
      ]
     },
     "execution_count": 18,
     "metadata": {},
     "output_type": "execute_result"
    }
   ],
   "source": [
    "# list sites that are close to each other (within 1.5km)\n",
    "loc_gdf[loc_gdf['min_dis']<=1500]"
   ]
  },
  {
   "cell_type": "code",
   "execution_count": 19,
   "metadata": {},
   "outputs": [
    {
     "data": {
      "text/html": [
       "<div>\n",
       "<style scoped>\n",
       "    .dataframe tbody tr th:only-of-type {\n",
       "        vertical-align: middle;\n",
       "    }\n",
       "\n",
       "    .dataframe tbody tr th {\n",
       "        vertical-align: top;\n",
       "    }\n",
       "\n",
       "    .dataframe thead tr th {\n",
       "        text-align: left;\n",
       "    }\n",
       "\n",
       "    .dataframe thead tr:last-of-type th {\n",
       "        text-align: right;\n",
       "    }\n",
       "</style>\n",
       "<table border=\"1\" class=\"dataframe\">\n",
       "  <thead>\n",
       "    <tr>\n",
       "      <th></th>\n",
       "      <th colspan=\"8\" halign=\"left\">Value</th>\n",
       "    </tr>\n",
       "    <tr>\n",
       "      <th></th>\n",
       "      <th>count</th>\n",
       "      <th>mean</th>\n",
       "      <th>std</th>\n",
       "      <th>min</th>\n",
       "      <th>25%</th>\n",
       "      <th>50%</th>\n",
       "      <th>75%</th>\n",
       "      <th>max</th>\n",
       "    </tr>\n",
       "    <tr>\n",
       "      <th>Site</th>\n",
       "      <th></th>\n",
       "      <th></th>\n",
       "      <th></th>\n",
       "      <th></th>\n",
       "      <th></th>\n",
       "      <th></th>\n",
       "      <th></th>\n",
       "      <th></th>\n",
       "    </tr>\n",
       "  </thead>\n",
       "  <tbody>\n",
       "    <tr>\n",
       "      <th>BL0</th>\n",
       "      <td>365.0</td>\n",
       "      <td>10.773266</td>\n",
       "      <td>8.609044</td>\n",
       "      <td>2.779167</td>\n",
       "      <td>5.454167</td>\n",
       "      <td>7.479167</td>\n",
       "      <td>12.054167</td>\n",
       "      <td>48.720833</td>\n",
       "    </tr>\n",
       "    <tr>\n",
       "      <th>CD9</th>\n",
       "      <td>365.0</td>\n",
       "      <td>13.636306</td>\n",
       "      <td>8.786610</td>\n",
       "      <td>4.220833</td>\n",
       "      <td>8.229167</td>\n",
       "      <td>10.462500</td>\n",
       "      <td>15.316667</td>\n",
       "      <td>53.466667</td>\n",
       "    </tr>\n",
       "    <tr>\n",
       "      <th>GB0</th>\n",
       "      <td>365.0</td>\n",
       "      <td>12.170311</td>\n",
       "      <td>7.673069</td>\n",
       "      <td>3.975000</td>\n",
       "      <td>7.300000</td>\n",
       "      <td>9.683333</td>\n",
       "      <td>13.829167</td>\n",
       "      <td>46.891667</td>\n",
       "    </tr>\n",
       "    <tr>\n",
       "      <th>GR4</th>\n",
       "      <td>365.0</td>\n",
       "      <td>10.887170</td>\n",
       "      <td>8.333161</td>\n",
       "      <td>2.512500</td>\n",
       "      <td>6.041667</td>\n",
       "      <td>8.158333</td>\n",
       "      <td>11.721337</td>\n",
       "      <td>62.054167</td>\n",
       "    </tr>\n",
       "  </tbody>\n",
       "</table>\n",
       "</div>"
      ],
      "text/plain": [
       "      Value                                                                 \\\n",
       "      count       mean       std       min       25%        50%        75%   \n",
       "Site                                                                         \n",
       "BL0   365.0  10.773266  8.609044  2.779167  5.454167   7.479167  12.054167   \n",
       "CD9   365.0  13.636306  8.786610  4.220833  8.229167  10.462500  15.316667   \n",
       "GB0   365.0  12.170311  7.673069  3.975000  7.300000   9.683333  13.829167   \n",
       "GR4   365.0  10.887170  8.333161  2.512500  6.041667   8.158333  11.721337   \n",
       "\n",
       "                 \n",
       "            max  \n",
       "Site             \n",
       "BL0   48.720833  \n",
       "CD9   53.466667  \n",
       "GB0   46.891667  \n",
       "GR4   62.054167  "
      ]
     },
     "execution_count": 19,
     "metadata": {},
     "output_type": "execute_result"
    }
   ],
   "source": [
    "# check their readings' descriptive statistics\n",
    "AQMS_df[AQMS_df['Site'].isin(['BL0','CD9','GR4','GB0'])].groupby('Site').describe()"
   ]
  },
  {
   "cell_type": "code",
   "execution_count": 20,
   "metadata": {},
   "outputs": [],
   "source": [
    "# revmove them from the list\n",
    "loc_gdf.drop(['BL0','GR4'],inplace=True)"
   ]
  },
  {
   "cell_type": "code",
   "execution_count": 21,
   "metadata": {},
   "outputs": [],
   "source": [
    "# get the area of each buffer zone\n",
    "loc_gdf['buffer_area']=loc_gdf['buffer_1km'].area"
   ]
  },
  {
   "cell_type": "code",
   "execution_count": 22,
   "metadata": {},
   "outputs": [],
   "source": [
    "# get percentages of green space and near-road green space areas \n",
    "loc_gdf['pct_Gsp_area']=loc_gdf['GreenSpace'].area/loc_gdf['buffer_area'] # percentage of gsp area\n",
    "loc_gdf['pct_nR_Gsp_area']=loc_gdf['NR_GreenSpace'].area/loc_gdf['buffer_area'] # percentage of near road gsp area"
   ]
  },
  {
   "cell_type": "code",
   "execution_count": 23,
   "metadata": {},
   "outputs": [
    {
     "name": "stdout",
     "output_type": "stream",
     "text": [
      "<class 'geopandas.geodataframe.GeoDataFrame'>\n",
      "Index: 19 entries, BX9 to MY7\n",
      "Data columns (total 10 columns):\n",
      " #   Column           Non-Null Count  Dtype   \n",
      "---  ------           --------------  -----   \n",
      " 0   sitename         19 non-null     object  \n",
      " 1   geometry         19 non-null     geometry\n",
      " 2   buffer_1km       19 non-null     geometry\n",
      " 3   Road             19 non-null     geometry\n",
      " 4   GreenSpace       19 non-null     geometry\n",
      " 5   NR_GreenSpace    19 non-null     geometry\n",
      " 6   min_dis          19 non-null     float64 \n",
      " 7   buffer_area      19 non-null     float64 \n",
      " 8   pct_Gsp_area     19 non-null     float64 \n",
      " 9   pct_nR_Gsp_area  19 non-null     float64 \n",
      "dtypes: float64(4), geometry(5), object(1)\n",
      "memory usage: 1.6+ KB\n"
     ]
    }
   ],
   "source": [
    "loc_gdf.info()"
   ]
  },
  {
   "cell_type": "code",
   "execution_count": 24,
   "metadata": {},
   "outputs": [
    {
     "name": "stdout",
     "output_type": "stream",
     "text": [
      "<class 'pandas.core.frame.DataFrame'>\n",
      "Int64Index: 6935 entries, 0 to 7664\n",
      "Data columns (total 13 columns):\n",
      " #   Column           Non-Null Count  Dtype   \n",
      "---  ------           --------------  -----   \n",
      " 0   DateTime         6935 non-null   object  \n",
      " 1   Value            6935 non-null   float64 \n",
      " 2   Site             6935 non-null   object  \n",
      " 3   sitename         6935 non-null   object  \n",
      " 4   geometry         6935 non-null   geometry\n",
      " 5   buffer_1km       6935 non-null   geometry\n",
      " 6   Road             6935 non-null   geometry\n",
      " 7   GreenSpace       6935 non-null   geometry\n",
      " 8   NR_GreenSpace    6935 non-null   geometry\n",
      " 9   min_dis          6935 non-null   float64 \n",
      " 10  buffer_area      6935 non-null   float64 \n",
      " 11  pct_Gsp_area     6935 non-null   float64 \n",
      " 12  pct_nR_Gsp_area  6935 non-null   float64 \n",
      "dtypes: float64(5), geometry(5), object(3)\n",
      "memory usage: 758.5+ KB\n"
     ]
    }
   ],
   "source": [
    "# merge PM reading and site geogemetry data\n",
    "df=pd.merge(AQMS_df,loc_gdf,left_on='Site',right_index=True)\n",
    "df.info()"
   ]
  },
  {
   "cell_type": "code",
   "execution_count": 25,
   "metadata": {},
   "outputs": [],
   "source": [
    "# drop irrelevant columns\n",
    "df.drop(['sitename','buffer_1km','Road','GreenSpace','NR_GreenSpace','min_dis','buffer_area'],\n",
    "        axis=1,inplace=True)"
   ]
  },
  {
   "cell_type": "code",
   "execution_count": 26,
   "metadata": {},
   "outputs": [
    {
     "data": {
      "text/plain": [
       "<AxesSubplot:>"
      ]
     },
     "execution_count": 26,
     "metadata": {},
     "output_type": "execute_result"
    },
    {
     "data": {
      "image/png": "[encoded data removed]",
      "text/plain": [
       "<Figure size 432x288 with 2 Axes>"
      ]
     },
     "metadata": {
      "needs_background": "light"
     },
     "output_type": "display_data"
    }
   ],
   "source": [
    "# check correlation between PM data and the conditional variables\n",
    "sns.heatmap(df.merge(cond,how='left',on='DateTime').corr(),cmap='magma',annot=True,\n",
    "            fmt='0.4f')"
   ]
  },
  {
   "cell_type": "code",
   "execution_count": 27,
   "metadata": {},
   "outputs": [
    {
     "name": "stdout",
     "output_type": "stream",
     "text": [
      "(6935, 2) (6935,)\n"
     ]
    }
   ],
   "source": [
    "# prepare variables for the OLS model\n",
    "Y=df['Value'].values\n",
    "X=np.tile(cond[['bp_mean','tmp_mean']].values,(19,1))\n",
    "print(X.shape,Y.shape)"
   ]
  },
  {
   "cell_type": "code",
   "execution_count": 28,
   "metadata": {},
   "outputs": [
    {
     "name": "stdout",
     "output_type": "stream",
     "text": [
      "                                 OLS Regression Results                                \n",
      "=======================================================================================\n",
      "Dep. Variable:                      y   R-squared (uncentered):                   0.672\n",
      "Model:                            OLS   Adj. R-squared (uncentered):              0.672\n",
      "Method:                 Least Squares   F-statistic:                              7104.\n",
      "Date:                Mon, 07 Mar 2022   Prob (F-statistic):                        0.00\n",
      "Time:                        14:27:30   Log-Likelihood:                         -24530.\n",
      "No. Observations:                6935   AIC:                                  4.906e+04\n",
      "Df Residuals:                    6933   BIC:                                  4.908e+04\n",
      "Df Model:                           2                                                  \n",
      "Covariance Type:            nonrobust                                                  \n",
      "==============================================================================\n",
      "                 coef    std err          t      P>|t|      [0.025      0.975]\n",
      "------------------------------------------------------------------------------\n",
      "x1             0.0148      0.000     56.234      0.000       0.014       0.015\n",
      "x2            -0.2541      0.020    -12.616      0.000      -0.294      -0.215\n",
      "==============================================================================\n",
      "Omnibus:                     3153.528   Durbin-Watson:                   0.781\n",
      "Prob(Omnibus):                  0.000   Jarque-Bera (JB):            15576.827\n",
      "Skew:                           2.208   Prob(JB):                         0.00\n",
      "Kurtosis:                       8.865   Cond. No.                         203.\n",
      "==============================================================================\n",
      "\n",
      "Notes:\n",
      "[1] R² is computed without centering (uncentered) since the model does not contain a constant.\n",
      "[2] Standard Errors assume that the covariance matrix of the errors is correctly specified.\n"
     ]
    }
   ],
   "source": [
    "# fit a OLS model\n",
    "m_multi=sm.OLS(Y,X)\n",
    "m_multi_fit=m_multi.fit()\n",
    "print(m_multi_fit.summary())"
   ]
  },
  {
   "cell_type": "code",
   "execution_count": 29,
   "metadata": {},
   "outputs": [],
   "source": [
    "# kernel weight matrix for 19 sites\n",
    "weight=Kernel.from_dataframe(loc_gdf,geom_col='geometry',function='gaussian')"
   ]
  },
  {
   "cell_type": "code",
   "execution_count": 30,
   "metadata": {},
   "outputs": [],
   "source": [
    "# covert the DateTime column to numpy.datetime variable\n",
    "df['Date']=pd.to_datetime(df['DateTime'])"
   ]
  },
  {
   "cell_type": "code",
   "execution_count": 31,
   "metadata": {},
   "outputs": [
    {
     "data": {
      "text/plain": [
       "365"
      ]
     },
     "execution_count": 31,
     "metadata": {},
     "output_type": "execute_result"
    }
   ],
   "source": [
    "# moran's Is for PM readings on different days\n",
    "moran=[]\n",
    "for date in df['Date'].unique():\n",
    "    mi=Moran(df[df['Date']==date].Value.values,weight)\n",
    "    moran.append(mi.I)\n",
    "len(moran)"
   ]
  },
  {
   "cell_type": "code",
   "execution_count": 32,
   "metadata": {},
   "outputs": [
    {
     "data": {
      "text/plain": [
       "<AxesSubplot:>"
      ]
     },
     "execution_count": 32,
     "metadata": {},
     "output_type": "execute_result"
    },
    {
     "data": {
      "image/png": "[encoded data removed]",
      "text/plain": [
       "<Figure size 432x288 with 1 Axes>"
      ]
     },
     "metadata": {},
     "output_type": "display_data"
    }
   ],
   "source": [
    "# change of moran's I during the year of 2019\n",
    "sns.set_theme(style='darkgrid')\n",
    "sns.lineplot(x=df['Date'].unique(),y=moran)"
   ]
  },
  {
   "cell_type": "code",
   "execution_count": 33,
   "metadata": {},
   "outputs": [
    {
     "data": {
      "text/plain": [
       "0.22754"
      ]
     },
     "execution_count": 33,
     "metadata": {},
     "output_type": "execute_result"
    }
   ],
   "source": [
    "# global moran's I for pct of gsp\n",
    "moran_gsp=Moran(loc_gdf['pct_Gsp_area'].values,weight)\n",
    "round(moran_gsp.I,5)"
   ]
  },
  {
   "cell_type": "code",
   "execution_count": 34,
   "metadata": {},
   "outputs": [
    {
     "data": {
      "text/plain": [
       "0.10186"
      ]
     },
     "execution_count": 34,
     "metadata": {},
     "output_type": "execute_result"
    }
   ],
   "source": [
    "# global moran's I for pct of near-road gsp\n",
    "moran_nR=Moran(loc_gdf['pct_nR_Gsp_area'].values,weight)\n",
    "round(moran_nR.I,5)"
   ]
  },
  {
   "cell_type": "code",
   "execution_count": 35,
   "metadata": {},
   "outputs": [
    {
     "name": "stdout",
     "output_type": "stream",
     "text": [
      "<class 'pandas.core.frame.DataFrame'>\n",
      "Int64Index: 6935 entries, 0 to 6934\n",
      "Data columns (total 10 columns):\n",
      " #   Column           Non-Null Count  Dtype         \n",
      "---  ------           --------------  -----         \n",
      " 0   DateTime         6935 non-null   object        \n",
      " 1   Value            6935 non-null   float64       \n",
      " 2   Site             6935 non-null   object        \n",
      " 3   geometry         6935 non-null   geometry      \n",
      " 4   pct_Gsp_area     6935 non-null   float64       \n",
      " 5   pct_nR_Gsp_area  6935 non-null   float64       \n",
      " 6   Date             6935 non-null   datetime64[ns]\n",
      " 7   bp_mean          6935 non-null   float64       \n",
      " 8   tmp_mean         6935 non-null   float64       \n",
      " 9   rh_mean          6935 non-null   float64       \n",
      "dtypes: datetime64[ns](1), float64(6), geometry(1), object(2)\n",
      "memory usage: 596.0+ KB\n"
     ]
    }
   ],
   "source": [
    "# merge with conditional variables\n",
    "df=df.merge(cond,on='DateTime')\n",
    "df.info()"
   ]
  },
  {
   "cell_type": "code",
   "execution_count": 36,
   "metadata": {},
   "outputs": [],
   "source": [
    "# set up a new column for month information\n",
    "df['month']=df['Date'].dt.month"
   ]
  },
  {
   "cell_type": "code",
   "execution_count": 37,
   "metadata": {},
   "outputs": [
    {
     "data": {
      "text/plain": [
       "DateTime                   object\n",
       "Value                     float64\n",
       "Site                       object\n",
       "geometry                 geometry\n",
       "pct_Gsp_area              float64\n",
       "pct_nR_Gsp_area           float64\n",
       "Date               datetime64[ns]\n",
       "bp_mean                   float64\n",
       "tmp_mean                  float64\n",
       "rh_mean                   float64\n",
       "month                       int64\n",
       "dtype: object"
      ]
     },
     "execution_count": 37,
     "metadata": {},
     "output_type": "execute_result"
    }
   ],
   "source": [
    "# check data types\n",
    "df.dtypes"
   ]
  },
  {
   "cell_type": "code",
   "execution_count": 39,
   "metadata": {},
   "outputs": [
    {
     "data": {
      "text/plain": [
       "<AxesSubplot:xlabel='month'>"
      ]
     },
     "execution_count": 39,
     "metadata": {},
     "output_type": "execute_result"
    },
    {
     "data": {
      "image/png": "[encoded data removed]",
      "text/plain": [
       "<Figure size 432x288 with 1 Axes>"
      ]
     },
     "metadata": {},
     "output_type": "display_data"
    }
   ],
   "source": [
    "# plot monthly mean\n",
    "df.groupby('month').mean()['Value'].plot()"
   ]
  },
  {
   "cell_type": "code",
   "execution_count": 40,
   "metadata": {},
   "outputs": [],
   "source": [
    "# identify high period and low period\n",
    "high=df[df['month'].isin([1,2,3,4])].copy()\n",
    "low=df[~df['month'].isin([1,2,3,4])].copy()"
   ]
  },
  {
   "cell_type": "code",
   "execution_count": 42,
   "metadata": {},
   "outputs": [
    {
     "name": "stdout",
     "output_type": "stream",
     "text": [
      "high: (2280, 11)\n",
      "low: (4655, 11)\n"
     ]
    }
   ],
   "source": [
    "print('high: '+str(high.shape)+'\\nlow: '+str(low.shape))"
   ]
  },
  {
   "cell_type": "code",
   "execution_count": 65,
   "metadata": {},
   "outputs": [
    {
     "data": {
      "text/plain": [
       "6.467049118441537e-13"
      ]
     },
     "execution_count": 65,
     "metadata": {},
     "output_type": "execute_result"
    }
   ],
   "source": [
    "Y=high['Value'].values\n",
    "sum((Y-Y.mean())/Y.std())"
   ]
  },
  {
   "cell_type": "code",
   "execution_count": 64,
   "metadata": {},
   "outputs": [
    {
     "data": {
      "text/plain": [
       "array([1.06359366e-13, 3.20410365e-13, 1.09501297e-11, 4.37871961e-13,\n",
       "       6.51964593e-13])"
      ]
     },
     "execution_count": 64,
     "metadata": {},
     "output_type": "execute_result"
    }
   ],
   "source": [
    "X=high[vars].values\n",
    "(X-X.mean(axis=0))/X.std(axis=0)"
   ]
  },
  {
   "cell_type": "code",
   "execution_count": 92,
   "metadata": {},
   "outputs": [
    {
     "name": "stdout",
     "output_type": "stream",
     "text": [
      "REGRESSION\n",
      "----------\n",
      "SUMMARY OF OUTPUT: ORDINARY LEAST SQUARES\n",
      "-----------------------------------------\n",
      "Data set            :     unknown\n",
      "Weights matrix      :        None\n",
      "Dependent Variable  :     dep_var                Number of Observations:        2280\n",
      "Mean dependent var  :      0.0169                Number of Variables   :           6\n",
      "S.D. dependent var  :      0.0124                Degrees of Freedom    :        2274\n",
      "R-squared           :      0.0776\n",
      "Adjusted R-squared  :      0.0756\n",
      "Sum squared residual:       0.321                F-statistic           :     38.2541\n",
      "Sigma-square        :       0.000                Prob(F-statistic)     :   8.374e-38\n",
      "S.E. of regression  :       0.012                Log likelihood        :    6874.686\n",
      "Sigma-square ML     :       0.000                Akaike info criterion :  -13737.372\n",
      "S.E of regression ML:      0.0119                Schwarz criterion     :  -13702.980\n",
      "\n",
      "------------------------------------------------------------------------------------\n",
      "            Variable     Coefficient       Std.Error     t-Statistic     Probability\n",
      "------------------------------------------------------------------------------------\n",
      "            CONSTANT      -0.1867249       0.0220981      -8.4498350       0.0000000\n",
      "               var_1      -0.0464164       0.0369551      -1.2560208       0.2092374\n",
      "               var_2       0.0652692       0.0471645       1.3838627       0.1665363\n",
      "               var_3      10.3990394       0.9989766      10.4096922       0.0000000\n",
      "               var_4      -0.1252897       0.0344454      -3.6373437       0.0002816\n",
      "               var_5      -0.5845852       0.1239248      -4.7172587       0.0000025\n",
      "------------------------------------------------------------------------------------\n",
      "\n",
      "REGRESSION DIAGNOSTICS\n",
      "MULTICOLLINEARITY CONDITION NUMBER          281.756\n",
      "\n",
      "TEST ON NORMALITY OF ERRORS\n",
      "TEST                             DF        VALUE           PROB\n",
      "Jarque-Bera                       2        1089.902           0.0000\n",
      "\n",
      "DIAGNOSTICS FOR HETEROSKEDASTICITY\n",
      "RANDOM COEFFICIENTS\n",
      "TEST                             DF        VALUE           PROB\n",
      "Breusch-Pagan test                5         365.522           0.0000\n",
      "Koenker-Bassett test              5         189.395           0.0000\n",
      "================================ END OF REPORT =====================================\n"
     ]
    }
   ],
   "source": [
    "vars=['pct_Gsp_area','pct_nR_Gsp_area','bp_mean','tmp_mean','rh_mean']\n",
    "\n",
    "Y=high['Value'].values\n",
    "Y=Y/np.linalg.norm(Y,axis=0)\n",
    "\n",
    "X=high[vars].values\n",
    "X=X/np.linalg.norm(X,axis=0)\n",
    "\n",
    "m_high=OLS(Y,X)\n",
    "print(m_high.summary)"
   ]
  },
  {
   "cell_type": "code",
   "execution_count": 83,
   "metadata": {},
   "outputs": [
    {
     "data": {
      "text/plain": [
       "array([[2.54622690e-02, 1.95907148e-02, 1.02986458e+03, 9.36648332e+00,\n",
       "        7.57842518e+01],\n",
       "       [1.60233459e-02, 1.52154663e-02, 1.02986458e+03, 9.36648332e+00,\n",
       "        7.57842518e+01],\n",
       "       [1.27604875e-01, 3.86575479e-02, 1.02986458e+03, 9.36648332e+00,\n",
       "        7.57842518e+01],\n",
       "       [1.16091079e-01, 5.81496714e-02, 1.02986458e+03, 9.36648332e+00,\n",
       "        7.57842518e+01],\n",
       "       [2.67696267e-02, 1.04320779e-02, 1.02986458e+03, 9.36648332e+00,\n",
       "        7.57842518e+01],\n",
       "       [1.34544446e-01, 8.06241128e-02, 1.02986458e+03, 9.36648332e+00,\n",
       "        7.57842518e+01],\n",
       "       [1.34255650e-01, 5.86272925e-02, 1.02986458e+03, 9.36648332e+00,\n",
       "        7.57842518e+01],\n",
       "       [4.77353404e-02, 2.12493258e-02, 1.02986458e+03, 9.36648332e+00,\n",
       "        7.57842518e+01],\n",
       "       [1.16565167e-01, 3.70169369e-02, 1.02986458e+03, 9.36648332e+00,\n",
       "        7.57842518e+01],\n",
       "       [6.19152446e-02, 5.37136085e-02, 1.02986458e+03, 9.36648332e+00,\n",
       "        7.57842518e+01],\n",
       "       [1.98268030e-01, 1.00431375e-01, 1.02986458e+03, 9.36648332e+00,\n",
       "        7.57842518e+01]])"
      ]
     },
     "execution_count": 83,
     "metadata": {},
     "output_type": "execute_result"
    }
   ],
   "source": [
    "X"
   ]
  },
  {
   "cell_type": "code",
   "execution_count": 82,
   "metadata": {},
   "outputs": [
    {
     "data": {
      "text/html": [
       "<div>\n",
       "<style scoped>\n",
       "    .dataframe tbody tr th:only-of-type {\n",
       "        vertical-align: middle;\n",
       "    }\n",
       "\n",
       "    .dataframe tbody tr th {\n",
       "        vertical-align: top;\n",
       "    }\n",
       "\n",
       "    .dataframe thead th {\n",
       "        text-align: right;\n",
       "    }\n",
       "</style>\n",
       "<table border=\"1\" class=\"dataframe\">\n",
       "  <thead>\n",
       "    <tr style=\"text-align: right;\">\n",
       "      <th></th>\n",
       "      <th>sitename</th>\n",
       "      <th>geometry</th>\n",
       "      <th>buffer_1km</th>\n",
       "      <th>Road</th>\n",
       "      <th>GreenSpace</th>\n",
       "      <th>NR_GreenSpace</th>\n",
       "      <th>min_dis</th>\n",
       "      <th>buffer_area</th>\n",
       "      <th>pct_Gsp_area</th>\n",
       "      <th>pct_nR_Gsp_area</th>\n",
       "    </tr>\n",
       "    <tr>\n",
       "      <th>siteid</th>\n",
       "      <th></th>\n",
       "      <th></th>\n",
       "      <th></th>\n",
       "      <th></th>\n",
       "      <th></th>\n",
       "      <th></th>\n",
       "      <th></th>\n",
       "      <th></th>\n",
       "      <th></th>\n",
       "      <th></th>\n",
       "    </tr>\n",
       "  </thead>\n",
       "  <tbody>\n",
       "    <tr>\n",
       "      <th>BX9</th>\n",
       "      <td>Bexley - Slade Green FDMS</td>\n",
       "      <td>POINT (551862.205 176375.976)</td>\n",
       "      <td>POLYGON ((552862.205 176375.976, 552857.390 17...</td>\n",
       "      <td>MULTILINESTRING Z ((552075.170 175434.690 0.00...</td>\n",
       "      <td>MULTIPOLYGON Z (((551286.362 175559.542 0.000,...</td>\n",
       "      <td>MULTIPOLYGON Z (((551286.362 175559.542 0.000,...</td>\n",
       "      <td>6262.058504</td>\n",
       "      <td>3.136548e+06</td>\n",
       "      <td>0.062358</td>\n",
       "      <td>0.022665</td>\n",
       "    </tr>\n",
       "    <tr>\n",
       "      <th>CD9</th>\n",
       "      <td>Camden - Euston Road</td>\n",
       "      <td>POINT (529900.870 182666.124)</td>\n",
       "      <td>POLYGON ((530900.870 182666.124, 530896.055 18...</td>\n",
       "      <td>MULTILINESTRING Z ((529650.665 181699.144 0.00...</td>\n",
       "      <td>MULTIPOLYGON Z (((530446.501 181828.697 0.000,...</td>\n",
       "      <td>MULTIPOLYGON Z (((530446.501 181828.697 0.000,...</td>\n",
       "      <td>664.503439</td>\n",
       "      <td>3.136548e+06</td>\n",
       "      <td>0.052833</td>\n",
       "      <td>0.042514</td>\n",
       "    </tr>\n",
       "    <tr>\n",
       "      <th>CD1</th>\n",
       "      <td>Camden - Swiss Cottage</td>\n",
       "      <td>POINT (526629.730 184391.024)</td>\n",
       "      <td>POLYGON ((527629.730 184391.024, 527624.915 18...</td>\n",
       "      <td>MULTILINESTRING Z ((526806.590 183407.535 0.00...</td>\n",
       "      <td>MULTIPOLYGON Z (((527584.073 184093.479 0.000,...</td>\n",
       "      <td>MULTIPOLYGON Z (((527584.073 184093.479 0.000,...</td>\n",
       "      <td>2806.536146</td>\n",
       "      <td>3.136548e+06</td>\n",
       "      <td>0.035043</td>\n",
       "      <td>0.012352</td>\n",
       "    </tr>\n",
       "    <tr>\n",
       "      <th>CT2</th>\n",
       "      <td>City of London - Farringdon Street</td>\n",
       "      <td>POINT (531622.273 181213.818)</td>\n",
       "      <td>POLYGON ((532622.273 181213.818, 532617.458 18...</td>\n",
       "      <td>MULTILINESTRING Z ((531654.940 180215.423 0.00...</td>\n",
       "      <td>MULTIPOLYGON Z (((531473.204 182201.430 0.000,...</td>\n",
       "      <td>MULTIPOLYGON Z (((531473.204 182201.430 0.000,...</td>\n",
       "      <td>1713.851661</td>\n",
       "      <td>3.136548e+06</td>\n",
       "      <td>0.025462</td>\n",
       "      <td>0.019591</td>\n",
       "    </tr>\n",
       "    <tr>\n",
       "      <th>CT3</th>\n",
       "      <td>City of London - Sir John Cass School</td>\n",
       "      <td>POINT (533480.243 181186.837)</td>\n",
       "      <td>POLYGON ((534480.243 181186.837, 534475.427 18...</td>\n",
       "      <td>MULTILINESTRING Z ((533123.210 180253.779 0.00...</td>\n",
       "      <td>MULTIPOLYGON Z (((534480.226 181186.502 0.000,...</td>\n",
       "      <td>MULTIPOLYGON Z (((534480.226 181186.502 0.000,...</td>\n",
       "      <td>1858.165217</td>\n",
       "      <td>3.136548e+06</td>\n",
       "      <td>0.016023</td>\n",
       "      <td>0.015215</td>\n",
       "    </tr>\n",
       "    <tr>\n",
       "      <th>CR8</th>\n",
       "      <td>Croydon - Norbury Manor</td>\n",
       "      <td>POINT (530322.972 169553.770)</td>\n",
       "      <td>POLYGON ((531322.972 169553.770, 531318.157 16...</td>\n",
       "      <td>MULTILINESTRING Z ((530343.828 168554.795 0.00...</td>\n",
       "      <td>MULTIPOLYGON Z (((530029.704 168597.897 0.000,...</td>\n",
       "      <td>MULTIPOLYGON Z (((530029.704 168597.897 0.000,...</td>\n",
       "      <td>2509.228941</td>\n",
       "      <td>3.136548e+06</td>\n",
       "      <td>0.127605</td>\n",
       "      <td>0.038658</td>\n",
       "    </tr>\n",
       "    <tr>\n",
       "      <th>GB0</th>\n",
       "      <td>Greenwich - Falconwood FDMS</td>\n",
       "      <td>POINT (544997.933 175098.152)</td>\n",
       "      <td>POLYGON ((545997.933 175098.152, 545993.118 17...</td>\n",
       "      <td>MULTILINESTRING Z ((544952.089 174100.404 0.00...</td>\n",
       "      <td>MULTIPOLYGON Z (((545373.964 174171.892 0.000,...</td>\n",
       "      <td>MULTIPOLYGON Z (((545223.244 174124.937 0.000,...</td>\n",
       "      <td>1111.316933</td>\n",
       "      <td>3.136548e+06</td>\n",
       "      <td>0.116091</td>\n",
       "      <td>0.058150</td>\n",
       "    </tr>\n",
       "    <tr>\n",
       "      <th>GN6</th>\n",
       "      <td>Greenwich - John Harrison Way</td>\n",
       "      <td>POINT (539685.230 179119.938)</td>\n",
       "      <td>POLYGON ((540685.230 179119.938, 540680.415 17...</td>\n",
       "      <td>MULTILINESTRING Z ((539715.046 178121.403 0.00...</td>\n",
       "      <td>MULTIPOLYGON Z (((539996.407 178170.473 0.000,...</td>\n",
       "      <td>MULTIPOLYGON Z (((539996.407 178170.473 0.000,...</td>\n",
       "      <td>2715.809659</td>\n",
       "      <td>3.136548e+06</td>\n",
       "      <td>0.026770</td>\n",
       "      <td>0.010432</td>\n",
       "    </tr>\n",
       "    <tr>\n",
       "      <th>GN3</th>\n",
       "      <td>Greenwich - Plumstead High Street</td>\n",
       "      <td>POINT (545560.664 178526.019)</td>\n",
       "      <td>POLYGON ((546560.664 178526.019, 546555.849 17...</td>\n",
       "      <td>MULTILINESTRING Z ((545635.000 177544.000 0.00...</td>\n",
       "      <td>MULTIPOLYGON Z (((545902.127 177587.391 0.000,...</td>\n",
       "      <td>MULTIPOLYGON Z (((545902.127 177587.391 0.000,...</td>\n",
       "      <td>3473.750339</td>\n",
       "      <td>3.136548e+06</td>\n",
       "      <td>0.134544</td>\n",
       "      <td>0.080624</td>\n",
       "    </tr>\n",
       "    <tr>\n",
       "      <th>GR9</th>\n",
       "      <td>Greenwich - Westhorne Avenue</td>\n",
       "      <td>POINT (541879.857 175016.634)</td>\n",
       "      <td>POLYGON ((542879.857 175016.634, 542875.042 17...</td>\n",
       "      <td>MULTILINESTRING Z ((541625.000 174104.000 0.00...</td>\n",
       "      <td>MULTIPOLYGON Z (((541512.360 174087.320 0.000,...</td>\n",
       "      <td>MULTIPOLYGON Z (((541512.360 174087.320 0.000,...</td>\n",
       "      <td>2129.724397</td>\n",
       "      <td>3.136548e+06</td>\n",
       "      <td>0.134256</td>\n",
       "      <td>0.058627</td>\n",
       "    </tr>\n",
       "    <tr>\n",
       "      <th>HV1</th>\n",
       "      <td>Havering - Rainham</td>\n",
       "      <td>POINT (553108.080 182512.846)</td>\n",
       "      <td>POLYGON ((554108.080 182512.846, 554103.265 18...</td>\n",
       "      <td>MULTILINESTRING Z ((553157.014 181515.250 0.00...</td>\n",
       "      <td>MULTIPOLYGON Z (((552196.328 182104.523 0.000,...</td>\n",
       "      <td>MULTIPOLYGON Z (((552196.328 182104.523 0.000,...</td>\n",
       "      <td>6262.058504</td>\n",
       "      <td>3.136548e+06</td>\n",
       "      <td>0.047735</td>\n",
       "      <td>0.021249</td>\n",
       "    </tr>\n",
       "    <tr>\n",
       "      <th>LH0</th>\n",
       "      <td>Hillingdon - Harlington</td>\n",
       "      <td>POINT (508292.938 177798.905)</td>\n",
       "      <td>POLYGON ((509292.938 177798.905, 509288.123 17...</td>\n",
       "      <td>MULTILINESTRING Z ((508483.972 176817.518 0.00...</td>\n",
       "      <td>MULTIPOLYGON Z (((507807.977 178672.696 0.000,...</td>\n",
       "      <td>MULTIPOLYGON Z (((507807.977 178672.696 0.000,...</td>\n",
       "      <td>9718.317066</td>\n",
       "      <td>3.136548e+06</td>\n",
       "      <td>0.116565</td>\n",
       "      <td>0.037017</td>\n",
       "    </tr>\n",
       "    <tr>\n",
       "      <th>KC1</th>\n",
       "      <td>Kensington and Chelsea - North Ken</td>\n",
       "      <td>POINT (524043.377 181748.825)</td>\n",
       "      <td>POLYGON ((525043.377 181748.825, 525038.562 18...</td>\n",
       "      <td>MULTILINESTRING Z ((523936.028 180755.024 0.00...</td>\n",
       "      <td>MULTIPOLYGON Z (((524899.890 181235.036 0.000,...</td>\n",
       "      <td>MULTIPOLYGON Z (((524899.890 181235.036 0.000,...</td>\n",
       "      <td>3697.356076</td>\n",
       "      <td>3.136548e+06</td>\n",
       "      <td>0.061915</td>\n",
       "      <td>0.053714</td>\n",
       "    </tr>\n",
       "    <tr>\n",
       "      <th>HP1</th>\n",
       "      <td>Lewisham - Honor Oak Park</td>\n",
       "      <td>POINT (536471.270 174125.052)</td>\n",
       "      <td>POLYGON ((537471.270 174125.052, 537466.454 17...</td>\n",
       "      <td>MULTILINESTRING Z ((536848.778 173199.321 0.00...</td>\n",
       "      <td>MULTIPOLYGON Z (((535537.541 174480.209 0.000,...</td>\n",
       "      <td>MULTIPOLYGON Z (((535537.541 174480.209 0.000,...</td>\n",
       "      <td>2816.480380</td>\n",
       "      <td>3.136548e+06</td>\n",
       "      <td>0.198268</td>\n",
       "      <td>0.100431</td>\n",
       "    </tr>\n",
       "    <tr>\n",
       "      <th>LW2</th>\n",
       "      <td>Lewisham - New Cross</td>\n",
       "      <td>POINT (536241.365 176932.134)</td>\n",
       "      <td>POLYGON ((537241.365 176932.134, 537236.549 17...</td>\n",
       "      <td>MULTILINESTRING Z ((536173.000 175937.000 0.00...</td>\n",
       "      <td>MULTIPOLYGON Z (((537142.701 176501.787 0.000,...</td>\n",
       "      <td>MULTIPOLYGON Z (((537142.701 176501.787 0.000,...</td>\n",
       "      <td>2816.480380</td>\n",
       "      <td>3.136548e+06</td>\n",
       "      <td>0.056137</td>\n",
       "      <td>0.044357</td>\n",
       "    </tr>\n",
       "    <tr>\n",
       "      <th>TD5</th>\n",
       "      <td>London Teddington Bushy Park</td>\n",
       "      <td>POINT (515118.557 170881.057)</td>\n",
       "      <td>POLYGON ((516118.557 170881.057, 516113.742 17...</td>\n",
       "      <td>MULTILINESTRING Z ((515983.987 170382.147 0.00...</td>\n",
       "      <td>MULTIPOLYGON Z (((515987.970 170388.792 0.000,...</td>\n",
       "      <td>MULTIPOLYGON Z (((515987.970 170388.792 0.000,...</td>\n",
       "      <td>9718.317066</td>\n",
       "      <td>3.136548e+06</td>\n",
       "      <td>0.383464</td>\n",
       "      <td>0.100037</td>\n",
       "    </tr>\n",
       "    <tr>\n",
       "      <th>ST5</th>\n",
       "      <td>Sutton - Beddington Lane north</td>\n",
       "      <td>POINT (529398.283 167221.137)</td>\n",
       "      <td>POLYGON ((530398.283 167221.137, 530393.468 16...</td>\n",
       "      <td>MULTILINESTRING Z ((529569.070 166242.620 0.00...</td>\n",
       "      <td>MULTIPOLYGON Z (((530398.283 167221.137 0.000,...</td>\n",
       "      <td>MULTIPOLYGON Z (((530398.283 167221.137 0.000,...</td>\n",
       "      <td>2509.228941</td>\n",
       "      <td>3.136548e+06</td>\n",
       "      <td>0.344285</td>\n",
       "      <td>0.098725</td>\n",
       "    </tr>\n",
       "    <tr>\n",
       "      <th>TH4</th>\n",
       "      <td>Tower Hamlets - Blackwall</td>\n",
       "      <td>POINT (538288.159 181448.847)</td>\n",
       "      <td>POLYGON ((539288.159 181448.847, 539283.344 18...</td>\n",
       "      <td>MULTILINESTRING Z ((538168.530 180514.000 0.00...</td>\n",
       "      <td>MULTIPOLYGON Z (((537643.124 180685.482 0.000,...</td>\n",
       "      <td>MULTIPOLYGON Z (((537643.124 180685.482 0.000,...</td>\n",
       "      <td>2715.809659</td>\n",
       "      <td>3.136548e+06</td>\n",
       "      <td>0.045030</td>\n",
       "      <td>0.033772</td>\n",
       "    </tr>\n",
       "    <tr>\n",
       "      <th>MY7</th>\n",
       "      <td>Westminster - Marylebone Road FDMS</td>\n",
       "      <td>POINT (528125.458 182016.273)</td>\n",
       "      <td>POLYGON ((529125.458 182016.273, 529120.642 18...</td>\n",
       "      <td>MULTILINESTRING Z ((528055.650 181033.800 0.00...</td>\n",
       "      <td>MULTIPOLYGON Z (((527127.680 181971.043 0.000,...</td>\n",
       "      <td>MULTIPOLYGON Z (((527127.680 181971.043 0.000,...</td>\n",
       "      <td>1890.607497</td>\n",
       "      <td>3.136548e+06</td>\n",
       "      <td>0.237532</td>\n",
       "      <td>0.075531</td>\n",
       "    </tr>\n",
       "  </tbody>\n",
       "</table>\n",
       "</div>"
      ],
      "text/plain": [
       "                                     sitename                       geometry  \\\n",
       "siteid                                                                         \n",
       "BX9                 Bexley - Slade Green FDMS  POINT (551862.205 176375.976)   \n",
       "CD9                      Camden - Euston Road  POINT (529900.870 182666.124)   \n",
       "CD1                    Camden - Swiss Cottage  POINT (526629.730 184391.024)   \n",
       "CT2        City of London - Farringdon Street  POINT (531622.273 181213.818)   \n",
       "CT3     City of London - Sir John Cass School  POINT (533480.243 181186.837)   \n",
       "CR8                   Croydon - Norbury Manor  POINT (530322.972 169553.770)   \n",
       "GB0               Greenwich - Falconwood FDMS  POINT (544997.933 175098.152)   \n",
       "GN6             Greenwich - John Harrison Way  POINT (539685.230 179119.938)   \n",
       "GN3         Greenwich - Plumstead High Street  POINT (545560.664 178526.019)   \n",
       "GR9              Greenwich - Westhorne Avenue  POINT (541879.857 175016.634)   \n",
       "HV1                        Havering - Rainham  POINT (553108.080 182512.846)   \n",
       "LH0                   Hillingdon - Harlington  POINT (508292.938 177798.905)   \n",
       "KC1        Kensington and Chelsea - North Ken  POINT (524043.377 181748.825)   \n",
       "HP1                 Lewisham - Honor Oak Park  POINT (536471.270 174125.052)   \n",
       "LW2                      Lewisham - New Cross  POINT (536241.365 176932.134)   \n",
       "TD5              London Teddington Bushy Park  POINT (515118.557 170881.057)   \n",
       "ST5            Sutton - Beddington Lane north  POINT (529398.283 167221.137)   \n",
       "TH4                 Tower Hamlets - Blackwall  POINT (538288.159 181448.847)   \n",
       "MY7        Westminster - Marylebone Road FDMS  POINT (528125.458 182016.273)   \n",
       "\n",
       "                                               buffer_1km  \\\n",
       "siteid                                                      \n",
       "BX9     POLYGON ((552862.205 176375.976, 552857.390 17...   \n",
       "CD9     POLYGON ((530900.870 182666.124, 530896.055 18...   \n",
       "CD1     POLYGON ((527629.730 184391.024, 527624.915 18...   \n",
       "CT2     POLYGON ((532622.273 181213.818, 532617.458 18...   \n",
       "CT3     POLYGON ((534480.243 181186.837, 534475.427 18...   \n",
       "CR8     POLYGON ((531322.972 169553.770, 531318.157 16...   \n",
       "GB0     POLYGON ((545997.933 175098.152, 545993.118 17...   \n",
       "GN6     POLYGON ((540685.230 179119.938, 540680.415 17...   \n",
       "GN3     POLYGON ((546560.664 178526.019, 546555.849 17...   \n",
       "GR9     POLYGON ((542879.857 175016.634, 542875.042 17...   \n",
       "HV1     POLYGON ((554108.080 182512.846, 554103.265 18...   \n",
       "LH0     POLYGON ((509292.938 177798.905, 509288.123 17...   \n",
       "KC1     POLYGON ((525043.377 181748.825, 525038.562 18...   \n",
       "HP1     POLYGON ((537471.270 174125.052, 537466.454 17...   \n",
       "LW2     POLYGON ((537241.365 176932.134, 537236.549 17...   \n",
       "TD5     POLYGON ((516118.557 170881.057, 516113.742 17...   \n",
       "ST5     POLYGON ((530398.283 167221.137, 530393.468 16...   \n",
       "TH4     POLYGON ((539288.159 181448.847, 539283.344 18...   \n",
       "MY7     POLYGON ((529125.458 182016.273, 529120.642 18...   \n",
       "\n",
       "                                                     Road  \\\n",
       "siteid                                                      \n",
       "BX9     MULTILINESTRING Z ((552075.170 175434.690 0.00...   \n",
       "CD9     MULTILINESTRING Z ((529650.665 181699.144 0.00...   \n",
       "CD1     MULTILINESTRING Z ((526806.590 183407.535 0.00...   \n",
       "CT2     MULTILINESTRING Z ((531654.940 180215.423 0.00...   \n",
       "CT3     MULTILINESTRING Z ((533123.210 180253.779 0.00...   \n",
       "CR8     MULTILINESTRING Z ((530343.828 168554.795 0.00...   \n",
       "GB0     MULTILINESTRING Z ((544952.089 174100.404 0.00...   \n",
       "GN6     MULTILINESTRING Z ((539715.046 178121.403 0.00...   \n",
       "GN3     MULTILINESTRING Z ((545635.000 177544.000 0.00...   \n",
       "GR9     MULTILINESTRING Z ((541625.000 174104.000 0.00...   \n",
       "HV1     MULTILINESTRING Z ((553157.014 181515.250 0.00...   \n",
       "LH0     MULTILINESTRING Z ((508483.972 176817.518 0.00...   \n",
       "KC1     MULTILINESTRING Z ((523936.028 180755.024 0.00...   \n",
       "HP1     MULTILINESTRING Z ((536848.778 173199.321 0.00...   \n",
       "LW2     MULTILINESTRING Z ((536173.000 175937.000 0.00...   \n",
       "TD5     MULTILINESTRING Z ((515983.987 170382.147 0.00...   \n",
       "ST5     MULTILINESTRING Z ((529569.070 166242.620 0.00...   \n",
       "TH4     MULTILINESTRING Z ((538168.530 180514.000 0.00...   \n",
       "MY7     MULTILINESTRING Z ((528055.650 181033.800 0.00...   \n",
       "\n",
       "                                               GreenSpace  \\\n",
       "siteid                                                      \n",
       "BX9     MULTIPOLYGON Z (((551286.362 175559.542 0.000,...   \n",
       "CD9     MULTIPOLYGON Z (((530446.501 181828.697 0.000,...   \n",
       "CD1     MULTIPOLYGON Z (((527584.073 184093.479 0.000,...   \n",
       "CT2     MULTIPOLYGON Z (((531473.204 182201.430 0.000,...   \n",
       "CT3     MULTIPOLYGON Z (((534480.226 181186.502 0.000,...   \n",
       "CR8     MULTIPOLYGON Z (((530029.704 168597.897 0.000,...   \n",
       "GB0     MULTIPOLYGON Z (((545373.964 174171.892 0.000,...   \n",
       "GN6     MULTIPOLYGON Z (((539996.407 178170.473 0.000,...   \n",
       "GN3     MULTIPOLYGON Z (((545902.127 177587.391 0.000,...   \n",
       "GR9     MULTIPOLYGON Z (((541512.360 174087.320 0.000,...   \n",
       "HV1     MULTIPOLYGON Z (((552196.328 182104.523 0.000,...   \n",
       "LH0     MULTIPOLYGON Z (((507807.977 178672.696 0.000,...   \n",
       "KC1     MULTIPOLYGON Z (((524899.890 181235.036 0.000,...   \n",
       "HP1     MULTIPOLYGON Z (((535537.541 174480.209 0.000,...   \n",
       "LW2     MULTIPOLYGON Z (((537142.701 176501.787 0.000,...   \n",
       "TD5     MULTIPOLYGON Z (((515987.970 170388.792 0.000,...   \n",
       "ST5     MULTIPOLYGON Z (((530398.283 167221.137 0.000,...   \n",
       "TH4     MULTIPOLYGON Z (((537643.124 180685.482 0.000,...   \n",
       "MY7     MULTIPOLYGON Z (((527127.680 181971.043 0.000,...   \n",
       "\n",
       "                                            NR_GreenSpace      min_dis  \\\n",
       "siteid                                                                   \n",
       "BX9     MULTIPOLYGON Z (((551286.362 175559.542 0.000,...  6262.058504   \n",
       "CD9     MULTIPOLYGON Z (((530446.501 181828.697 0.000,...   664.503439   \n",
       "CD1     MULTIPOLYGON Z (((527584.073 184093.479 0.000,...  2806.536146   \n",
       "CT2     MULTIPOLYGON Z (((531473.204 182201.430 0.000,...  1713.851661   \n",
       "CT3     MULTIPOLYGON Z (((534480.226 181186.502 0.000,...  1858.165217   \n",
       "CR8     MULTIPOLYGON Z (((530029.704 168597.897 0.000,...  2509.228941   \n",
       "GB0     MULTIPOLYGON Z (((545223.244 174124.937 0.000,...  1111.316933   \n",
       "GN6     MULTIPOLYGON Z (((539996.407 178170.473 0.000,...  2715.809659   \n",
       "GN3     MULTIPOLYGON Z (((545902.127 177587.391 0.000,...  3473.750339   \n",
       "GR9     MULTIPOLYGON Z (((541512.360 174087.320 0.000,...  2129.724397   \n",
       "HV1     MULTIPOLYGON Z (((552196.328 182104.523 0.000,...  6262.058504   \n",
       "LH0     MULTIPOLYGON Z (((507807.977 178672.696 0.000,...  9718.317066   \n",
       "KC1     MULTIPOLYGON Z (((524899.890 181235.036 0.000,...  3697.356076   \n",
       "HP1     MULTIPOLYGON Z (((535537.541 174480.209 0.000,...  2816.480380   \n",
       "LW2     MULTIPOLYGON Z (((537142.701 176501.787 0.000,...  2816.480380   \n",
       "TD5     MULTIPOLYGON Z (((515987.970 170388.792 0.000,...  9718.317066   \n",
       "ST5     MULTIPOLYGON Z (((530398.283 167221.137 0.000,...  2509.228941   \n",
       "TH4     MULTIPOLYGON Z (((537643.124 180685.482 0.000,...  2715.809659   \n",
       "MY7     MULTIPOLYGON Z (((527127.680 181971.043 0.000,...  1890.607497   \n",
       "\n",
       "         buffer_area  pct_Gsp_area  pct_nR_Gsp_area  \n",
       "siteid                                               \n",
       "BX9     3.136548e+06      0.062358         0.022665  \n",
       "CD9     3.136548e+06      0.052833         0.042514  \n",
       "CD1     3.136548e+06      0.035043         0.012352  \n",
       "CT2     3.136548e+06      0.025462         0.019591  \n",
       "CT3     3.136548e+06      0.016023         0.015215  \n",
       "CR8     3.136548e+06      0.127605         0.038658  \n",
       "GB0     3.136548e+06      0.116091         0.058150  \n",
       "GN6     3.136548e+06      0.026770         0.010432  \n",
       "GN3     3.136548e+06      0.134544         0.080624  \n",
       "GR9     3.136548e+06      0.134256         0.058627  \n",
       "HV1     3.136548e+06      0.047735         0.021249  \n",
       "LH0     3.136548e+06      0.116565         0.037017  \n",
       "KC1     3.136548e+06      0.061915         0.053714  \n",
       "HP1     3.136548e+06      0.198268         0.100431  \n",
       "LW2     3.136548e+06      0.056137         0.044357  \n",
       "TD5     3.136548e+06      0.383464         0.100037  \n",
       "ST5     3.136548e+06      0.344285         0.098725  \n",
       "TH4     3.136548e+06      0.045030         0.033772  \n",
       "MY7     3.136548e+06      0.237532         0.075531  "
      ]
     },
     "execution_count": 82,
     "metadata": {},
     "output_type": "execute_result"
    }
   ],
   "source": [
    "loc_gdf"
   ]
  },
  {
   "cell_type": "code",
   "execution_count": 44,
   "metadata": {},
   "outputs": [
    {
     "data": {
      "text/plain": [
       "0.07758598838595276"
      ]
     },
     "execution_count": 44,
     "metadata": {},
     "output_type": "execute_result"
    }
   ],
   "source": [
    "from sklearn.linear_model import LinearRegression\n",
    "\n",
    "reg=LinearRegression().fit(X,Y)\n",
    "reg.score(X,Y)"
   ]
  },
  {
   "cell_type": "code",
   "execution_count": 54,
   "metadata": {},
   "outputs": [
    {
     "data": {
      "text/plain": [
       "<AxesSubplot:xlabel='Date'>"
      ]
     },
     "execution_count": 54,
     "metadata": {},
     "output_type": "execute_result"
    },
    {
     "data": {
      "image/png": "[encoded data removed]",
      "text/plain": [
       "<Figure size 432x288 with 1 Axes>"
      ]
     },
     "metadata": {},
     "output_type": "display_data"
    }
   ],
   "source": [
    "high.groupby('Date').mean()['Value'].plot()"
   ]
  },
  {
   "cell_type": "code",
   "execution_count": 96,
   "metadata": {},
   "outputs": [
    {
     "name": "stdout",
     "output_type": "stream",
     "text": [
      "<class 'pandas.core.frame.DataFrame'>\n",
      "Int64Index: 6935 entries, 0 to 6934\n",
      "Data columns (total 11 columns):\n",
      " #   Column           Non-Null Count  Dtype         \n",
      "---  ------           --------------  -----         \n",
      " 0   DateTime         6935 non-null   object        \n",
      " 1   Value            6935 non-null   float64       \n",
      " 2   Site             6935 non-null   object        \n",
      " 3   geometry         6935 non-null   geometry      \n",
      " 4   pct_Gsp_area     6935 non-null   float64       \n",
      " 5   pct_nR_Gsp_area  6935 non-null   float64       \n",
      " 6   Date             6935 non-null   datetime64[ns]\n",
      " 7   bp_mean          6935 non-null   float64       \n",
      " 8   tmp_mean         6935 non-null   float64       \n",
      " 9   rh_mean          6935 non-null   float64       \n",
      " 10  month            6935 non-null   int64         \n",
      "dtypes: datetime64[ns](1), float64(6), geometry(1), int64(1), object(2)\n",
      "memory usage: 650.2+ KB\n"
     ]
    }
   ],
   "source": [
    "df.info()"
   ]
  },
  {
   "cell_type": "code",
   "execution_count": 98,
   "metadata": {},
   "outputs": [],
   "source": [
    "df['week']=df['Date'].dt.isocalendar().week"
   ]
  },
  {
   "cell_type": "code",
   "execution_count": 104,
   "metadata": {},
   "outputs": [
    {
     "name": "stdout",
     "output_type": "stream",
     "text": [
      "<class 'pandas.core.frame.DataFrame'>\n",
      "RangeIndex: 988 entries, 0 to 987\n",
      "Data columns (total 9 columns):\n",
      " #   Column           Non-Null Count  Dtype  \n",
      "---  ------           --------------  -----  \n",
      " 0   Site             988 non-null    object \n",
      " 1   week             988 non-null    int64  \n",
      " 2   Value            988 non-null    float64\n",
      " 3   pct_Gsp_area     988 non-null    float64\n",
      " 4   pct_nR_Gsp_area  988 non-null    float64\n",
      " 5   bp_mean          988 non-null    float64\n",
      " 6   tmp_mean         988 non-null    float64\n",
      " 7   rh_mean          988 non-null    float64\n",
      " 8   month            988 non-null    float64\n",
      "dtypes: float64(7), int64(1), object(1)\n",
      "memory usage: 69.6+ KB\n"
     ]
    }
   ],
   "source": [
    "weekly=df.groupby(['Site','week']).mean().reset_index()\n",
    "weekly.info()"
   ]
  },
  {
   "cell_type": "code",
   "execution_count": 105,
   "metadata": {},
   "outputs": [],
   "source": [
    "weekly.drop('month',axis=1,inplace=True)"
   ]
  },
  {
   "cell_type": "code",
   "execution_count": 107,
   "metadata": {},
   "outputs": [
    {
     "data": {
      "text/html": [
       "<div>\n",
       "<style scoped>\n",
       "    .dataframe tbody tr th:only-of-type {\n",
       "        vertical-align: middle;\n",
       "    }\n",
       "\n",
       "    .dataframe tbody tr th {\n",
       "        vertical-align: top;\n",
       "    }\n",
       "\n",
       "    .dataframe thead th {\n",
       "        text-align: right;\n",
       "    }\n",
       "</style>\n",
       "<table border=\"1\" class=\"dataframe\">\n",
       "  <thead>\n",
       "    <tr style=\"text-align: right;\">\n",
       "      <th></th>\n",
       "      <th>Value</th>\n",
       "      <th>pct_Gsp_area</th>\n",
       "      <th>pct_nR_Gsp_area</th>\n",
       "      <th>bp_mean</th>\n",
       "      <th>tmp_mean</th>\n",
       "      <th>rh_mean</th>\n",
       "    </tr>\n",
       "  </thead>\n",
       "  <tbody>\n",
       "    <tr>\n",
       "      <th>Value</th>\n",
       "      <td>1.0000</td>\n",
       "      <td>-0.0147</td>\n",
       "      <td>0.0027</td>\n",
       "      <td>0.3885</td>\n",
       "      <td>-0.2056</td>\n",
       "      <td>-0.2820</td>\n",
       "    </tr>\n",
       "    <tr>\n",
       "      <th>pct_Gsp_area</th>\n",
       "      <td>-0.0147</td>\n",
       "      <td>1.0000</td>\n",
       "      <td>0.8738</td>\n",
       "      <td>0.0000</td>\n",
       "      <td>0.0000</td>\n",
       "      <td>-0.0000</td>\n",
       "    </tr>\n",
       "    <tr>\n",
       "      <th>pct_nR_Gsp_area</th>\n",
       "      <td>0.0027</td>\n",
       "      <td>0.8738</td>\n",
       "      <td>1.0000</td>\n",
       "      <td>0.0000</td>\n",
       "      <td>0.0000</td>\n",
       "      <td>-0.0000</td>\n",
       "    </tr>\n",
       "    <tr>\n",
       "      <th>bp_mean</th>\n",
       "      <td>0.3885</td>\n",
       "      <td>0.0000</td>\n",
       "      <td>0.0000</td>\n",
       "      <td>1.0000</td>\n",
       "      <td>0.0868</td>\n",
       "      <td>-0.4388</td>\n",
       "    </tr>\n",
       "    <tr>\n",
       "      <th>tmp_mean</th>\n",
       "      <td>-0.2056</td>\n",
       "      <td>0.0000</td>\n",
       "      <td>0.0000</td>\n",
       "      <td>0.0868</td>\n",
       "      <td>1.0000</td>\n",
       "      <td>-0.5006</td>\n",
       "    </tr>\n",
       "    <tr>\n",
       "      <th>rh_mean</th>\n",
       "      <td>-0.2820</td>\n",
       "      <td>-0.0000</td>\n",
       "      <td>-0.0000</td>\n",
       "      <td>-0.4388</td>\n",
       "      <td>-0.5006</td>\n",
       "      <td>1.0000</td>\n",
       "    </tr>\n",
       "  </tbody>\n",
       "</table>\n",
       "</div>"
      ],
      "text/plain": [
       "                  Value  pct_Gsp_area  pct_nR_Gsp_area  bp_mean  tmp_mean  \\\n",
       "Value            1.0000       -0.0147           0.0027   0.3885   -0.2056   \n",
       "pct_Gsp_area    -0.0147        1.0000           0.8738   0.0000    0.0000   \n",
       "pct_nR_Gsp_area  0.0027        0.8738           1.0000   0.0000    0.0000   \n",
       "bp_mean          0.3885        0.0000           0.0000   1.0000    0.0868   \n",
       "tmp_mean        -0.2056        0.0000           0.0000   0.0868    1.0000   \n",
       "rh_mean         -0.2820       -0.0000          -0.0000  -0.4388   -0.5006   \n",
       "\n",
       "                 rh_mean  \n",
       "Value            -0.2820  \n",
       "pct_Gsp_area     -0.0000  \n",
       "pct_nR_Gsp_area  -0.0000  \n",
       "bp_mean          -0.4388  \n",
       "tmp_mean         -0.5006  \n",
       "rh_mean           1.0000  "
      ]
     },
     "execution_count": 107,
     "metadata": {},
     "output_type": "execute_result"
    }
   ],
   "source": [
    "weekly[['Value']+vars].corr().round(4)"
   ]
  },
  {
   "cell_type": "code",
   "execution_count": 108,
   "metadata": {},
   "outputs": [
    {
     "name": "stdout",
     "output_type": "stream",
     "text": [
      "REGRESSION\n",
      "----------\n",
      "SUMMARY OF OUTPUT: ORDINARY LEAST SQUARES\n",
      "-----------------------------------------\n",
      "Data set            :     unknown\n",
      "Weights matrix      :        None\n",
      "Dependent Variable  :  PM reading                Number of Observations:         988\n",
      "Mean dependent var  :      0.0288                Number of Variables   :           6\n",
      "S.D. dependent var  :      0.0135                Degrees of Freedom    :         982\n",
      "R-squared           :      0.2940\n",
      "Adjusted R-squared  :      0.2904\n",
      "Sum squared residual:       0.128                F-statistic           :     81.7707\n",
      "Sigma-square        :       0.000                Prob(F-statistic)     :   7.867e-72\n",
      "S.E. of regression  :       0.011                Log likelihood        :    3020.492\n",
      "Sigma-square ML     :       0.000                Akaike info criterion :   -6028.983\n",
      "S.E of regression ML:      0.0114                Schwarz criterion     :   -5999.609\n",
      "\n",
      "------------------------------------------------------------------------------------\n",
      "            Variable     Coefficient       Std.Error     t-Statistic     Probability\n",
      "------------------------------------------------------------------------------------\n",
      "            CONSTANT      -0.3840227       0.0609387      -6.3017905       0.0000000\n",
      "        pct_Gsp_area      -0.0463975       0.0354977      -1.3070570       0.1914993\n",
      "     pct_nR_Gsp_area       0.0539790       0.0453044       1.1914736       0.2337556\n",
      "             bp_mean      15.5303965       1.8145960       8.5585975       0.0000000\n",
      "            tmp_mean      -0.6118751       0.0461454     -13.2597344       0.0000000\n",
      "             rh_mean      -1.9865772       0.1836785     -10.8155112       0.0000000\n",
      "------------------------------------------------------------------------------------\n",
      "\n",
      "REGRESSION DIAGNOSTICS\n",
      "MULTICOLLINEARITY CONDITION NUMBER          536.449\n",
      "\n",
      "TEST ON NORMALITY OF ERRORS\n",
      "TEST                             DF        VALUE           PROB\n",
      "Jarque-Bera                       2        1758.093           0.0000\n",
      "\n",
      "DIAGNOSTICS FOR HETEROSKEDASTICITY\n",
      "RANDOM COEFFICIENTS\n",
      "TEST                             DF        VALUE           PROB\n",
      "Breusch-Pagan test                5         377.177           0.0000\n",
      "Koenker-Bassett test              5         100.390           0.0000\n",
      "================================ END OF REPORT =====================================\n"
     ]
    }
   ],
   "source": [
    "Y=weekly['Value'].values\n",
    "Y=Y/np.linalg.norm(Y,axis=0)\n",
    "\n",
    "X=weekly[vars].values\n",
    "X=X/np.linalg.norm(X,axis=0)\n",
    "\n",
    "m_weekly=OLS(Y,X,name_y='PM reading',name_x=vars)\n",
    "\n",
    "print(m_weekly.summary)"
   ]
  },
  {
   "cell_type": "code",
   "execution_count": 109,
   "metadata": {},
   "outputs": [
    {
     "name": "stdout",
     "output_type": "stream",
     "text": [
      "<class 'pandas.core.frame.DataFrame'>\n",
      "Int64Index: 6935 entries, 0 to 6934\n",
      "Data columns (total 12 columns):\n",
      " #   Column           Non-Null Count  Dtype         \n",
      "---  ------           --------------  -----         \n",
      " 0   DateTime         6935 non-null   object        \n",
      " 1   Value            6935 non-null   float64       \n",
      " 2   Site             6935 non-null   object        \n",
      " 3   geometry         6935 non-null   geometry      \n",
      " 4   pct_Gsp_area     6935 non-null   float64       \n",
      " 5   pct_nR_Gsp_area  6935 non-null   float64       \n",
      " 6   Date             6935 non-null   datetime64[ns]\n",
      " 7   bp_mean          6935 non-null   float64       \n",
      " 8   tmp_mean         6935 non-null   float64       \n",
      " 9   rh_mean          6935 non-null   float64       \n",
      " 10  month            6935 non-null   int64         \n",
      " 11  week             6935 non-null   UInt32        \n",
      "dtypes: UInt32(1), datetime64[ns](1), float64(6), geometry(1), int64(1), object(2)\n",
      "memory usage: 684.0+ KB\n"
     ]
    }
   ],
   "source": [
    "df.info()"
   ]
  },
  {
   "cell_type": "code",
   "execution_count": 110,
   "metadata": {},
   "outputs": [
    {
     "name": "stdout",
     "output_type": "stream",
     "text": [
      "<class 'pandas.core.frame.DataFrame'>\n",
      "RangeIndex: 183960 entries, 0 to 183959\n",
      "Data columns (total 3 columns):\n",
      " #   Column    Non-Null Count   Dtype  \n",
      "---  ------    --------------   -----  \n",
      " 0   Site      183960 non-null  object \n",
      " 1   Value     183960 non-null  float64\n",
      " 2   DateTime  183960 non-null  object \n",
      "dtypes: float64(1), object(2)\n",
      "memory usage: 4.2+ MB\n"
     ]
    }
   ],
   "source": [
    "hourly=pd.read_csv('data/hourly.csv')\n",
    "hourly.info()"
   ]
  },
  {
   "cell_type": "code",
   "execution_count": 111,
   "metadata": {},
   "outputs": [],
   "source": [
    "hourly['DateTime']=pd.to_datetime(hourly['DateTime'])"
   ]
  },
  {
   "cell_type": "code",
   "execution_count": 129,
   "metadata": {},
   "outputs": [
    {
     "data": {
      "text/plain": [
       "<AxesSubplot:xlabel='DateTime'>"
      ]
     },
     "execution_count": 129,
     "metadata": {},
     "output_type": "execute_result"
    },
    {
     "data": {
      "image/png": "[encoded data removed]",
      "text/plain": [
       "<Figure size 432x288 with 1 Axes>"
      ]
     },
     "metadata": {},
     "output_type": "display_data"
    }
   ],
   "source": [
    "hourly.groupby(hourly['DateTime'].dt.hour).mean().plot()"
   ]
  },
  {
   "cell_type": "code",
   "execution_count": 125,
   "metadata": {},
   "outputs": [
    {
     "data": {
      "text/plain": [
       "<AxesSubplot:xlabel='DateTime'>"
      ]
     },
     "execution_count": 125,
     "metadata": {},
     "output_type": "execute_result"
    },
    {
     "data": {
      "image/png": "[encoded data removed]",
      "text/plain": [
       "<Figure size 432x288 with 1 Axes>"
      ]
     },
     "metadata": {},
     "output_type": "display_data"
    }
   ],
   "source": [
    "hourly.groupby(hourly['DateTime'].dt.dayofweek).mean().plot()"
   ]
  },
  {
   "cell_type": "code",
   "execution_count": 128,
   "metadata": {},
   "outputs": [
    {
     "data": {
      "text/plain": [
       "<AxesSubplot:xlabel='DateTime'>"
      ]
     },
     "execution_count": 128,
     "metadata": {},
     "output_type": "execute_result"
    },
    {
     "data": {
      "image/png": "[encoded data removed]",
      "text/plain": [
       "<Figure size 432x288 with 1 Axes>"
      ]
     },
     "metadata": {},
     "output_type": "display_data"
    }
   ],
   "source": [
    "hourly.groupby(hourly['DateTime'].dt.day).mean().plot()"
   ]
  }
 ],
 "metadata": {
  "interpreter": {
   "hash": "203d01a3458eace725dddcfcdb2c604435d077f4f6685c100707a5d3f77ea293"
  },
  "kernelspec": {
   "display_name": "Python 3.8.10 64-bit ('sds2021': conda)",
   "language": "python",
   "name": "python3"
  },
  "language_info": {
   "codemirror_mode": {
    "name": "ipython",
    "version": 3
   },
   "file_extension": ".py",
   "mimetype": "text/x-python",
   "name": "python",
   "nbconvert_exporter": "python",
   "pygments_lexer": "ipython3",
   "version": "3.8.10"
  },
  "orig_nbformat": 4
 },
 "nbformat": 4,
 "nbformat_minor": 2
}
