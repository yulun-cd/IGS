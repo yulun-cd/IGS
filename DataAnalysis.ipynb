{
 "cells": [
  {
   "cell_type": "code",
   "execution_count": 46,
   "metadata": {},
   "outputs": [],
   "source": [
    "import pandas as pd\n",
    "import geopandas as gpd\n",
    "import numpy as np\n",
    "\n",
    "import matplotlib.pyplot as plt\n",
    "import seaborn as sns\n",
    "\n",
    "from libpysal.weights import Kernel\n",
    "from esda.moran import Moran\n",
    "\n",
    "from scipy import stats\n",
    "from spreg import OLS\n",
    "from sklearn.linear_model import LinearRegression\n",
    "from sklearn.cross_decomposition import PLSRegression\n",
    "from sklearn.model_selection import train_test_split, KFold, cross_val_predict, cross_val_score\n",
    "from sklearn.inspection import permutation_importance"
   ]
  },
  {
   "cell_type": "code",
   "execution_count": 151,
   "metadata": {},
   "outputs": [],
   "source": [
    "sns.set_theme(style='darkgrid')"
   ]
  },
  {
   "cell_type": "code",
   "execution_count": 2,
   "metadata": {},
   "outputs": [],
   "source": [
    "loc_gdf = gpd.read_file('data/AQMS_loc.shp')"
   ]
  },
  {
   "cell_type": "markdown",
   "metadata": {},
   "source": [
    "# Initialise"
   ]
  },
  {
   "cell_type": "code",
   "execution_count": null,
   "metadata": {},
   "outputs": [],
   "source": [
    "# Read in all the data\n",
    "\n",
    "AQMS_df=pd.read_csv('data/hourly.csv')\n",
    "Rd_gdf=gpd.read_file('data/london_Road.shp')\n",
    "Gsp_gdf=gpd.read_file('data/LD_GreenSpace.shp')\n",
    "\n",
    "cond=pd.read_csv('data/cond_hourly.csv')"
   ]
  },
  {
   "cell_type": "code",
   "execution_count": null,
   "metadata": {},
   "outputs": [],
   "source": [
    "# reindex loc_gdf and set buffer zones around each site (1km)\n",
    "\n",
    "loc_gdf=loc_gdf.set_index('siteid')\n",
    "loc_gdf['buffer_1km']=loc_gdf['geometry'].buffer(1000)"
   ]
  },
  {
   "cell_type": "code",
   "execution_count": null,
   "metadata": {},
   "outputs": [],
   "source": [
    "# Get all green spaces\n",
    "Gsp=Gsp_gdf['geometry'].unary_union\n",
    "\n",
    "# Get all roads\n",
    "Rd=Rd_gdf['geometry'].unary_union"
   ]
  },
  {
   "cell_type": "code",
   "execution_count": null,
   "metadata": {},
   "outputs": [],
   "source": [
    "# Set buffer zones for every road (50m)\n",
    "Rd_gdf['buffer_50m']=Rd_gdf['geometry'].buffer(50)\n",
    "# Get all road buffer zones\n",
    "Rd_buffer=Rd_gdf['buffer_50m'].unary_union"
   ]
  },
  {
   "cell_type": "code",
   "execution_count": null,
   "metadata": {},
   "outputs": [],
   "source": [
    "# Get all near-road green spaces\n",
    "nRd_Gsp=Gsp.intersection(Rd_buffer)"
   ]
  },
  {
   "cell_type": "code",
   "execution_count": null,
   "metadata": {},
   "outputs": [],
   "source": [
    "# Get all near-greenspace roads\n",
    "nRd_Gsp_buffer=nRd_Gsp.buffer(50)\n",
    "nGsp_Rd=Rd.intersection(nRd_Gsp_buffer)"
   ]
  },
  {
   "cell_type": "code",
   "execution_count": null,
   "metadata": {},
   "outputs": [],
   "source": [
    "# store all buffer zones in a list\n",
    "AQMS_shp=[]\n",
    "for site in loc_gdf.index:\n",
    "    AQMS_shp.append(loc_gdf.loc[site,'buffer_1km'])"
   ]
  },
  {
   "cell_type": "code",
   "execution_count": null,
   "metadata": {},
   "outputs": [],
   "source": [
    "# get all roads, green spaces, near-road green spaces and near-gsp roads in buffer zones around every sites\n",
    "Rd_shp=[]\n",
    "Gsp_shp=[]\n",
    "nRd_Gsp_shp=[]\n",
    "nGsp_Rd_shp=[]\n",
    "for poly in AQMS_shp:\n",
    "    Rd_shp.append(poly.intersection(Rd))\n",
    "    Gsp_shp.append(poly.intersection(Gsp))\n",
    "    nRd_Gsp_shp.append(poly.intersection(nRd_Gsp))\n",
    "    nGsp_Rd_shp.append(poly.intersection(nGsp_Rd))\n",
    "print(len(Rd_shp),len(Gsp_shp),len(nRd_Gsp_shp),len(nGsp_Rd_shp))"
   ]
  },
  {
   "cell_type": "code",
   "execution_count": null,
   "metadata": {},
   "outputs": [],
   "source": [
    "# append them into the dataframe\n",
    "loc_gdf['Rd']=Rd_shp\n",
    "loc_gdf['Gsp']=Gsp_shp\n",
    "loc_gdf['nRd_Gsp']=nRd_Gsp_shp\n",
    "loc_gdf['nGsp_Rd']=nGsp_Rd_shp\n",
    "\n",
    "# and set their data types to geometry\n",
    "loc_gdf=loc_gdf.set_geometry('Rd').set_geometry('Gsp').set_geometry('nRd_Gsp').set_geometry('nGsp_Rd')"
   ]
  },
  {
   "cell_type": "code",
   "execution_count": null,
   "metadata": {},
   "outputs": [],
   "source": [
    "# london boundary read in\n",
    "london=gpd.read_file('data/london_boundary.shp')"
   ]
  },
  {
   "cell_type": "code",
   "execution_count": null,
   "metadata": {},
   "outputs": [],
   "source": [
    "# visualise all the sites on the map\n",
    "fig,ax=plt.subplots(1,figsize=(15,13))\n",
    "\n",
    "london.plot(color='lightgrey',ax=ax)\n",
    "loc_gdf['buffer_1km'].plot(color='silver',ax=ax)\n",
    "loc_gdf['Gsp'].plot(label='Green space',color='limegreen',ax=ax)\n",
    "loc_gdf['nRd_Gsp'].plot(label='Near_road green space',color='darkgreen',ax=ax)\n",
    "loc_gdf['Rd'].plot(color='black',label='Road',linewidth=0.1,ax=ax)\n",
    "loc_gdf['geometry'].plot(markersize=5,marker='^',color='blue',label='Air quality monitoring site',ax=ax)\n",
    "\n",
    "ax.axis('off')\n",
    "\n",
    "legend=ax.legend(loc='best',shadow=True,fontsize=15)\n",
    "\n",
    "#plt.savefig('sample1.png',facecolor='black',dpi=500)\n",
    "plt.show()"
   ]
  },
  {
   "cell_type": "markdown",
   "metadata": {},
   "source": [
    "There are some buffers that seem to be very close to each other."
   ]
  },
  {
   "cell_type": "code",
   "execution_count": null,
   "metadata": {},
   "outputs": [],
   "source": [
    "# add a column that specifies the shortest distance of a site to its nearest neighbour\n",
    "loc_gdf['min_dis']=pd.Series(dtype='float64')\n",
    "for index, row in loc_gdf.iterrows():\n",
    "    dis=[]\n",
    "    for i, v in loc_gdf['geometry'].iteritems():\n",
    "        dis.append(row['geometry'].distance(v))\n",
    "    dis.remove(0)\n",
    "    loc_gdf.loc[index,'min_dis']=min(dis)"
   ]
  },
  {
   "cell_type": "code",
   "execution_count": null,
   "metadata": {},
   "outputs": [],
   "source": [
    "# list sites that are close to each other (within 1.5km)\n",
    "loc_gdf[loc_gdf['min_dis']<=1500]"
   ]
  },
  {
   "cell_type": "code",
   "execution_count": null,
   "metadata": {},
   "outputs": [],
   "source": [
    "# check their readings' descriptive statistics\n",
    "AQMS_df[AQMS_df['Site'].isin(['BL0','CD9','GR4','GB0'])].groupby('Site').describe()"
   ]
  },
  {
   "cell_type": "code",
   "execution_count": null,
   "metadata": {},
   "outputs": [],
   "source": [
    "stats.ttest_rel(AQMS_df[AQMS_df['Site']=='BL0'].Value.values,AQMS_df[AQMS_df['Site']=='CD9'].Value.values)"
   ]
  },
  {
   "cell_type": "code",
   "execution_count": null,
   "metadata": {},
   "outputs": [],
   "source": [
    "stats.ttest_rel(AQMS_df[AQMS_df['Site']=='GR4'].Value.values,AQMS_df[AQMS_df['Site']=='GB0'].Value.values)"
   ]
  },
  {
   "cell_type": "markdown",
   "metadata": {},
   "source": [
    "Both indicate that we should reject H0, meaning the two datasets are statistically significantly different."
   ]
  },
  {
   "cell_type": "code",
   "execution_count": null,
   "metadata": {},
   "outputs": [],
   "source": [
    "# revmove them from the list\n",
    "loc_gdf.drop(['BL0','GR4'],inplace=True)"
   ]
  },
  {
   "cell_type": "code",
   "execution_count": null,
   "metadata": {},
   "outputs": [],
   "source": [
    "# get the area of each buffer zone\n",
    "loc_gdf['buffer_area']=loc_gdf['buffer_1km'].area"
   ]
  },
  {
   "cell_type": "code",
   "execution_count": null,
   "metadata": {},
   "outputs": [],
   "source": [
    "loc_gdf['Rd_len']=loc_gdf['Rd'].length"
   ]
  },
  {
   "cell_type": "code",
   "execution_count": null,
   "metadata": {},
   "outputs": [],
   "source": [
    "# get percentages of green space and near-road green space areas \n",
    "loc_gdf['Gsp_area']=loc_gdf['Gsp'].area\n",
    "loc_gdf['pct_nRd_Gsp']=loc_gdf['nRd_Gsp'].area/loc_gdf['Gsp_area']*100"
   ]
  },
  {
   "cell_type": "code",
   "execution_count": null,
   "metadata": {},
   "outputs": [],
   "source": [
    "# near-road green space area per road length\n",
    "loc_gdf['nRd_Gsp_per_Rd_len']=loc_gdf['nRd_Gsp'].area/loc_gdf['Rd_len']"
   ]
  },
  {
   "cell_type": "code",
   "execution_count": null,
   "metadata": {},
   "outputs": [],
   "source": [
    "# percentage of near-green-space road\n",
    "loc_gdf['pct_nGsp_Rd']=loc_gdf['nGsp_Rd'].length/loc_gdf['Rd_len']*100"
   ]
  },
  {
   "cell_type": "code",
   "execution_count": null,
   "metadata": {},
   "outputs": [],
   "source": [
    "var_names=loc_gdf.columns[9:].values.tolist()"
   ]
  },
  {
   "cell_type": "code",
   "execution_count": null,
   "metadata": {},
   "outputs": [],
   "source": [
    "# merge PM reading and site geogemetry data\n",
    "df=pd.merge(AQMS_df,loc_gdf,left_on='Site',right_index=True)\n",
    "df.info()"
   ]
  },
  {
   "cell_type": "code",
   "execution_count": null,
   "metadata": {},
   "outputs": [],
   "source": [
    "# drop irrelevant columns\n",
    "df.drop(['sitename','buffer_1km','Rd','Gsp','nRd_Gsp','nGsp_Rd','min_dis','buffer_area'],\n",
    "        axis=1,inplace=True)\n",
    "df.info()"
   ]
  },
  {
   "cell_type": "code",
   "execution_count": null,
   "metadata": {},
   "outputs": [],
   "source": [
    "# covert the DateTime column to numpy.datetime variable\n",
    "df['DateTime']=pd.to_datetime(df['DateTime'])"
   ]
  },
  {
   "cell_type": "code",
   "execution_count": null,
   "metadata": {},
   "outputs": [],
   "source": [
    "# merge with conditional variables\n",
    "cond['DateTime']=pd.to_datetime(cond['DateTime'])\n",
    "df=df.merge(cond,on='DateTime')\n",
    "df.info()"
   ]
  },
  {
   "cell_type": "code",
   "execution_count": null,
   "metadata": {},
   "outputs": [],
   "source": [
    "df.hist()"
   ]
  },
  {
   "cell_type": "code",
   "execution_count": null,
   "metadata": {},
   "outputs": [],
   "source": [
    "df['Gsp_area'].hist()"
   ]
  },
  {
   "cell_type": "code",
   "execution_count": null,
   "metadata": {},
   "outputs": [],
   "source": [
    "df['log_Gsp_area']=np.log(df['Gsp_area'])\n",
    "df['log_Gsp_area'].hist()"
   ]
  },
  {
   "cell_type": "code",
   "execution_count": null,
   "metadata": {},
   "outputs": [],
   "source": [
    "df['nRd_Gsp_per_Rd_len'].hist()"
   ]
  },
  {
   "cell_type": "code",
   "execution_count": null,
   "metadata": {},
   "outputs": [],
   "source": [
    "df['log_nRd_Gsp_per_Rd_len']=np.log(df['nRd_Gsp_per_Rd_len'])\n",
    "df['log_nRd_Gsp_per_Rd_len'].hist()"
   ]
  },
  {
   "cell_type": "code",
   "execution_count": null,
   "metadata": {},
   "outputs": [],
   "source": [
    "df[var_names].describe()"
   ]
  },
  {
   "cell_type": "code",
   "execution_count": null,
   "metadata": {},
   "outputs": [],
   "source": [
    "# feature scaling\n",
    "df['Rd_len']=df['Rd_len']/1000"
   ]
  },
  {
   "cell_type": "code",
   "execution_count": null,
   "metadata": {},
   "outputs": [],
   "source": [
    "df.to_csv('temp_data.csv',index=False)"
   ]
  },
  {
   "cell_type": "markdown",
   "metadata": {},
   "source": [
    "# Temporarily save"
   ]
  },
  {
   "cell_type": "code",
   "execution_count": 3,
   "metadata": {},
   "outputs": [],
   "source": [
    "df = pd.read_csv('temp_data.csv')"
   ]
  },
  {
   "cell_type": "code",
   "execution_count": 4,
   "metadata": {},
   "outputs": [
    {
     "name": "stdout",
     "output_type": "stream",
     "text": [
      "<class 'pandas.core.frame.DataFrame'>\n",
      "RangeIndex: 183960 entries, 0 to 183959\n",
      "Data columns (total 14 columns):\n",
      " #   Column                  Non-Null Count   Dtype  \n",
      "---  ------                  --------------   -----  \n",
      " 0   Site                    183960 non-null  object \n",
      " 1   Value                   183960 non-null  float64\n",
      " 2   DateTime                183960 non-null  object \n",
      " 3   geometry                183960 non-null  object \n",
      " 4   Rd_len                  183960 non-null  float64\n",
      " 5   Gsp_area                183960 non-null  float64\n",
      " 6   pct_nRd_Gsp             183960 non-null  float64\n",
      " 7   nRd_Gsp_per_Rd_len      183960 non-null  float64\n",
      " 8   pct_nGsp_Rd             183960 non-null  float64\n",
      " 9   bp_mean                 183960 non-null  float64\n",
      " 10  tmp_mean                183960 non-null  float64\n",
      " 11  rh_mean                 183960 non-null  float64\n",
      " 12  log_Gsp_area            183960 non-null  float64\n",
      " 13  log_nRd_Gsp_per_Rd_len  183960 non-null  float64\n",
      "dtypes: float64(11), object(3)\n",
      "memory usage: 19.6+ MB\n"
     ]
    }
   ],
   "source": [
    "df.info()"
   ]
  },
  {
   "cell_type": "code",
   "execution_count": 5,
   "metadata": {},
   "outputs": [],
   "source": [
    "df['DateTime'] = pd.to_datetime(df['DateTime'])"
   ]
  },
  {
   "cell_type": "code",
   "execution_count": 6,
   "metadata": {},
   "outputs": [],
   "source": [
    "var_names = df.columns[4:9].tolist()"
   ]
  },
  {
   "cell_type": "code",
   "execution_count": 7,
   "metadata": {},
   "outputs": [
    {
     "data": {
      "text/plain": [
       "['Rd_len',\n",
       " 'log_Gsp_area',\n",
       " 'pct_nRd_Gsp',\n",
       " 'log_nRd_Gsp_per_Rd_len',\n",
       " 'pct_nGsp_Rd']"
      ]
     },
     "execution_count": 7,
     "metadata": {},
     "output_type": "execute_result"
    }
   ],
   "source": [
    "var_names[1] = 'log_Gsp_area'\n",
    "var_names[3] = 'log_nRd_Gsp_per_Rd_len'\n",
    "var_names"
   ]
  },
  {
   "cell_type": "code",
   "execution_count": 8,
   "metadata": {},
   "outputs": [],
   "source": [
    "loc_gdf = pd.merge(df.groupby('Site').mean()[var_names], loc_gdf, left_index=True, right_on='siteid')"
   ]
  },
  {
   "cell_type": "code",
   "execution_count": 9,
   "metadata": {},
   "outputs": [],
   "source": [
    "loc_gdf = loc_gdf.set_index('siteid')"
   ]
  },
  {
   "cell_type": "code",
   "execution_count": 10,
   "metadata": {},
   "outputs": [],
   "source": [
    "# kernel weight matrix for the sites\n",
    "weight = Kernel.from_dataframe(loc_gdf, geom_col='geometry', function='gaussian')"
   ]
  },
  {
   "cell_type": "code",
   "execution_count": 11,
   "metadata": {},
   "outputs": [
    {
     "name": "stdout",
     "output_type": "stream",
     "text": [
      "Global Moran's I for Rd_len is 0.23493\n",
      "Global Moran's I for log_Gsp_area is 0.12411\n",
      "Global Moran's I for pct_nRd_Gsp is 0.11296\n",
      "Global Moran's I for log_nRd_Gsp_per_Rd_len is 0.14754\n",
      "Global Moran's I for pct_nGsp_Rd is 0.06421\n"
     ]
    }
   ],
   "source": [
    "for var in var_names:\n",
    "    moran_temp = Moran(loc_gdf[var].values, weight)\n",
    "    print(\"Global Moran's I for \" + var + ' is ' + str(round(moran_temp.I, 5)))"
   ]
  },
  {
   "cell_type": "code",
   "execution_count": 12,
   "metadata": {},
   "outputs": [
    {
     "data": {
      "text/plain": [
       "<AxesSubplot:xlabel='hour'>"
      ]
     },
     "execution_count": 12,
     "metadata": {},
     "output_type": "execute_result"
    },
    {
     "data": {
      "image/png": "[encoded data removed]",
      "text/plain": [
       "<Figure size 432x288 with 1 Axes>"
      ]
     },
     "metadata": {
      "needs_background": "light"
     },
     "output_type": "display_data"
    }
   ],
   "source": [
    "df['hour'] = df['DateTime'].dt.hour\n",
    "df.groupby('hour').mean()['Value'].plot()"
   ]
  },
  {
   "cell_type": "code",
   "execution_count": 13,
   "metadata": {},
   "outputs": [
    {
     "data": {
      "text/plain": [
       "<AxesSubplot:xlabel='dayofweek'>"
      ]
     },
     "execution_count": 13,
     "metadata": {},
     "output_type": "execute_result"
    },
    {
     "data": {
      "image/png": "[encoded data removed]",
      "text/plain": [
       "<Figure size 432x288 with 1 Axes>"
      ]
     },
     "metadata": {
      "needs_background": "light"
     },
     "output_type": "display_data"
    }
   ],
   "source": [
    "df['dayofweek'] = df['DateTime'].dt.dayofweek\n",
    "df.groupby('dayofweek').mean()['Value'].plot()"
   ]
  },
  {
   "cell_type": "code",
   "execution_count": 14,
   "metadata": {},
   "outputs": [
    {
     "data": {
      "text/plain": [
       "<AxesSubplot:xlabel='dayofmonth'>"
      ]
     },
     "execution_count": 14,
     "metadata": {},
     "output_type": "execute_result"
    },
    {
     "data": {
      "image/png": "[encoded data removed]",
      "text/plain": [
       "<Figure size 432x288 with 1 Axes>"
      ]
     },
     "metadata": {
      "needs_background": "light"
     },
     "output_type": "display_data"
    }
   ],
   "source": [
    "df['dayofmonth'] = df['DateTime'].dt.day\n",
    "df.groupby('dayofmonth').mean()['Value'].plot()"
   ]
  },
  {
   "cell_type": "code",
   "execution_count": 123,
   "metadata": {},
   "outputs": [],
   "source": [
    "def get_importance(reg, features, target, feature_names, rep=50):\n",
    "    mean = []\n",
    "    std = []\n",
    "    importance = permutation_importance(reg, features, target, n_repeats=rep, random_state=25)\n",
    "    for i in range(len(feature_names)):\n",
    "        mean.append(round(importance.importances_mean[i], 5))\n",
    "        std.append(round(importance.importances_std[i], 5))\n",
    "    return mean, std"
   ]
  },
  {
   "cell_type": "code",
   "execution_count": 88,
   "metadata": {},
   "outputs": [],
   "source": [
    "def get_cv_score(reg, features, target, iter=100, split=10, method='r2'):\n",
    "    score = []\n",
    "    for i in range(iter):\n",
    "        kf = KFold(n_splits=split, shuffle=True, random_state=i)\n",
    "        cv = cross_val_score(reg, features, target, cv=kf, scoring=method).tolist()\n",
    "        score = score + cv\n",
    "    \n",
    "    return (np.mean(score), np.std(score))"
   ]
  },
  {
   "cell_type": "code",
   "execution_count": 155,
   "metadata": {},
   "outputs": [
    {
     "data": {
      "text/plain": [
       "([0.00062, 0.00227, 0.00982, 0.00181, 0.00614, 0.08188, 0.04127, 0.00063],\n",
       " [8e-05, 0.00015, 0.00032, 0.00013, 0.00023, 0.00101, 0.00064, 8e-05])"
      ]
     },
     "execution_count": 155,
     "metadata": {},
     "output_type": "execute_result"
    }
   ],
   "source": [
    "reg = LinearRegression()\n",
    "var = var_names + ['bp_mean', 'tmp_mean', 'rh_mean']\n",
    "\n",
    "ap_X = df[var].values\n",
    "ap_y = df['Value'].values\n",
    "\n",
    "reg.fit(ap_X, ap_y)\n",
    "\n",
    "get_importance(reg, ap_X, ap_y, var)"
   ]
  },
  {
   "cell_type": "code",
   "execution_count": 125,
   "metadata": {},
   "outputs": [
    {
     "data": {
      "text/plain": [
       "(-101.5506383954683, 11.163371902735307)"
      ]
     },
     "execution_count": 125,
     "metadata": {},
     "output_type": "execute_result"
    }
   ],
   "source": [
    "get_cv_score(reg, ap_X, ap_y, method='neg_mean_squared_error')"
   ]
  },
  {
   "cell_type": "code",
   "execution_count": 126,
   "metadata": {},
   "outputs": [],
   "source": [
    "h_fi = []\n",
    "h_cv = []\n",
    "h_coef = []\n",
    "for hour in df['hour'].unique():\n",
    "    X = df[df['hour']==hour].loc[:,var].values\n",
    "    y = df[df['hour']==hour].loc[:,'Value'].values\n",
    "    reg.fit(X, y)\n",
    "    \n",
    "    fi_mean, fi_std = get_importance(reg, X, y, feature_names=var)\n",
    "    h_fi.append(fi_mean + fi_std)\n",
    "    \n",
    "    r2 = list(get_cv_score(reg, X, y))\n",
    "    mse = list(get_cv_score(reg, X, y, method='neg_mean_squared_error'))\n",
    "    h_cv.append(r2 + mse)\n",
    "    \n",
    "    coef = reg.coef_.tolist()\n",
    "    coef.append(reg.intercept_)\n",
    "    h_coef.append(coef)\n",
    "    \n",
    "h_fi = pd.DataFrame(h_fi, columns=['fi_' + elem for elem in var] + ['fi_std_' + elem for elem in var])\n",
    "h_cv = pd.DataFrame(h_cv, columns=['r2', 'r2_std', 'mse', 'mse_std'])\n",
    "h_coef = pd.DataFrame(h_coef, columns=var+['intercept'])"
   ]
  },
  {
   "cell_type": "code",
   "execution_count": 127,
   "metadata": {},
   "outputs": [
    {
     "data": {
      "text/html": [
       "<div>\n",
       "<style scoped>\n",
       "    .dataframe tbody tr th:only-of-type {\n",
       "        vertical-align: middle;\n",
       "    }\n",
       "\n",
       "    .dataframe tbody tr th {\n",
       "        vertical-align: top;\n",
       "    }\n",
       "\n",
       "    .dataframe thead th {\n",
       "        text-align: right;\n",
       "    }\n",
       "</style>\n",
       "<table border=\"1\" class=\"dataframe\">\n",
       "  <thead>\n",
       "    <tr style=\"text-align: right;\">\n",
       "      <th></th>\n",
       "      <th>Rd_len</th>\n",
       "      <th>log_Gsp_area</th>\n",
       "      <th>pct_nRd_Gsp</th>\n",
       "      <th>log_nRd_Gsp_per_Rd_len</th>\n",
       "      <th>pct_nGsp_Rd</th>\n",
       "      <th>bp_mean</th>\n",
       "      <th>tmp_mean</th>\n",
       "      <th>rh_mean</th>\n",
       "      <th>intercept</th>\n",
       "      <th>r2</th>\n",
       "      <th>...</th>\n",
       "      <th>fi_tmp_mean</th>\n",
       "      <th>fi_rh_mean</th>\n",
       "      <th>fi_std_Rd_len</th>\n",
       "      <th>fi_std_log_Gsp_area</th>\n",
       "      <th>fi_std_pct_nRd_Gsp</th>\n",
       "      <th>fi_std_log_nRd_Gsp_per_Rd_len</th>\n",
       "      <th>fi_std_pct_nGsp_Rd</th>\n",
       "      <th>fi_std_bp_mean</th>\n",
       "      <th>fi_std_tmp_mean</th>\n",
       "      <th>fi_std_rh_mean</th>\n",
       "    </tr>\n",
       "  </thead>\n",
       "  <tbody>\n",
       "    <tr>\n",
       "      <th>0</th>\n",
       "      <td>-0.400459</td>\n",
       "      <td>14.445871</td>\n",
       "      <td>0.376688</td>\n",
       "      <td>-12.842407</td>\n",
       "      <td>-0.247065</td>\n",
       "      <td>0.202783</td>\n",
       "      <td>-0.530646</td>\n",
       "      <td>0.116184</td>\n",
       "      <td>-359.161120</td>\n",
       "      <td>0.108095</td>\n",
       "      <td>...</td>\n",
       "      <td>0.07989</td>\n",
       "      <td>0.01054</td>\n",
       "      <td>0.00954</td>\n",
       "      <td>0.03132</td>\n",
       "      <td>0.01900</td>\n",
       "      <td>0.02417</td>\n",
       "      <td>0.00286</td>\n",
       "      <td>0.00480</td>\n",
       "      <td>0.00409</td>\n",
       "      <td>0.00177</td>\n",
       "    </tr>\n",
       "    <tr>\n",
       "      <th>1</th>\n",
       "      <td>0.009116</td>\n",
       "      <td>-0.456809</td>\n",
       "      <td>0.013030</td>\n",
       "      <td>1.293369</td>\n",
       "      <td>-0.066925</td>\n",
       "      <td>0.196386</td>\n",
       "      <td>-0.483837</td>\n",
       "      <td>0.172304</td>\n",
       "      <td>-191.641636</td>\n",
       "      <td>0.095605</td>\n",
       "      <td>...</td>\n",
       "      <td>0.07239</td>\n",
       "      <td>0.02486</td>\n",
       "      <td>0.00023</td>\n",
       "      <td>0.00080</td>\n",
       "      <td>0.00058</td>\n",
       "      <td>0.00197</td>\n",
       "      <td>0.00086</td>\n",
       "      <td>0.00484</td>\n",
       "      <td>0.00388</td>\n",
       "      <td>0.00237</td>\n",
       "    </tr>\n",
       "    <tr>\n",
       "      <th>2</th>\n",
       "      <td>-0.029306</td>\n",
       "      <td>0.990506</td>\n",
       "      <td>0.046972</td>\n",
       "      <td>-0.026651</td>\n",
       "      <td>-0.085198</td>\n",
       "      <td>0.192388</td>\n",
       "      <td>-0.484688</td>\n",
       "      <td>0.213033</td>\n",
       "      <td>-208.059063</td>\n",
       "      <td>0.097723</td>\n",
       "      <td>...</td>\n",
       "      <td>0.06954</td>\n",
       "      <td>0.03614</td>\n",
       "      <td>0.00070</td>\n",
       "      <td>0.00152</td>\n",
       "      <td>0.00192</td>\n",
       "      <td>0.00004</td>\n",
       "      <td>0.00097</td>\n",
       "      <td>0.00452</td>\n",
       "      <td>0.00368</td>\n",
       "      <td>0.00273</td>\n",
       "    </tr>\n",
       "    <tr>\n",
       "      <th>3</th>\n",
       "      <td>-0.036879</td>\n",
       "      <td>1.270951</td>\n",
       "      <td>0.051805</td>\n",
       "      <td>-0.390410</td>\n",
       "      <td>-0.078414</td>\n",
       "      <td>0.182571</td>\n",
       "      <td>-0.479667</td>\n",
       "      <td>0.251145</td>\n",
       "      <td>-205.217170</td>\n",
       "      <td>0.098620</td>\n",
       "      <td>...</td>\n",
       "      <td>0.06076</td>\n",
       "      <td>0.04300</td>\n",
       "      <td>0.00087</td>\n",
       "      <td>0.00196</td>\n",
       "      <td>0.00194</td>\n",
       "      <td>0.00053</td>\n",
       "      <td>0.00097</td>\n",
       "      <td>0.00384</td>\n",
       "      <td>0.00335</td>\n",
       "      <td>0.00332</td>\n",
       "    </tr>\n",
       "    <tr>\n",
       "      <th>4</th>\n",
       "      <td>0.009838</td>\n",
       "      <td>-0.377391</td>\n",
       "      <td>0.017509</td>\n",
       "      <td>1.249723</td>\n",
       "      <td>-0.076128</td>\n",
       "      <td>0.172279</td>\n",
       "      <td>-0.495817</td>\n",
       "      <td>0.286448</td>\n",
       "      <td>-179.577032</td>\n",
       "      <td>0.119112</td>\n",
       "      <td>...</td>\n",
       "      <td>0.08163</td>\n",
       "      <td>0.06835</td>\n",
       "      <td>0.00023</td>\n",
       "      <td>0.00064</td>\n",
       "      <td>0.00071</td>\n",
       "      <td>0.00183</td>\n",
       "      <td>0.00091</td>\n",
       "      <td>0.00360</td>\n",
       "      <td>0.00378</td>\n",
       "      <td>0.00396</td>\n",
       "    </tr>\n",
       "    <tr>\n",
       "      <th>5</th>\n",
       "      <td>0.042052</td>\n",
       "      <td>-1.594881</td>\n",
       "      <td>-0.007115</td>\n",
       "      <td>2.286662</td>\n",
       "      <td>-0.065205</td>\n",
       "      <td>0.186719</td>\n",
       "      <td>-0.433745</td>\n",
       "      <td>0.294936</td>\n",
       "      <td>-181.319088</td>\n",
       "      <td>0.130660</td>\n",
       "      <td>...</td>\n",
       "      <td>0.06987</td>\n",
       "      <td>0.08146</td>\n",
       "      <td>0.00097</td>\n",
       "      <td>0.00279</td>\n",
       "      <td>0.00030</td>\n",
       "      <td>0.00327</td>\n",
       "      <td>0.00073</td>\n",
       "      <td>0.00385</td>\n",
       "      <td>0.00333</td>\n",
       "      <td>0.00447</td>\n",
       "    </tr>\n",
       "    <tr>\n",
       "      <th>6</th>\n",
       "      <td>0.097630</td>\n",
       "      <td>-3.392147</td>\n",
       "      <td>-0.050879</td>\n",
       "      <td>3.858148</td>\n",
       "      <td>-0.049962</td>\n",
       "      <td>0.210828</td>\n",
       "      <td>-0.314711</td>\n",
       "      <td>0.211586</td>\n",
       "      <td>-178.086939</td>\n",
       "      <td>0.115022</td>\n",
       "      <td>...</td>\n",
       "      <td>0.04311</td>\n",
       "      <td>0.05600</td>\n",
       "      <td>0.00229</td>\n",
       "      <td>0.00655</td>\n",
       "      <td>0.00232</td>\n",
       "      <td>0.00574</td>\n",
       "      <td>0.00060</td>\n",
       "      <td>0.00447</td>\n",
       "      <td>0.00283</td>\n",
       "      <td>0.00369</td>\n",
       "    </tr>\n",
       "    <tr>\n",
       "      <th>7</th>\n",
       "      <td>0.119669</td>\n",
       "      <td>-3.778928</td>\n",
       "      <td>-0.065542</td>\n",
       "      <td>3.936258</td>\n",
       "      <td>-0.016591</td>\n",
       "      <td>0.205079</td>\n",
       "      <td>-0.254767</td>\n",
       "      <td>0.074968</td>\n",
       "      <td>-156.378305</td>\n",
       "      <td>0.075957</td>\n",
       "      <td>...</td>\n",
       "      <td>0.03275</td>\n",
       "      <td>0.01073</td>\n",
       "      <td>0.00264</td>\n",
       "      <td>0.00760</td>\n",
       "      <td>0.00272</td>\n",
       "      <td>0.00610</td>\n",
       "      <td>0.00020</td>\n",
       "      <td>0.00454</td>\n",
       "      <td>0.00270</td>\n",
       "      <td>0.00177</td>\n",
       "    </tr>\n",
       "    <tr>\n",
       "      <th>8</th>\n",
       "      <td>0.006413</td>\n",
       "      <td>1.213198</td>\n",
       "      <td>0.040956</td>\n",
       "      <td>-0.632819</td>\n",
       "      <td>-0.069297</td>\n",
       "      <td>0.196235</td>\n",
       "      <td>-0.200363</td>\n",
       "      <td>0.033989</td>\n",
       "      <td>-201.031698</td>\n",
       "      <td>0.058457</td>\n",
       "      <td>...</td>\n",
       "      <td>0.01674</td>\n",
       "      <td>0.00249</td>\n",
       "      <td>0.00012</td>\n",
       "      <td>0.00190</td>\n",
       "      <td>0.00141</td>\n",
       "      <td>0.00089</td>\n",
       "      <td>0.00085</td>\n",
       "      <td>0.00434</td>\n",
       "      <td>0.00174</td>\n",
       "      <td>0.00082</td>\n",
       "    </tr>\n",
       "    <tr>\n",
       "      <th>9</th>\n",
       "      <td>-0.016358</td>\n",
       "      <td>2.030406</td>\n",
       "      <td>0.068546</td>\n",
       "      <td>-1.549912</td>\n",
       "      <td>-0.082452</td>\n",
       "      <td>0.189381</td>\n",
       "      <td>-0.184783</td>\n",
       "      <td>0.020541</td>\n",
       "      <td>-202.510853</td>\n",
       "      <td>0.056732</td>\n",
       "      <td>...</td>\n",
       "      <td>0.01938</td>\n",
       "      <td>0.00159</td>\n",
       "      <td>0.00041</td>\n",
       "      <td>0.00351</td>\n",
       "      <td>0.00288</td>\n",
       "      <td>0.00230</td>\n",
       "      <td>0.00107</td>\n",
       "      <td>0.00437</td>\n",
       "      <td>0.00197</td>\n",
       "      <td>0.00060</td>\n",
       "    </tr>\n",
       "    <tr>\n",
       "      <th>10</th>\n",
       "      <td>-0.038207</td>\n",
       "      <td>2.790114</td>\n",
       "      <td>0.089987</td>\n",
       "      <td>-2.036080</td>\n",
       "      <td>-0.114599</td>\n",
       "      <td>0.191919</td>\n",
       "      <td>-0.118140</td>\n",
       "      <td>0.029629</td>\n",
       "      <td>-215.321550</td>\n",
       "      <td>0.057391</td>\n",
       "      <td>...</td>\n",
       "      <td>0.00912</td>\n",
       "      <td>0.00428</td>\n",
       "      <td>0.00102</td>\n",
       "      <td>0.00525</td>\n",
       "      <td>0.00418</td>\n",
       "      <td>0.00332</td>\n",
       "      <td>0.00172</td>\n",
       "      <td>0.00463</td>\n",
       "      <td>0.00138</td>\n",
       "      <td>0.00092</td>\n",
       "    </tr>\n",
       "    <tr>\n",
       "      <th>11</th>\n",
       "      <td>-0.067144</td>\n",
       "      <td>3.842523</td>\n",
       "      <td>0.115578</td>\n",
       "      <td>-3.044290</td>\n",
       "      <td>-0.129028</td>\n",
       "      <td>0.171303</td>\n",
       "      <td>-0.068669</td>\n",
       "      <td>0.023733</td>\n",
       "      <td>-206.946407</td>\n",
       "      <td>0.052660</td>\n",
       "      <td>...</td>\n",
       "      <td>0.00348</td>\n",
       "      <td>0.00326</td>\n",
       "      <td>0.00204</td>\n",
       "      <td>0.00840</td>\n",
       "      <td>0.00650</td>\n",
       "      <td>0.00560</td>\n",
       "      <td>0.00184</td>\n",
       "      <td>0.00440</td>\n",
       "      <td>0.00092</td>\n",
       "      <td>0.00083</td>\n",
       "    </tr>\n",
       "    <tr>\n",
       "      <th>12</th>\n",
       "      <td>-0.031032</td>\n",
       "      <td>3.005697</td>\n",
       "      <td>0.085564</td>\n",
       "      <td>-2.347437</td>\n",
       "      <td>-0.101930</td>\n",
       "      <td>0.145083</td>\n",
       "      <td>-0.056634</td>\n",
       "      <td>0.005828</td>\n",
       "      <td>-170.998024</td>\n",
       "      <td>0.053235</td>\n",
       "      <td>...</td>\n",
       "      <td>0.00338</td>\n",
       "      <td>0.00024</td>\n",
       "      <td>0.00106</td>\n",
       "      <td>0.00767</td>\n",
       "      <td>0.00567</td>\n",
       "      <td>0.00509</td>\n",
       "      <td>0.00174</td>\n",
       "      <td>0.00454</td>\n",
       "      <td>0.00082</td>\n",
       "      <td>0.00021</td>\n",
       "    </tr>\n",
       "    <tr>\n",
       "      <th>13</th>\n",
       "      <td>0.023337</td>\n",
       "      <td>0.975845</td>\n",
       "      <td>0.036535</td>\n",
       "      <td>-0.288210</td>\n",
       "      <td>-0.082153</td>\n",
       "      <td>0.109285</td>\n",
       "      <td>-0.030847</td>\n",
       "      <td>-0.012347</td>\n",
       "      <td>-111.781613</td>\n",
       "      <td>0.042566</td>\n",
       "      <td>...</td>\n",
       "      <td>0.00127</td>\n",
       "      <td>0.00179</td>\n",
       "      <td>0.00099</td>\n",
       "      <td>0.00289</td>\n",
       "      <td>0.00293</td>\n",
       "      <td>0.00069</td>\n",
       "      <td>0.00165</td>\n",
       "      <td>0.00384</td>\n",
       "      <td>0.00055</td>\n",
       "      <td>0.00061</td>\n",
       "    </tr>\n",
       "    <tr>\n",
       "      <th>14</th>\n",
       "      <td>0.044888</td>\n",
       "      <td>-0.075820</td>\n",
       "      <td>0.013600</td>\n",
       "      <td>0.832804</td>\n",
       "      <td>-0.072345</td>\n",
       "      <td>0.094647</td>\n",
       "      <td>-0.011704</td>\n",
       "      <td>-0.016186</td>\n",
       "      <td>-85.279214</td>\n",
       "      <td>0.036073</td>\n",
       "      <td>...</td>\n",
       "      <td>0.00018</td>\n",
       "      <td>0.00346</td>\n",
       "      <td>0.00186</td>\n",
       "      <td>0.00024</td>\n",
       "      <td>0.00116</td>\n",
       "      <td>0.00209</td>\n",
       "      <td>0.00144</td>\n",
       "      <td>0.00352</td>\n",
       "      <td>0.00023</td>\n",
       "      <td>0.00087</td>\n",
       "    </tr>\n",
       "    <tr>\n",
       "      <th>15</th>\n",
       "      <td>0.079113</td>\n",
       "      <td>-1.086130</td>\n",
       "      <td>-0.014416</td>\n",
       "      <td>1.730441</td>\n",
       "      <td>-0.050969</td>\n",
       "      <td>0.097002</td>\n",
       "      <td>-0.026683</td>\n",
       "      <td>-0.016825</td>\n",
       "      <td>-76.185665</td>\n",
       "      <td>0.035880</td>\n",
       "      <td>...</td>\n",
       "      <td>0.00104</td>\n",
       "      <td>0.00374</td>\n",
       "      <td>0.00349</td>\n",
       "      <td>0.00339</td>\n",
       "      <td>0.00112</td>\n",
       "      <td>0.00449</td>\n",
       "      <td>0.00105</td>\n",
       "      <td>0.00356</td>\n",
       "      <td>0.00052</td>\n",
       "      <td>0.00094</td>\n",
       "    </tr>\n",
       "    <tr>\n",
       "      <th>16</th>\n",
       "      <td>0.111761</td>\n",
       "      <td>-2.613802</td>\n",
       "      <td>-0.042062</td>\n",
       "      <td>3.380180</td>\n",
       "      <td>-0.055694</td>\n",
       "      <td>0.110514</td>\n",
       "      <td>-0.093919</td>\n",
       "      <td>-0.019875</td>\n",
       "      <td>-70.951526</td>\n",
       "      <td>0.039942</td>\n",
       "      <td>...</td>\n",
       "      <td>0.01170</td>\n",
       "      <td>0.00468</td>\n",
       "      <td>0.00450</td>\n",
       "      <td>0.00706</td>\n",
       "      <td>0.00294</td>\n",
       "      <td>0.00790</td>\n",
       "      <td>0.00100</td>\n",
       "      <td>0.00416</td>\n",
       "      <td>0.00194</td>\n",
       "      <td>0.00104</td>\n",
       "    </tr>\n",
       "    <tr>\n",
       "      <th>17</th>\n",
       "      <td>-0.003770</td>\n",
       "      <td>2.265815</td>\n",
       "      <td>0.063319</td>\n",
       "      <td>-0.760691</td>\n",
       "      <td>-0.121648</td>\n",
       "      <td>0.112984</td>\n",
       "      <td>-0.195883</td>\n",
       "      <td>-0.024355</td>\n",
       "      <td>-126.364403</td>\n",
       "      <td>0.036542</td>\n",
       "      <td>...</td>\n",
       "      <td>0.01845</td>\n",
       "      <td>0.00243</td>\n",
       "      <td>0.00009</td>\n",
       "      <td>0.00357</td>\n",
       "      <td>0.00281</td>\n",
       "      <td>0.00097</td>\n",
       "      <td>0.00135</td>\n",
       "      <td>0.00253</td>\n",
       "      <td>0.00221</td>\n",
       "      <td>0.00080</td>\n",
       "    </tr>\n",
       "    <tr>\n",
       "      <th>18</th>\n",
       "      <td>0.096553</td>\n",
       "      <td>-2.576987</td>\n",
       "      <td>-0.022364</td>\n",
       "      <td>3.564949</td>\n",
       "      <td>-0.100270</td>\n",
       "      <td>0.144411</td>\n",
       "      <td>-0.275491</td>\n",
       "      <td>-0.017668</td>\n",
       "      <td>-101.609027</td>\n",
       "      <td>0.063761</td>\n",
       "      <td>...</td>\n",
       "      <td>0.05023</td>\n",
       "      <td>0.00147</td>\n",
       "      <td>0.00289</td>\n",
       "      <td>0.00559</td>\n",
       "      <td>0.00112</td>\n",
       "      <td>0.00664</td>\n",
       "      <td>0.00136</td>\n",
       "      <td>0.00361</td>\n",
       "      <td>0.00367</td>\n",
       "      <td>0.00070</td>\n",
       "    </tr>\n",
       "    <tr>\n",
       "      <th>19</th>\n",
       "      <td>0.079900</td>\n",
       "      <td>-1.448739</td>\n",
       "      <td>-0.006901</td>\n",
       "      <td>2.436274</td>\n",
       "      <td>-0.090440</td>\n",
       "      <td>0.157322</td>\n",
       "      <td>-0.359086</td>\n",
       "      <td>-0.016433</td>\n",
       "      <td>-126.418027</td>\n",
       "      <td>0.084147</td>\n",
       "      <td>...</td>\n",
       "      <td>0.08898</td>\n",
       "      <td>0.00119</td>\n",
       "      <td>0.00243</td>\n",
       "      <td>0.00326</td>\n",
       "      <td>0.00036</td>\n",
       "      <td>0.00487</td>\n",
       "      <td>0.00139</td>\n",
       "      <td>0.00460</td>\n",
       "      <td>0.00501</td>\n",
       "      <td>0.00053</td>\n",
       "    </tr>\n",
       "    <tr>\n",
       "      <th>20</th>\n",
       "      <td>0.086045</td>\n",
       "      <td>-2.302390</td>\n",
       "      <td>-0.021252</td>\n",
       "      <td>3.253424</td>\n",
       "      <td>-0.088101</td>\n",
       "      <td>0.175501</td>\n",
       "      <td>-0.421746</td>\n",
       "      <td>-0.009436</td>\n",
       "      <td>-133.927606</td>\n",
       "      <td>0.084388</td>\n",
       "      <td>...</td>\n",
       "      <td>0.07926</td>\n",
       "      <td>0.00021</td>\n",
       "      <td>0.00217</td>\n",
       "      <td>0.00419</td>\n",
       "      <td>0.00101</td>\n",
       "      <td>0.00547</td>\n",
       "      <td>0.00116</td>\n",
       "      <td>0.00478</td>\n",
       "      <td>0.00404</td>\n",
       "      <td>0.00021</td>\n",
       "    </tr>\n",
       "    <tr>\n",
       "      <th>21</th>\n",
       "      <td>0.077750</td>\n",
       "      <td>-1.927771</td>\n",
       "      <td>-0.019082</td>\n",
       "      <td>2.793050</td>\n",
       "      <td>-0.066000</td>\n",
       "      <td>0.198993</td>\n",
       "      <td>-0.477290</td>\n",
       "      <td>0.007830</td>\n",
       "      <td>-162.702110</td>\n",
       "      <td>0.093277</td>\n",
       "      <td>...</td>\n",
       "      <td>0.08753</td>\n",
       "      <td>0.00011</td>\n",
       "      <td>0.00179</td>\n",
       "      <td>0.00348</td>\n",
       "      <td>0.00079</td>\n",
       "      <td>0.00456</td>\n",
       "      <td>0.00086</td>\n",
       "      <td>0.00506</td>\n",
       "      <td>0.00436</td>\n",
       "      <td>0.00015</td>\n",
       "    </tr>\n",
       "    <tr>\n",
       "      <th>22</th>\n",
       "      <td>0.056029</td>\n",
       "      <td>-0.963547</td>\n",
       "      <td>-0.008676</td>\n",
       "      <td>1.706948</td>\n",
       "      <td>-0.051607</td>\n",
       "      <td>0.209400</td>\n",
       "      <td>-0.532358</td>\n",
       "      <td>0.033461</td>\n",
       "      <td>-185.808375</td>\n",
       "      <td>0.104315</td>\n",
       "      <td>...</td>\n",
       "      <td>0.10007</td>\n",
       "      <td>0.00136</td>\n",
       "      <td>0.00119</td>\n",
       "      <td>0.00163</td>\n",
       "      <td>0.00036</td>\n",
       "      <td>0.00254</td>\n",
       "      <td>0.00064</td>\n",
       "      <td>0.00506</td>\n",
       "      <td>0.00491</td>\n",
       "      <td>0.00054</td>\n",
       "    </tr>\n",
       "    <tr>\n",
       "      <th>23</th>\n",
       "      <td>0.034758</td>\n",
       "      <td>-0.639523</td>\n",
       "      <td>0.004378</td>\n",
       "      <td>1.482937</td>\n",
       "      <td>-0.062351</td>\n",
       "      <td>0.205957</td>\n",
       "      <td>-0.539466</td>\n",
       "      <td>0.082369</td>\n",
       "      <td>-190.298182</td>\n",
       "      <td>0.106204</td>\n",
       "      <td>...</td>\n",
       "      <td>0.09757</td>\n",
       "      <td>0.00688</td>\n",
       "      <td>0.00069</td>\n",
       "      <td>0.00110</td>\n",
       "      <td>0.00018</td>\n",
       "      <td>0.00224</td>\n",
       "      <td>0.00082</td>\n",
       "      <td>0.00478</td>\n",
       "      <td>0.00485</td>\n",
       "      <td>0.00114</td>\n",
       "    </tr>\n",
       "  </tbody>\n",
       "</table>\n",
       "<p>24 rows × 29 columns</p>\n",
       "</div>"
      ],
      "text/plain": [
       "      Rd_len  log_Gsp_area  pct_nRd_Gsp  log_nRd_Gsp_per_Rd_len  pct_nGsp_Rd  \\\n",
       "0  -0.400459     14.445871     0.376688              -12.842407    -0.247065   \n",
       "1   0.009116     -0.456809     0.013030                1.293369    -0.066925   \n",
       "2  -0.029306      0.990506     0.046972               -0.026651    -0.085198   \n",
       "3  -0.036879      1.270951     0.051805               -0.390410    -0.078414   \n",
       "4   0.009838     -0.377391     0.017509                1.249723    -0.076128   \n",
       "5   0.042052     -1.594881    -0.007115                2.286662    -0.065205   \n",
       "6   0.097630     -3.392147    -0.050879                3.858148    -0.049962   \n",
       "7   0.119669     -3.778928    -0.065542                3.936258    -0.016591   \n",
       "8   0.006413      1.213198     0.040956               -0.632819    -0.069297   \n",
       "9  -0.016358      2.030406     0.068546               -1.549912    -0.082452   \n",
       "10 -0.038207      2.790114     0.089987               -2.036080    -0.114599   \n",
       "11 -0.067144      3.842523     0.115578               -3.044290    -0.129028   \n",
       "12 -0.031032      3.005697     0.085564               -2.347437    -0.101930   \n",
       "13  0.023337      0.975845     0.036535               -0.288210    -0.082153   \n",
       "14  0.044888     -0.075820     0.013600                0.832804    -0.072345   \n",
       "15  0.079113     -1.086130    -0.014416                1.730441    -0.050969   \n",
       "16  0.111761     -2.613802    -0.042062                3.380180    -0.055694   \n",
       "17 -0.003770      2.265815     0.063319               -0.760691    -0.121648   \n",
       "18  0.096553     -2.576987    -0.022364                3.564949    -0.100270   \n",
       "19  0.079900     -1.448739    -0.006901                2.436274    -0.090440   \n",
       "20  0.086045     -2.302390    -0.021252                3.253424    -0.088101   \n",
       "21  0.077750     -1.927771    -0.019082                2.793050    -0.066000   \n",
       "22  0.056029     -0.963547    -0.008676                1.706948    -0.051607   \n",
       "23  0.034758     -0.639523     0.004378                1.482937    -0.062351   \n",
       "\n",
       "     bp_mean  tmp_mean   rh_mean   intercept        r2  ...  fi_tmp_mean  \\\n",
       "0   0.202783 -0.530646  0.116184 -359.161120  0.108095  ...      0.07989   \n",
       "1   0.196386 -0.483837  0.172304 -191.641636  0.095605  ...      0.07239   \n",
       "2   0.192388 -0.484688  0.213033 -208.059063  0.097723  ...      0.06954   \n",
       "3   0.182571 -0.479667  0.251145 -205.217170  0.098620  ...      0.06076   \n",
       "4   0.172279 -0.495817  0.286448 -179.577032  0.119112  ...      0.08163   \n",
       "5   0.186719 -0.433745  0.294936 -181.319088  0.130660  ...      0.06987   \n",
       "6   0.210828 -0.314711  0.211586 -178.086939  0.115022  ...      0.04311   \n",
       "7   0.205079 -0.254767  0.074968 -156.378305  0.075957  ...      0.03275   \n",
       "8   0.196235 -0.200363  0.033989 -201.031698  0.058457  ...      0.01674   \n",
       "9   0.189381 -0.184783  0.020541 -202.510853  0.056732  ...      0.01938   \n",
       "10  0.191919 -0.118140  0.029629 -215.321550  0.057391  ...      0.00912   \n",
       "11  0.171303 -0.068669  0.023733 -206.946407  0.052660  ...      0.00348   \n",
       "12  0.145083 -0.056634  0.005828 -170.998024  0.053235  ...      0.00338   \n",
       "13  0.109285 -0.030847 -0.012347 -111.781613  0.042566  ...      0.00127   \n",
       "14  0.094647 -0.011704 -0.016186  -85.279214  0.036073  ...      0.00018   \n",
       "15  0.097002 -0.026683 -0.016825  -76.185665  0.035880  ...      0.00104   \n",
       "16  0.110514 -0.093919 -0.019875  -70.951526  0.039942  ...      0.01170   \n",
       "17  0.112984 -0.195883 -0.024355 -126.364403  0.036542  ...      0.01845   \n",
       "18  0.144411 -0.275491 -0.017668 -101.609027  0.063761  ...      0.05023   \n",
       "19  0.157322 -0.359086 -0.016433 -126.418027  0.084147  ...      0.08898   \n",
       "20  0.175501 -0.421746 -0.009436 -133.927606  0.084388  ...      0.07926   \n",
       "21  0.198993 -0.477290  0.007830 -162.702110  0.093277  ...      0.08753   \n",
       "22  0.209400 -0.532358  0.033461 -185.808375  0.104315  ...      0.10007   \n",
       "23  0.205957 -0.539466  0.082369 -190.298182  0.106204  ...      0.09757   \n",
       "\n",
       "    fi_rh_mean  fi_std_Rd_len  fi_std_log_Gsp_area  fi_std_pct_nRd_Gsp  \\\n",
       "0      0.01054        0.00954              0.03132             0.01900   \n",
       "1      0.02486        0.00023              0.00080             0.00058   \n",
       "2      0.03614        0.00070              0.00152             0.00192   \n",
       "3      0.04300        0.00087              0.00196             0.00194   \n",
       "4      0.06835        0.00023              0.00064             0.00071   \n",
       "5      0.08146        0.00097              0.00279             0.00030   \n",
       "6      0.05600        0.00229              0.00655             0.00232   \n",
       "7      0.01073        0.00264              0.00760             0.00272   \n",
       "8      0.00249        0.00012              0.00190             0.00141   \n",
       "9      0.00159        0.00041              0.00351             0.00288   \n",
       "10     0.00428        0.00102              0.00525             0.00418   \n",
       "11     0.00326        0.00204              0.00840             0.00650   \n",
       "12     0.00024        0.00106              0.00767             0.00567   \n",
       "13     0.00179        0.00099              0.00289             0.00293   \n",
       "14     0.00346        0.00186              0.00024             0.00116   \n",
       "15     0.00374        0.00349              0.00339             0.00112   \n",
       "16     0.00468        0.00450              0.00706             0.00294   \n",
       "17     0.00243        0.00009              0.00357             0.00281   \n",
       "18     0.00147        0.00289              0.00559             0.00112   \n",
       "19     0.00119        0.00243              0.00326             0.00036   \n",
       "20     0.00021        0.00217              0.00419             0.00101   \n",
       "21     0.00011        0.00179              0.00348             0.00079   \n",
       "22     0.00136        0.00119              0.00163             0.00036   \n",
       "23     0.00688        0.00069              0.00110             0.00018   \n",
       "\n",
       "    fi_std_log_nRd_Gsp_per_Rd_len  fi_std_pct_nGsp_Rd  fi_std_bp_mean  \\\n",
       "0                         0.02417             0.00286         0.00480   \n",
       "1                         0.00197             0.00086         0.00484   \n",
       "2                         0.00004             0.00097         0.00452   \n",
       "3                         0.00053             0.00097         0.00384   \n",
       "4                         0.00183             0.00091         0.00360   \n",
       "5                         0.00327             0.00073         0.00385   \n",
       "6                         0.00574             0.00060         0.00447   \n",
       "7                         0.00610             0.00020         0.00454   \n",
       "8                         0.00089             0.00085         0.00434   \n",
       "9                         0.00230             0.00107         0.00437   \n",
       "10                        0.00332             0.00172         0.00463   \n",
       "11                        0.00560             0.00184         0.00440   \n",
       "12                        0.00509             0.00174         0.00454   \n",
       "13                        0.00069             0.00165         0.00384   \n",
       "14                        0.00209             0.00144         0.00352   \n",
       "15                        0.00449             0.00105         0.00356   \n",
       "16                        0.00790             0.00100         0.00416   \n",
       "17                        0.00097             0.00135         0.00253   \n",
       "18                        0.00664             0.00136         0.00361   \n",
       "19                        0.00487             0.00139         0.00460   \n",
       "20                        0.00547             0.00116         0.00478   \n",
       "21                        0.00456             0.00086         0.00506   \n",
       "22                        0.00254             0.00064         0.00506   \n",
       "23                        0.00224             0.00082         0.00478   \n",
       "\n",
       "    fi_std_tmp_mean  fi_std_rh_mean  \n",
       "0           0.00409         0.00177  \n",
       "1           0.00388         0.00237  \n",
       "2           0.00368         0.00273  \n",
       "3           0.00335         0.00332  \n",
       "4           0.00378         0.00396  \n",
       "5           0.00333         0.00447  \n",
       "6           0.00283         0.00369  \n",
       "7           0.00270         0.00177  \n",
       "8           0.00174         0.00082  \n",
       "9           0.00197         0.00060  \n",
       "10          0.00138         0.00092  \n",
       "11          0.00092         0.00083  \n",
       "12          0.00082         0.00021  \n",
       "13          0.00055         0.00061  \n",
       "14          0.00023         0.00087  \n",
       "15          0.00052         0.00094  \n",
       "16          0.00194         0.00104  \n",
       "17          0.00221         0.00080  \n",
       "18          0.00367         0.00070  \n",
       "19          0.00501         0.00053  \n",
       "20          0.00404         0.00021  \n",
       "21          0.00436         0.00015  \n",
       "22          0.00491         0.00054  \n",
       "23          0.00485         0.00114  \n",
       "\n",
       "[24 rows x 29 columns]"
      ]
     },
     "execution_count": 127,
     "metadata": {},
     "output_type": "execute_result"
    }
   ],
   "source": [
    "h_reg = pd.concat([h_coef, h_cv, h_fi], axis=1)\n",
    "h_reg"
   ]
  },
  {
   "cell_type": "code",
   "execution_count": 152,
   "metadata": {},
   "outputs": [
    {
     "data": {
      "image/png": "[encoded data removed]",
      "text/plain": [
       "<Figure size 1440x864 with 8 Axes>"
      ]
     },
     "metadata": {},
     "output_type": "display_data"
    }
   ],
   "source": [
    "fig, ax = plt.subplots(2,4,figsize=(20,12))\n",
    "i = 0\n",
    "for elem in var:\n",
    "    sns.lineplot(x=range(24), y=h_reg['fi_'+elem].values, ax=ax[i//4,i%4], legend=True)\n",
    "    ax[i//4,i%4].set_title(elem)\n",
    "    ax[i//4,i%4].fill_between(x=range(24), y1=h_reg['fi_'+elem].values-h_reg['fi_std_'+elem].values,\n",
    "                              y2=h_reg['fi_'+elem].values+h_reg['fi_std_'+elem].values, alpha=.5)\n",
    "    i+=1\n",
    "plt.show()"
   ]
  },
  {
   "cell_type": "code",
   "execution_count": 24,
   "metadata": {},
   "outputs": [],
   "source": [
    "# set up a new column for month information\n",
    "df['month']=df['DateTime'].dt.month"
   ]
  },
  {
   "cell_type": "code",
   "execution_count": 128,
   "metadata": {},
   "outputs": [],
   "source": [
    "m_fi = []\n",
    "m_cv = []\n",
    "m_coef = []\n",
    "for month in df['month'].unique():\n",
    "    X = df[df['month']==month].loc[:, var].values\n",
    "    y = df[df['month']==month].loc[:, 'Value'].values\n",
    "    reg.fit(X, y)\n",
    "    \n",
    "    fi_mean, fi_std = get_importance(reg, X, y, feature_names=var)\n",
    "    m_fi.append(fi_mean + fi_std)\n",
    "    \n",
    "    r2 = list(get_cv_score(reg, X, y))\n",
    "    mse = list(get_cv_score(reg, X, y, method='neg_mean_squared_error'))\n",
    "    m_cv.append(r2 + mse)\n",
    "    \n",
    "    coef = reg.coef_.tolist()\n",
    "    coef.append(reg.intercept_)\n",
    "    m_coef.append(coef)\n",
    "    \n",
    "m_fi = pd.DataFrame(m_fi, columns=['fi_' + elem for elem in var] + ['fi_std_' + elem for elem in var])\n",
    "m_cv = pd.DataFrame(m_cv, columns=['r2', 'r2_std', 'mse', 'mse_std'])\n",
    "m_coef = pd.DataFrame(m_coef, columns=var+['intercept'])"
   ]
  },
  {
   "cell_type": "code",
   "execution_count": 129,
   "metadata": {},
   "outputs": [
    {
     "data": {
      "text/html": [
       "<div>\n",
       "<style scoped>\n",
       "    .dataframe tbody tr th:only-of-type {\n",
       "        vertical-align: middle;\n",
       "    }\n",
       "\n",
       "    .dataframe tbody tr th {\n",
       "        vertical-align: top;\n",
       "    }\n",
       "\n",
       "    .dataframe thead th {\n",
       "        text-align: right;\n",
       "    }\n",
       "</style>\n",
       "<table border=\"1\" class=\"dataframe\">\n",
       "  <thead>\n",
       "    <tr style=\"text-align: right;\">\n",
       "      <th></th>\n",
       "      <th>Rd_len</th>\n",
       "      <th>log_Gsp_area</th>\n",
       "      <th>pct_nRd_Gsp</th>\n",
       "      <th>log_nRd_Gsp_per_Rd_len</th>\n",
       "      <th>pct_nGsp_Rd</th>\n",
       "      <th>bp_mean</th>\n",
       "      <th>tmp_mean</th>\n",
       "      <th>rh_mean</th>\n",
       "      <th>intercept</th>\n",
       "      <th>r2</th>\n",
       "      <th>...</th>\n",
       "      <th>fi_tmp_mean</th>\n",
       "      <th>fi_rh_mean</th>\n",
       "      <th>fi_std_Rd_len</th>\n",
       "      <th>fi_std_log_Gsp_area</th>\n",
       "      <th>fi_std_pct_nRd_Gsp</th>\n",
       "      <th>fi_std_log_nRd_Gsp_per_Rd_len</th>\n",
       "      <th>fi_std_pct_nGsp_Rd</th>\n",
       "      <th>fi_std_bp_mean</th>\n",
       "      <th>fi_std_tmp_mean</th>\n",
       "      <th>fi_std_rh_mean</th>\n",
       "    </tr>\n",
       "  </thead>\n",
       "  <tbody>\n",
       "    <tr>\n",
       "      <th>0</th>\n",
       "      <td>0.100491</td>\n",
       "      <td>-2.028771</td>\n",
       "      <td>-0.035764</td>\n",
       "      <td>2.880863</td>\n",
       "      <td>-0.077744</td>\n",
       "      <td>0.163545</td>\n",
       "      <td>-0.340180</td>\n",
       "      <td>0.074633</td>\n",
       "      <td>-133.957579</td>\n",
       "      <td>0.090053</td>\n",
       "      <td>...</td>\n",
       "      <td>0.08893</td>\n",
       "      <td>0.02024</td>\n",
       "      <td>0.00233</td>\n",
       "      <td>0.00365</td>\n",
       "      <td>0.00168</td>\n",
       "      <td>0.00393</td>\n",
       "      <td>0.00085</td>\n",
       "      <td>0.00253</td>\n",
       "      <td>0.00263</td>\n",
       "      <td>0.00137</td>\n",
       "    </tr>\n",
       "    <tr>\n",
       "      <th>1</th>\n",
       "      <td>0.308741</td>\n",
       "      <td>-9.305301</td>\n",
       "      <td>-0.186668</td>\n",
       "      <td>9.284862</td>\n",
       "      <td>-0.013517</td>\n",
       "      <td>0.372008</td>\n",
       "      <td>-0.766852</td>\n",
       "      <td>-0.057307</td>\n",
       "      <td>-244.665829</td>\n",
       "      <td>0.220658</td>\n",
       "      <td>...</td>\n",
       "      <td>0.18817</td>\n",
       "      <td>0.00881</td>\n",
       "      <td>0.00488</td>\n",
       "      <td>0.01337</td>\n",
       "      <td>0.00487</td>\n",
       "      <td>0.01070</td>\n",
       "      <td>0.00010</td>\n",
       "      <td>0.00504</td>\n",
       "      <td>0.00469</td>\n",
       "      <td>0.00103</td>\n",
       "    </tr>\n",
       "    <tr>\n",
       "      <th>2</th>\n",
       "      <td>0.101008</td>\n",
       "      <td>-2.124645</td>\n",
       "      <td>-0.032198</td>\n",
       "      <td>3.265911</td>\n",
       "      <td>-0.105691</td>\n",
       "      <td>0.166388</td>\n",
       "      <td>-0.130599</td>\n",
       "      <td>0.029156</td>\n",
       "      <td>-135.125105</td>\n",
       "      <td>0.053479</td>\n",
       "      <td>...</td>\n",
       "      <td>0.00639</td>\n",
       "      <td>0.00354</td>\n",
       "      <td>0.00189</td>\n",
       "      <td>0.00314</td>\n",
       "      <td>0.00108</td>\n",
       "      <td>0.00392</td>\n",
       "      <td>0.00107</td>\n",
       "      <td>0.00314</td>\n",
       "      <td>0.00087</td>\n",
       "      <td>0.00065</td>\n",
       "    </tr>\n",
       "    <tr>\n",
       "      <th>3</th>\n",
       "      <td>0.210943</td>\n",
       "      <td>-5.878628</td>\n",
       "      <td>-0.132197</td>\n",
       "      <td>6.324078</td>\n",
       "      <td>0.018908</td>\n",
       "      <td>0.255632</td>\n",
       "      <td>0.202873</td>\n",
       "      <td>0.060444</td>\n",
       "      <td>-181.593997</td>\n",
       "      <td>0.037335</td>\n",
       "      <td>...</td>\n",
       "      <td>0.00996</td>\n",
       "      <td>0.00867</td>\n",
       "      <td>0.00280</td>\n",
       "      <td>0.00533</td>\n",
       "      <td>0.00324</td>\n",
       "      <td>0.00498</td>\n",
       "      <td>0.00012</td>\n",
       "      <td>0.00258</td>\n",
       "      <td>0.00096</td>\n",
       "      <td>0.00102</td>\n",
       "    </tr>\n",
       "    <tr>\n",
       "      <th>4</th>\n",
       "      <td>-0.082969</td>\n",
       "      <td>5.044967</td>\n",
       "      <td>0.125608</td>\n",
       "      <td>-3.254626</td>\n",
       "      <td>-0.178526</td>\n",
       "      <td>0.007167</td>\n",
       "      <td>-0.267126</td>\n",
       "      <td>0.030084</td>\n",
       "      <td>-53.593888</td>\n",
       "      <td>0.077060</td>\n",
       "      <td>...</td>\n",
       "      <td>0.05609</td>\n",
       "      <td>0.01001</td>\n",
       "      <td>0.00192</td>\n",
       "      <td>0.01094</td>\n",
       "      <td>0.00590</td>\n",
       "      <td>0.00502</td>\n",
       "      <td>0.00267</td>\n",
       "      <td>0.00014</td>\n",
       "      <td>0.00231</td>\n",
       "      <td>0.00098</td>\n",
       "    </tr>\n",
       "    <tr>\n",
       "      <th>5</th>\n",
       "      <td>-0.060590</td>\n",
       "      <td>2.305717</td>\n",
       "      <td>0.080547</td>\n",
       "      <td>-1.306051</td>\n",
       "      <td>-0.077987</td>\n",
       "      <td>0.058482</td>\n",
       "      <td>0.283289</td>\n",
       "      <td>0.124038</td>\n",
       "      <td>-89.929437</td>\n",
       "      <td>0.058418</td>\n",
       "      <td>...</td>\n",
       "      <td>0.06821</td>\n",
       "      <td>0.12565</td>\n",
       "      <td>0.00155</td>\n",
       "      <td>0.00527</td>\n",
       "      <td>0.00389</td>\n",
       "      <td>0.00255</td>\n",
       "      <td>0.00114</td>\n",
       "      <td>0.00106</td>\n",
       "      <td>0.00281</td>\n",
       "      <td>0.00473</td>\n",
       "    </tr>\n",
       "    <tr>\n",
       "      <th>6</th>\n",
       "      <td>-0.154167</td>\n",
       "      <td>5.597912</td>\n",
       "      <td>0.158585</td>\n",
       "      <td>-4.513727</td>\n",
       "      <td>-0.151020</td>\n",
       "      <td>-0.038992</td>\n",
       "      <td>0.075501</td>\n",
       "      <td>0.026652</td>\n",
       "      <td>-17.683236</td>\n",
       "      <td>0.010598</td>\n",
       "      <td>...</td>\n",
       "      <td>0.00530</td>\n",
       "      <td>0.00521</td>\n",
       "      <td>0.00335</td>\n",
       "      <td>0.00984</td>\n",
       "      <td>0.00720</td>\n",
       "      <td>0.00669</td>\n",
       "      <td>0.00182</td>\n",
       "      <td>0.00065</td>\n",
       "      <td>0.00090</td>\n",
       "      <td>0.00077</td>\n",
       "    </tr>\n",
       "    <tr>\n",
       "      <th>7</th>\n",
       "      <td>-0.123698</td>\n",
       "      <td>4.446720</td>\n",
       "      <td>0.145903</td>\n",
       "      <td>-3.197225</td>\n",
       "      <td>-0.146393</td>\n",
       "      <td>0.084510</td>\n",
       "      <td>0.340069</td>\n",
       "      <td>0.136971</td>\n",
       "      <td>-141.097340</td>\n",
       "      <td>0.036217</td>\n",
       "      <td>...</td>\n",
       "      <td>0.07600</td>\n",
       "      <td>0.10945</td>\n",
       "      <td>0.00219</td>\n",
       "      <td>0.00680</td>\n",
       "      <td>0.00540</td>\n",
       "      <td>0.00420</td>\n",
       "      <td>0.00152</td>\n",
       "      <td>0.00109</td>\n",
       "      <td>0.00258</td>\n",
       "      <td>0.00297</td>\n",
       "    </tr>\n",
       "    <tr>\n",
       "      <th>8</th>\n",
       "      <td>-0.047463</td>\n",
       "      <td>1.646359</td>\n",
       "      <td>0.065879</td>\n",
       "      <td>-1.361233</td>\n",
       "      <td>-0.084705</td>\n",
       "      <td>0.067135</td>\n",
       "      <td>-0.160192</td>\n",
       "      <td>0.030954</td>\n",
       "      <td>-77.365751</td>\n",
       "      <td>0.045521</td>\n",
       "      <td>...</td>\n",
       "      <td>0.02923</td>\n",
       "      <td>0.01211</td>\n",
       "      <td>0.00167</td>\n",
       "      <td>0.00389</td>\n",
       "      <td>0.00379</td>\n",
       "      <td>0.00280</td>\n",
       "      <td>0.00152</td>\n",
       "      <td>0.00198</td>\n",
       "      <td>0.00203</td>\n",
       "      <td>0.00136</td>\n",
       "    </tr>\n",
       "    <tr>\n",
       "      <th>9</th>\n",
       "      <td>0.035516</td>\n",
       "      <td>-0.871871</td>\n",
       "      <td>0.009414</td>\n",
       "      <td>1.125666</td>\n",
       "      <td>-0.026110</td>\n",
       "      <td>0.326529</td>\n",
       "      <td>-0.124473</td>\n",
       "      <td>0.103449</td>\n",
       "      <td>-317.700185</td>\n",
       "      <td>0.137847</td>\n",
       "      <td>...</td>\n",
       "      <td>0.00747</td>\n",
       "      <td>0.04954</td>\n",
       "      <td>0.00084</td>\n",
       "      <td>0.00147</td>\n",
       "      <td>0.00043</td>\n",
       "      <td>0.00167</td>\n",
       "      <td>0.00032</td>\n",
       "      <td>0.00536</td>\n",
       "      <td>0.00102</td>\n",
       "      <td>0.00258</td>\n",
       "    </tr>\n",
       "    <tr>\n",
       "      <th>10</th>\n",
       "      <td>-0.039942</td>\n",
       "      <td>3.114432</td>\n",
       "      <td>0.091819</td>\n",
       "      <td>-2.038888</td>\n",
       "      <td>-0.090690</td>\n",
       "      <td>0.138555</td>\n",
       "      <td>-0.417249</td>\n",
       "      <td>0.105596</td>\n",
       "      <td>-170.860909</td>\n",
       "      <td>0.149676</td>\n",
       "      <td>...</td>\n",
       "      <td>0.08591</td>\n",
       "      <td>0.03328</td>\n",
       "      <td>0.00083</td>\n",
       "      <td>0.00500</td>\n",
       "      <td>0.00339</td>\n",
       "      <td>0.00260</td>\n",
       "      <td>0.00097</td>\n",
       "      <td>0.00248</td>\n",
       "      <td>0.00327</td>\n",
       "      <td>0.00198</td>\n",
       "    </tr>\n",
       "    <tr>\n",
       "      <th>11</th>\n",
       "      <td>-0.043422</td>\n",
       "      <td>1.898658</td>\n",
       "      <td>0.070308</td>\n",
       "      <td>-1.408789</td>\n",
       "      <td>-0.068535</td>\n",
       "      <td>0.160945</td>\n",
       "      <td>-0.272937</td>\n",
       "      <td>0.078181</td>\n",
       "      <td>-178.700943</td>\n",
       "      <td>0.287354</td>\n",
       "      <td>...</td>\n",
       "      <td>0.05993</td>\n",
       "      <td>0.04851</td>\n",
       "      <td>0.00106</td>\n",
       "      <td>0.00356</td>\n",
       "      <td>0.00343</td>\n",
       "      <td>0.00205</td>\n",
       "      <td>0.00099</td>\n",
       "      <td>0.00621</td>\n",
       "      <td>0.00262</td>\n",
       "      <td>0.00196</td>\n",
       "    </tr>\n",
       "  </tbody>\n",
       "</table>\n",
       "<p>12 rows × 29 columns</p>\n",
       "</div>"
      ],
      "text/plain": [
       "      Rd_len  log_Gsp_area  pct_nRd_Gsp  log_nRd_Gsp_per_Rd_len  pct_nGsp_Rd  \\\n",
       "0   0.100491     -2.028771    -0.035764                2.880863    -0.077744   \n",
       "1   0.308741     -9.305301    -0.186668                9.284862    -0.013517   \n",
       "2   0.101008     -2.124645    -0.032198                3.265911    -0.105691   \n",
       "3   0.210943     -5.878628    -0.132197                6.324078     0.018908   \n",
       "4  -0.082969      5.044967     0.125608               -3.254626    -0.178526   \n",
       "5  -0.060590      2.305717     0.080547               -1.306051    -0.077987   \n",
       "6  -0.154167      5.597912     0.158585               -4.513727    -0.151020   \n",
       "7  -0.123698      4.446720     0.145903               -3.197225    -0.146393   \n",
       "8  -0.047463      1.646359     0.065879               -1.361233    -0.084705   \n",
       "9   0.035516     -0.871871     0.009414                1.125666    -0.026110   \n",
       "10 -0.039942      3.114432     0.091819               -2.038888    -0.090690   \n",
       "11 -0.043422      1.898658     0.070308               -1.408789    -0.068535   \n",
       "\n",
       "     bp_mean  tmp_mean   rh_mean   intercept        r2  ...  fi_tmp_mean  \\\n",
       "0   0.163545 -0.340180  0.074633 -133.957579  0.090053  ...      0.08893   \n",
       "1   0.372008 -0.766852 -0.057307 -244.665829  0.220658  ...      0.18817   \n",
       "2   0.166388 -0.130599  0.029156 -135.125105  0.053479  ...      0.00639   \n",
       "3   0.255632  0.202873  0.060444 -181.593997  0.037335  ...      0.00996   \n",
       "4   0.007167 -0.267126  0.030084  -53.593888  0.077060  ...      0.05609   \n",
       "5   0.058482  0.283289  0.124038  -89.929437  0.058418  ...      0.06821   \n",
       "6  -0.038992  0.075501  0.026652  -17.683236  0.010598  ...      0.00530   \n",
       "7   0.084510  0.340069  0.136971 -141.097340  0.036217  ...      0.07600   \n",
       "8   0.067135 -0.160192  0.030954  -77.365751  0.045521  ...      0.02923   \n",
       "9   0.326529 -0.124473  0.103449 -317.700185  0.137847  ...      0.00747   \n",
       "10  0.138555 -0.417249  0.105596 -170.860909  0.149676  ...      0.08591   \n",
       "11  0.160945 -0.272937  0.078181 -178.700943  0.287354  ...      0.05993   \n",
       "\n",
       "    fi_rh_mean  fi_std_Rd_len  fi_std_log_Gsp_area  fi_std_pct_nRd_Gsp  \\\n",
       "0      0.02024        0.00233              0.00365             0.00168   \n",
       "1      0.00881        0.00488              0.01337             0.00487   \n",
       "2      0.00354        0.00189              0.00314             0.00108   \n",
       "3      0.00867        0.00280              0.00533             0.00324   \n",
       "4      0.01001        0.00192              0.01094             0.00590   \n",
       "5      0.12565        0.00155              0.00527             0.00389   \n",
       "6      0.00521        0.00335              0.00984             0.00720   \n",
       "7      0.10945        0.00219              0.00680             0.00540   \n",
       "8      0.01211        0.00167              0.00389             0.00379   \n",
       "9      0.04954        0.00084              0.00147             0.00043   \n",
       "10     0.03328        0.00083              0.00500             0.00339   \n",
       "11     0.04851        0.00106              0.00356             0.00343   \n",
       "\n",
       "    fi_std_log_nRd_Gsp_per_Rd_len  fi_std_pct_nGsp_Rd  fi_std_bp_mean  \\\n",
       "0                         0.00393             0.00085         0.00253   \n",
       "1                         0.01070             0.00010         0.00504   \n",
       "2                         0.00392             0.00107         0.00314   \n",
       "3                         0.00498             0.00012         0.00258   \n",
       "4                         0.00502             0.00267         0.00014   \n",
       "5                         0.00255             0.00114         0.00106   \n",
       "6                         0.00669             0.00182         0.00065   \n",
       "7                         0.00420             0.00152         0.00109   \n",
       "8                         0.00280             0.00152         0.00198   \n",
       "9                         0.00167             0.00032         0.00536   \n",
       "10                        0.00260             0.00097         0.00248   \n",
       "11                        0.00205             0.00099         0.00621   \n",
       "\n",
       "    fi_std_tmp_mean  fi_std_rh_mean  \n",
       "0           0.00263         0.00137  \n",
       "1           0.00469         0.00103  \n",
       "2           0.00087         0.00065  \n",
       "3           0.00096         0.00102  \n",
       "4           0.00231         0.00098  \n",
       "5           0.00281         0.00473  \n",
       "6           0.00090         0.00077  \n",
       "7           0.00258         0.00297  \n",
       "8           0.00203         0.00136  \n",
       "9           0.00102         0.00258  \n",
       "10          0.00327         0.00198  \n",
       "11          0.00262         0.00196  \n",
       "\n",
       "[12 rows x 29 columns]"
      ]
     },
     "execution_count": 129,
     "metadata": {},
     "output_type": "execute_result"
    }
   ],
   "source": [
    "m_reg = pd.concat([m_coef, m_cv, m_fi], axis=1)\n",
    "m_reg"
   ]
  },
  {
   "cell_type": "code",
   "execution_count": 154,
   "metadata": {},
   "outputs": [
    {
     "data": {
      "image/png": "[encoded data removed]",
      "text/plain": [
       "<Figure size 1440x864 with 8 Axes>"
      ]
     },
     "metadata": {},
     "output_type": "display_data"
    }
   ],
   "source": [
    "fig, ax = plt.subplots(2,4,figsize=(20,12))\n",
    "i = 0\n",
    "for elem in var:\n",
    "    sns.lineplot(x=range(12), y=m_reg['fi_'+elem].values, ax=ax[i//4,i%4], legend=True)\n",
    "    ax[i//4,i%4].set_title(elem)\n",
    "    ax[i//4,i%4].fill_between(x=range(12), y1=m_reg['fi_'+elem].values-m_reg['fi_std_'+elem].values,\n",
    "                              y2=m_reg['fi_'+elem].values+m_reg['fi_std_'+elem].values, alpha=.5)\n",
    "    i+=1\n",
    "plt.show()"
   ]
  },
  {
   "cell_type": "code",
   "execution_count": 57,
   "metadata": {},
   "outputs": [
    {
     "data": {
      "text/plain": [
       "<AxesSubplot:xlabel='month'>"
      ]
     },
     "execution_count": 57,
     "metadata": {},
     "output_type": "execute_result"
    },
    {
     "data": {
      "image/png": "[encoded data removed]",
      "text/plain": [
       "<Figure size 432x288 with 1 Axes>"
      ]
     },
     "metadata": {
      "needs_background": "light"
     },
     "output_type": "display_data"
    }
   ],
   "source": [
    "df.groupby('month').mean()['Value'].plot()"
   ]
  },
  {
   "cell_type": "code",
   "execution_count": 59,
   "metadata": {},
   "outputs": [
    {
     "name": "stdout",
     "output_type": "stream",
     "text": [
      "<class 'pandas.core.frame.DataFrame'>\n",
      "RangeIndex: 183960 entries, 0 to 183959\n",
      "Data columns (total 18 columns):\n",
      " #   Column                  Non-Null Count   Dtype         \n",
      "---  ------                  --------------   -----         \n",
      " 0   Site                    183960 non-null  object        \n",
      " 1   Value                   183960 non-null  float64       \n",
      " 2   DateTime                183960 non-null  datetime64[ns]\n",
      " 3   geometry                183960 non-null  object        \n",
      " 4   Rd_len                  183960 non-null  float64       \n",
      " 5   Gsp_area                183960 non-null  float64       \n",
      " 6   pct_nRd_Gsp             183960 non-null  float64       \n",
      " 7   nRd_Gsp_per_Rd_len      183960 non-null  float64       \n",
      " 8   pct_nGsp_Rd             183960 non-null  float64       \n",
      " 9   bp_mean                 183960 non-null  float64       \n",
      " 10  tmp_mean                183960 non-null  float64       \n",
      " 11  rh_mean                 183960 non-null  float64       \n",
      " 12  log_Gsp_area            183960 non-null  float64       \n",
      " 13  log_nRd_Gsp_per_Rd_len  183960 non-null  float64       \n",
      " 14  hour                    183960 non-null  int64         \n",
      " 15  dayofweek               183960 non-null  int64         \n",
      " 16  dayofmonth              183960 non-null  int64         \n",
      " 17  month                   183960 non-null  int64         \n",
      "dtypes: datetime64[ns](1), float64(11), int64(4), object(2)\n",
      "memory usage: 25.3+ MB\n"
     ]
    }
   ],
   "source": [
    "df.info()"
   ]
  },
  {
   "cell_type": "code",
   "execution_count": 60,
   "metadata": {},
   "outputs": [
    {
     "name": "stdout",
     "output_type": "stream",
     "text": [
      "high period: (60480, 13)\n",
      "low period: (123480, 13)\n"
     ]
    }
   ],
   "source": [
    "high_period = df[df['month'].isin([1, 2, 3, 4])].drop(['geometry','hour','dayofweek','dayofmonth','month'],axis=1)\n",
    "low_period = df[~df['month'].isin([1, 2, 3, 4])].drop(['geometry','hour','dayofweek','dayofmonth','month'],axis=1)\n",
    "\n",
    "print('high period: '+str(high_period.shape)+'\\nlow period: '+str(low_period.shape))"
   ]
  },
  {
   "cell_type": "code",
   "execution_count": 104,
   "metadata": {},
   "outputs": [
    {
     "data": {
      "text/plain": [
       "{'Rd_len': 0.05767,\n",
       " 'log_Gsp_area': 0.1999,\n",
       " 'pct_nRd_Gsp': 0.05346,\n",
       " 'log_nRd_Gsp_per_Rd_len': 0.1931,\n",
       " 'pct_nGsp_Rd': 0.00114,\n",
       " 'bp_mean': 0.10419,\n",
       " 'tmp_mean': 0.01236,\n",
       " 'rh_mean': 0.00177}"
      ]
     },
     "execution_count": 104,
     "metadata": {},
     "output_type": "execute_result"
    }
   ],
   "source": [
    "hp_X = high_period[var].values\n",
    "hp_y = high_period['Value'].values\n",
    "reg.fit(hp_X, hp_y)\n",
    "\n",
    "get_importance(reg, hp_X, hp_y, feature_names=var)"
   ]
  },
  {
   "cell_type": "code",
   "execution_count": 94,
   "metadata": {},
   "outputs": [
    {
     "data": {
      "text/plain": [
       "(0.06261427365049085, 0.006249871561032413)"
      ]
     },
     "execution_count": 94,
     "metadata": {},
     "output_type": "execute_result"
    }
   ],
   "source": [
    "get_cv_score(reg, hp_X, hp_y)"
   ]
  },
  {
   "cell_type": "code",
   "execution_count": 95,
   "metadata": {},
   "outputs": [
    {
     "data": {
      "text/plain": [
       "[-0.04342201874877192,\n",
       " 1.8986576485366589,\n",
       " 0.07030816605688961,\n",
       " -1.408788620439285,\n",
       " -0.06853473432526022,\n",
       " 0.16094536176960042,\n",
       " -0.27293695866187023,\n",
       " 0.07818103783337343,\n",
       " -178.70094305394431]"
      ]
     },
     "execution_count": 95,
     "metadata": {},
     "output_type": "execute_result"
    }
   ],
   "source": [
    "reg.coef_.tolist() + [reg.intercept_]"
   ]
  },
  {
   "cell_type": "code",
   "execution_count": 97,
   "metadata": {},
   "outputs": [
    {
     "data": {
      "text/plain": [
       "{'Rd_len': 0.01925,\n",
       " 'log_Gsp_area': 0.19045,\n",
       " 'pct_nRd_Gsp': 0.13331,\n",
       " 'log_nRd_Gsp_per_Rd_len': 0.06793,\n",
       " 'pct_nGsp_Rd': 0.01452,\n",
       " 'bp_mean': 0.05243,\n",
       " 'tmp_mean': 0.00548,\n",
       " 'rh_mean': 0.02369}"
      ]
     },
     "execution_count": 97,
     "metadata": {},
     "output_type": "execute_result"
    }
   ],
   "source": [
    "lp_X = low_period[var].values\n",
    "lp_y = low_period['Value'].values\n",
    "reg.fit(lp_X, lp_y)\n",
    "\n",
    "get_importance(reg, lp_X, lp_y, feature_names=var)"
   ]
  },
  {
   "cell_type": "code",
   "execution_count": 98,
   "metadata": {},
   "outputs": [
    {
     "data": {
      "text/plain": [
       "(0.04531013999755216, 0.00876340316322986)"
      ]
     },
     "execution_count": 98,
     "metadata": {},
     "output_type": "execute_result"
    }
   ],
   "source": [
    "get_cv_score(reg, lp_X, lp_y)"
   ]
  },
  {
   "cell_type": "code",
   "execution_count": 99,
   "metadata": {},
   "outputs": [
    {
     "data": {
      "text/plain": [
       "[-0.06477883610681165,\n",
       " 2.9045030591594285,\n",
       " 0.09368049866702144,\n",
       " -1.999571170705888,\n",
       " -0.10322265309086215,\n",
       " 0.12175789535158825,\n",
       " -0.07656150063701962,\n",
       " 0.05585286850974443,\n",
       " -149.76070408096325]"
      ]
     },
     "execution_count": 99,
     "metadata": {},
     "output_type": "execute_result"
    }
   ],
   "source": [
    "reg.coef_.tolist() + [reg.intercept_]"
   ]
  },
  {
   "cell_type": "markdown",
   "metadata": {},
   "source": [
    "# Mean analysis"
   ]
  },
  {
   "cell_type": "code",
   "execution_count": null,
   "metadata": {},
   "outputs": [],
   "source": [
    "hmean_df = df.groupby(['hour','Site']).mean()\n",
    "hmean_df.info()"
   ]
  },
  {
   "cell_type": "code",
   "execution_count": null,
   "metadata": {},
   "outputs": [],
   "source": [
    "hmean_df.drop(['bp_mean','tmp_mean','rh_mean','dayofweek','dayofmonth'],axis=1,inplace=True)"
   ]
  },
  {
   "cell_type": "code",
   "execution_count": null,
   "metadata": {},
   "outputs": [],
   "source": [
    "hmean_df.hist()"
   ]
  },
  {
   "cell_type": "code",
   "execution_count": null,
   "metadata": {},
   "outputs": [],
   "source": [
    "sns.heatmap(hmean_df[['Value']+var_names].corr().round(4),annot=True,fmt='.4f',cmap='magma')\n",
    "plt.show()"
   ]
  },
  {
   "cell_type": "code",
   "execution_count": null,
   "metadata": {},
   "outputs": [],
   "source": [
    "def get_corr(df,iter_range,method='pearson',features=var_names,target='Value'):\n",
    "    result=[]\n",
    "    for index in iter_range:\n",
    "        result.append(df.loc[(index,)].corr(method=method).loc[features,target])\n",
    "    result=np.asarray(result)\n",
    "    return result"
   ]
  },
  {
   "cell_type": "code",
   "execution_count": null,
   "metadata": {},
   "outputs": [],
   "source": [
    "def get_moran(df,iter_range,w=weight,target='Value'):\n",
    "    result=[]\n",
    "    for index in iter_range:\n",
    "        result.append(Moran(df.loc[(index,),target].values,w).I)\n",
    "    return result"
   ]
  },
  {
   "cell_type": "code",
   "execution_count": null,
   "metadata": {},
   "outputs": [],
   "source": [
    "def get_reg_info(df,iter_range,features=var_names,target='Value',reg=LinearRegression()):\n",
    "    result=[]\n",
    "    for index in iter_range:\n",
    "        x=df.loc[(index,),features].values\n",
    "        #x=(x-np.mean(x,axis=0))/np.std(x,axis=0)\n",
    "        \n",
    "        y=df.loc[(index,),target].values\n",
    "        #y=(y-np.mean(y,axis=0))/np.std(y,axis=0)\n",
    "        \n",
    "        reg.fit(x,y)\n",
    "        coef=reg.coef_.tolist()\n",
    "        coef.append(reg.score(x,y))\n",
    "        result.append(coef)\n",
    "    result=pd.DataFrame(result,columns=features+['score'])\n",
    "    return result"
   ]
  },
  {
   "cell_type": "code",
   "execution_count": null,
   "metadata": {},
   "outputs": [],
   "source": [
    "hmean_corr=get_corr(hmean_df,range(24))\n",
    "sns.lineplot(data=hmean_corr,legend=False)\n",
    "plt.legend(labels=var_names)\n",
    "plt.show()"
   ]
  },
  {
   "cell_type": "code",
   "execution_count": null,
   "metadata": {},
   "outputs": [],
   "source": [
    "hmean_corr_sp=get_corr(hmean_df,range(24),method='spearman')\n",
    "sns.lineplot(data=hmean_corr_sp,legend=False)\n",
    "plt.legend(labels=var_names)\n",
    "plt.show()"
   ]
  },
  {
   "cell_type": "code",
   "execution_count": null,
   "metadata": {},
   "outputs": [],
   "source": [
    "hmean_moran=get_moran(hmean_df,range(24))\n",
    "sns.lineplot(x=range(24),y=hmean_moran)"
   ]
  },
  {
   "cell_type": "code",
   "execution_count": null,
   "metadata": {},
   "outputs": [],
   "source": [
    "hmean_reg=get_reg_info(hmean_df,range(24))\n",
    "sns.lineplot(x=range(24),y=hmean_reg['score'])"
   ]
  },
  {
   "cell_type": "code",
   "execution_count": null,
   "metadata": {},
   "outputs": [],
   "source": [
    "# plot monthly mean\n",
    "df.groupby('month').mean()['Value'].plot()"
   ]
  },
  {
   "cell_type": "code",
   "execution_count": null,
   "metadata": {},
   "outputs": [],
   "source": [
    "mmean_df=df.groupby(['month','Site']).mean()\n",
    "mmean_df.info()"
   ]
  },
  {
   "cell_type": "code",
   "execution_count": null,
   "metadata": {},
   "outputs": [],
   "source": [
    "mmean_corr=get_corr(mmean_df,range(1,13))\n",
    "sns.lineplot(data=mmean_corr,legend=False)\n",
    "plt.legend(labels=var_names,loc='upper left')\n",
    "plt.show()"
   ]
  },
  {
   "cell_type": "code",
   "execution_count": null,
   "metadata": {},
   "outputs": [],
   "source": [
    "mmean_corr_sp=get_corr(mmean_df,range(1,13),method='spearman')\n",
    "sns.lineplot(data=mmean_corr_sp,legend=False)\n",
    "plt.legend(labels=var_names,loc='upper left')\n",
    "plt.show()"
   ]
  },
  {
   "cell_type": "code",
   "execution_count": null,
   "metadata": {},
   "outputs": [],
   "source": [
    "mmean_moran=get_moran(mmean_df,range(1,13))\n",
    "sns.lineplot(x=range(1,13),y=mmean_moran)"
   ]
  },
  {
   "cell_type": "code",
   "execution_count": null,
   "metadata": {},
   "outputs": [],
   "source": [
    "mmean_reg=get_reg_info(mmean_df,range(1,13))\n",
    "sns.lineplot(x=range(1,13),y=mmean_reg['score'])"
   ]
  },
  {
   "cell_type": "code",
   "execution_count": null,
   "metadata": {},
   "outputs": [],
   "source": [
    "# identify high period and low period\n",
    "high=df[df['month'].isin([1,2,3,4])].groupby('Site').mean()\n",
    "low=df[~df['month'].isin([1,2,3,4])].groupby('Site').mean()\n",
    "\n",
    "print('high: '+str(high.shape)+'\\nlow: '+str(low.shape))"
   ]
  },
  {
   "cell_type": "code",
   "execution_count": null,
   "metadata": {},
   "outputs": [],
   "source": [
    "sns.heatmap(high[['Value']+var_names].corr().round(4),annot=True,fmt='.4f',cmap='magma')\n",
    "plt.show()"
   ]
  },
  {
   "cell_type": "code",
   "execution_count": null,
   "metadata": {},
   "outputs": [],
   "source": [
    "high_moran=Moran(high['Value'].values,weight)\n",
    "round(high_moran.I,5)"
   ]
  },
  {
   "cell_type": "code",
   "execution_count": null,
   "metadata": {},
   "outputs": [],
   "source": [
    "reg_high=LinearRegression()\n",
    "y_high = high['Value'].values\n",
    "x_high = high[var_names].values\n",
    "reg_high.fit(x_high, y_high)\n",
    "reg_high.score(x_high,y_high)"
   ]
  },
  {
   "cell_type": "code",
   "execution_count": null,
   "metadata": {},
   "outputs": [],
   "source": [
    "prd_high = reg_high.predict(x_high)\n",
    "\n",
    "r = stats.pearsonr(y_high, prd_high)[0]\n",
    "r2 = r**2\n",
    "t, p_value = stats.kendalltau(y_high, prd_high)\n",
    "print('r2 (obs): ', round(r2, 5))\n",
    "print('tau (obs): ', round(t, 5))"
   ]
  },
  {
   "cell_type": "code",
   "execution_count": null,
   "metadata": {},
   "outputs": [],
   "source": [
    "cv_r2_high = []\n",
    "cv_tau_high = []\n",
    "\n",
    "for i in range(100):\n",
    "    kf = KFold(n_splits=4, shuffle=True, random_state=i)\n",
    "    cvprd_high = cross_val_predict(reg_high, x_high, y_high, cv=kf)  #predict using current random folds\n",
    "    \n",
    "    #correlations\n",
    "    r = stats.pearsonr(y_high,cvprd_high)[0]\n",
    "    t, p_value = stats.kendalltau(y_high, prd_high)\n",
    "    \n",
    "    #append to list\n",
    "    cv_r2_high.append(r**2)\n",
    "    cv_tau_high.append(t)\n",
    "\n",
    "print('r2 (cv): ', round(np.mean(cv_r2_high), 5))\n",
    "print('tau (cv): ', round(np.mean(cv_tau_high),5))\n",
    "print('r2 variance (cv): ', 1.96 * np.var(cv_r2_high))\n",
    "print('tau variance (cv): ', 1.96 * np.var(cv_tau_high))"
   ]
  },
  {
   "cell_type": "code",
   "execution_count": null,
   "metadata": {},
   "outputs": [],
   "source": [
    "sns.heatmap(low[['Value']+var_names].corr().round(4),annot=True,fmt='.4f',cmap='magma')\n",
    "plt.show()"
   ]
  },
  {
   "cell_type": "code",
   "execution_count": null,
   "metadata": {},
   "outputs": [],
   "source": [
    "low_moran=Moran(low['Value'].values,weight)\n",
    "round(low_moran.I,5)"
   ]
  },
  {
   "cell_type": "code",
   "execution_count": null,
   "metadata": {},
   "outputs": [],
   "source": [
    "reg_low = LinearRegression()\n",
    "y_low = low['Value'].values\n",
    "x_low = low[var_names].values\n",
    "reg_low.fit(x_low, y_low)\n",
    "prd_low = reg_low.predict(x_low)\n",
    "\n",
    "r = low['Value'].corr(pd.Series(prd_low))\n",
    "r2 = r**2\n",
    "t = low['Value'].corr(pd.Series(prd_low), method='kendall')\n",
    "print(\"r2 (cv): \", round(r2,3))   \n",
    "print(\"tau (cv): \", round(t,3))"
   ]
  },
  {
   "cell_type": "code",
   "execution_count": null,
   "metadata": {},
   "outputs": [],
   "source": [
    "sns.heatmap(all[['Value']+var_names].corr().round(4),annot=True,fmt='.4f',cmap='magma')\n",
    "plt.show()"
   ]
  },
  {
   "cell_type": "code",
   "execution_count": null,
   "metadata": {},
   "outputs": [],
   "source": [
    "all=df.groupby('Site').mean()\n",
    "all_moran=Moran(all['Value'].values,weight)\n",
    "round(all_moran.I,5)"
   ]
  },
  {
   "cell_type": "code",
   "execution_count": null,
   "metadata": {},
   "outputs": [],
   "source": [
    "y_all=(all.groupby('Site').mean()['Value'].values)\n",
    "x_all=(all.groupby('Site').mean()[var_names].values)\n",
    "\n",
    "reg.fit(x_all,y_all)\n",
    "reg.score(x_all,y_all)"
   ]
  }
 ],
 "metadata": {
  "interpreter": {
   "hash": "203d01a3458eace725dddcfcdb2c604435d077f4f6685c100707a5d3f77ea293"
  },
  "kernelspec": {
   "display_name": "Python 3.8.10 64-bit ('sds2021': conda)",
   "language": "python",
   "name": "python3"
  },
  "language_info": {
   "codemirror_mode": {
    "name": "ipython",
    "version": 3
   },
   "file_extension": ".py",
   "mimetype": "text/x-python",
   "name": "python",
   "nbconvert_exporter": "python",
   "pygments_lexer": "ipython3",
   "version": "3.8.10"
  },
  "orig_nbformat": 4
 },
 "nbformat": 4,
 "nbformat_minor": 2
}
