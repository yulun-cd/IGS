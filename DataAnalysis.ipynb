{
 "cells": [
  {
   "cell_type": "code",
   "execution_count": 1,
   "metadata": {},
   "outputs": [],
   "source": [
    "import pandas as pd\n",
    "import geopandas as gpd\n",
    "import matplotlib.pyplot as plt\n",
    "\n",
    "import numpy as np\n",
    "from spreg import OLS\n",
    "import statsmodels.api as sm"
   ]
  },
  {
   "cell_type": "code",
   "execution_count": 2,
   "metadata": {},
   "outputs": [],
   "source": [
    "# Read in all the data\n",
    "\n",
    "AQMS_df=pd.read_csv('data/AQMS_readings.csv')\n",
    "Rd_gdf=gpd.read_file('data/london_Road.shp')\n",
    "Gsp_gdf=gpd.read_file('data/LD_GreenSpace.shp')\n",
    "loc_gdf=gpd.read_file('data/AQMS_loc.shp')\n",
    "cond=pd.read_csv('data/cond.csv')"
   ]
  },
  {
   "cell_type": "code",
   "execution_count": 3,
   "metadata": {},
   "outputs": [
    {
     "data": {
      "text/html": [
       "<div>\n",
       "<style scoped>\n",
       "    .dataframe tbody tr th:only-of-type {\n",
       "        vertical-align: middle;\n",
       "    }\n",
       "\n",
       "    .dataframe tbody tr th {\n",
       "        vertical-align: top;\n",
       "    }\n",
       "\n",
       "    .dataframe thead th {\n",
       "        text-align: right;\n",
       "    }\n",
       "</style>\n",
       "<table border=\"1\" class=\"dataframe\">\n",
       "  <thead>\n",
       "    <tr style=\"text-align: right;\">\n",
       "      <th></th>\n",
       "      <th>DateTime</th>\n",
       "      <th>Value</th>\n",
       "      <th>Site</th>\n",
       "    </tr>\n",
       "  </thead>\n",
       "  <tbody>\n",
       "    <tr>\n",
       "      <th>0</th>\n",
       "      <td>2019-01-01</td>\n",
       "      <td>7.458333</td>\n",
       "      <td>CT2</td>\n",
       "    </tr>\n",
       "    <tr>\n",
       "      <th>1</th>\n",
       "      <td>2019-01-02</td>\n",
       "      <td>14.913043</td>\n",
       "      <td>CT2</td>\n",
       "    </tr>\n",
       "    <tr>\n",
       "      <th>2</th>\n",
       "      <td>2019-01-03</td>\n",
       "      <td>24.083333</td>\n",
       "      <td>CT2</td>\n",
       "    </tr>\n",
       "    <tr>\n",
       "      <th>3</th>\n",
       "      <td>2019-01-04</td>\n",
       "      <td>10.541667</td>\n",
       "      <td>CT2</td>\n",
       "    </tr>\n",
       "    <tr>\n",
       "      <th>4</th>\n",
       "      <td>2019-01-05</td>\n",
       "      <td>18.125000</td>\n",
       "      <td>CT2</td>\n",
       "    </tr>\n",
       "  </tbody>\n",
       "</table>\n",
       "</div>"
      ],
      "text/plain": [
       "     DateTime      Value Site\n",
       "0  2019-01-01   7.458333  CT2\n",
       "1  2019-01-02  14.913043  CT2\n",
       "2  2019-01-03  24.083333  CT2\n",
       "3  2019-01-04  10.541667  CT2\n",
       "4  2019-01-05  18.125000  CT2"
      ]
     },
     "execution_count": 3,
     "metadata": {},
     "output_type": "execute_result"
    }
   ],
   "source": [
    "AQMS_df.head()"
   ]
  },
  {
   "cell_type": "code",
   "execution_count": 5,
   "metadata": {},
   "outputs": [
    {
     "data": {
      "text/html": [
       "<div>\n",
       "<style scoped>\n",
       "    .dataframe tbody tr th:only-of-type {\n",
       "        vertical-align: middle;\n",
       "    }\n",
       "\n",
       "    .dataframe tbody tr th {\n",
       "        vertical-align: top;\n",
       "    }\n",
       "\n",
       "    .dataframe thead th {\n",
       "        text-align: right;\n",
       "    }\n",
       "</style>\n",
       "<table border=\"1\" class=\"dataframe\">\n",
       "  <thead>\n",
       "    <tr style=\"text-align: right;\">\n",
       "      <th></th>\n",
       "      <th>fictitious</th>\n",
       "      <th>identifier</th>\n",
       "      <th>class</th>\n",
       "      <th>roadNumber</th>\n",
       "      <th>name1</th>\n",
       "      <th>name1_lang</th>\n",
       "      <th>name2</th>\n",
       "      <th>name2_lang</th>\n",
       "      <th>formOfWay</th>\n",
       "      <th>length</th>\n",
       "      <th>primary</th>\n",
       "      <th>trunkRoad</th>\n",
       "      <th>loop</th>\n",
       "      <th>startNode</th>\n",
       "      <th>endNode</th>\n",
       "      <th>structure</th>\n",
       "      <th>nameTOID</th>\n",
       "      <th>numberTOID</th>\n",
       "      <th>function</th>\n",
       "      <th>geometry</th>\n",
       "    </tr>\n",
       "  </thead>\n",
       "  <tbody>\n",
       "    <tr>\n",
       "      <th>0</th>\n",
       "      <td>false</td>\n",
       "      <td>8CC0934A-4A4A-435A-BEBB-521AD3E8C143</td>\n",
       "      <td>Not Classified</td>\n",
       "      <td>None</td>\n",
       "      <td>The Bridlepath</td>\n",
       "      <td>None</td>\n",
       "      <td>None</td>\n",
       "      <td>None</td>\n",
       "      <td>Single Carriageway</td>\n",
       "      <td>302</td>\n",
       "      <td>false</td>\n",
       "      <td>false</td>\n",
       "      <td>false</td>\n",
       "      <td>C19EB0EA-BED0-42A6-B4B0-EBDEFA73B800</td>\n",
       "      <td>EE0E8646-C1A3-4A78-94FF-6667EC2D5EAC</td>\n",
       "      <td>None</td>\n",
       "      <td>osgb5000005123758573</td>\n",
       "      <td>None</td>\n",
       "      <td>Restricted Local Access Road</td>\n",
       "      <td>LINESTRING Z (531347.102 155899.478 0.000, 531...</td>\n",
       "    </tr>\n",
       "    <tr>\n",
       "      <th>1</th>\n",
       "      <td>false</td>\n",
       "      <td>ECE86DA8-118A-46AB-8D5D-56F68B96E7BB</td>\n",
       "      <td>Unclassified</td>\n",
       "      <td>None</td>\n",
       "      <td>Ditches Lane</td>\n",
       "      <td>None</td>\n",
       "      <td>None</td>\n",
       "      <td>None</td>\n",
       "      <td>Single Carriageway</td>\n",
       "      <td>1599</td>\n",
       "      <td>false</td>\n",
       "      <td>false</td>\n",
       "      <td>false</td>\n",
       "      <td>5818762C-F0E5-4D3C-B28A-43D3BB81347C</td>\n",
       "      <td>A704D38C-5674-4270-A4C2-D936F9CE8429</td>\n",
       "      <td>None</td>\n",
       "      <td>osgb4000000030481053</td>\n",
       "      <td>None</td>\n",
       "      <td>Minor Road</td>\n",
       "      <td>MULTILINESTRING Z ((530900.469 155851.102 0.00...</td>\n",
       "    </tr>\n",
       "    <tr>\n",
       "      <th>2</th>\n",
       "      <td>false</td>\n",
       "      <td>960A1B1E-15CD-4E9C-816C-4F79CB0442E7</td>\n",
       "      <td>A Road</td>\n",
       "      <td>A233</td>\n",
       "      <td>Main Road</td>\n",
       "      <td>None</td>\n",
       "      <td>None</td>\n",
       "      <td>None</td>\n",
       "      <td>Single Carriageway</td>\n",
       "      <td>12</td>\n",
       "      <td>false</td>\n",
       "      <td>false</td>\n",
       "      <td>false</td>\n",
       "      <td>0B3C9057-F8D0-469F-BAAD-EF66693A6756</td>\n",
       "      <td>52F19A51-09CA-4BE2-932D-A6F5E0827706</td>\n",
       "      <td>None</td>\n",
       "      <td>osgb4000000030481070</td>\n",
       "      <td>osgb4000000030575917</td>\n",
       "      <td>A Road</td>\n",
       "      <td>LINESTRING Z (543449.179 156812.005 0.000, 543...</td>\n",
       "    </tr>\n",
       "    <tr>\n",
       "      <th>3</th>\n",
       "      <td>false</td>\n",
       "      <td>0E0182BB-7E46-4250-B9EE-37D58BA0E73C</td>\n",
       "      <td>Unclassified</td>\n",
       "      <td>None</td>\n",
       "      <td>Grays Road</td>\n",
       "      <td>None</td>\n",
       "      <td>None</td>\n",
       "      <td>None</td>\n",
       "      <td>Single Carriageway</td>\n",
       "      <td>16</td>\n",
       "      <td>false</td>\n",
       "      <td>false</td>\n",
       "      <td>false</td>\n",
       "      <td>52F19A51-09CA-4BE2-932D-A6F5E0827706</td>\n",
       "      <td>03D54909-5CE1-44C7-B9FE-E55812121CE9</td>\n",
       "      <td>None</td>\n",
       "      <td>osgb4000000030485658</td>\n",
       "      <td>None</td>\n",
       "      <td>Minor Road</td>\n",
       "      <td>LINESTRING Z (543446.000 156819.000 0.000, 543...</td>\n",
       "    </tr>\n",
       "    <tr>\n",
       "      <th>4</th>\n",
       "      <td>false</td>\n",
       "      <td>A6456BD8-2D7F-4CE9-9192-112965FA7AD1</td>\n",
       "      <td>Unclassified</td>\n",
       "      <td>None</td>\n",
       "      <td>Old Fox Close</td>\n",
       "      <td>None</td>\n",
       "      <td>None</td>\n",
       "      <td>None</td>\n",
       "      <td>Single Carriageway</td>\n",
       "      <td>230</td>\n",
       "      <td>false</td>\n",
       "      <td>false</td>\n",
       "      <td>false</td>\n",
       "      <td>FCE37925-FBDA-4361-A036-32922B6B3752</td>\n",
       "      <td>CDC3FDC8-BE9E-426C-8FAD-B2133897E040</td>\n",
       "      <td>None</td>\n",
       "      <td>osgb4000000030514396</td>\n",
       "      <td>None</td>\n",
       "      <td>Local Road</td>\n",
       "      <td>LINESTRING Z (531860.000 156862.000 0.000, 531...</td>\n",
       "    </tr>\n",
       "  </tbody>\n",
       "</table>\n",
       "</div>"
      ],
      "text/plain": [
       "  fictitious                            identifier           class roadNumber  \\\n",
       "0      false  8CC0934A-4A4A-435A-BEBB-521AD3E8C143  Not Classified       None   \n",
       "1      false  ECE86DA8-118A-46AB-8D5D-56F68B96E7BB    Unclassified       None   \n",
       "2      false  960A1B1E-15CD-4E9C-816C-4F79CB0442E7          A Road       A233   \n",
       "3      false  0E0182BB-7E46-4250-B9EE-37D58BA0E73C    Unclassified       None   \n",
       "4      false  A6456BD8-2D7F-4CE9-9192-112965FA7AD1    Unclassified       None   \n",
       "\n",
       "            name1 name1_lang name2 name2_lang           formOfWay  length  \\\n",
       "0  The Bridlepath       None  None       None  Single Carriageway     302   \n",
       "1    Ditches Lane       None  None       None  Single Carriageway    1599   \n",
       "2       Main Road       None  None       None  Single Carriageway      12   \n",
       "3      Grays Road       None  None       None  Single Carriageway      16   \n",
       "4   Old Fox Close       None  None       None  Single Carriageway     230   \n",
       "\n",
       "  primary trunkRoad   loop                             startNode  \\\n",
       "0   false     false  false  C19EB0EA-BED0-42A6-B4B0-EBDEFA73B800   \n",
       "1   false     false  false  5818762C-F0E5-4D3C-B28A-43D3BB81347C   \n",
       "2   false     false  false  0B3C9057-F8D0-469F-BAAD-EF66693A6756   \n",
       "3   false     false  false  52F19A51-09CA-4BE2-932D-A6F5E0827706   \n",
       "4   false     false  false  FCE37925-FBDA-4361-A036-32922B6B3752   \n",
       "\n",
       "                                endNode structure              nameTOID  \\\n",
       "0  EE0E8646-C1A3-4A78-94FF-6667EC2D5EAC      None  osgb5000005123758573   \n",
       "1  A704D38C-5674-4270-A4C2-D936F9CE8429      None  osgb4000000030481053   \n",
       "2  52F19A51-09CA-4BE2-932D-A6F5E0827706      None  osgb4000000030481070   \n",
       "3  03D54909-5CE1-44C7-B9FE-E55812121CE9      None  osgb4000000030485658   \n",
       "4  CDC3FDC8-BE9E-426C-8FAD-B2133897E040      None  osgb4000000030514396   \n",
       "\n",
       "             numberTOID                      function  \\\n",
       "0                  None  Restricted Local Access Road   \n",
       "1                  None                    Minor Road   \n",
       "2  osgb4000000030575917                        A Road   \n",
       "3                  None                    Minor Road   \n",
       "4                  None                    Local Road   \n",
       "\n",
       "                                            geometry  \n",
       "0  LINESTRING Z (531347.102 155899.478 0.000, 531...  \n",
       "1  MULTILINESTRING Z ((530900.469 155851.102 0.00...  \n",
       "2  LINESTRING Z (543449.179 156812.005 0.000, 543...  \n",
       "3  LINESTRING Z (543446.000 156819.000 0.000, 543...  \n",
       "4  LINESTRING Z (531860.000 156862.000 0.000, 531...  "
      ]
     },
     "execution_count": 5,
     "metadata": {},
     "output_type": "execute_result"
    }
   ],
   "source": [
    "Rd_gdf.head()"
   ]
  },
  {
   "cell_type": "code",
   "execution_count": 6,
   "metadata": {},
   "outputs": [
    {
     "data": {
      "text/html": [
       "<div>\n",
       "<style scoped>\n",
       "    .dataframe tbody tr th:only-of-type {\n",
       "        vertical-align: middle;\n",
       "    }\n",
       "\n",
       "    .dataframe tbody tr th {\n",
       "        vertical-align: top;\n",
       "    }\n",
       "\n",
       "    .dataframe thead th {\n",
       "        text-align: right;\n",
       "    }\n",
       "</style>\n",
       "<table border=\"1\" class=\"dataframe\">\n",
       "  <thead>\n",
       "    <tr style=\"text-align: right;\">\n",
       "      <th></th>\n",
       "      <th>function</th>\n",
       "      <th>distName1</th>\n",
       "      <th>distName2</th>\n",
       "      <th>distName3</th>\n",
       "      <th>distName4</th>\n",
       "      <th>geometry</th>\n",
       "    </tr>\n",
       "  </thead>\n",
       "  <tbody>\n",
       "    <tr>\n",
       "      <th>0</th>\n",
       "      <td>Religious Grounds</td>\n",
       "      <td>St Thomas's Church</td>\n",
       "      <td>None</td>\n",
       "      <td>None</td>\n",
       "      <td>None</td>\n",
       "      <td>POLYGON Z ((554094.150 193959.630 0.000, 55406...</td>\n",
       "    </tr>\n",
       "    <tr>\n",
       "      <th>1</th>\n",
       "      <td>Other Sports Facility</td>\n",
       "      <td>None</td>\n",
       "      <td>None</td>\n",
       "      <td>None</td>\n",
       "      <td>None</td>\n",
       "      <td>POLYGON Z ((554242.200 193852.330 0.000, 55419...</td>\n",
       "    </tr>\n",
       "    <tr>\n",
       "      <th>2</th>\n",
       "      <td>Public Park Or Garden</td>\n",
       "      <td>The Green</td>\n",
       "      <td>None</td>\n",
       "      <td>None</td>\n",
       "      <td>None</td>\n",
       "      <td>MULTIPOLYGON Z (((538620.740 194410.900 0.000,...</td>\n",
       "    </tr>\n",
       "    <tr>\n",
       "      <th>3</th>\n",
       "      <td>Golf Course</td>\n",
       "      <td>Chingford Golf Course</td>\n",
       "      <td>None</td>\n",
       "      <td>None</td>\n",
       "      <td>None</td>\n",
       "      <td>MULTIPOLYGON Z (((539444.210 194937.620 0.000,...</td>\n",
       "    </tr>\n",
       "    <tr>\n",
       "      <th>4</th>\n",
       "      <td>Allotments Or Community Growing Spaces</td>\n",
       "      <td>None</td>\n",
       "      <td>None</td>\n",
       "      <td>None</td>\n",
       "      <td>None</td>\n",
       "      <td>POLYGON Z ((538849.200 193723.300 0.000, 53881...</td>\n",
       "    </tr>\n",
       "  </tbody>\n",
       "</table>\n",
       "</div>"
      ],
      "text/plain": [
       "                                 function              distName1 distName2  \\\n",
       "0                       Religious Grounds     St Thomas's Church      None   \n",
       "1                   Other Sports Facility                   None      None   \n",
       "2                   Public Park Or Garden              The Green      None   \n",
       "3                             Golf Course  Chingford Golf Course      None   \n",
       "4  Allotments Or Community Growing Spaces                   None      None   \n",
       "\n",
       "  distName3 distName4                                           geometry  \n",
       "0      None      None  POLYGON Z ((554094.150 193959.630 0.000, 55406...  \n",
       "1      None      None  POLYGON Z ((554242.200 193852.330 0.000, 55419...  \n",
       "2      None      None  MULTIPOLYGON Z (((538620.740 194410.900 0.000,...  \n",
       "3      None      None  MULTIPOLYGON Z (((539444.210 194937.620 0.000,...  \n",
       "4      None      None  POLYGON Z ((538849.200 193723.300 0.000, 53881...  "
      ]
     },
     "execution_count": 6,
     "metadata": {},
     "output_type": "execute_result"
    }
   ],
   "source": [
    "Gsp_gdf.head()"
   ]
  },
  {
   "cell_type": "code",
   "execution_count": 7,
   "metadata": {},
   "outputs": [
    {
     "data": {
      "text/html": [
       "<div>\n",
       "<style scoped>\n",
       "    .dataframe tbody tr th:only-of-type {\n",
       "        vertical-align: middle;\n",
       "    }\n",
       "\n",
       "    .dataframe tbody tr th {\n",
       "        vertical-align: top;\n",
       "    }\n",
       "\n",
       "    .dataframe thead th {\n",
       "        text-align: right;\n",
       "    }\n",
       "</style>\n",
       "<table border=\"1\" class=\"dataframe\">\n",
       "  <thead>\n",
       "    <tr style=\"text-align: right;\">\n",
       "      <th></th>\n",
       "      <th>siteid</th>\n",
       "      <th>sitename</th>\n",
       "      <th>geometry</th>\n",
       "    </tr>\n",
       "  </thead>\n",
       "  <tbody>\n",
       "    <tr>\n",
       "      <th>0</th>\n",
       "      <td>BX9</td>\n",
       "      <td>Bexley - Slade Green FDMS</td>\n",
       "      <td>POINT (551862.205 176375.976)</td>\n",
       "    </tr>\n",
       "    <tr>\n",
       "      <th>1</th>\n",
       "      <td>BL0</td>\n",
       "      <td>Camden - Bloomsbury</td>\n",
       "      <td>POINT (530120.048 182038.807)</td>\n",
       "    </tr>\n",
       "    <tr>\n",
       "      <th>2</th>\n",
       "      <td>CD9</td>\n",
       "      <td>Camden - Euston Road</td>\n",
       "      <td>POINT (529900.870 182666.124)</td>\n",
       "    </tr>\n",
       "    <tr>\n",
       "      <th>3</th>\n",
       "      <td>CD1</td>\n",
       "      <td>Camden - Swiss Cottage</td>\n",
       "      <td>POINT (526629.730 184391.024)</td>\n",
       "    </tr>\n",
       "    <tr>\n",
       "      <th>4</th>\n",
       "      <td>CT2</td>\n",
       "      <td>City of London - Farringdon Street</td>\n",
       "      <td>POINT (531622.273 181213.818)</td>\n",
       "    </tr>\n",
       "  </tbody>\n",
       "</table>\n",
       "</div>"
      ],
      "text/plain": [
       "  siteid                            sitename                       geometry\n",
       "0    BX9           Bexley - Slade Green FDMS  POINT (551862.205 176375.976)\n",
       "1    BL0                 Camden - Bloomsbury  POINT (530120.048 182038.807)\n",
       "2    CD9                Camden - Euston Road  POINT (529900.870 182666.124)\n",
       "3    CD1              Camden - Swiss Cottage  POINT (526629.730 184391.024)\n",
       "4    CT2  City of London - Farringdon Street  POINT (531622.273 181213.818)"
      ]
     },
     "execution_count": 7,
     "metadata": {},
     "output_type": "execute_result"
    }
   ],
   "source": [
    "loc_gdf.head()"
   ]
  },
  {
   "cell_type": "code",
   "execution_count": 4,
   "metadata": {},
   "outputs": [
    {
     "data": {
      "text/html": [
       "<div>\n",
       "<style scoped>\n",
       "    .dataframe tbody tr th:only-of-type {\n",
       "        vertical-align: middle;\n",
       "    }\n",
       "\n",
       "    .dataframe tbody tr th {\n",
       "        vertical-align: top;\n",
       "    }\n",
       "\n",
       "    .dataframe thead th {\n",
       "        text-align: right;\n",
       "    }\n",
       "</style>\n",
       "<table border=\"1\" class=\"dataframe\">\n",
       "  <thead>\n",
       "    <tr style=\"text-align: right;\">\n",
       "      <th></th>\n",
       "      <th>DateTime</th>\n",
       "      <th>BP</th>\n",
       "      <th>Tmp</th>\n",
       "      <th>RH</th>\n",
       "    </tr>\n",
       "  </thead>\n",
       "  <tbody>\n",
       "    <tr>\n",
       "      <th>0</th>\n",
       "      <td>2019-01-01</td>\n",
       "      <td>1029.864583</td>\n",
       "      <td>8.729167</td>\n",
       "      <td>75.312500</td>\n",
       "    </tr>\n",
       "    <tr>\n",
       "      <th>1</th>\n",
       "      <td>2019-01-02</td>\n",
       "      <td>982.156250</td>\n",
       "      <td>1.885417</td>\n",
       "      <td>96.145833</td>\n",
       "    </tr>\n",
       "    <tr>\n",
       "      <th>2</th>\n",
       "      <td>2019-01-03</td>\n",
       "      <td>1010.770833</td>\n",
       "      <td>9.300000</td>\n",
       "      <td>85.805556</td>\n",
       "    </tr>\n",
       "    <tr>\n",
       "      <th>3</th>\n",
       "      <td>2019-01-04</td>\n",
       "      <td>1011.833333</td>\n",
       "      <td>8.816667</td>\n",
       "      <td>73.750000</td>\n",
       "    </tr>\n",
       "    <tr>\n",
       "      <th>4</th>\n",
       "      <td>2019-01-05</td>\n",
       "      <td>1010.125000</td>\n",
       "      <td>12.500000</td>\n",
       "      <td>72.222222</td>\n",
       "    </tr>\n",
       "  </tbody>\n",
       "</table>\n",
       "</div>"
      ],
      "text/plain": [
       "     DateTime           BP        Tmp         RH\n",
       "0  2019-01-01  1029.864583   8.729167  75.312500\n",
       "1  2019-01-02   982.156250   1.885417  96.145833\n",
       "2  2019-01-03  1010.770833   9.300000  85.805556\n",
       "3  2019-01-04  1011.833333   8.816667  73.750000\n",
       "4  2019-01-05  1010.125000  12.500000  72.222222"
      ]
     },
     "execution_count": 4,
     "metadata": {},
     "output_type": "execute_result"
    }
   ],
   "source": [
    "cond.head()"
   ]
  },
  {
   "cell_type": "code",
   "execution_count": 8,
   "metadata": {},
   "outputs": [
    {
     "data": {
      "text/html": [
       "<div>\n",
       "<style scoped>\n",
       "    .dataframe tbody tr th:only-of-type {\n",
       "        vertical-align: middle;\n",
       "    }\n",
       "\n",
       "    .dataframe tbody tr th {\n",
       "        vertical-align: top;\n",
       "    }\n",
       "\n",
       "    .dataframe thead th {\n",
       "        text-align: right;\n",
       "    }\n",
       "</style>\n",
       "<table border=\"1\" class=\"dataframe\">\n",
       "  <thead>\n",
       "    <tr style=\"text-align: right;\">\n",
       "      <th></th>\n",
       "      <th>Value</th>\n",
       "      <th>BP</th>\n",
       "      <th>Tmp</th>\n",
       "      <th>RH</th>\n",
       "    </tr>\n",
       "  </thead>\n",
       "  <tbody>\n",
       "    <tr>\n",
       "      <th>Value</th>\n",
       "      <td>1.000000</td>\n",
       "      <td>0.184627</td>\n",
       "      <td>-0.095147</td>\n",
       "      <td>0.041614</td>\n",
       "    </tr>\n",
       "    <tr>\n",
       "      <th>BP</th>\n",
       "      <td>0.184627</td>\n",
       "      <td>1.000000</td>\n",
       "      <td>0.057986</td>\n",
       "      <td>-0.379641</td>\n",
       "    </tr>\n",
       "    <tr>\n",
       "      <th>Tmp</th>\n",
       "      <td>-0.095147</td>\n",
       "      <td>0.057986</td>\n",
       "      <td>1.000000</td>\n",
       "      <td>-0.452950</td>\n",
       "    </tr>\n",
       "    <tr>\n",
       "      <th>RH</th>\n",
       "      <td>0.041614</td>\n",
       "      <td>-0.379641</td>\n",
       "      <td>-0.452950</td>\n",
       "      <td>1.000000</td>\n",
       "    </tr>\n",
       "  </tbody>\n",
       "</table>\n",
       "</div>"
      ],
      "text/plain": [
       "          Value        BP       Tmp        RH\n",
       "Value  1.000000  0.184627 -0.095147  0.041614\n",
       "BP     0.184627  1.000000  0.057986 -0.379641\n",
       "Tmp   -0.095147  0.057986  1.000000 -0.452950\n",
       "RH     0.041614 -0.379641 -0.452950  1.000000"
      ]
     },
     "execution_count": 8,
     "metadata": {},
     "output_type": "execute_result"
    }
   ],
   "source": [
    "test_df=AQMS_df[AQMS_df['Site']=='CT2'].merge(cond).dropna()\n",
    "\n",
    "test_df.corr()"
   ]
  },
  {
   "cell_type": "code",
   "execution_count": 20,
   "metadata": {},
   "outputs": [
    {
     "data": {
      "text/html": [
       "<div>\n",
       "<style scoped>\n",
       "    .dataframe tbody tr th:only-of-type {\n",
       "        vertical-align: middle;\n",
       "    }\n",
       "\n",
       "    .dataframe tbody tr th {\n",
       "        vertical-align: top;\n",
       "    }\n",
       "\n",
       "    .dataframe thead th {\n",
       "        text-align: right;\n",
       "    }\n",
       "</style>\n",
       "<table border=\"1\" class=\"dataframe\">\n",
       "  <thead>\n",
       "    <tr style=\"text-align: right;\">\n",
       "      <th></th>\n",
       "      <th>Value</th>\n",
       "      <th>BP</th>\n",
       "      <th>Tmp</th>\n",
       "      <th>RH</th>\n",
       "    </tr>\n",
       "  </thead>\n",
       "  <tbody>\n",
       "    <tr>\n",
       "      <th>Value</th>\n",
       "      <td>1.000000</td>\n",
       "      <td>0.247502</td>\n",
       "      <td>-0.150348</td>\n",
       "      <td>-0.037343</td>\n",
       "    </tr>\n",
       "    <tr>\n",
       "      <th>BP</th>\n",
       "      <td>0.247502</td>\n",
       "      <td>1.000000</td>\n",
       "      <td>0.055893</td>\n",
       "      <td>-0.378787</td>\n",
       "    </tr>\n",
       "    <tr>\n",
       "      <th>Tmp</th>\n",
       "      <td>-0.150348</td>\n",
       "      <td>0.055893</td>\n",
       "      <td>1.000000</td>\n",
       "      <td>-0.451795</td>\n",
       "    </tr>\n",
       "    <tr>\n",
       "      <th>RH</th>\n",
       "      <td>-0.037343</td>\n",
       "      <td>-0.378787</td>\n",
       "      <td>-0.451795</td>\n",
       "      <td>1.000000</td>\n",
       "    </tr>\n",
       "  </tbody>\n",
       "</table>\n",
       "</div>"
      ],
      "text/plain": [
       "          Value        BP       Tmp        RH\n",
       "Value  1.000000  0.247502 -0.150348 -0.037343\n",
       "BP     0.247502  1.000000  0.055893 -0.378787\n",
       "Tmp   -0.150348  0.055893  1.000000 -0.451795\n",
       "RH    -0.037343 -0.378787 -0.451795  1.000000"
      ]
     },
     "execution_count": 20,
     "metadata": {},
     "output_type": "execute_result"
    }
   ],
   "source": [
    "AQMS_df.merge(cond,how='left',on='DateTime').corr()"
   ]
  },
  {
   "cell_type": "code",
   "execution_count": 11,
   "metadata": {},
   "outputs": [
    {
     "data": {
      "text/plain": [
       "DateTime     object\n",
       "Value       float64\n",
       "Site         object\n",
       "BP          float64\n",
       "Tmp         float64\n",
       "RH          float64\n",
       "dtype: object"
      ]
     },
     "execution_count": 11,
     "metadata": {},
     "output_type": "execute_result"
    }
   ],
   "source": [
    "test_df.dtypes"
   ]
  },
  {
   "cell_type": "code",
   "execution_count": 18,
   "metadata": {},
   "outputs": [
    {
     "name": "stdout",
     "output_type": "stream",
     "text": [
      "                                 OLS Regression Results                                \n",
      "=======================================================================================\n",
      "Dep. Variable:                      y   R-squared (uncentered):                   0.761\n",
      "Model:                            OLS   Adj. R-squared (uncentered):              0.760\n",
      "Method:                 Least Squares   F-statistic:                              1130.\n",
      "Date:                Wed, 02 Feb 2022   Prob (F-statistic):                   1.58e-112\n",
      "Time:                        10:45:15   Log-Likelihood:                         -1242.5\n",
      "No. Observations:                 357   AIC:                                      2487.\n",
      "Df Residuals:                     356   BIC:                                      2491.\n",
      "Df Model:                           1                                                  \n",
      "Covariance Type:            nonrobust                                                  \n",
      "==============================================================================\n",
      "                 coef    std err          t      P>|t|      [0.025      0.975]\n",
      "------------------------------------------------------------------------------\n",
      "x1             0.0139      0.000     33.623      0.000       0.013       0.015\n",
      "==============================================================================\n",
      "Omnibus:                      173.580   Durbin-Watson:                   0.859\n",
      "Prob(Omnibus):                  0.000   Jarque-Bera (JB):              687.559\n",
      "Skew:                           2.202   Prob(JB):                    4.99e-150\n",
      "Kurtosis:                       8.179   Cond. No.                         1.00\n",
      "==============================================================================\n",
      "\n",
      "Notes:\n",
      "[1] R² is computed without centering (uncentered) since the model does not contain a constant.\n",
      "[2] Standard Errors assume that the covariance matrix of the errors is correctly specified.\n"
     ]
    }
   ],
   "source": [
    "m_test=sm.OLS(test_df['Value'].values,test_df['BP'].values)\n",
    "m_test_fit=m_test.fit()\n",
    "print(m_test_fit.summary())"
   ]
  },
  {
   "cell_type": "code",
   "execution_count": null,
   "metadata": {},
   "outputs": [],
   "source": [
    "# reindex loc_gdf and set buffer zones around each site (1km)\n",
    "\n",
    "loc_gdf=loc_gdf.set_index('siteid')\n",
    "loc_gdf['buffer_1km']=loc_gdf['geometry'].buffer(1000)\n",
    "loc_gdf.head()"
   ]
  },
  {
   "cell_type": "code",
   "execution_count": null,
   "metadata": {},
   "outputs": [],
   "source": [
    "# Get all green spaces\n",
    "\n",
    "Gsp=Gsp_gdf['geometry'].unary_union"
   ]
  },
  {
   "cell_type": "code",
   "execution_count": null,
   "metadata": {},
   "outputs": [],
   "source": [
    "# Set buffer zones for every road (50m)\n",
    "\n",
    "Rd_gdf['buffer_50m']=Rd_gdf['geometry'].buffer(50)"
   ]
  },
  {
   "cell_type": "code",
   "execution_count": null,
   "metadata": {},
   "outputs": [],
   "source": [
    "Rd=Rd_gdf['geometry'].unary_union"
   ]
  },
  {
   "cell_type": "code",
   "execution_count": null,
   "metadata": {},
   "outputs": [],
   "source": [
    "# Get all road buffer zones\n",
    "\n",
    "Rd_buffer=Rd_gdf['buffer_50m'].unary_union"
   ]
  },
  {
   "cell_type": "code",
   "execution_count": null,
   "metadata": {},
   "outputs": [],
   "source": [
    "# Get all near-road green spaces\n",
    "\n",
    "nRd_Gsp=Gsp.intersection(Rd_buffer)"
   ]
  },
  {
   "cell_type": "code",
   "execution_count": null,
   "metadata": {},
   "outputs": [],
   "source": [
    "AQMS_shp=[]\n",
    "for site in loc_gdf.index:\n",
    "    AQMS_shp.append(loc_gdf.loc[site,'buffer_1km'])"
   ]
  },
  {
   "cell_type": "code",
   "execution_count": null,
   "metadata": {},
   "outputs": [],
   "source": [
    "Rd_shp=[]\n",
    "Gsp_shp=[]\n",
    "nRd_Gsp_shp=[]\n",
    "for poly in AQMS_shp:\n",
    "    Rd_shp.append(poly.intersection(Rd))\n",
    "    Gsp_shp.append(poly.intersection(Gsp))\n",
    "    nRd_Gsp_shp.append(poly.intersection(nRd_Gsp))\n",
    "print(len(Rd_shp),len(Gsp_shp),len(nRd_Gsp_shp))"
   ]
  },
  {
   "cell_type": "code",
   "execution_count": null,
   "metadata": {},
   "outputs": [],
   "source": [
    "loc_gdf['Road']=Rd_shp\n",
    "loc_gdf['GreenSpace']=Gsp_shp\n",
    "loc_gdf['NR_GreenSpace']=nRd_Gsp_shp\n",
    "loc_gdf=loc_gdf.set_geometry('Road').set_geometry('GreenSpace').set_geometry('NR_GreenSpace')\n",
    "loc_gdf"
   ]
  },
  {
   "cell_type": "code",
   "execution_count": null,
   "metadata": {},
   "outputs": [],
   "source": [
    "loc_gdf.dtypes"
   ]
  },
  {
   "cell_type": "code",
   "execution_count": null,
   "metadata": {},
   "outputs": [],
   "source": [
    "london=gpd.read_file('data/london_boundary.shp')"
   ]
  },
  {
   "cell_type": "code",
   "execution_count": null,
   "metadata": {},
   "outputs": [],
   "source": [
    "fig,ax=plt.subplots(1,figsize=(15,13))\n",
    "\n",
    "london.plot(color='lightgrey',ax=ax)\n",
    "loc_gdf['buffer_1km'].plot(color='silver',ax=ax)\n",
    "loc_gdf['GreenSpace'].plot(label='Green space',color='limegreen',ax=ax)\n",
    "loc_gdf['NR_GreenSpace'].plot(label='Near_road green space',color='darkgreen',ax=ax)\n",
    "loc_gdf['Road'].plot(color='black',label='Road',linewidth=0.1,ax=ax)\n",
    "loc_gdf['geometry'].plot(markersize=5,marker='^',color='blue',label='Air quality monitoring site',ax=ax)\n",
    "\n",
    "ax.axis('off')\n",
    "\n",
    "legend=ax.legend(loc='best',shadow=True,fontsize=15)\n",
    "\n",
    "#plt.savefig('sample1.png',facecolor='black',dpi=500)\n",
    "plt.show()"
   ]
  },
  {
   "cell_type": "code",
   "execution_count": null,
   "metadata": {},
   "outputs": [],
   "source": [
    "loc_gdf['min_dis']=pd.Series(dtype='float64')\n",
    "for index, row in loc_gdf.iterrows():\n",
    "    dis=[]\n",
    "    for i, v in loc_gdf['geometry'].iteritems():\n",
    "        dis.append(row['geometry'].distance(v))\n",
    "    dis.remove(0)\n",
    "    loc_gdf.loc[index,'min_dis']=min(dis)"
   ]
  },
  {
   "cell_type": "code",
   "execution_count": null,
   "metadata": {},
   "outputs": [],
   "source": [
    "loc_gdf[loc_gdf['min_dis']<=1500]"
   ]
  },
  {
   "cell_type": "code",
   "execution_count": null,
   "metadata": {},
   "outputs": [],
   "source": [
    "loc_gdf.drop(['BL0','GR4'],inplace=True)"
   ]
  },
  {
   "cell_type": "code",
   "execution_count": null,
   "metadata": {},
   "outputs": [],
   "source": [
    "df=AQMS_df.drop(AQMS_df[AQMS_df['Site'].isin(['BL0','GR4'])].index).reset_index(drop=True)\n",
    "df"
   ]
  },
  {
   "cell_type": "code",
   "execution_count": null,
   "metadata": {},
   "outputs": [],
   "source": [
    "df=df.merge(loc_gdf,left_on='Site',right_index=True)\n",
    "df"
   ]
  },
  {
   "cell_type": "code",
   "execution_count": null,
   "metadata": {},
   "outputs": [],
   "source": [
    "fig,ax=plt.subplots(1,figsize=(15,13))\n",
    "\n",
    "london.plot(color='lightgrey',ax=ax)\n",
    "loc_gdf['buffer_1km'].plot(color='silver',ax=ax)\n",
    "loc_gdf['GreenSpace'].plot(label='Green space',color='limegreen',ax=ax)\n",
    "loc_gdf['NR_GreenSpace'].plot(label='Near_road green space',color='darkgreen',ax=ax)\n",
    "loc_gdf['Road'].plot(color='black',label='Road',linewidth=0.1,ax=ax)\n",
    "loc_gdf['geometry'].plot(markersize=5,marker='^',color='blue',label='Air quality monitoring site',ax=ax)\n",
    "\n",
    "ax.axis('off')\n",
    "\n",
    "legend=ax.legend(loc='best',shadow=True,fontsize=15)\n",
    "\n",
    "#plt.savefig('sample1.png',facecolor='black',dpi=500)\n",
    "plt.show()"
   ]
  },
  {
   "cell_type": "code",
   "execution_count": null,
   "metadata": {},
   "outputs": [],
   "source": [
    "loc_gdf['buffer_area']=loc_gdf['buffer_1km'].area"
   ]
  },
  {
   "cell_type": "code",
   "execution_count": null,
   "metadata": {},
   "outputs": [],
   "source": [
    "loc_gdf['pct_Gsp_area']=loc_gdf['GreenSpace'].area/loc_gdf['buffer_area'] # percentage of gsp area\n",
    "loc_gdf['pct_nR_Gsp_area']=loc_gdf['NR_GreenSpace'].area/loc_gdf['buffer_area'] # percentage of near road gsp area"
   ]
  },
  {
   "cell_type": "code",
   "execution_count": null,
   "metadata": {},
   "outputs": [],
   "source": [
    "loc_gdf.head()"
   ]
  },
  {
   "cell_type": "code",
   "execution_count": null,
   "metadata": {},
   "outputs": [],
   "source": [
    "df=df.merge(cond,on='ReadingDateTime',how='left')"
   ]
  },
  {
   "cell_type": "code",
   "execution_count": null,
   "metadata": {},
   "outputs": [],
   "source": [
    "df"
   ]
  },
  {
   "cell_type": "code",
   "execution_count": null,
   "metadata": {},
   "outputs": [],
   "source": [
    "df.drop('min_dis',axis=1,inplace=True)"
   ]
  },
  {
   "cell_type": "code",
   "execution_count": null,
   "metadata": {},
   "outputs": [],
   "source": [
    "var=['pct_Gsp_area','pct_nR_Gsp_area','BP','Tmp','RH']"
   ]
  },
  {
   "cell_type": "code",
   "execution_count": null,
   "metadata": {},
   "outputs": [],
   "source": [
    "from spreg import OLS\n",
    "\n",
    "m_multi=OLS(y=df.dropna()['Value'].values, name_y='PM2.5 reading',\n",
    "            x=df.dropna()[var].values,name_x=var)\n",
    "print(m_multi.summary)"
   ]
  }
 ],
 "metadata": {
  "interpreter": {
   "hash": "203d01a3458eace725dddcfcdb2c604435d077f4f6685c100707a5d3f77ea293"
  },
  "kernelspec": {
   "display_name": "Python 3.8.10 64-bit ('sds2021': conda)",
   "language": "python",
   "name": "python3"
  },
  "language_info": {
   "codemirror_mode": {
    "name": "ipython",
    "version": 3
   },
   "file_extension": ".py",
   "mimetype": "text/x-python",
   "name": "python",
   "nbconvert_exporter": "python",
   "pygments_lexer": "ipython3",
   "version": "3.8.10"
  },
  "orig_nbformat": 4
 },
 "nbformat": 4,
 "nbformat_minor": 2
}
