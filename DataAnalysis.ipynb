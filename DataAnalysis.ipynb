{
 "cells": [
  {
   "cell_type": "code",
   "execution_count": 153,
   "metadata": {},
   "outputs": [],
   "source": [
    "import pandas as pd\n",
    "import geopandas as gpd\n",
    "import numpy as np\n",
    "\n",
    "from shapely.ops import unary_union\n",
    "\n",
    "import matplotlib.pyplot as plt\n",
    "import seaborn as sns\n",
    "\n",
    "from libpysal.weights import Kernel\n",
    "from esda.moran import Moran\n",
    "\n",
    "from scipy import stats\n",
    "\n",
    "from sklearn.linear_model import LinearRegression\n",
    "from sklearn.model_selection import KFold, LeaveOneOut, cross_val_predict, cross_val_score, train_test_split\n",
    "from sklearn.inspection import permutation_importance"
   ]
  },
  {
   "cell_type": "code",
   "execution_count": 2,
   "metadata": {},
   "outputs": [],
   "source": [
    "# set seaborn theme\n",
    "sns.set_theme(style='darkgrid')"
   ]
  },
  {
   "cell_type": "code",
   "execution_count": 3,
   "metadata": {},
   "outputs": [],
   "source": [
    "loc_gdf = gpd.read_file('data/AQMS_loc.shp')\n",
    "dep_df = pd.read_csv('data/hourly.csv')"
   ]
  },
  {
   "cell_type": "markdown",
   "metadata": {},
   "source": [
    "# Initialise"
   ]
  },
  {
   "cell_type": "code",
   "execution_count": null,
   "metadata": {},
   "outputs": [],
   "source": [
    "# set buffer zones around each site (1km)\n",
    "loc_gdf['buffer_1km'] = loc_gdf['geometry'].buffer(1000)"
   ]
  },
  {
   "cell_type": "code",
   "execution_count": null,
   "metadata": {},
   "outputs": [],
   "source": [
    "buffer_gdf = loc_gdf[['buffer_1km']]\n",
    "buffer_gdf = gpd.GeoDataFrame(buffer_gdf, geometry='buffer_1km')\n",
    "buffer_gdf.to_file('data/buffer.shp')"
   ]
  },
  {
   "cell_type": "markdown",
   "metadata": {},
   "source": [
    "## gsp modify"
   ]
  },
  {
   "cell_type": "code",
   "execution_count": null,
   "metadata": {},
   "outputs": [],
   "source": [
    "loc_gdf"
   ]
  },
  {
   "cell_type": "markdown",
   "metadata": {},
   "source": [
    "0575 - LH0\n",
    "\n",
    "1065, 1070, 1565, 1570 - TD5\n",
    "\n",
    "2565, 2570, 3065, 3070 - CR8\n",
    "\n",
    "2565, 3065 - ST5\n",
    "\n",
    "2080, 2580 - KC1\n",
    "\n",
    "2580, 2585 - CD1\n",
    "\n",
    "2580 - MY7\n",
    "\n",
    "2580, 3080 - BL0, CD9\n",
    "\n",
    "3080 - CT2, CT3\n",
    "\n",
    "3570, 3575 - HP1, LW2\n",
    "\n",
    "3575, 3580, 4075, 4080 - GN6\n",
    "\n",
    "3580 - TH4\n",
    "\n",
    "4070, 4075, 4570, 4575 - GB0\n",
    "\n",
    "4070, 4075 - GR9, GR4\n",
    "\n",
    "4075, 4575 - GN3\n",
    "\n",
    "5075 - BX9\n",
    "\n",
    "5080 - HV1"
   ]
  },
  {
   "cell_type": "code",
   "execution_count": null,
   "metadata": {},
   "outputs": [],
   "source": [
    "def readin_Gsp(file_name, path='data/OSMM Greenspaces/tq/TQ', suffix='_GreenspaceArea.shp'):\n",
    "    if type(file_name) == str:\n",
    "        gdf = gpd.read_file(path+file_name+suffix)\n",
    "    else:\n",
    "        gdf = pd.concat(gpd.read_file(path+f+suffix) for f in file_name)\n",
    "    return gdf"
   ]
  },
  {
   "cell_type": "code",
   "execution_count": null,
   "metadata": {},
   "outputs": [],
   "source": [
    "loc_gdf['Gsp'] = gpd.GeoSeries()"
   ]
  },
  {
   "cell_type": "code",
   "execution_count": null,
   "metadata": {},
   "outputs": [],
   "source": [
    "loc_gdf.columns.get_loc('Gsp')"
   ]
  },
  {
   "cell_type": "code",
   "execution_count": null,
   "metadata": {},
   "outputs": [],
   "source": [
    "def get_Gsp(file_name, index):\n",
    "    gdf = readin_Gsp(file_name)\n",
    "    print('Finish reading in shapefile(s)')\n",
    "    shp = gdf['geometry'].unary_union\n",
    "    print('Finish unary union.')\n",
    "    if type(index) == int:\n",
    "        loc_gdf.iat[index, 4] = shp.intersection(loc_gdf.loc[index, 'buffer_1km'])\n",
    "    elif type(index) == list:\n",
    "        for i in index:\n",
    "            loc_gdf.iat[i, 4] = shp.intersection(loc_gdf.loc[i, 'buffer_1km'])\n",
    "    else:\n",
    "        print('invalid type!')"
   ]
  },
  {
   "cell_type": "code",
   "execution_count": null,
   "metadata": {},
   "outputs": [],
   "source": [
    "get_Gsp('0575', 13)\n",
    "loc_gdf.loc[13, 'Gsp']"
   ]
  },
  {
   "cell_type": "code",
   "execution_count": null,
   "metadata": {},
   "outputs": [],
   "source": [
    "get_Gsp(['1065','1070','1565','1570'], 17)\n",
    "loc_gdf.loc[17, 'Gsp']"
   ]
  },
  {
   "cell_type": "code",
   "execution_count": null,
   "metadata": {},
   "outputs": [],
   "source": [
    "get_Gsp(['2565','2570','3065','3070'], 6)\n",
    "loc_gdf.loc[6, 'Gsp']"
   ]
  },
  {
   "cell_type": "code",
   "execution_count": null,
   "metadata": {},
   "outputs": [],
   "source": [
    "get_Gsp(['2565','3065'], 18)\n",
    "loc_gdf.loc[18, 'Gsp']"
   ]
  },
  {
   "cell_type": "code",
   "execution_count": null,
   "metadata": {},
   "outputs": [],
   "source": [
    "get_Gsp(['2080','2580'], 14)\n",
    "loc_gdf.loc[14, 'Gsp']"
   ]
  },
  {
   "cell_type": "code",
   "execution_count": null,
   "metadata": {},
   "outputs": [],
   "source": [
    "get_Gsp(['2580','2585'], 3)\n",
    "loc_gdf.loc[3, 'Gsp']"
   ]
  },
  {
   "cell_type": "code",
   "execution_count": null,
   "metadata": {},
   "outputs": [],
   "source": [
    "get_Gsp('2580', 20)\n",
    "loc_gdf.loc[20, 'Gsp']"
   ]
  },
  {
   "cell_type": "code",
   "execution_count": null,
   "metadata": {},
   "outputs": [],
   "source": [
    "get_Gsp(['2580','3080'], [1,2])"
   ]
  },
  {
   "cell_type": "code",
   "execution_count": null,
   "metadata": {},
   "outputs": [],
   "source": [
    "loc_gdf.loc[1, 'Gsp']"
   ]
  },
  {
   "cell_type": "code",
   "execution_count": null,
   "metadata": {},
   "outputs": [],
   "source": [
    "loc_gdf.loc[2, 'Gsp']"
   ]
  },
  {
   "cell_type": "code",
   "execution_count": null,
   "metadata": {},
   "outputs": [],
   "source": [
    "get_Gsp('3080', [4,5])"
   ]
  },
  {
   "cell_type": "code",
   "execution_count": null,
   "metadata": {},
   "outputs": [],
   "source": [
    "loc_gdf.loc[4, 'Gsp']"
   ]
  },
  {
   "cell_type": "code",
   "execution_count": null,
   "metadata": {},
   "outputs": [],
   "source": [
    "loc_gdf.loc[5, 'Gsp']"
   ]
  },
  {
   "cell_type": "code",
   "execution_count": null,
   "metadata": {},
   "outputs": [],
   "source": [
    "get_Gsp(['3570','3575'], [15,16])"
   ]
  },
  {
   "cell_type": "code",
   "execution_count": null,
   "metadata": {},
   "outputs": [],
   "source": [
    "loc_gdf.loc[15, 'Gsp']"
   ]
  },
  {
   "cell_type": "code",
   "execution_count": null,
   "metadata": {},
   "outputs": [],
   "source": [
    "loc_gdf.loc[16, 'Gsp']"
   ]
  },
  {
   "cell_type": "code",
   "execution_count": null,
   "metadata": {},
   "outputs": [],
   "source": [
    "get_Gsp(['3575','3580','4075','4080'], 9)\n",
    "loc_gdf.loc[9, 'Gsp']"
   ]
  },
  {
   "cell_type": "code",
   "execution_count": null,
   "metadata": {},
   "outputs": [],
   "source": [
    "get_Gsp('3580', 19)\n",
    "loc_gdf.loc[19, 'Gsp']"
   ]
  },
  {
   "cell_type": "code",
   "execution_count": null,
   "metadata": {},
   "outputs": [],
   "source": [
    "get_Gsp(['4070','4075','4570','4575'], 8)\n",
    "loc_gdf.loc[8, 'Gsp']"
   ]
  },
  {
   "cell_type": "code",
   "execution_count": null,
   "metadata": {},
   "outputs": [],
   "source": [
    "get_Gsp(['4075', '4575'], [7, 11])"
   ]
  },
  {
   "cell_type": "code",
   "execution_count": null,
   "metadata": {},
   "outputs": [],
   "source": [
    "loc_gdf.loc[7, 'Gsp']"
   ]
  },
  {
   "cell_type": "code",
   "execution_count": null,
   "metadata": {},
   "outputs": [],
   "source": [
    "loc_gdf.loc[11, 'Gsp']"
   ]
  },
  {
   "cell_type": "code",
   "execution_count": null,
   "metadata": {},
   "outputs": [],
   "source": [
    "get_Gsp(['4075', '4575'], 10)\n",
    "loc_gdf.loc[10, 'Gsp']"
   ]
  },
  {
   "cell_type": "code",
   "execution_count": null,
   "metadata": {},
   "outputs": [],
   "source": [
    "get_Gsp('5075', 0)\n",
    "loc_gdf.loc[0, 'Gsp']"
   ]
  },
  {
   "cell_type": "code",
   "execution_count": null,
   "metadata": {},
   "outputs": [],
   "source": [
    "get_Gsp('5080', 12)\n",
    "loc_gdf.loc[12, 'Gsp']"
   ]
  },
  {
   "cell_type": "code",
   "execution_count": null,
   "metadata": {},
   "outputs": [],
   "source": [
    "Gsp_gdf = loc_gdf[['siteid','Gsp']]\n",
    "Gsp_gdf = Gsp_gdf.set_geometry('Gsp')\n",
    "Gsp_gdf = Gsp_gdf.set_crs(27700)\n",
    "Gsp_gdf.crs"
   ]
  },
  {
   "cell_type": "code",
   "execution_count": null,
   "metadata": {},
   "outputs": [],
   "source": [
    "Gsp_gdf.to_file('data/gsp_buffer_1km.shp')"
   ]
  },
  {
   "cell_type": "markdown",
   "metadata": {},
   "source": [
    "## nRd_gsp"
   ]
  },
  {
   "cell_type": "code",
   "execution_count": null,
   "metadata": {},
   "outputs": [],
   "source": [
    "Gsp_gdf = gpd.read_file('data/gsp_buffer_1km.shp')"
   ]
  },
  {
   "cell_type": "code",
   "execution_count": null,
   "metadata": {},
   "outputs": [],
   "source": [
    "Gsp_gdf.head()"
   ]
  },
  {
   "cell_type": "code",
   "execution_count": null,
   "metadata": {},
   "outputs": [],
   "source": [
    "loc_gdf['Gsp'] = Gsp_gdf['geometry']\n",
    "loc_gdf.info()"
   ]
  },
  {
   "cell_type": "code",
   "execution_count": null,
   "metadata": {},
   "outputs": [],
   "source": [
    "del Gsp_gdf"
   ]
  },
  {
   "cell_type": "code",
   "execution_count": null,
   "metadata": {},
   "outputs": [],
   "source": [
    "# Read in road geometry\n",
    "Rd_gdf = gpd.read_file('data/london_Road.shp')"
   ]
  },
  {
   "cell_type": "code",
   "execution_count": null,
   "metadata": {},
   "outputs": [],
   "source": [
    "Rd_gdf.head()"
   ]
  },
  {
   "cell_type": "code",
   "execution_count": null,
   "metadata": {},
   "outputs": [],
   "source": [
    "for c in Rd_gdf['class'].unique():\n",
    "    print('Number of ' + c + ': ', Rd_gdf[Rd_gdf['class'] == c].shape[0])"
   ]
  },
  {
   "cell_type": "code",
   "execution_count": null,
   "metadata": {},
   "outputs": [],
   "source": [
    "# Get all types of roads\n",
    "Rd = {}\n",
    "for c in Rd_gdf['class'].unique():\n",
    "    Rd[c] = Rd_gdf[Rd_gdf['class'] == c].loc[:, 'geometry'].unary_union\n",
    "Rd"
   ]
  },
  {
   "cell_type": "code",
   "execution_count": null,
   "metadata": {},
   "outputs": [],
   "source": [
    "Rd['Other'] = unary_union([Rd['Not Classified'], Rd['Unknown']])\n",
    "Rd.pop('Not Classified')\n",
    "Rd.pop('Unknown')\n",
    "Rd"
   ]
  },
  {
   "cell_type": "code",
   "execution_count": null,
   "metadata": {},
   "outputs": [],
   "source": [
    "del Rd_gdf"
   ]
  },
  {
   "cell_type": "code",
   "execution_count": null,
   "metadata": {},
   "outputs": [],
   "source": [
    "for key in Rd.keys():\n",
    "    loc_gdf[key] = loc_gdf['buffer_1km'].intersection(Rd[key])\n",
    "loc_gdf.head()"
   ]
  },
  {
   "cell_type": "code",
   "execution_count": null,
   "metadata": {},
   "outputs": [],
   "source": [
    "del Rd"
   ]
  },
  {
   "cell_type": "code",
   "execution_count": null,
   "metadata": {},
   "outputs": [],
   "source": [
    "# Rename columns\n",
    "loc_gdf.rename(columns={'Unclassified': 'UnC', \n",
    "                        'A Road': 'A',\n",
    "                        'B Road': 'B',\n",
    "                        'Classified Unnumbered': 'CUn',\n",
    "                        'Motorway': 'Mt'}, inplace=True)\n",
    "\n",
    "Rd_type = loc_gdf.columns[-6:]\n",
    "Rd_type"
   ]
  },
  {
   "cell_type": "code",
   "execution_count": null,
   "metadata": {},
   "outputs": [],
   "source": [
    "# Get all near-road green spaces\n",
    "for col in Rd_type:\n",
    "    loc_gdf['n'+col+'_Gsp'] = loc_gdf['Gsp'].intersection(loc_gdf[col].buffer(50))\n",
    "\n",
    "loc_gdf.head()"
   ]
  },
  {
   "cell_type": "code",
   "execution_count": null,
   "metadata": {},
   "outputs": [],
   "source": [
    "# london boundary read in\n",
    "london = gpd.read_file('data/london_boundary.shp')"
   ]
  },
  {
   "cell_type": "code",
   "execution_count": null,
   "metadata": {},
   "outputs": [],
   "source": [
    "# visualise all the sites on the map\n",
    "fig,ax = plt.subplots(1, figsize=(12,8))\n",
    "\n",
    "london.plot(color='lightgrey', ax=ax)\n",
    "loc_gdf['buffer_1km'].plot(color='silver', ax=ax)\n",
    "loc_gdf['geometry'].plot(markersize=10, marker='^', color='blue', \n",
    "                         label='Air quality monitoring site', ax=ax)\n",
    "\n",
    "ax.axis('off')\n",
    "\n",
    "legend=ax.legend(loc='best',shadow=True,fontsize=15)\n",
    "\n",
    "#plt.savefig('sample1.png',facecolor='black',dpi=500)\n",
    "plt.show()"
   ]
  },
  {
   "cell_type": "markdown",
   "metadata": {},
   "source": [
    "There are some buffers that seem to be very close to each other."
   ]
  },
  {
   "cell_type": "code",
   "execution_count": null,
   "metadata": {},
   "outputs": [],
   "source": [
    "# add a column that specifies the shortest distance of a site to its nearest neighbour\n",
    "loc_gdf['min_dis'] = pd.Series(dtype='float64')\n",
    "for index, row in loc_gdf.iterrows():\n",
    "    dis = []\n",
    "    for i, v in loc_gdf['geometry'].iteritems():\n",
    "        dis.append(row['geometry'].distance(v))\n",
    "    dis.remove(0)\n",
    "    loc_gdf.loc[index, 'min_dis'] = min(dis)"
   ]
  },
  {
   "cell_type": "code",
   "execution_count": null,
   "metadata": {},
   "outputs": [],
   "source": [
    "# list sites that are close to each other (within 1.5km)\n",
    "loc_gdf[loc_gdf['min_dis']<=1500]"
   ]
  },
  {
   "cell_type": "code",
   "execution_count": null,
   "metadata": {},
   "outputs": [],
   "source": [
    "# check their readings' descriptive statistics\n",
    "dep_df[dep_df['Site'].isin(['BL0', 'CD9', 'GR4', 'GB0'])].groupby('Site').describe()"
   ]
  },
  {
   "cell_type": "code",
   "execution_count": 4,
   "metadata": {},
   "outputs": [
    {
     "data": {
      "text/plain": [
       "Ttest_relResult(statistic=-59.89747540590601, pvalue=0.0)"
      ]
     },
     "execution_count": 4,
     "metadata": {},
     "output_type": "execute_result"
    }
   ],
   "source": [
    "stats.ttest_rel(dep_df[dep_df['Site']=='BL0'].Value.values,\n",
    "                dep_df[dep_df['Site']=='CD9'].Value.values)"
   ]
  },
  {
   "cell_type": "code",
   "execution_count": 5,
   "metadata": {},
   "outputs": [
    {
     "data": {
      "text/plain": [
       "Ttest_relResult(statistic=-31.347923748114297, pvalue=1.5260626870045138e-204)"
      ]
     },
     "execution_count": 5,
     "metadata": {},
     "output_type": "execute_result"
    }
   ],
   "source": [
    "stats.ttest_rel(dep_df[dep_df['Site']=='GR4'].Value.values,\n",
    "                dep_df[dep_df['Site']=='GB0'].Value.values)"
   ]
  },
  {
   "cell_type": "markdown",
   "metadata": {},
   "source": [
    "Both indicate that we should reject H0, meaning the two datasets are statistically significantly different."
   ]
  },
  {
   "cell_type": "code",
   "execution_count": null,
   "metadata": {},
   "outputs": [],
   "source": [
    "# revmove them from the list\n",
    "#loc_gdf.drop(['BL0','GR4'], inplace=True)"
   ]
  },
  {
   "cell_type": "code",
   "execution_count": null,
   "metadata": {},
   "outputs": [],
   "source": [
    "# get areas and edge lengths of green spaces \n",
    "loc_gdf['Gsp_area'] = loc_gdf['Gsp'].area\n",
    "loc_gdf['Gsp_edge'] = loc_gdf['Gsp'].length"
   ]
  },
  {
   "cell_type": "code",
   "execution_count": null,
   "metadata": {},
   "outputs": [],
   "source": [
    "# get road lengths of each type and nRd gsp area percentages\n",
    "for col in Rd_type:\n",
    "    loc_gdf[col+'_len'] = loc_gdf[col].length\n",
    "    loc_gdf[col+'_area_per_len'] = loc_gdf['n'+col+'_Gsp'].area / loc_gdf[col+'_len']\n",
    "    loc_gdf[col+'_edge_per_len'] = loc_gdf['n'+col+'_Gsp'].length / loc_gdf[col+'_len']"
   ]
  },
  {
   "cell_type": "code",
   "execution_count": null,
   "metadata": {},
   "outputs": [],
   "source": [
    "# get road lengths of each type and nRd gsp area percentages\n",
    "for col in Rd_type:\n",
    "    loc_gdf[col+'_len'] = loc_gdf[col].length\n",
    "    loc_gdf[col+'_area_per_len_area'] = loc_gdf['n'+col+'_Gsp'].area / loc_gdf[col+'_len'] / loc_gdf['Gsp_area']\n",
    "    loc_gdf[col+'_edge_per_len_area'] = loc_gdf['n'+col+'_Gsp'].length / loc_gdf[col+'_len'] / loc_gdf['Gsp_area']"
   ]
  },
  {
   "cell_type": "code",
   "execution_count": null,
   "metadata": {},
   "outputs": [],
   "source": [
    "loc_gdf['Gsp_per_tRd_len'] = loc_gdf['Gsp_area'] / loc_gdf[[col+'_len' for col in Rd_type]].sum(axis=1)"
   ]
  },
  {
   "cell_type": "code",
   "execution_count": null,
   "metadata": {},
   "outputs": [],
   "source": [
    "loc_gdf.info()"
   ]
  },
  {
   "cell_type": "code",
   "execution_count": null,
   "metadata": {},
   "outputs": [],
   "source": [
    "exp_df = loc_gdf.drop(['sitename', 'geometry','buffer_1km','Gsp','min_dis'], axis=1)\n",
    "exp_df.drop(Rd_type, axis=1, inplace=True)\n",
    "exp_df.drop(['n'+rd+'_Gsp' for rd in Rd_type], axis=1, inplace=True)\n",
    "exp_df.drop([rd+'_len' for rd in Rd_type], axis=1, inplace=True)"
   ]
  },
  {
   "cell_type": "code",
   "execution_count": null,
   "metadata": {},
   "outputs": [],
   "source": [
    "exp_df.info()"
   ]
  },
  {
   "cell_type": "markdown",
   "metadata": {},
   "source": [
    "There are many null values in `nMt_Gsp_per_Mt_len` and `nMt_edge_per_Mt_len`.\n",
    "\n",
    "Because only one site has near motorway.\n",
    "\n",
    "Remove the variable would be the best."
   ]
  },
  {
   "cell_type": "code",
   "execution_count": null,
   "metadata": {},
   "outputs": [],
   "source": [
    "exp_df.drop(['Mt_area_per_len', 'Mt_edge_per_len'], axis=1, inplace=True)"
   ]
  },
  {
   "cell_type": "markdown",
   "metadata": {},
   "source": [
    "Some null values in `nB_Gsp_per_B_len` and `nCUn_Gsp_per_CUn_len`, which is due to the lengths of B roads or Classified Unnumbered roads in these buffers are zero."
   ]
  },
  {
   "cell_type": "code",
   "execution_count": null,
   "metadata": {},
   "outputs": [],
   "source": [
    "# set the null values to zero\n",
    "exp_df.fillna(0, inplace=True)\n",
    "exp_df.info()"
   ]
  },
  {
   "cell_type": "code",
   "execution_count": null,
   "metadata": {},
   "outputs": [],
   "source": [
    "exp_df.to_csv('exp_data.csv', index=False)"
   ]
  },
  {
   "cell_type": "markdown",
   "metadata": {},
   "source": [
    "# Temporarily save"
   ]
  },
  {
   "cell_type": "code",
   "execution_count": 6,
   "metadata": {},
   "outputs": [
    {
     "name": "stdout",
     "output_type": "stream",
     "text": [
      "<class 'pandas.core.frame.DataFrame'>\n",
      "RangeIndex: 21 entries, 0 to 20\n",
      "Data columns (total 14 columns):\n",
      " #   Column              Non-Null Count  Dtype  \n",
      "---  ------              --------------  -----  \n",
      " 0   siteid              21 non-null     object \n",
      " 1   Gsp_area            21 non-null     float64\n",
      " 2   Gsp_edge            21 non-null     float64\n",
      " 3   UnC_area_per_len    21 non-null     float64\n",
      " 4   UnC_edge_per_len    21 non-null     float64\n",
      " 5   A_area_per_len      21 non-null     float64\n",
      " 6   A_edge_per_len      21 non-null     float64\n",
      " 7   B_area_per_len      21 non-null     float64\n",
      " 8   B_edge_per_len      21 non-null     float64\n",
      " 9   CUn_area_per_len    21 non-null     float64\n",
      " 10  CUn_edge_per_len    21 non-null     float64\n",
      " 11  Other_area_per_len  21 non-null     float64\n",
      " 12  Other_edge_per_len  21 non-null     float64\n",
      " 13  Gsp_per_tRd_len     21 non-null     float64\n",
      "dtypes: float64(13), object(1)\n",
      "memory usage: 2.4+ KB\n"
     ]
    }
   ],
   "source": [
    "exp_df = pd.read_csv('exp_data.csv')\n",
    "exp_df.info()"
   ]
  },
  {
   "cell_type": "code",
   "execution_count": 7,
   "metadata": {},
   "outputs": [
    {
     "name": "stdout",
     "output_type": "stream",
     "text": [
      "<class 'pandas.core.frame.DataFrame'>\n",
      "RangeIndex: 183960 entries, 0 to 183959\n",
      "Data columns (total 3 columns):\n",
      " #   Column           Non-Null Count   Dtype  \n",
      "---  ------           --------------   -----  \n",
      " 0   Site             183960 non-null  object \n",
      " 1   ReadingDateTime  183960 non-null  object \n",
      " 2   Value            183960 non-null  float64\n",
      "dtypes: float64(1), object(2)\n",
      "memory usage: 4.2+ MB\n"
     ]
    }
   ],
   "source": [
    "dep_df.info()"
   ]
  },
  {
   "cell_type": "code",
   "execution_count": 8,
   "metadata": {},
   "outputs": [
    {
     "name": "stdout",
     "output_type": "stream",
     "text": [
      "<class 'pandas.core.frame.DataFrame'>\n",
      "RangeIndex: 183960 entries, 0 to 183959\n",
      "Data columns (total 3 columns):\n",
      " #   Column    Non-Null Count   Dtype         \n",
      "---  ------    --------------   -----         \n",
      " 0   Site      183960 non-null  object        \n",
      " 1   DateTime  183960 non-null  datetime64[ns]\n",
      " 2   Value     183960 non-null  float64       \n",
      "dtypes: datetime64[ns](1), float64(1), object(1)\n",
      "memory usage: 4.2+ MB\n"
     ]
    }
   ],
   "source": [
    "# covert the DateTime column to numpy.datetime variable\n",
    "dep_df['ReadingDateTime'] = pd.to_datetime(dep_df['ReadingDateTime'], format=\"%d/%m/%Y %H:%M\")\n",
    "dep_df.rename(columns={'ReadingDateTime':'DateTime'}, inplace=True)\n",
    "dep_df.info()"
   ]
  },
  {
   "cell_type": "code",
   "execution_count": 9,
   "metadata": {},
   "outputs": [],
   "source": [
    "dep_df['month'] = dep_df['DateTime'].dt.month\n",
    "dep_df['hour'] = dep_df['DateTime'].dt.hour\n",
    "dep_df['dayofmonth'] = dep_df['DateTime'].dt.day\n",
    "dep_df['Date'] = dep_df['DateTime'].dt.date"
   ]
  },
  {
   "cell_type": "code",
   "execution_count": 115,
   "metadata": {},
   "outputs": [
    {
     "data": {
      "image/png": "[encoded data removed]",
      "text/plain": [
       "<Figure size 432x288 with 1 Axes>"
      ]
     },
     "metadata": {},
     "output_type": "display_data"
    }
   ],
   "source": [
    "sns.scatterplot(x=dep_df['Date'].unique(), y=dep_df.groupby('Date').mean()['Value'])\n",
    "plt.plot(dep_df[dep_df['dayofmonth']==1].Date.unique(), \n",
    "         dep_df.groupby('month').mean()['Value'], color='black')\n",
    "\n",
    "plt.axhline(y=15, color='red', linestyle='--')\n",
    "plt.show()"
   ]
  },
  {
   "cell_type": "code",
   "execution_count": null,
   "metadata": {},
   "outputs": [],
   "source": [
    "# number of date above WHO guideline\n",
    "(dep_df.groupby('Date').mean()['Value']>15).sum()"
   ]
  },
  {
   "cell_type": "code",
   "execution_count": null,
   "metadata": {},
   "outputs": [],
   "source": [
    "# annual mean for each site\n",
    "dep_df.groupby('Site').mean()['Value']"
   ]
  },
  {
   "cell_type": "code",
   "execution_count": null,
   "metadata": {},
   "outputs": [],
   "source": [
    "# annual mean for London\n",
    "dep_df['Value'].mean()"
   ]
  },
  {
   "cell_type": "code",
   "execution_count": 10,
   "metadata": {},
   "outputs": [
    {
     "name": "stdout",
     "output_type": "stream",
     "text": [
      "['UnC_area_per_len', 'A_area_per_len', 'B_area_per_len', 'CUn_area_per_len', 'Other_area_per_len'] ['UnC_edge_per_len', 'A_edge_per_len', 'B_edge_per_len', 'CUn_edge_per_len', 'Other_edge_per_len']\n"
     ]
    }
   ],
   "source": [
    "area_names = []\n",
    "edge_names = []\n",
    "for i in range(2, 7):\n",
    "    area_names.append(exp_df.columns[2*i-1])\n",
    "    edge_names.append(exp_df.columns[2*i])\n",
    "print(area_names, edge_names)"
   ]
  },
  {
   "cell_type": "code",
   "execution_count": 11,
   "metadata": {},
   "outputs": [],
   "source": [
    "var_names = area_names + edge_names"
   ]
  },
  {
   "cell_type": "code",
   "execution_count": 12,
   "metadata": {},
   "outputs": [],
   "source": [
    "# kernel weight matrix for the sites\n",
    "weight = Kernel.from_dataframe(loc_gdf, geom_col='geometry', function='gaussian')"
   ]
  },
  {
   "cell_type": "code",
   "execution_count": 13,
   "metadata": {},
   "outputs": [
    {
     "name": "stdout",
     "output_type": "stream",
     "text": [
      "Global Moran's I for UnC_area_per_len is  0.22651  p-value:  0.0\n",
      "Global Moran's I for A_area_per_len is  0.1898  p-value:  4e-05\n",
      "Global Moran's I for B_area_per_len is  0.02886  p-value:  0.17844\n",
      "Global Moran's I for CUn_area_per_len is  0.15787  p-value:  0.00039\n",
      "Global Moran's I for Other_area_per_len is  0.19556  p-value:  3e-05\n",
      "Global Moran's I for UnC_edge_per_len is  0.16823  p-value:  0.0002\n",
      "Global Moran's I for A_edge_per_len is  0.19947  p-value:  2e-05\n",
      "Global Moran's I for B_edge_per_len is  0.01378  p-value:  0.27646\n",
      "Global Moran's I for CUn_edge_per_len is  0.08091  p-value:  0.02551\n",
      "Global Moran's I for Other_edge_per_len is  0.10941  p-value:  0.00653\n"
     ]
    }
   ],
   "source": [
    "for var in area_names+edge_names:\n",
    "    moran_temp = Moran(exp_df[var].values, weight)\n",
    "    print(\"Global Moran's I for \" + var + ' is ', round(moran_temp.I, 5), \n",
    "          ' p-value: ', round(moran_temp.p_norm, 5))"
   ]
  },
  {
   "cell_type": "code",
   "execution_count": 86,
   "metadata": {},
   "outputs": [
    {
     "data": {
      "text/plain": [
       "<AxesSubplot:xlabel='hour'>"
      ]
     },
     "execution_count": 86,
     "metadata": {},
     "output_type": "execute_result"
    },
    {
     "data": {
      "image/png": "[encoded data removed]",
      "text/plain": [
       "<Figure size 432x288 with 1 Axes>"
      ]
     },
     "metadata": {},
     "output_type": "display_data"
    }
   ],
   "source": [
    "dep_df.groupby('hour').mean()['Value'].plot()"
   ]
  },
  {
   "cell_type": "code",
   "execution_count": 14,
   "metadata": {},
   "outputs": [
    {
     "data": {
      "text/plain": [
       "<AxesSubplot:xlabel='dayofweek'>"
      ]
     },
     "execution_count": 14,
     "metadata": {},
     "output_type": "execute_result"
    },
    {
     "data": {
      "image/png": "[encoded data removed]",
      "text/plain": [
       "<Figure size 432x288 with 1 Axes>"
      ]
     },
     "metadata": {},
     "output_type": "display_data"
    }
   ],
   "source": [
    "dep_df['dayofweek'] = dep_df['DateTime'].dt.dayofweek\n",
    "dep_df.groupby('dayofweek').mean()['Value'].plot()"
   ]
  },
  {
   "cell_type": "code",
   "execution_count": null,
   "metadata": {},
   "outputs": [],
   "source": [
    "dep_df.groupby('dayofmonth').mean()['Value'].plot()"
   ]
  },
  {
   "cell_type": "code",
   "execution_count": 15,
   "metadata": {},
   "outputs": [
    {
     "data": {
      "text/plain": [
       "<seaborn.axisgrid.PairGrid at 0x2a2ecf47e20>"
      ]
     },
     "execution_count": 15,
     "metadata": {},
     "output_type": "execute_result"
    },
    {
     "data": {
      "image/png": "[encoded data removed]",
      "text/plain": [
       "<Figure size 900x900 with 30 Axes>"
      ]
     },
     "metadata": {},
     "output_type": "display_data"
    }
   ],
   "source": [
    "sns.pairplot(exp_df[area_names])"
   ]
  },
  {
   "cell_type": "code",
   "execution_count": 25,
   "metadata": {},
   "outputs": [
    {
     "data": {
      "text/html": [
       "<div>\n",
       "<style scoped>\n",
       "    .dataframe tbody tr th:only-of-type {\n",
       "        vertical-align: middle;\n",
       "    }\n",
       "\n",
       "    .dataframe tbody tr th {\n",
       "        vertical-align: top;\n",
       "    }\n",
       "\n",
       "    .dataframe thead th {\n",
       "        text-align: right;\n",
       "    }\n",
       "</style>\n",
       "<table border=\"1\" class=\"dataframe\">\n",
       "  <thead>\n",
       "    <tr style=\"text-align: right;\">\n",
       "      <th></th>\n",
       "      <th>UnC_area_per_len</th>\n",
       "      <th>A_area_per_len</th>\n",
       "      <th>B_area_per_len</th>\n",
       "      <th>CUn_area_per_len</th>\n",
       "      <th>Other_area_per_len</th>\n",
       "    </tr>\n",
       "  </thead>\n",
       "  <tbody>\n",
       "    <tr>\n",
       "      <th>count</th>\n",
       "      <td>21.000000</td>\n",
       "      <td>21.000000</td>\n",
       "      <td>21.000000</td>\n",
       "      <td>21.000000</td>\n",
       "      <td>21.000000</td>\n",
       "    </tr>\n",
       "    <tr>\n",
       "      <th>mean</th>\n",
       "      <td>28.520807</td>\n",
       "      <td>26.246194</td>\n",
       "      <td>25.788827</td>\n",
       "      <td>34.007412</td>\n",
       "      <td>42.497226</td>\n",
       "    </tr>\n",
       "    <tr>\n",
       "      <th>std</th>\n",
       "      <td>14.016818</td>\n",
       "      <td>16.163453</td>\n",
       "      <td>21.169168</td>\n",
       "      <td>22.542926</td>\n",
       "      <td>21.026566</td>\n",
       "    </tr>\n",
       "    <tr>\n",
       "      <th>min</th>\n",
       "      <td>6.461089</td>\n",
       "      <td>7.084152</td>\n",
       "      <td>0.000000</td>\n",
       "      <td>0.000000</td>\n",
       "      <td>16.415021</td>\n",
       "    </tr>\n",
       "    <tr>\n",
       "      <th>25%</th>\n",
       "      <td>13.888893</td>\n",
       "      <td>12.595197</td>\n",
       "      <td>5.633153</td>\n",
       "      <td>17.717612</td>\n",
       "      <td>26.381062</td>\n",
       "    </tr>\n",
       "    <tr>\n",
       "      <th>50%</th>\n",
       "      <td>32.957256</td>\n",
       "      <td>21.628544</td>\n",
       "      <td>27.486036</td>\n",
       "      <td>33.960430</td>\n",
       "      <td>37.116369</td>\n",
       "    </tr>\n",
       "    <tr>\n",
       "      <th>75%</th>\n",
       "      <td>38.753776</td>\n",
       "      <td>35.940536</td>\n",
       "      <td>44.131224</td>\n",
       "      <td>50.730381</td>\n",
       "      <td>55.766749</td>\n",
       "    </tr>\n",
       "    <tr>\n",
       "      <th>max</th>\n",
       "      <td>47.129151</td>\n",
       "      <td>60.890307</td>\n",
       "      <td>56.162862</td>\n",
       "      <td>64.512992</td>\n",
       "      <td>84.755679</td>\n",
       "    </tr>\n",
       "  </tbody>\n",
       "</table>\n",
       "</div>"
      ],
      "text/plain": [
       "       UnC_area_per_len  A_area_per_len  B_area_per_len  CUn_area_per_len  \\\n",
       "count         21.000000       21.000000       21.000000         21.000000   \n",
       "mean          28.520807       26.246194       25.788827         34.007412   \n",
       "std           14.016818       16.163453       21.169168         22.542926   \n",
       "min            6.461089        7.084152        0.000000          0.000000   \n",
       "25%           13.888893       12.595197        5.633153         17.717612   \n",
       "50%           32.957256       21.628544       27.486036         33.960430   \n",
       "75%           38.753776       35.940536       44.131224         50.730381   \n",
       "max           47.129151       60.890307       56.162862         64.512992   \n",
       "\n",
       "       Other_area_per_len  \n",
       "count           21.000000  \n",
       "mean            42.497226  \n",
       "std             21.026566  \n",
       "min             16.415021  \n",
       "25%             26.381062  \n",
       "50%             37.116369  \n",
       "75%             55.766749  \n",
       "max             84.755679  "
      ]
     },
     "execution_count": 25,
     "metadata": {},
     "output_type": "execute_result"
    }
   ],
   "source": [
    "exp_df[area_names].describe()"
   ]
  },
  {
   "cell_type": "code",
   "execution_count": 116,
   "metadata": {},
   "outputs": [],
   "source": [
    "def get_importance(reg, features, target, feature_names, state=25, rep=50, method='r2'):\n",
    "    mean = []\n",
    "    std = []\n",
    "    reg.fit(features, target)\n",
    "    importance = permutation_importance(reg, features, target, n_repeats=rep,\n",
    "                                        random_state=state, scoring=method)\n",
    "    for i in range(len(feature_names)):\n",
    "        mean.append(round(importance.importances_mean[i], 5))\n",
    "        std.append(round(importance.importances_std[i], 5))\n",
    "    return mean, std"
   ]
  },
  {
   "cell_type": "code",
   "execution_count": 96,
   "metadata": {},
   "outputs": [],
   "source": [
    "def get_cv(reg, features, target, iter=100, n_splits=5, loo=False):\n",
    "    cv_r2 = []\n",
    "    cv_tau = []\n",
    "    cv_resid = []\n",
    "    if loo:\n",
    "        split = LeaveOneOut()\n",
    "        iter = 1\n",
    "    for i in range(iter):\n",
    "        if not loo:\n",
    "            split = KFold(n_splits=n_splits, shuffle=True, random_state=i)\n",
    "        cvprd = cross_val_predict(reg, features, target, cv=split)\n",
    "        \n",
    "        r = stats.pearsonr(target,cvprd)[0]\n",
    "        t, p_value = stats.kendalltau(target, cvprd)\n",
    "        resid = cvprd - target\n",
    "        \n",
    "        cv_r2.append(r**2)\n",
    "        cv_tau.append(t)\n",
    "        cv_resid.append(resid)\n",
    "\n",
    "    return [round(np.mean(cv_r2),5), round(np.std(cv_r2),5),\n",
    "            round(np.mean(cv_tau),5), round(np.std(cv_tau),5),\n",
    "            np.mean(np.array(cv_resid), axis=0)]"
   ]
  },
  {
   "cell_type": "code",
   "execution_count": 18,
   "metadata": {},
   "outputs": [],
   "source": [
    "reg = LinearRegression()"
   ]
  },
  {
   "cell_type": "code",
   "execution_count": 19,
   "metadata": {},
   "outputs": [
    {
     "data": {
      "text/html": [
       "<div>\n",
       "<style scoped>\n",
       "    .dataframe tbody tr th:only-of-type {\n",
       "        vertical-align: middle;\n",
       "    }\n",
       "\n",
       "    .dataframe tbody tr th {\n",
       "        vertical-align: top;\n",
       "    }\n",
       "\n",
       "    .dataframe thead th {\n",
       "        text-align: right;\n",
       "    }\n",
       "</style>\n",
       "<table border=\"1\" class=\"dataframe\">\n",
       "  <thead>\n",
       "    <tr style=\"text-align: right;\">\n",
       "      <th></th>\n",
       "      <th>siteid</th>\n",
       "      <th>Gsp_area</th>\n",
       "      <th>Gsp_edge</th>\n",
       "      <th>UnC_area_per_len</th>\n",
       "      <th>UnC_edge_per_len</th>\n",
       "      <th>A_area_per_len</th>\n",
       "      <th>A_edge_per_len</th>\n",
       "      <th>B_area_per_len</th>\n",
       "      <th>B_edge_per_len</th>\n",
       "      <th>CUn_area_per_len</th>\n",
       "      <th>CUn_edge_per_len</th>\n",
       "      <th>Other_area_per_len</th>\n",
       "      <th>Other_edge_per_len</th>\n",
       "      <th>Gsp_per_tRd_len</th>\n",
       "      <th>Value</th>\n",
       "    </tr>\n",
       "  </thead>\n",
       "  <tbody>\n",
       "    <tr>\n",
       "      <th>0</th>\n",
       "      <td>BX9</td>\n",
       "      <td>1.576555e+06</td>\n",
       "      <td>255419.318823</td>\n",
       "      <td>42.547777</td>\n",
       "      <td>9.767029</td>\n",
       "      <td>34.722332</td>\n",
       "      <td>8.261647</td>\n",
       "      <td>0.000000</td>\n",
       "      <td>0.000000</td>\n",
       "      <td>63.364634</td>\n",
       "      <td>12.808025</td>\n",
       "      <td>52.384408</td>\n",
       "      <td>10.927710</td>\n",
       "      <td>43.115555</td>\n",
       "      <td>11.170749</td>\n",
       "    </tr>\n",
       "    <tr>\n",
       "      <th>1</th>\n",
       "      <td>BL0</td>\n",
       "      <td>5.540353e+05</td>\n",
       "      <td>157341.593174</td>\n",
       "      <td>10.218919</td>\n",
       "      <td>3.513516</td>\n",
       "      <td>9.464790</td>\n",
       "      <td>3.272898</td>\n",
       "      <td>16.140991</td>\n",
       "      <td>5.821449</td>\n",
       "      <td>0.000000</td>\n",
       "      <td>0.000000</td>\n",
       "      <td>21.815012</td>\n",
       "      <td>7.425750</td>\n",
       "      <td>8.363151</td>\n",
       "      <td>10.908521</td>\n",
       "    </tr>\n",
       "    <tr>\n",
       "      <th>2</th>\n",
       "      <td>CD9</td>\n",
       "      <td>6.694895e+05</td>\n",
       "      <td>182451.758811</td>\n",
       "      <td>13.888893</td>\n",
       "      <td>4.585492</td>\n",
       "      <td>12.595197</td>\n",
       "      <td>4.152965</td>\n",
       "      <td>20.121072</td>\n",
       "      <td>6.541948</td>\n",
       "      <td>0.000000</td>\n",
       "      <td>0.000000</td>\n",
       "      <td>24.772259</td>\n",
       "      <td>7.744211</td>\n",
       "      <td>11.040183</td>\n",
       "      <td>13.712563</td>\n",
       "    </tr>\n",
       "    <tr>\n",
       "      <th>3</th>\n",
       "      <td>CD1</td>\n",
       "      <td>1.418894e+06</td>\n",
       "      <td>279764.153943</td>\n",
       "      <td>33.768627</td>\n",
       "      <td>7.834793</td>\n",
       "      <td>16.790598</td>\n",
       "      <td>5.071586</td>\n",
       "      <td>32.863003</td>\n",
       "      <td>8.520570</td>\n",
       "      <td>49.419568</td>\n",
       "      <td>12.634713</td>\n",
       "      <td>37.116369</td>\n",
       "      <td>10.013259</td>\n",
       "      <td>27.536701</td>\n",
       "      <td>11.058464</td>\n",
       "    </tr>\n",
       "    <tr>\n",
       "      <th>4</th>\n",
       "      <td>CT2</td>\n",
       "      <td>3.981578e+05</td>\n",
       "      <td>80239.660463</td>\n",
       "      <td>6.777993</td>\n",
       "      <td>1.701836</td>\n",
       "      <td>7.084152</td>\n",
       "      <td>1.925169</td>\n",
       "      <td>5.633153</td>\n",
       "      <td>2.712272</td>\n",
       "      <td>30.535483</td>\n",
       "      <td>4.393786</td>\n",
       "      <td>17.630140</td>\n",
       "      <td>4.800286</td>\n",
       "      <td>7.360219</td>\n",
       "      <td>13.902287</td>\n",
       "    </tr>\n",
       "  </tbody>\n",
       "</table>\n",
       "</div>"
      ],
      "text/plain": [
       "  siteid      Gsp_area       Gsp_edge  UnC_area_per_len  UnC_edge_per_len  \\\n",
       "0    BX9  1.576555e+06  255419.318823         42.547777          9.767029   \n",
       "1    BL0  5.540353e+05  157341.593174         10.218919          3.513516   \n",
       "2    CD9  6.694895e+05  182451.758811         13.888893          4.585492   \n",
       "3    CD1  1.418894e+06  279764.153943         33.768627          7.834793   \n",
       "4    CT2  3.981578e+05   80239.660463          6.777993          1.701836   \n",
       "\n",
       "   A_area_per_len  A_edge_per_len  B_area_per_len  B_edge_per_len  \\\n",
       "0       34.722332        8.261647        0.000000        0.000000   \n",
       "1        9.464790        3.272898       16.140991        5.821449   \n",
       "2       12.595197        4.152965       20.121072        6.541948   \n",
       "3       16.790598        5.071586       32.863003        8.520570   \n",
       "4        7.084152        1.925169        5.633153        2.712272   \n",
       "\n",
       "   CUn_area_per_len  CUn_edge_per_len  Other_area_per_len  Other_edge_per_len  \\\n",
       "0         63.364634         12.808025           52.384408           10.927710   \n",
       "1          0.000000          0.000000           21.815012            7.425750   \n",
       "2          0.000000          0.000000           24.772259            7.744211   \n",
       "3         49.419568         12.634713           37.116369           10.013259   \n",
       "4         30.535483          4.393786           17.630140            4.800286   \n",
       "\n",
       "   Gsp_per_tRd_len      Value  \n",
       "0        43.115555  11.170749  \n",
       "1         8.363151  10.908521  \n",
       "2        11.040183  13.712563  \n",
       "3        27.536701  11.058464  \n",
       "4         7.360219  13.902287  "
      ]
     },
     "execution_count": 19,
     "metadata": {},
     "output_type": "execute_result"
    }
   ],
   "source": [
    "annual = exp_df.merge(dep_df.groupby('Site').mean()[['Value']], left_on='siteid', right_index=True)\n",
    "annual.head()"
   ]
  },
  {
   "cell_type": "code",
   "execution_count": 20,
   "metadata": {},
   "outputs": [
    {
     "data": {
      "text/plain": [
       "0.0960805356530469"
      ]
     },
     "execution_count": 20,
     "metadata": {},
     "output_type": "execute_result"
    }
   ],
   "source": [
    "Moran(annual['Value'].values, weight).I"
   ]
  },
  {
   "cell_type": "code",
   "execution_count": 119,
   "metadata": {},
   "outputs": [],
   "source": [
    "y = annual['Value'].values\n",
    "X = annual[area_names].values"
   ]
  },
  {
   "cell_type": "code",
   "execution_count": 124,
   "metadata": {},
   "outputs": [
    {
     "data": {
      "text/plain": [
       "([1.63613, 0.19492, 0.49033, 0.61434, 0.2002],\n",
       " [0.55218, 0.10694, 0.22777, 0.24394, 0.13459])"
      ]
     },
     "execution_count": 124,
     "metadata": {},
     "output_type": "execute_result"
    }
   ],
   "source": [
    "# feature importance\n",
    "get_importance(reg, X, y, area_names)"
   ]
  },
  {
   "cell_type": "code",
   "execution_count": 90,
   "metadata": {},
   "outputs": [
    {
     "data": {
      "text/plain": [
       "array([-0.10841385,  0.03010942,  0.03779141,  0.03916031, -0.02523263])"
      ]
     },
     "execution_count": 90,
     "metadata": {},
     "output_type": "execute_result"
    }
   ],
   "source": [
    "# coefficient\n",
    "reg.coef_"
   ]
  },
  {
   "cell_type": "code",
   "execution_count": 91,
   "metadata": {},
   "outputs": [
    {
     "data": {
      "text/plain": [
       "0.365064847871562"
      ]
     },
     "execution_count": 91,
     "metadata": {},
     "output_type": "execute_result"
    }
   ],
   "source": [
    "# r2\n",
    "reg.score(X,y)"
   ]
  },
  {
   "cell_type": "code",
   "execution_count": 92,
   "metadata": {},
   "outputs": [
    {
     "data": {
      "text/plain": [
       "1.5958982026390527"
      ]
     },
     "execution_count": 92,
     "metadata": {},
     "output_type": "execute_result"
    }
   ],
   "source": [
    "from sklearn.metrics import mean_squared_error\n",
    "\n",
    "mean_squared_error(y, reg.predict(X))"
   ]
  },
  {
   "cell_type": "code",
   "execution_count": 97,
   "metadata": {},
   "outputs": [
    {
     "data": {
      "text/plain": [
       "[0.08144,\n",
       " 0.0,\n",
       " 0.07619,\n",
       " 0.0,\n",
       " array([-1.16477859,  1.43446761, -2.28106682,  1.23100786, -0.85619942,\n",
       "         1.47089549,  1.79574319,  1.87708538, -0.40099349, -0.28459951,\n",
       "        -1.54635138, -1.44411554, -0.1239867 ,  0.84468749,  2.9402903 ,\n",
       "         2.36256793, -3.14251197, -0.76127703,  0.03531615, -0.48762403,\n",
       "        -2.40246668])]"
      ]
     },
     "execution_count": 97,
     "metadata": {},
     "output_type": "execute_result"
    }
   ],
   "source": [
    "# cross validation r2 and tau\n",
    "get_cv(reg, X, y, loo=True)"
   ]
  },
  {
   "cell_type": "code",
   "execution_count": 98,
   "metadata": {},
   "outputs": [
    {
     "data": {
      "text/plain": [
       "<AxesSubplot:ylabel='Count'>"
      ]
     },
     "execution_count": 98,
     "metadata": {},
     "output_type": "execute_result"
    },
    {
     "data": {
      "image/png": "[encoded data removed]",
      "text/plain": [
       "<Figure size 432x288 with 1 Axes>"
      ]
     },
     "metadata": {},
     "output_type": "display_data"
    }
   ],
   "source": [
    "# residuals histogram\n",
    "sns.histplot(reg.predict(X)-y)"
   ]
  },
  {
   "cell_type": "code",
   "execution_count": 99,
   "metadata": {},
   "outputs": [
    {
     "data": {
      "text/plain": [
       "(0.03154472979913803, 0.1641157531980464)"
      ]
     },
     "execution_count": 99,
     "metadata": {},
     "output_type": "execute_result"
    }
   ],
   "source": [
    "# global moran's I for the residuals\n",
    "Moran(reg.predict(X)-y, weight).I, Moran(reg.predict(X)-y, weight).p_norm"
   ]
  },
  {
   "cell_type": "code",
   "execution_count": 29,
   "metadata": {},
   "outputs": [
    {
     "name": "stdout",
     "output_type": "stream",
     "text": [
      "<class 'pandas.core.frame.DataFrame'>\n",
      "MultiIndex: 504 entries, (0, 'BL0') to (23, 'TH4')\n",
      "Data columns (total 4 columns):\n",
      " #   Column      Non-Null Count  Dtype  \n",
      "---  ------      --------------  -----  \n",
      " 0   Value       504 non-null    float64\n",
      " 1   month       504 non-null    float64\n",
      " 2   dayofmonth  504 non-null    float64\n",
      " 3   dayofweek   504 non-null    float64\n",
      "dtypes: float64(4)\n",
      "memory usage: 17.2+ KB\n"
     ]
    }
   ],
   "source": [
    "hm_dep_df = dep_df.groupby(['hour', 'Site']).mean()\n",
    "hm_dep_df.info()"
   ]
  },
  {
   "cell_type": "code",
   "execution_count": 30,
   "metadata": {},
   "outputs": [],
   "source": [
    "hm_dep_df.drop(['dayofweek', 'dayofmonth', 'month'], axis=1, inplace=True)\n",
    "hm_dep_df.reset_index(inplace=True)"
   ]
  },
  {
   "cell_type": "code",
   "execution_count": 31,
   "metadata": {},
   "outputs": [
    {
     "name": "stdout",
     "output_type": "stream",
     "text": [
      "<class 'pandas.core.frame.DataFrame'>\n",
      "Int64Index: 504 entries, 0 to 503\n",
      "Data columns (total 17 columns):\n",
      " #   Column              Non-Null Count  Dtype  \n",
      "---  ------              --------------  -----  \n",
      " 0   hour                504 non-null    int64  \n",
      " 1   Site                504 non-null    object \n",
      " 2   Value               504 non-null    float64\n",
      " 3   siteid              504 non-null    object \n",
      " 4   Gsp_area            504 non-null    float64\n",
      " 5   Gsp_edge            504 non-null    float64\n",
      " 6   UnC_area_per_len    504 non-null    float64\n",
      " 7   UnC_edge_per_len    504 non-null    float64\n",
      " 8   A_area_per_len      504 non-null    float64\n",
      " 9   A_edge_per_len      504 non-null    float64\n",
      " 10  B_area_per_len      504 non-null    float64\n",
      " 11  B_edge_per_len      504 non-null    float64\n",
      " 12  CUn_area_per_len    504 non-null    float64\n",
      " 13  CUn_edge_per_len    504 non-null    float64\n",
      " 14  Other_area_per_len  504 non-null    float64\n",
      " 15  Other_edge_per_len  504 non-null    float64\n",
      " 16  Gsp_per_tRd_len     504 non-null    float64\n",
      "dtypes: float64(14), int64(1), object(2)\n",
      "memory usage: 70.9+ KB\n"
     ]
    }
   ],
   "source": [
    "hm_dep_df = hm_dep_df.merge(exp_df, left_on='Site', right_on='siteid')\n",
    "hm_dep_df.info()"
   ]
  },
  {
   "cell_type": "code",
   "execution_count": 32,
   "metadata": {},
   "outputs": [],
   "source": [
    "hm_dep_df.drop('Site', axis=1, inplace=True)"
   ]
  },
  {
   "cell_type": "code",
   "execution_count": 44,
   "metadata": {},
   "outputs": [],
   "source": [
    "hm_X = hm_dep_df[area_names].values\n",
    "hm_y = hm_dep_df['Value'].values"
   ]
  },
  {
   "cell_type": "code",
   "execution_count": 51,
   "metadata": {},
   "outputs": [
    {
     "data": {
      "text/plain": [
       "([1.03677, 0.10584, 0.28583, 0.35655, 0.1271],\n",
       " [0.06947, 0.02086, 0.03266, 0.0358, 0.02181])"
      ]
     },
     "execution_count": 51,
     "metadata": {},
     "output_type": "execute_result"
    }
   ],
   "source": [
    "get_importance(reg, hm_X, hm_y, area_names, rep=100)"
   ]
  },
  {
   "cell_type": "code",
   "execution_count": 46,
   "metadata": {},
   "outputs": [
    {
     "data": {
      "text/plain": [
       "0.2166148137531405"
      ]
     },
     "execution_count": 46,
     "metadata": {},
     "output_type": "execute_result"
    }
   ],
   "source": [
    "reg.score(hm_X, hm_y)"
   ]
  },
  {
   "cell_type": "code",
   "execution_count": 37,
   "metadata": {},
   "outputs": [
    {
     "data": {
      "text/plain": [
       "[0.19993,\n",
       " 0.00307,\n",
       " 0.29206,\n",
       " 0.00494,\n",
       " array([ 6.66094595e-01,  6.88209248e-01,  1.10701202e+00,  1.53958028e+00,\n",
       "         1.48812534e+00,  1.45158451e+00,  1.13989768e+00,  7.10414185e-01,\n",
       "         5.90531223e-01,  3.97723073e-01,  9.39521790e-01,  1.39013633e+00,\n",
       "         2.19354570e+00,  2.72614131e+00,  2.84393985e+00,  2.95118832e+00,\n",
       "         2.68739153e+00,  1.94118655e+00,  1.05602651e+00,  3.43543516e-01,\n",
       "        -2.41869737e-01, -4.75181229e-01, -1.46332644e-01,  2.94654986e-01,\n",
       "        -1.87503152e+00, -1.39810574e+00, -1.09881412e+00, -6.88148175e-01,\n",
       "        -8.57059148e-01, -9.82150527e-01, -1.27223470e+00, -1.41512557e+00,\n",
       "        -1.32661950e+00, -1.10869016e+00, -7.66100283e-01, -6.02901459e-01,\n",
       "         2.83747920e-01,  1.01824187e+00,  1.32139566e+00,  1.15213208e+00,\n",
       "         9.50726953e-01,  2.62865955e-01, -4.03530554e-01, -1.07022288e+00,\n",
       "        -1.65358116e+00, -1.90761703e+00, -2.20540645e+00, -2.28134880e+00,\n",
       "         9.98487200e-01,  1.63648753e+00,  1.96882054e+00,  2.02790121e+00,\n",
       "         1.81373123e+00,  1.28027547e+00,  3.26529926e-01, -2.32231073e-01,\n",
       "        -2.24484570e-01, -5.11333112e-02,  3.82491638e-01,  7.90202489e-01,\n",
       "         1.40201359e+00,  1.96272893e+00,  2.40326460e+00,  2.25466042e+00,\n",
       "         2.03634316e+00,  1.20827769e+00,  4.32357596e-01, -1.23639623e-01,\n",
       "        -4.26866572e-01, -5.01993130e-01, -5.16565351e-01,  2.85859153e-01,\n",
       "        -1.30604260e+00, -7.00296142e-01, -1.07075927e-01,  2.29239094e-01,\n",
       "        -7.19399860e-02, -1.07855789e+00, -2.04701468e+00, -3.10198100e+00,\n",
       "        -3.69113335e+00, -3.47096154e+00, -2.84553069e+00, -2.25208534e+00,\n",
       "        -1.52870455e+00, -1.06612354e+00, -5.04452097e-01, -7.70425315e-01,\n",
       "        -1.09492163e+00, -1.89459069e+00, -2.61829837e+00, -3.16495707e+00,\n",
       "        -3.33835348e+00, -3.41448274e+00, -2.99892779e+00, -2.18369904e+00,\n",
       "        -6.21511796e-01, -1.54686704e-01,  1.79784548e-01,  3.78665665e-01,\n",
       "         6.13053073e-01,  6.03356765e-01,  5.29000822e-01,  3.04094871e-01,\n",
       "         8.34209324e-01,  1.45113526e+00,  2.39308691e+00,  3.29059608e+00,\n",
       "         3.71499358e+00,  3.87954896e+00,  4.01375519e+00,  3.88302845e+00,\n",
       "         3.38473420e+00,  2.82522722e+00,  1.68876700e+00,  4.81098869e-01,\n",
       "        -4.29636346e-01, -9.62919277e-01, -1.05828955e+00, -7.29727837e-01,\n",
       "        -1.09676738e+00, -8.23607494e-01, -4.51880908e-01, -1.20989632e+00,\n",
       "        -2.52534873e-01, -4.54250751e-01, -9.20278543e-01, -1.60036693e+00,\n",
       "        -1.67197934e+00, -2.08025538e+00, -1.15033643e+00, -9.17180772e-01,\n",
       "        -3.38304669e-01,  8.52196094e-01,  9.21527832e-01,  1.14229380e+00,\n",
       "         1.29308372e+00,  6.48709579e-01, -1.32358246e-01, -1.10314166e+00,\n",
       "        -1.38096460e+00, -1.67510676e+00, -1.51079498e+00, -1.07287037e+00,\n",
       "        -9.61595473e+00,  1.32531883e+00,  1.24432693e+00,  1.74656065e+00,\n",
       "         2.32136232e+00,  2.00457926e+00,  2.00399372e+00,  1.08191278e+00,\n",
       "        -6.39440967e-01, -2.26237802e+00, -1.94022011e+00, -1.45444300e+00,\n",
       "         3.44277773e-01,  2.41214935e+00,  3.60660890e+00,  4.64423106e+00,\n",
       "         4.95090050e+00,  4.38429725e+00,  3.17485996e+00,  2.41330116e+00,\n",
       "         1.83081568e+00,  1.40526143e+00,  1.34544256e+00,  1.00957788e+00,\n",
       "        -6.80175597e-01, -3.06309055e-01, -7.65720323e-02, -3.69087161e-02,\n",
       "        -3.37576263e-01, -1.02798812e+00, -9.57935121e-01, -9.96740587e-01,\n",
       "        -9.82582699e-01, -8.61480039e-01, -3.79614063e-01, -3.33526703e-02,\n",
       "         5.13231567e-01,  1.08397681e+00,  1.31276046e+00,  9.73099838e-01,\n",
       "         7.67766422e-01,  4.70873330e-01, -6.14167967e-02, -6.35385343e-01,\n",
       "        -1.04443013e+00, -1.29100692e+00, -1.23874444e+00, -1.03797577e+00,\n",
       "        -2.18454700e+00, -1.59352255e+00, -1.45849855e+00, -1.10583978e+00,\n",
       "        -1.18746406e+00, -1.26911649e+00, -1.67032390e+00, -1.96370511e+00,\n",
       "        -1.65930607e+00, -1.46500903e+00, -9.87607221e-01, -4.60352702e-01,\n",
       "         3.37892297e-01,  9.14795296e-01,  8.76367579e-01,  5.34600756e-01,\n",
       "        -3.15382371e-01, -9.26222325e-01, -1.70130377e+00, -2.45676406e+00,\n",
       "        -2.73468360e+00, -3.11632080e+00, -2.75156049e+00, -2.55972499e+00,\n",
       "        -1.31578274e+00, -7.45313323e-01, -5.58305985e-01, -2.39972043e-01,\n",
       "        -4.75341893e-01, -6.80868453e-01, -9.82465524e-01, -1.22978116e+00,\n",
       "        -1.23854523e+00, -1.21225008e+00, -4.81874237e-01,  2.01460046e-01,\n",
       "         9.74487655e-01,  1.58254421e+00,  1.84594303e+00,  1.50815139e+00,\n",
       "         1.43178938e+00,  1.19673439e+00,  6.04135683e-01, -6.31028165e-02,\n",
       "        -9.32487665e-01, -1.36007197e+00, -1.69043983e+00, -1.63273067e+00,\n",
       "         4.42437449e-01,  5.89467902e-01,  1.05985136e+00,  1.12963587e+00,\n",
       "         1.28487780e+00,  1.39392314e+00,  1.13963381e+00,  8.41120150e-01,\n",
       "         1.12096396e+00,  1.19647129e+00,  1.91091002e+00,  2.26883570e+00,\n",
       "         2.51557867e+00,  3.11801145e+00,  2.89448639e+00,  2.73134069e+00,\n",
       "         2.53079789e+00,  2.46836796e+00,  1.82968451e+00,  1.10939949e+00,\n",
       "         2.72268590e-01, -2.82896959e-01, -2.22707630e-01,  6.27412361e-02,\n",
       "        -1.77939273e+00, -1.32308536e+00, -8.16125337e-01, -5.45591112e-01,\n",
       "        -9.60635622e-01, -1.20953273e+00, -1.44376460e+00, -1.54846825e+00,\n",
       "        -1.23901799e+00, -7.37007193e-01, -1.81379861e-01,  4.13812244e-01,\n",
       "         9.18484542e-01,  1.18918281e+00,  9.38958364e-01,  8.66898988e-01,\n",
       "         4.93442114e-01, -1.26179422e-02, -9.29855872e-01, -1.81073878e+00,\n",
       "        -2.41581760e+00, -2.89129281e+00, -2.79111365e+00, -2.29258628e+00,\n",
       "         3.77853229e-01,  6.96722501e-01,  8.18624662e-01,  1.13496460e+00,\n",
       "         1.28873184e+00,  1.42693834e+00,  1.52458103e+00,  1.43870746e+00,\n",
       "         1.60543627e+00,  1.90638766e+00,  2.47109319e+00,  3.05977376e+00,\n",
       "         3.70054812e+00,  4.16425160e+00,  4.24531651e+00,  4.15802478e+00,\n",
       "         3.87039507e+00,  3.11231155e+00,  2.22136258e+00,  1.37796382e+00,\n",
       "         6.17662961e-01,  7.29464374e-02, -1.81878776e-02,  7.19079264e-02,\n",
       "        -1.61259984e+00, -9.63116081e-01, -4.61811931e-01,  7.12603195e-02,\n",
       "        -2.69243722e-01, -6.09132554e-01, -8.83245601e-01, -7.26885122e-01,\n",
       "        -5.90988922e-01,  1.18042967e-01,  2.50474894e-02,  9.76816554e-01,\n",
       "         1.90401534e+00,  2.18455600e+00,  2.32337596e+00,  2.36634731e+00,\n",
       "         1.87889666e+00,  9.65908050e-01, -9.01835733e-01, -5.10746051e-01,\n",
       "        -2.24081548e+00, -2.29285142e+00, -1.52249993e+00, -1.28621069e+00,\n",
       "         1.33680583e+00,  1.48421258e+00,  1.60360345e+00,  1.83592679e+00,\n",
       "         1.86067892e+00,  1.93972879e+00,  2.05194336e+00,  2.01623231e+00,\n",
       "         1.98549472e+00,  2.16066852e+00,  2.63279628e+00,  3.39734151e+00,\n",
       "         4.22939798e+00,  4.76923371e+00,  4.85734992e+00,  4.79360748e+00,\n",
       "         4.75955499e+00,  4.31651819e+00,  3.58014387e+00,  2.90112811e+00,\n",
       "         2.08591363e+00,  1.47192225e+00,  1.32487729e+00,  1.22261211e+00,\n",
       "        -4.98363447e-01, -4.31410332e-01, -2.86440692e-01, -1.18416751e-01,\n",
       "        -1.25753216e-01, -1.84407366e-01, -3.38442128e-01, -5.10531129e-01,\n",
       "        -4.60747060e-01, -1.10209498e-01,  5.20724034e-01,  1.16335252e+00,\n",
       "         1.92028254e+00,  2.24279812e+00,  2.34487546e+00,  2.47167230e+00,\n",
       "         2.43535397e+00,  1.96064382e+00,  1.53704628e+00,  9.13933558e-01,\n",
       "         4.09091184e-01, -3.31659866e-01, -7.66020923e-01, -6.65286005e-01,\n",
       "        -3.74993167e+00, -1.82853428e+00, -1.34126201e+00, -8.71108364e-01,\n",
       "        -9.40551713e-01, -1.33044516e+00, -1.35461141e+00, -1.69894167e+00,\n",
       "        -1.57905097e+00, -1.47627704e+00, -1.26572925e+00, -1.41282687e+00,\n",
       "        -9.87833667e-01, -4.09584521e-01, -1.38159627e-01, -1.32506049e-01,\n",
       "        -3.59148961e-01, -2.16067072e+00, -3.84389525e+00, -5.05438817e+00,\n",
       "        -6.14558095e+00, -6.33948981e+00, -5.63668270e+00, -4.69869006e+00,\n",
       "        -1.90680755e+00, -8.96217550e-01, -3.48533852e-01, -2.73128273e-02,\n",
       "        -3.74165802e-01, -7.60889939e-01, -1.59321225e+00, -2.36413440e+00,\n",
       "        -2.75325622e+00, -2.75101408e+00, -2.36029994e+00, -1.60314212e+00,\n",
       "        -1.61171123e+00, -1.33129493e+00, -8.11163311e-01, -1.07141495e+00,\n",
       "        -1.30736292e+00, -1.78768171e+00, -2.38555643e+00, -2.92170296e+00,\n",
       "        -3.54681572e+00, -3.49896311e+00, -3.26573523e+00, -2.77562265e+00,\n",
       "        -1.30795765e+00, -1.06380062e+00, -3.54594933e-01, -3.20920798e-01,\n",
       "        -4.40075273e-03, -3.72319652e-01, -8.64792022e-01, -1.15988057e+00,\n",
       "        -5.85965076e-01, -7.24150820e-02,  5.17622419e-01,  1.27276555e+00,\n",
       "         2.25014477e+00,  2.29758345e+00,  2.08015589e+00,  1.89409971e+00,\n",
       "         1.35074622e+00,  7.30800964e-01,  2.31064813e-01, -2.59409818e-01,\n",
       "        -1.21217495e+00, -1.48257674e+00, -1.70156784e+00, -1.65574278e+00,\n",
       "        -1.13233454e+00, -7.90994070e-01, -7.64146891e-01, -5.50386563e-01,\n",
       "        -3.44351085e-01, -2.46385757e-01, -3.21569319e-01, -5.72198240e-01,\n",
       "        -2.31771178e+00, -1.32146807e+00, -9.46758066e-01, -1.83160746e-01,\n",
       "         4.87253443e-01,  1.02823528e+00,  1.33254997e+00,  1.26305528e+00,\n",
       "         1.36319319e+00, -2.29368696e+00,  2.12666651e-01, -5.24496508e-01,\n",
       "        -9.35727890e-01, -1.61078598e+00, -2.09984426e+00, -1.57993602e+00,\n",
       "        -7.10162726e-01, -2.22776409e-01,  4.82575780e-02,  1.60872056e-01,\n",
       "        -2.83949790e-01, -1.01863160e+00, -1.63409933e+00, -2.17302791e+00,\n",
       "        -2.15717245e+00, -1.59820214e+00, -8.66440116e-01,  6.25411834e-02,\n",
       "         5.80644530e-01,  1.33388583e+00,  1.54099856e+00,  1.32647810e+00,\n",
       "         1.00822042e+00,  1.28894406e-01, -1.10117536e-01, -3.86004215e-01,\n",
       "        -9.06692262e-01, -1.44982731e+00, -1.22674021e+00, -9.22999409e-01])]"
      ]
     },
     "execution_count": 37,
     "metadata": {},
     "output_type": "execute_result"
    }
   ],
   "source": [
    "get_cv(reg, hm_X, hm_y, n_splits=10)"
   ]
  },
  {
   "cell_type": "code",
   "execution_count": 47,
   "metadata": {},
   "outputs": [
    {
     "name": "stdout",
     "output_type": "stream",
     "text": [
      "Global Moran's I for hour  1  is:  0.06497149669113031\n",
      "Global Moran's I for hour  2  is:  0.0245776965350352\n",
      "Global Moran's I for hour  3  is:  0.023679068042262625\n",
      "Global Moran's I for hour  4  is:  0.022407841453422502\n",
      "Global Moran's I for hour  5  is:  0.010815062841263887\n",
      "Global Moran's I for hour  6  is:  0.015475583335916723\n",
      "Global Moran's I for hour  7  is:  0.022795098109670307\n",
      "Global Moran's I for hour  8  is:  0.03812792090918269\n",
      "Global Moran's I for hour  9  is:  0.061859833103432335\n",
      "Global Moran's I for hour  10  is:  0.06864587291469511\n",
      "Global Moran's I for hour  11  is:  0.07152289068767917\n",
      "Global Moran's I for hour  12  is:  0.05695064983154796\n",
      "Global Moran's I for hour  13  is:  0.044951223755330394\n",
      "Global Moran's I for hour  14  is:  0.036635569274802986\n",
      "Global Moran's I for hour  15  is:  0.018729390685179557\n",
      "Global Moran's I for hour  16  is:  0.001011166962265878\n",
      "Global Moran's I for hour  17  is:  -0.0071881322024358145\n",
      "Global Moran's I for hour  18  is:  -0.008536266595833628\n",
      "Global Moran's I for hour  19  is:  0.014484832240914635\n",
      "Global Moran's I for hour  20  is:  0.0011745643188229072\n",
      "Global Moran's I for hour  21  is:  0.01483448920752272\n",
      "Global Moran's I for hour  22  is:  0.00858989331841518\n",
      "Global Moran's I for hour  23  is:  0.0030212534070487417\n",
      "Global Moran's I for hour  24  is:  0.012845802764135312\n"
     ]
    }
   ],
   "source": [
    "# check global moran's I\n",
    "for h in range(24):\n",
    "    df = hm_dep_df[hm_dep_df['hour']==h].copy()\n",
    "    print(\"Global Moran's I for hour \", h+1, \" is: \", Moran(df['Value'].values, weight).I)"
   ]
  },
  {
   "cell_type": "code",
   "execution_count": 100,
   "metadata": {},
   "outputs": [],
   "source": [
    "# linear models by each hour\n",
    "hm_reg = []\n",
    "for h in range(24):\n",
    "    df = hm_dep_df[hm_dep_df['hour']==h].copy()\n",
    "    X = df[area_names].values\n",
    "    y = df['Value'].values\n",
    "    \n",
    "    mean, std = get_importance(reg, X, y, area_names)\n",
    "    coef = reg.coef_.tolist() + [reg.intercept_]\n",
    "    r2 = reg.score(X, y)\n",
    "    cv = get_cv(reg, X, y, loo=True)\n",
    "    \n",
    "    hm_reg.append(mean+std+coef+[r2]+cv)\n",
    "\n",
    "hm_reg = pd.DataFrame(hm_reg, columns=['fi_'+var for var in area_names]+\n",
    "                      ['fi_std_'+var for var in area_names]+\n",
    "                      area_names+['intercept','r2','cv_r2','std_r2','cv_tau','std_tau','resid'])"
   ]
  },
  {
   "cell_type": "code",
   "execution_count": 101,
   "metadata": {},
   "outputs": [
    {
     "data": {
      "text/plain": [
       "<AxesSubplot:>"
      ]
     },
     "execution_count": 101,
     "metadata": {},
     "output_type": "execute_result"
    },
    {
     "data": {
      "image/png": "[encoded data removed]",
      "text/plain": [
       "<Figure size 432x288 with 1 Axes>"
      ]
     },
     "metadata": {},
     "output_type": "display_data"
    }
   ],
   "source": [
    "# model performance\n",
    "hm_reg[['r2', 'cv_r2', 'cv_tau']].plot()"
   ]
  },
  {
   "cell_type": "code",
   "execution_count": 135,
   "metadata": {},
   "outputs": [
    {
     "data": {
      "text/plain": [
       "r2        0.337019\n",
       "cv_r2     0.064983\n",
       "cv_tau    0.092460\n",
       "dtype: float64"
      ]
     },
     "execution_count": 135,
     "metadata": {},
     "output_type": "execute_result"
    }
   ],
   "source": [
    "hm_reg[['r2', 'cv_r2', 'cv_tau']].mean()"
   ]
  },
  {
   "cell_type": "code",
   "execution_count": 108,
   "metadata": {},
   "outputs": [
    {
     "name": "stderr",
     "output_type": "stream",
     "text": [
      "No handles with labels found to put in legend.\n"
     ]
    },
    {
     "data": {
      "image/png": "[encoded data removed]",
      "text/plain": [
       "<Figure size 1728x1152 with 24 Axes>"
      ]
     },
     "metadata": {},
     "output_type": "display_data"
    }
   ],
   "source": [
    "# histogram for residuals\n",
    "fig, ax = plt.subplots(4, 6, figsize=(24, 16))\n",
    "\n",
    "for hour in range(24):\n",
    "    sns.histplot(hm_reg.loc[hour,'resid'], ax=ax[hour//6, hour%6])\n",
    "    ax[hour//6, hour%6].get_xaxis().set_ticks([])\n",
    "    ax[hour//6, hour%6].set_title(str(hour)+'-'+str(hour+1))\n",
    "plt.legend()\n",
    "plt.show()"
   ]
  },
  {
   "cell_type": "code",
   "execution_count": 103,
   "metadata": {},
   "outputs": [
    {
     "name": "stdout",
     "output_type": "stream",
     "text": [
      "Global Moran's I for residuals for month  0  is:  0.08526918977846121  p-value:  0.020996993438289646\n",
      "Global Moran's I for residuals for month  1  is:  0.017680790831707732  p-value:  0.24816927037495295\n",
      "Global Moran's I for residuals for month  2  is:  0.024961330542104306  p-value:  0.20088574325269315\n",
      "Global Moran's I for residuals for month  3  is:  0.031908795653333044  p-value:  0.16224113298007747\n",
      "Global Moran's I for residuals for month  4  is:  -0.009099531308112231  p-value:  0.4852605860352657\n",
      "Global Moran's I for residuals for month  5  is:  -0.006047326898875781  p-value:  0.45328778340140774\n",
      "Global Moran's I for residuals for month  6  is:  0.0039050775523988626  p-value:  0.35769893977484557\n",
      "Global Moran's I for residuals for month  7  is:  0.010235774865333181  p-value:  0.30405499039356254\n",
      "Global Moran's I for residuals for month  8  is:  0.035738418628806425  p-value:  0.14349013902280094\n",
      "Global Moran's I for residuals for month  9  is:  0.04407216664248342  p-value:  0.10846918217997881\n",
      "Global Moran's I for residuals for month  10  is:  0.05232887893251602  p-value:  0.08081224902883033\n",
      "Global Moran's I for residuals for month  11  is:  0.029987947416533163  p-value:  0.17231621037651967\n",
      "Global Moran's I for residuals for month  12  is:  0.007196098097735054  p-value:  0.3291081746829687\n",
      "Global Moran's I for residuals for month  13  is:  -0.003195079844593924  p-value:  0.42451559438142517\n",
      "Global Moran's I for residuals for month  14  is:  -0.020109263501667963  p-value:  0.610042735873185\n",
      "Global Moran's I for residuals for month  15  is:  -0.031780851791542865  p-value:  0.7559030315253836\n",
      "Global Moran's I for residuals for month  16  is:  -0.033196727462236654  p-value:  0.7743368080970914\n",
      "Global Moran's I for residuals for month  17  is:  -0.023254069966454134  p-value:  0.648135431764304\n",
      "Global Moran's I for residuals for month  18  is:  -0.007510291876657277  p-value:  0.4684623664198557\n",
      "Global Moran's I for residuals for month  19  is:  -0.023575108066383316  p-value:  0.6520787216244954\n",
      "Global Moran's I for residuals for month  20  is:  -0.006808895224931003  p-value:  0.46115228556854815\n",
      "Global Moran's I for residuals for month  21  is:  -0.012431268660981638  p-value:  0.5215105365580477\n",
      "Global Moran's I for residuals for month  22  is:  -0.016189530904717885  p-value:  0.5640116558393389\n",
      "Global Moran's I for residuals for month  23  is:  -0.004729874894723929  p-value:  0.43986323670592986\n"
     ]
    }
   ],
   "source": [
    "for h in range(24):\n",
    "    resid = hm_reg.loc[h, 'resid']\n",
    "    print(\"Global Moran's I for residuals for month \", h, \" is: \", \n",
    "          Moran(resid, weight).I, \" p-value: \",Moran(resid, weight).p_norm)"
   ]
  },
  {
   "cell_type": "code",
   "execution_count": 107,
   "metadata": {},
   "outputs": [
    {
     "name": "stderr",
     "output_type": "stream",
     "text": [
      "No handles with labels found to put in legend.\n"
     ]
    },
    {
     "data": {
      "image/png": "[encoded data removed]",
      "text/plain": [
       "<Figure size 1728x1152 with 24 Axes>"
      ]
     },
     "metadata": {},
     "output_type": "display_data"
    }
   ],
   "source": [
    "# plot feature importance\n",
    "fig, ax = plt.subplots(4, 6, figsize=(24, 16))\n",
    "\n",
    "for hour in range(24):\n",
    "    ax[hour//6, hour%6].bar(['fi_' + elem for elem in area_names], \n",
    "                            hm_reg.loc[hour, ['fi_' + elem for elem in area_names]].values,\n",
    "                            yerr=hm_reg.loc[hour, ['fi_std_' + elem for elem in area_names]].values)\n",
    "    ax[hour//6, hour%6].get_xaxis().set_ticks([])\n",
    "    ax[hour//6, hour%6].set_title(str(hour)+'-'+str(hour+1))\n",
    "plt.legend()\n",
    "plt.show()"
   ]
  },
  {
   "cell_type": "code",
   "execution_count": 138,
   "metadata": {},
   "outputs": [
    {
     "data": {
      "text/html": [
       "<div>\n",
       "<style scoped>\n",
       "    .dataframe tbody tr th:only-of-type {\n",
       "        vertical-align: middle;\n",
       "    }\n",
       "\n",
       "    .dataframe tbody tr th {\n",
       "        vertical-align: top;\n",
       "    }\n",
       "\n",
       "    .dataframe thead th {\n",
       "        text-align: right;\n",
       "    }\n",
       "</style>\n",
       "<table border=\"1\" class=\"dataframe\">\n",
       "  <thead>\n",
       "    <tr style=\"text-align: right;\">\n",
       "      <th></th>\n",
       "      <th>fi_UnC_area_per_len</th>\n",
       "      <th>fi_A_area_per_len</th>\n",
       "      <th>fi_B_area_per_len</th>\n",
       "      <th>fi_CUn_area_per_len</th>\n",
       "      <th>fi_Other_area_per_len</th>\n",
       "    </tr>\n",
       "  </thead>\n",
       "  <tbody>\n",
       "    <tr>\n",
       "      <th>0</th>\n",
       "      <td>2.89752</td>\n",
       "      <td>0.52514</td>\n",
       "      <td>0.15060</td>\n",
       "      <td>0.87525</td>\n",
       "      <td>0.17308</td>\n",
       "    </tr>\n",
       "    <tr>\n",
       "      <th>1</th>\n",
       "      <td>2.54346</td>\n",
       "      <td>0.76688</td>\n",
       "      <td>0.40381</td>\n",
       "      <td>0.67547</td>\n",
       "      <td>0.14790</td>\n",
       "    </tr>\n",
       "    <tr>\n",
       "      <th>2</th>\n",
       "      <td>3.04762</td>\n",
       "      <td>0.74466</td>\n",
       "      <td>0.40039</td>\n",
       "      <td>0.96262</td>\n",
       "      <td>0.09093</td>\n",
       "    </tr>\n",
       "    <tr>\n",
       "      <th>3</th>\n",
       "      <td>2.84563</td>\n",
       "      <td>0.79275</td>\n",
       "      <td>0.38699</td>\n",
       "      <td>1.03794</td>\n",
       "      <td>0.20031</td>\n",
       "    </tr>\n",
       "    <tr>\n",
       "      <th>4</th>\n",
       "      <td>1.66248</td>\n",
       "      <td>0.41197</td>\n",
       "      <td>0.41628</td>\n",
       "      <td>0.74370</td>\n",
       "      <td>0.20721</td>\n",
       "    </tr>\n",
       "    <tr>\n",
       "      <th>5</th>\n",
       "      <td>0.91135</td>\n",
       "      <td>0.22256</td>\n",
       "      <td>0.54683</td>\n",
       "      <td>0.56560</td>\n",
       "      <td>0.48109</td>\n",
       "    </tr>\n",
       "    <tr>\n",
       "      <th>6</th>\n",
       "      <td>0.50574</td>\n",
       "      <td>0.06619</td>\n",
       "      <td>0.54006</td>\n",
       "      <td>0.30065</td>\n",
       "      <td>0.54509</td>\n",
       "    </tr>\n",
       "    <tr>\n",
       "      <th>7</th>\n",
       "      <td>0.60714</td>\n",
       "      <td>0.02603</td>\n",
       "      <td>0.54201</td>\n",
       "      <td>0.26533</td>\n",
       "      <td>0.57473</td>\n",
       "    </tr>\n",
       "    <tr>\n",
       "      <th>8</th>\n",
       "      <td>1.43470</td>\n",
       "      <td>0.03476</td>\n",
       "      <td>0.39445</td>\n",
       "      <td>0.31851</td>\n",
       "      <td>0.14274</td>\n",
       "    </tr>\n",
       "    <tr>\n",
       "      <th>9</th>\n",
       "      <td>2.20978</td>\n",
       "      <td>0.12351</td>\n",
       "      <td>0.29776</td>\n",
       "      <td>0.56370</td>\n",
       "      <td>0.28530</td>\n",
       "    </tr>\n",
       "    <tr>\n",
       "      <th>10</th>\n",
       "      <td>2.49306</td>\n",
       "      <td>0.18700</td>\n",
       "      <td>0.27711</td>\n",
       "      <td>0.60095</td>\n",
       "      <td>0.19584</td>\n",
       "    </tr>\n",
       "    <tr>\n",
       "      <th>11</th>\n",
       "      <td>2.60696</td>\n",
       "      <td>0.27227</td>\n",
       "      <td>0.22952</td>\n",
       "      <td>0.80805</td>\n",
       "      <td>0.30824</td>\n",
       "    </tr>\n",
       "    <tr>\n",
       "      <th>12</th>\n",
       "      <td>2.46376</td>\n",
       "      <td>0.19879</td>\n",
       "      <td>0.23059</td>\n",
       "      <td>0.77639</td>\n",
       "      <td>0.25709</td>\n",
       "    </tr>\n",
       "    <tr>\n",
       "      <th>13</th>\n",
       "      <td>1.82437</td>\n",
       "      <td>0.14314</td>\n",
       "      <td>0.28263</td>\n",
       "      <td>0.48966</td>\n",
       "      <td>0.21602</td>\n",
       "    </tr>\n",
       "    <tr>\n",
       "      <th>14</th>\n",
       "      <td>1.64525</td>\n",
       "      <td>0.20764</td>\n",
       "      <td>0.28026</td>\n",
       "      <td>0.38242</td>\n",
       "      <td>0.23618</td>\n",
       "    </tr>\n",
       "    <tr>\n",
       "      <th>15</th>\n",
       "      <td>1.04959</td>\n",
       "      <td>0.12187</td>\n",
       "      <td>0.29706</td>\n",
       "      <td>0.24750</td>\n",
       "      <td>0.23919</td>\n",
       "    </tr>\n",
       "    <tr>\n",
       "      <th>16</th>\n",
       "      <td>0.72190</td>\n",
       "      <td>0.07331</td>\n",
       "      <td>0.37897</td>\n",
       "      <td>0.13538</td>\n",
       "      <td>0.22573</td>\n",
       "    </tr>\n",
       "    <tr>\n",
       "      <th>17</th>\n",
       "      <td>0.81976</td>\n",
       "      <td>0.01928</td>\n",
       "      <td>0.42212</td>\n",
       "      <td>0.11184</td>\n",
       "      <td>0.00201</td>\n",
       "    </tr>\n",
       "    <tr>\n",
       "      <th>18</th>\n",
       "      <td>0.87097</td>\n",
       "      <td>0.03321</td>\n",
       "      <td>0.54078</td>\n",
       "      <td>0.24150</td>\n",
       "      <td>0.12682</td>\n",
       "    </tr>\n",
       "    <tr>\n",
       "      <th>19</th>\n",
       "      <td>0.80914</td>\n",
       "      <td>0.00783</td>\n",
       "      <td>0.56461</td>\n",
       "      <td>0.28878</td>\n",
       "      <td>0.15566</td>\n",
       "    </tr>\n",
       "    <tr>\n",
       "      <th>20</th>\n",
       "      <td>0.93024</td>\n",
       "      <td>0.04156</td>\n",
       "      <td>0.55864</td>\n",
       "      <td>0.30227</td>\n",
       "      <td>0.12034</td>\n",
       "    </tr>\n",
       "    <tr>\n",
       "      <th>21</th>\n",
       "      <td>0.92241</td>\n",
       "      <td>0.03414</td>\n",
       "      <td>0.57140</td>\n",
       "      <td>0.33420</td>\n",
       "      <td>0.11083</td>\n",
       "    </tr>\n",
       "    <tr>\n",
       "      <th>22</th>\n",
       "      <td>0.82618</td>\n",
       "      <td>0.04598</td>\n",
       "      <td>0.50615</td>\n",
       "      <td>0.36105</td>\n",
       "      <td>0.14637</td>\n",
       "    </tr>\n",
       "    <tr>\n",
       "      <th>23</th>\n",
       "      <td>1.25071</td>\n",
       "      <td>0.20313</td>\n",
       "      <td>0.44570</td>\n",
       "      <td>0.51142</td>\n",
       "      <td>0.19295</td>\n",
       "    </tr>\n",
       "  </tbody>\n",
       "</table>\n",
       "</div>"
      ],
      "text/plain": [
       "    fi_UnC_area_per_len  fi_A_area_per_len  fi_B_area_per_len  \\\n",
       "0               2.89752            0.52514            0.15060   \n",
       "1               2.54346            0.76688            0.40381   \n",
       "2               3.04762            0.74466            0.40039   \n",
       "3               2.84563            0.79275            0.38699   \n",
       "4               1.66248            0.41197            0.41628   \n",
       "5               0.91135            0.22256            0.54683   \n",
       "6               0.50574            0.06619            0.54006   \n",
       "7               0.60714            0.02603            0.54201   \n",
       "8               1.43470            0.03476            0.39445   \n",
       "9               2.20978            0.12351            0.29776   \n",
       "10              2.49306            0.18700            0.27711   \n",
       "11              2.60696            0.27227            0.22952   \n",
       "12              2.46376            0.19879            0.23059   \n",
       "13              1.82437            0.14314            0.28263   \n",
       "14              1.64525            0.20764            0.28026   \n",
       "15              1.04959            0.12187            0.29706   \n",
       "16              0.72190            0.07331            0.37897   \n",
       "17              0.81976            0.01928            0.42212   \n",
       "18              0.87097            0.03321            0.54078   \n",
       "19              0.80914            0.00783            0.56461   \n",
       "20              0.93024            0.04156            0.55864   \n",
       "21              0.92241            0.03414            0.57140   \n",
       "22              0.82618            0.04598            0.50615   \n",
       "23              1.25071            0.20313            0.44570   \n",
       "\n",
       "    fi_CUn_area_per_len  fi_Other_area_per_len  \n",
       "0               0.87525                0.17308  \n",
       "1               0.67547                0.14790  \n",
       "2               0.96262                0.09093  \n",
       "3               1.03794                0.20031  \n",
       "4               0.74370                0.20721  \n",
       "5               0.56560                0.48109  \n",
       "6               0.30065                0.54509  \n",
       "7               0.26533                0.57473  \n",
       "8               0.31851                0.14274  \n",
       "9               0.56370                0.28530  \n",
       "10              0.60095                0.19584  \n",
       "11              0.80805                0.30824  \n",
       "12              0.77639                0.25709  \n",
       "13              0.48966                0.21602  \n",
       "14              0.38242                0.23618  \n",
       "15              0.24750                0.23919  \n",
       "16              0.13538                0.22573  \n",
       "17              0.11184                0.00201  \n",
       "18              0.24150                0.12682  \n",
       "19              0.28878                0.15566  \n",
       "20              0.30227                0.12034  \n",
       "21              0.33420                0.11083  \n",
       "22              0.36105                0.14637  \n",
       "23              0.51142                0.19295  "
      ]
     },
     "execution_count": 138,
     "metadata": {},
     "output_type": "execute_result"
    }
   ],
   "source": [
    "hm_reg[['fi_' + elem for elem in area_names]]"
   ]
  },
  {
   "cell_type": "code",
   "execution_count": 140,
   "metadata": {},
   "outputs": [
    {
     "data": {
      "text/plain": [
       "fi_UnC_area_per_len          1.579155\n",
       "fi_A_area_per_len            0.220983\n",
       "fi_B_area_per_len            0.402697\n",
       "fi_CUn_area_per_len          0.495841\n",
       "fi_Other_area_per_len        0.224235\n",
       "fi_std_UnC_area_per_len      0.410064\n",
       "fi_std_A_area_per_len        0.114360\n",
       "fi_std_B_area_per_len        0.192508\n",
       "fi_std_CUn_area_per_len      0.217560\n",
       "fi_std_Other_area_per_len    0.113762\n",
       "dtype: float64"
      ]
     },
     "execution_count": 140,
     "metadata": {},
     "output_type": "execute_result"
    }
   ],
   "source": [
    "hm_reg[['fi_' + elem for elem in area_names]+['fi_std_' + elem for elem in area_names]].mean()"
   ]
  },
  {
   "cell_type": "code",
   "execution_count": 159,
   "metadata": {},
   "outputs": [
    {
     "data": {
      "image/png": "[encoded data removed]",
      "text/plain": [
       "<Figure size 864x576 with 6 Axes>"
      ]
     },
     "metadata": {},
     "output_type": "display_data"
    }
   ],
   "source": [
    "# coefficient viz\n",
    "fig,ax=plt.subplots(2,3,figsize=(12,8))\n",
    "col = ['intercept']+area_names\n",
    "for i in range(len(col)):\n",
    "    hm_reg[col[i]].plot(ax=ax[i//3,i%3])\n",
    "    ax[i//3,i%3].set_title(col[i])\n",
    "    ax[i//3,i%3].set_xticks([3*i for i in range(8)])\n",
    "    if hm_reg[col[i]].mean()<0:\n",
    "        ax[i//3,i%3].invert_yaxis()\n",
    "plt.show()"
   ]
  },
  {
   "cell_type": "code",
   "execution_count": 58,
   "metadata": {},
   "outputs": [
    {
     "name": "stdout",
     "output_type": "stream",
     "text": [
      "<class 'pandas.core.frame.DataFrame'>\n",
      "MultiIndex: 252 entries, (1, 'BL0') to (12, 'TH4')\n",
      "Data columns (total 4 columns):\n",
      " #   Column      Non-Null Count  Dtype  \n",
      "---  ------      --------------  -----  \n",
      " 0   Value       252 non-null    float64\n",
      " 1   hour        252 non-null    float64\n",
      " 2   dayofmonth  252 non-null    float64\n",
      " 3   dayofweek   252 non-null    float64\n",
      "dtypes: float64(4)\n",
      "memory usage: 8.7+ KB\n"
     ]
    }
   ],
   "source": [
    "mm_dep_df = dep_df.groupby(['month','Site']).mean()\n",
    "mm_dep_df.info()"
   ]
  },
  {
   "cell_type": "code",
   "execution_count": 59,
   "metadata": {},
   "outputs": [],
   "source": [
    "mm_dep_df.drop(['hour', 'dayofmonth', 'dayofweek'], axis=1, inplace=True)\n",
    "mm_dep_df.reset_index(inplace=True)"
   ]
  },
  {
   "cell_type": "code",
   "execution_count": 60,
   "metadata": {},
   "outputs": [
    {
     "name": "stdout",
     "output_type": "stream",
     "text": [
      "<class 'pandas.core.frame.DataFrame'>\n",
      "Int64Index: 252 entries, 0 to 251\n",
      "Data columns (total 17 columns):\n",
      " #   Column              Non-Null Count  Dtype  \n",
      "---  ------              --------------  -----  \n",
      " 0   month               252 non-null    int64  \n",
      " 1   Site                252 non-null    object \n",
      " 2   Value               252 non-null    float64\n",
      " 3   siteid              252 non-null    object \n",
      " 4   Gsp_area            252 non-null    float64\n",
      " 5   Gsp_edge            252 non-null    float64\n",
      " 6   UnC_area_per_len    252 non-null    float64\n",
      " 7   UnC_edge_per_len    252 non-null    float64\n",
      " 8   A_area_per_len      252 non-null    float64\n",
      " 9   A_edge_per_len      252 non-null    float64\n",
      " 10  B_area_per_len      252 non-null    float64\n",
      " 11  B_edge_per_len      252 non-null    float64\n",
      " 12  CUn_area_per_len    252 non-null    float64\n",
      " 13  CUn_edge_per_len    252 non-null    float64\n",
      " 14  Other_area_per_len  252 non-null    float64\n",
      " 15  Other_edge_per_len  252 non-null    float64\n",
      " 16  Gsp_per_tRd_len     252 non-null    float64\n",
      "dtypes: float64(14), int64(1), object(2)\n",
      "memory usage: 35.4+ KB\n"
     ]
    }
   ],
   "source": [
    "mm_dep_df = mm_dep_df.merge(exp_df, left_on='Site', right_on='siteid')\n",
    "mm_dep_df.info()"
   ]
  },
  {
   "cell_type": "code",
   "execution_count": 61,
   "metadata": {},
   "outputs": [],
   "source": [
    "mm_dep_df.drop('Site', axis=1, inplace=True)"
   ]
  },
  {
   "cell_type": "code",
   "execution_count": 62,
   "metadata": {},
   "outputs": [
    {
     "name": "stdout",
     "output_type": "stream",
     "text": [
      "Global Moran's I for month  1 is:  0.003641632057737503\n",
      "Global Moran's I for month  2 is:  0.0662609644851644\n",
      "Global Moran's I for month  3 is:  0.13033251481287086\n",
      "Global Moran's I for month  4 is:  -0.007821811529515265\n",
      "Global Moran's I for month  5 is:  0.057814827084503126\n",
      "Global Moran's I for month  6 is:  0.07317506194877035\n",
      "Global Moran's I for month  7 is:  0.016624172348547708\n",
      "Global Moran's I for month  8 is:  0.015710564641922425\n",
      "Global Moran's I for month  9 is:  0.05979959100051212\n",
      "Global Moran's I for month  10 is:  0.08902715229331153\n",
      "Global Moran's I for month  11 is:  0.05306934244532968\n",
      "Global Moran's I for month  12 is:  0.10564724933858408\n"
     ]
    }
   ],
   "source": [
    "for m in range(1,13):\n",
    "    df = mm_dep_df[mm_dep_df['month']==m].copy()\n",
    "    print(\"Global Moran's I for month \", m, \"is: \", Moran(df['Value'].values, weight).I)"
   ]
  },
  {
   "cell_type": "code",
   "execution_count": 63,
   "metadata": {},
   "outputs": [],
   "source": [
    "mm_X = mm_dep_df[area_names].values\n",
    "mm_y = mm_dep_df['Value'].values"
   ]
  },
  {
   "cell_type": "code",
   "execution_count": 64,
   "metadata": {},
   "outputs": [
    {
     "data": {
      "text/plain": [
       "([0.21706, 0.02065, 0.0576, 0.07048, 0.02731],\n",
       " [0.04393, 0.01299, 0.02094, 0.02443, 0.01592])"
      ]
     },
     "execution_count": 64,
     "metadata": {},
     "output_type": "execute_result"
    }
   ],
   "source": [
    "get_importance(reg, mm_X, mm_y, area_names, rep=100)"
   ]
  },
  {
   "cell_type": "code",
   "execution_count": 65,
   "metadata": {},
   "outputs": [
    {
     "data": {
      "text/plain": [
       "[0.01016,\n",
       " 0.0042,\n",
       " 0.119,\n",
       " 0.01411,\n",
       " array([-1.72977103e+00, -5.77396407e+00,  2.17606426e+00, -1.01388662e+01,\n",
       "         3.16323284e+00,  3.89062993e+00,  4.98343319e+00,  3.71351462e+00,\n",
       "         6.14478550e+00,  4.01938238e+00,  1.66928534e+00,  2.14786358e+00,\n",
       "        -4.31222193e+00, -8.48436494e+00, -9.09271431e-01, -1.29484612e+01,\n",
       "         7.90752282e-01,  2.93478531e+00,  4.79252818e+00,  4.96843045e+00,\n",
       "         2.95072532e+00,  1.57359379e+00,  5.73526014e-01, -1.18129487e+00,\n",
       "        -7.98444521e-01, -6.35923596e+00,  2.19034092e+00, -1.02090420e+01,\n",
       "         2.37898095e+00,  3.75207325e+00,  4.54754323e+00,  3.35304704e+00,\n",
       "         5.56239126e+00,  3.35821029e+00,  5.93243654e-01,  2.18226076e+00,\n",
       "        -3.33976125e+00, -1.02807075e+01, -7.59254481e-01, -1.25898852e+01,\n",
       "         9.79362553e-01,  1.52479491e+00,  1.69844967e+00, -2.58874608e-01,\n",
       "         2.32866788e+00, -6.24540961e-02, -2.56266402e+00,  2.91072712e-01,\n",
       "        -1.50238252e+00, -3.68128072e+00,  2.00981744e+00, -8.21930272e+00,\n",
       "         3.45996165e+00,  4.77612949e+00,  5.32650995e+00,  4.13880758e+00,\n",
       "         5.58675091e+00,  2.63418281e+00,  9.26052681e-01,  1.92764904e-01,\n",
       "         1.90640479e-01, -8.71920192e+00,  6.90462154e-01, -9.44029409e+00,\n",
       "         2.25978272e+00,  1.84899037e+00,  9.50753247e-01,  3.65865271e-01,\n",
       "         3.52479021e+00,  1.34559315e+00, -1.42598457e+00,  6.64207569e-01,\n",
       "         1.48906999e+00, -2.73513543e+00,  3.23174828e+00, -4.92067440e+00,\n",
       "         1.60974139e-01, -1.32928629e+00,  3.69810611e+00,  2.02656410e+00,\n",
       "         5.32161744e+00,  4.15526644e+00,  2.47495322e+00,  5.14936942e-01,\n",
       "        -1.71212378e+00, -4.08057985e+00,  1.18790920e+00, -1.44101371e+01,\n",
       "        -6.46324420e-02,  1.68652011e+00,  2.50035151e+00,  1.55762833e+00,\n",
       "         3.77471599e+00,  2.30712807e+00, -1.06464661e-01,  3.83798677e+00,\n",
       "        -2.09746886e+00, -7.23820826e+00, -5.03481764e-01, -1.33140459e+01,\n",
       "         2.60907636e-01,  1.84160766e+00,  1.81014665e+00,  2.09231897e-01,\n",
       "         2.67681835e+00,  1.61060565e+00, -1.06621067e+00,  1.90105003e-01,\n",
       "        -7.19561426e-01, -6.68453265e+00,  9.81230831e-01, -1.02720894e+01,\n",
       "         1.49060769e+00,  2.45672103e+00,  2.86888725e+00,  1.43895859e+00,\n",
       "         2.12529586e+00,  2.04609241e+00,  3.47647241e-01,  1.12624021e+00,\n",
       "         6.19113512e-01, -3.14135000e+00,  1.94993261e+00, -1.06298896e+01,\n",
       "         1.54950550e+00,  2.44606633e+00,  3.71040432e+00,  3.15021669e+00,\n",
       "         5.69380246e+00,  4.64056814e+00,  3.14470261e+00,  3.85041311e+00,\n",
       "        -2.55984288e+00, -6.52395636e+00,  4.93197586e-01, -1.32835872e+01,\n",
       "        -2.50865565e-01,  1.75178512e+00,  2.84529294e+00,  1.03348061e+00,\n",
       "         3.52826654e+00,  1.44109994e+00,  3.36152277e-02,  1.27299497e+00,\n",
       "        -8.63105119e-03, -3.88239413e+00,  1.90302088e+00, -1.05308662e+01,\n",
       "         3.60154684e+00,  5.21194610e+00,  6.15097413e+00,  4.13667462e+00,\n",
       "         6.71132565e+00,  4.60120619e+00,  2.11182998e+00,  2.86637462e+00,\n",
       "        -1.44351431e+00, -6.44190036e+00, -7.67759707e-01, -9.82198900e+00,\n",
       "         1.48959478e+00,  5.56741533e-01,  2.10350074e+00,  1.55045224e+00,\n",
       "         5.11252965e+00,  3.10082755e+00,  1.30840013e+00,  2.12266507e+00,\n",
       "         1.32226372e+00, -2.47116129e+00,  2.96179292e+00, -8.36222027e+00,\n",
       "         4.70398649e+00,  5.77542852e+00,  6.75901578e+00,  4.42032136e+00,\n",
       "         7.20801365e+00,  4.10325835e+00,  2.63852421e+00,  3.45434517e+00,\n",
       "        -1.34710895e+00, -5.39815064e+00,  1.18740046e+00, -1.05970189e+01,\n",
       "         2.05404690e+00,  3.49641857e+00,  4.19605082e+00,  3.25327879e+00,\n",
       "         5.03221932e+00,  2.33174212e+00,  7.49118109e-01,  1.76366884e+00,\n",
       "        -6.78872765e+00, -7.31503950e+00, -5.45886861e-01, -1.18649259e+01,\n",
       "        -1.47888567e+00,  9.13122867e-02,  7.58822822e-01, -7.97211126e-01,\n",
       "         3.12692399e+00,  1.42933915e+00, -2.03080918e+00, -2.14206283e+00,\n",
       "        -4.50273415e+00, -1.36790042e+01, -3.69300329e+00, -1.35457460e+01,\n",
       "        -2.87774767e+00,  1.32682999e+00,  3.58931291e+00,  2.64456247e+00,\n",
       "         4.98320289e+00,  2.68414280e+00,  1.67913396e-01,  2.25875939e-01,\n",
       "        -1.80992051e+00, -4.51890048e+00,  1.39010862e+00, -1.07990249e+01,\n",
       "         2.34829967e+00, -5.05439106e-01,  3.94077504e+00,  1.21632677e+00,\n",
       "         5.10613550e+00,  3.39478623e+00,  1.26310361e+00, -9.57600699e-01,\n",
       "        -2.34721394e+00, -4.08832002e+00,  7.08594086e-01, -1.19059910e+01,\n",
       "        -1.64645172e-01,  2.28159412e+00,  2.43997363e+00,  1.54595299e+00,\n",
       "         3.82109258e+00,  2.71417942e+00, -2.25240594e+00,  8.67587414e-01,\n",
       "        -1.48580867e+00, -6.33765884e+00,  9.75572870e-01, -1.01497110e+01,\n",
       "         1.31796788e+00,  3.75148911e+00,  1.52622168e+00,  5.97428619e-01,\n",
       "         3.37972405e+00,  1.78253319e+00, -8.64550365e-01,  8.39763660e-01])]"
      ]
     },
     "execution_count": 65,
     "metadata": {},
     "output_type": "execute_result"
    }
   ],
   "source": [
    "get_cv(reg, mm_X, mm_y, n_splits=10)"
   ]
  },
  {
   "cell_type": "code",
   "execution_count": 109,
   "metadata": {},
   "outputs": [],
   "source": [
    "# linear models by each month\n",
    "mm_reg = []\n",
    "for m in range(1,13):\n",
    "    df = mm_dep_df[mm_dep_df['month']==m].copy()\n",
    "    X = df[area_names].values\n",
    "    y = df['Value'].values\n",
    "    \n",
    "    mean, std = get_importance(reg, X, y, area_names)\n",
    "    coef = reg.coef_.tolist() + [reg.intercept_]\n",
    "    r2 = reg.score(X, y)\n",
    "    cv = get_cv(reg, X, y, loo=True)\n",
    "    \n",
    "    mm_reg.append(mean+std+coef+[r2]+cv)\n",
    "\n",
    "mm_reg = pd.DataFrame(mm_reg, columns=['fi_'+var for var in area_names]+\n",
    "                      ['fi_std_'+var for var in area_names]+\n",
    "                      area_names+['intercept','r2','cv_r2','std_r2','cv_tau','std_tau','resid'])"
   ]
  },
  {
   "cell_type": "code",
   "execution_count": 69,
   "metadata": {},
   "outputs": [
    {
     "data": {
      "text/plain": [
       "<AxesSubplot:>"
      ]
     },
     "execution_count": 69,
     "metadata": {},
     "output_type": "execute_result"
    },
    {
     "data": {
      "image/png": "[encoded data removed]",
      "text/plain": [
       "<Figure size 432x288 with 1 Axes>"
      ]
     },
     "metadata": {},
     "output_type": "display_data"
    }
   ],
   "source": [
    "# model performance\n",
    "mm_reg[['r2', 'cv_r2', 'cv_tau']].plot()"
   ]
  },
  {
   "cell_type": "code",
   "execution_count": 113,
   "metadata": {},
   "outputs": [
    {
     "name": "stderr",
     "output_type": "stream",
     "text": [
      "No handles with labels found to put in legend.\n"
     ]
    },
    {
     "data": {
      "image/png": "[encoded data removed]",
      "text/plain": [
       "<Figure size 1152x864 with 12 Axes>"
      ]
     },
     "metadata": {},
     "output_type": "display_data"
    }
   ],
   "source": [
    "# histogram for residuals\n",
    "fig, ax = plt.subplots(3, 4, figsize=(16, 12))\n",
    "\n",
    "for month in range(12):\n",
    "    sns.histplot(mm_reg.loc[month,'resid'], ax=ax[month//4, month%4])\n",
    "    ax[month//4, month%4].get_xaxis().set_ticks([])\n",
    "    ax[month//4, month%4].set_title(month+1)\n",
    "plt.legend()\n",
    "plt.show()"
   ]
  },
  {
   "cell_type": "code",
   "execution_count": 73,
   "metadata": {},
   "outputs": [
    {
     "name": "stdout",
     "output_type": "stream",
     "text": [
      "Global Moran's I for residuals for month  1  is:  -0.0008782486805908661\n",
      "Global Moran's I for residuals for month  2  is:  0.06609368032560305\n",
      "Global Moran's I for residuals for month  3  is:  0.08279553474942927\n",
      "Global Moran's I for residuals for month  4  is:  0.014224891199051593\n",
      "Global Moran's I for residuals for month  5  is:  0.014277374642435253\n",
      "Global Moran's I for residuals for month  6  is:  0.08420680063133568\n",
      "Global Moran's I for residuals for month  7  is:  0.022846624416685765\n",
      "Global Moran's I for residuals for month  8  is:  0.018585202020258852\n",
      "Global Moran's I for residuals for month  9  is:  0.017548951329757125\n",
      "Global Moran's I for residuals for month  10  is:  0.02911623832265488\n",
      "Global Moran's I for residuals for month  11  is:  0.02780130619327996\n",
      "Global Moran's I for residuals for month  12  is:  0.11965867076691684\n"
     ]
    }
   ],
   "source": [
    "for m in range(12):\n",
    "    resid = mm_reg.loc[m, 'resid']\n",
    "    print(\"Global Moran's I for residuals for month \", m+1, \" is: \", Moran(resid, weight).I)"
   ]
  },
  {
   "cell_type": "code",
   "execution_count": 154,
   "metadata": {},
   "outputs": [
    {
     "name": "stderr",
     "output_type": "stream",
     "text": [
      "No handles with labels found to put in legend.\n"
     ]
    },
    {
     "data": {
      "image/png": "[encoded data removed]",
      "text/plain": [
       "<Figure size 1152x864 with 12 Axes>"
      ]
     },
     "metadata": {},
     "output_type": "display_data"
    }
   ],
   "source": [
    "# plot feature importance\n",
    "fig, ax = plt.subplots(3, 4, figsize=(16, 12))\n",
    "mlabels = ['Jan','Feb','Mar','Apr','May','Jun','Jul','Aug','Sep','Oct','Nov','Dec']\n",
    "for month in range(12):\n",
    "    ax[month//4, month%4].bar(['fi_' + elem for elem in area_names], \n",
    "                              mm_reg.loc[month, ['fi_' + elem for elem in area_names]].values,\n",
    "                              yerr=mm_reg.loc[month, ['fi_std_' + elem for elem in area_names]].values)\n",
    "    ax[month//4, month%4].get_xaxis().set_ticks([])\n",
    "    ax[month//4, month%4].set_title(mlabels[month])\n",
    "plt.legend()\n",
    "plt.show()"
   ]
  },
  {
   "cell_type": "code",
   "execution_count": 157,
   "metadata": {},
   "outputs": [
    {
     "data": {
      "image/png": "[encoded data removed]",
      "text/plain": [
       "<Figure size 864x576 with 6 Axes>"
      ]
     },
     "metadata": {},
     "output_type": "display_data"
    }
   ],
   "source": [
    "# coefficient viz\n",
    "fig,ax=plt.subplots(2,3,figsize=(12,8))\n",
    "col = ['intercept']+area_names\n",
    "for i in range(len(col)):\n",
    "    mm_reg[col[i]].plot(ax=ax[i//3,i%3])\n",
    "    ax[i//3,i%3].set_title(col[i])\n",
    "    ax[i//3,i%3].set_xticks([0,2,4,6,8,10])\n",
    "    ax[i//3,i%3].set_xticklabels([mlabels[2*i] for i in range(6)])\n",
    "    if mm_reg[col[i]].mean()<0:\n",
    "        ax[i//3,i%3].invert_yaxis()\n",
    "plt.show()"
   ]
  },
  {
   "cell_type": "code",
   "execution_count": null,
   "metadata": {},
   "outputs": [],
   "source": [
    "moran = []\n",
    "for time in df['DateTime'].unique():\n",
    "    moran_temp = Moran(df[df['DateTime']==time].log_Value.values, weight)\n",
    "    moran.append([round(moran_temp.I, 5), round(moran_temp.p_norm, 5)])\n",
    "moran_df = pd.DataFrame(df['DateTime'].unique(), columns=['DateTime'])\n",
    "moran_df[['moran', 'p-value']] = moran\n",
    "moran_df.head()"
   ]
  },
  {
   "cell_type": "code",
   "execution_count": null,
   "metadata": {},
   "outputs": [],
   "source": [
    "moran_df['hour'] = moran_df['DateTime'].dt.hour"
   ]
  },
  {
   "cell_type": "code",
   "execution_count": null,
   "metadata": {},
   "outputs": [],
   "source": [
    "fig,ax = plt.subplots(4, 6, figsize=(24,16))\n",
    "i = 0\n",
    "for hour in range(24):\n",
    "    sns.lineplot(x=moran_df['DateTime'].dt.date.unique(), \n",
    "                 y=moran_df[moran_df['hour']==hour].moran.values, \n",
    "                 ax=ax[i//6, i%6], linewidth=1)\n",
    "    i+=1\n",
    "plt.show()"
   ]
  },
  {
   "cell_type": "code",
   "execution_count": null,
   "metadata": {},
   "outputs": [],
   "source": [
    "h_fi = []\n",
    "h_score = []\n",
    "h_coef = []\n",
    "for hour in df['hour'].unique():\n",
    "    X = df[df['hour']==hour].loc[:,t_var].values\n",
    "    y = df[df['hour']==hour].loc[:,'log_Value'].values\n",
    "    \n",
    "    X_train, X_test, y_train, y_test = train_test_split(X, y, shuffle=True, random_state=25)\n",
    "    X_train = scaler.fit_transform(X_train)\n",
    "    X_test = scaler.fit_transform(X_test)\n",
    "    reg.fit(X_train, y_train)\n",
    "    \n",
    "    fi_mean, fi_std = get_importance(reg, X_test, y_test, feature_names=t_var)\n",
    "    h_fi.append(fi_mean + fi_std)\n",
    "    \n",
    "    h_score.append(reg.score(X_test, y_test))\n",
    "    \n",
    "    coef = reg.coef_.tolist()\n",
    "    coef.append(reg.intercept_)\n",
    "    h_coef.append(coef)\n",
    "    \n",
    "h_fi = pd.DataFrame(h_fi, columns=['fi_' + elem for elem in t_var] + ['fi_std_' + elem for elem in t_var])\n",
    "h_score = pd.DataFrame(h_score, columns=['r2'])\n",
    "h_coef = pd.DataFrame(h_coef, columns=t_var+['intercept'])"
   ]
  },
  {
   "cell_type": "code",
   "execution_count": null,
   "metadata": {},
   "outputs": [],
   "source": [
    "h_reg = pd.concat([h_coef, h_score, h_fi], axis=1)\n",
    "h_reg"
   ]
  },
  {
   "cell_type": "code",
   "execution_count": null,
   "metadata": {},
   "outputs": [],
   "source": [
    "h_reg['r2'].plot()"
   ]
  },
  {
   "cell_type": "code",
   "execution_count": null,
   "metadata": {},
   "outputs": [],
   "source": [
    "fig, ax = plt.subplots(4, 6, figsize=(24, 16))\n",
    "i = 0\n",
    "for hour in range(24):\n",
    "    g = sns.barplot(x=['fi_' + elem for elem in t_var], y=h_reg.loc[hour, ['fi_' + elem for elem in t_var]],\n",
    "                    ax=ax[i//6, i%6])\n",
    "    g.set(xticklabels=[])\n",
    "    i += 1\n",
    "plt.legend()\n",
    "plt.show()"
   ]
  },
  {
   "cell_type": "code",
   "execution_count": null,
   "metadata": {},
   "outputs": [],
   "source": [
    "# set up a new column for month information\n",
    "df['month'] = df['DateTime'].dt.month"
   ]
  },
  {
   "cell_type": "code",
   "execution_count": null,
   "metadata": {},
   "outputs": [],
   "source": [
    "moran_df['month'] = moran_df['DateTime'].dt.month"
   ]
  },
  {
   "cell_type": "code",
   "execution_count": null,
   "metadata": {},
   "outputs": [],
   "source": [
    "fig,ax = plt.subplots(3, 4, figsize=(16,12))\n",
    "i = 0\n",
    "for month in range(1,13):\n",
    "    sns.lineplot(x='DateTime', y='moran', data=moran_df[moran_df['month']==month],\n",
    "                 ax=ax[i//4, i%4], linewidth=1)\n",
    "    i+=1\n",
    "plt.show()"
   ]
  },
  {
   "cell_type": "code",
   "execution_count": null,
   "metadata": {},
   "outputs": [],
   "source": [
    "m_fi = []\n",
    "m_score = []\n",
    "m_coef = []\n",
    "for month in df['month'].unique():\n",
    "    X = df[df['month']==month].loc[:, t_var].values\n",
    "    y = df[df['month']==month].loc[:, 'log_Value'].values\n",
    "    \n",
    "    X_train, X_test, y_train, y_test = train_test_split(X, y, shuffle=True, random_state=25)\n",
    "    X_train = scaler.fit_transform(X_train)\n",
    "    X_test = scaler.fit_transform(X_test)\n",
    "    reg.fit(X_train, y_train)\n",
    "    \n",
    "    fi_mean, fi_std = get_importance(reg, X_test, y_test, feature_names=t_var)\n",
    "    m_fi.append(fi_mean + fi_std)\n",
    "\n",
    "    m_score.append(reg.score(X_test, y_test))\n",
    "    \n",
    "    coef = reg.coef_.tolist()\n",
    "    coef.append(reg.intercept_)\n",
    "    m_coef.append(coef)\n",
    "    \n",
    "m_fi = pd.DataFrame(m_fi, columns=['fi_' + elem for elem in t_var] + ['fi_std_' + elem for elem in t_var])\n",
    "m_score = pd.DataFrame(m_score, columns=['r2'])\n",
    "m_coef = pd.DataFrame(m_coef, columns=t_var+['intercept'])"
   ]
  },
  {
   "cell_type": "code",
   "execution_count": null,
   "metadata": {},
   "outputs": [],
   "source": [
    "m_reg = pd.concat([m_coef, m_score, m_fi], axis=1)\n",
    "m_reg"
   ]
  },
  {
   "cell_type": "code",
   "execution_count": null,
   "metadata": {},
   "outputs": [],
   "source": [
    "m_reg['r2'].plot()"
   ]
  },
  {
   "cell_type": "code",
   "execution_count": null,
   "metadata": {},
   "outputs": [],
   "source": [
    "fig, ax = plt.subplots(3, 4, figsize=(16, 12))\n",
    "i = 0\n",
    "for month in range(1,13):\n",
    "    g = sns.barplot(x=['fi_' + elem for elem in t_var], y=m_reg.loc[month-1, ['fi_' + elem for elem in t_var]],\n",
    "                    ax=ax[i//4, i%4])\n",
    "    g.set(xticklabels=[])\n",
    "    i += 1\n",
    "plt.legend()\n",
    "plt.show()"
   ]
  },
  {
   "cell_type": "code",
   "execution_count": null,
   "metadata": {},
   "outputs": [],
   "source": [
    "df.groupby('month').mean()['Value'].plot()"
   ]
  },
  {
   "cell_type": "code",
   "execution_count": null,
   "metadata": {},
   "outputs": [],
   "source": [
    "df.info()"
   ]
  },
  {
   "cell_type": "code",
   "execution_count": null,
   "metadata": {},
   "outputs": [],
   "source": [
    "high_period = df[df['month'].isin([1, 2, 4])].drop(['hour','dayofweek','dayofmonth','month'],axis=1)\n",
    "low_period = df[~df['month'].isin([1, 2, 4])].drop(['hour','dayofweek','dayofmonth','month'],axis=1)\n",
    "\n",
    "print('high period: '+str(high_period.shape)+'\\nlow period: '+str(low_period.shape))"
   ]
  },
  {
   "cell_type": "code",
   "execution_count": null,
   "metadata": {},
   "outputs": [],
   "source": [
    "hp_X = high_period[t_var].values\n",
    "hp_y = high_period['log_Value'].values\n",
    "\n",
    "hp_X_train, hp_X_test, hp_y_train, hp_y_test = train_test_split(hp_X, hp_y, shuffle=True, random_state=25)\n",
    "\n",
    "hp_X_train = scaler.fit_transform(hp_X_train)\n",
    "hp_X_test = scaler.fit_transform(hp_X_test)\n",
    "\n",
    "reg.fit(hp_X_train, hp_y_train)\n",
    "\n",
    "get_importance(reg, hp_X_test, hp_y_test, feature_names=t_var)"
   ]
  },
  {
   "cell_type": "code",
   "execution_count": null,
   "metadata": {},
   "outputs": [],
   "source": [
    "reg.score(hp_X_test, hp_y_test)"
   ]
  },
  {
   "cell_type": "code",
   "execution_count": null,
   "metadata": {},
   "outputs": [],
   "source": [
    "reg.coef_.tolist() + [reg.intercept_]"
   ]
  },
  {
   "cell_type": "code",
   "execution_count": null,
   "metadata": {},
   "outputs": [],
   "source": [
    "lp_X = low_period[t_var].values\n",
    "lp_y = low_period['log_Value'].values\n",
    "\n",
    "lp_X_train, lp_X_test, lp_y_train, lp_y_test = train_test_split(lp_X, lp_y, shuffle=True, random_state=25)\n",
    "lp_X_train = scaler.fit_transform(lp_X_train)\n",
    "lp_X_test = scaler.fit_transform(lp_X_test)\n",
    "reg.fit(lp_X_train, lp_y_train)\n",
    "\n",
    "get_importance(reg, lp_X_test, lp_y_test, feature_names=t_var)"
   ]
  },
  {
   "cell_type": "code",
   "execution_count": null,
   "metadata": {},
   "outputs": [],
   "source": [
    "reg.score(lp_X_test, lp_y_test)"
   ]
  },
  {
   "cell_type": "code",
   "execution_count": null,
   "metadata": {},
   "outputs": [],
   "source": [
    "reg.coef_.tolist() + [reg.intercept_]"
   ]
  },
  {
   "cell_type": "markdown",
   "metadata": {},
   "source": [
    "# Mean analysis"
   ]
  },
  {
   "cell_type": "code",
   "execution_count": null,
   "metadata": {},
   "outputs": [],
   "source": [
    "def get_corr(df, iter_range, method='pearson', features=t_var_names, target='log_Value'):\n",
    "    result = []\n",
    "    for index in iter_range:\n",
    "        result.append(df.loc[(index,)].corr(method=method).loc[features,target])\n",
    "    result=np.asarray(result)\n",
    "    return result"
   ]
  },
  {
   "cell_type": "code",
   "execution_count": null,
   "metadata": {},
   "outputs": [],
   "source": [
    "def get_moran(df,iter_range,w=weight,target='log_Value'):\n",
    "    result=[]\n",
    "    for index in iter_range:\n",
    "        result.append(Moran(df.loc[(index,),target].values,w).I)\n",
    "    return result"
   ]
  },
  {
   "cell_type": "code",
   "execution_count": null,
   "metadata": {},
   "outputs": [],
   "source": [
    "def get_cv_score(reg, features, target, iter=50, split=10, method='r2'):\n",
    "    score = []\n",
    "    for i in range(iter):\n",
    "        kf = KFold(n_splits=split, shuffle=True, random_state=i)\n",
    "        cv = cross_val_score(reg, features, target, cv=kf, scoring=method).tolist()\n",
    "        score = score + cv\n",
    "    \n",
    "    return (np.mean(score), np.std(score))"
   ]
  },
  {
   "cell_type": "code",
   "execution_count": null,
   "metadata": {},
   "outputs": [],
   "source": [
    "def get_reg_info(df, iter_range, features=t_var_names, target='log_Value', cv_split=3, reg=LinearRegression()):\n",
    "    result = []\n",
    "    for index in iter_range:\n",
    "        X = df.loc[(index,), features].values        \n",
    "        y = df.loc[(index,), target].values\n",
    "        #X = scaler.fit_transform(X)\n",
    "        \n",
    "        reg.fit(X, y)\n",
    "        coef = reg.coef_.tolist()\n",
    "        cv = get_cv(reg, X, y, splits=cv_split)\n",
    "        coef = coef + cv\n",
    "        importance, std = get_importance(reg, X, y, features)\n",
    "        coef = coef + importance + std\n",
    "        result.append(coef)\n",
    "    result = pd.DataFrame(result, columns=features+['cv_r2','r2_std','cv_tau','tau_std']+\n",
    "                          ['fi_'+var for var in features]+['std_fi_'+var for var in features])\n",
    "    return result"
   ]
  },
  {
   "cell_type": "code",
   "execution_count": null,
   "metadata": {},
   "outputs": [],
   "source": [
    "hm_corr=get_corr(hm_dep_df,range(24))\n",
    "sns.lineplot(data=hm_corr,legend=False)\n",
    "plt.legend(labels=var_names)\n",
    "plt.show()"
   ]
  },
  {
   "cell_type": "code",
   "execution_count": null,
   "metadata": {},
   "outputs": [],
   "source": [
    "hmean_corr_sp=get_corr(hm_dep_df,range(24),method='spearman')\n",
    "sns.lineplot(data=hmean_corr_sp,legend=False)\n",
    "plt.legend(labels=var_names)\n",
    "plt.show()"
   ]
  },
  {
   "cell_type": "code",
   "execution_count": null,
   "metadata": {},
   "outputs": [],
   "source": [
    "hmean_moran=get_moran(hm_dep_df,range(24))\n",
    "sns.lineplot(x=range(24),y=hmean_moran)"
   ]
  },
  {
   "cell_type": "code",
   "execution_count": null,
   "metadata": {},
   "outputs": [],
   "source": [
    "hmean_reg=get_reg_info(hm_dep_df,range(24), cv_split=3)\n",
    "sns.lineplot(data=hmean_reg[['cv_r2','cv_tau']])"
   ]
  },
  {
   "cell_type": "code",
   "execution_count": null,
   "metadata": {},
   "outputs": [],
   "source": [
    "fig, ax = plt.subplots(4, 6, figsize=(24, 16))\n",
    "i = 0\n",
    "for hour in range(24):\n",
    "    g = sns.barplot(x=['fi_' + elem for elem in t_var_names], \n",
    "                    y=hmean_reg.loc[hour, ['fi_' + elem for elem in t_var_names]],\n",
    "                    ax=ax[i//6, i%6])\n",
    "    g.set(xticklabels=[])\n",
    "    i += 1\n",
    "plt.legend()\n",
    "plt.show()"
   ]
  },
  {
   "cell_type": "code",
   "execution_count": null,
   "metadata": {},
   "outputs": [],
   "source": [
    "hmean_x = hm_dep_df[t_var].values\n",
    "hmean_y = hm_dep_df['log_Value'].values\n",
    "\n",
    "hmean_x = scaler.fit_transform(hmean_x)\n",
    "hmean_y = hmean_y.reshape(-1, 1)\n",
    "hmean_y = scaler.fit_transform(hmean_y)\n",
    "\n",
    "reg.fit(hmean_x, hmean_y)\n",
    "get_cv(reg, hmean_x, hmean_y, splits=10, reshape=True)\n"
   ]
  },
  {
   "cell_type": "code",
   "execution_count": null,
   "metadata": {},
   "outputs": [],
   "source": [
    "reg.coef_"
   ]
  },
  {
   "cell_type": "code",
   "execution_count": null,
   "metadata": {},
   "outputs": [],
   "source": [
    "get_importance(reg, hmean_x, hmean_y, t_var, method='neg_mean_squared_error')"
   ]
  },
  {
   "cell_type": "code",
   "execution_count": null,
   "metadata": {},
   "outputs": [],
   "source": [
    "mmean_df=df.groupby(['month','Site']).mean()\n",
    "mmean_df.info()"
   ]
  },
  {
   "cell_type": "code",
   "execution_count": null,
   "metadata": {},
   "outputs": [],
   "source": [
    "mmean_df.drop(['hour','dayofweek','dayofmonth'], axis=1, inplace=True)"
   ]
  },
  {
   "cell_type": "code",
   "execution_count": null,
   "metadata": {},
   "outputs": [],
   "source": [
    "mmean_corr=get_corr(mmean_df,range(1,13))\n",
    "sns.lineplot(data=mmean_corr,legend=False)\n",
    "plt.legend(labels=t_var_names,loc='upper left')\n",
    "plt.show()"
   ]
  },
  {
   "cell_type": "code",
   "execution_count": null,
   "metadata": {},
   "outputs": [],
   "source": [
    "mmean_corr_sp=get_corr(mmean_df,range(1,13),method='spearman')\n",
    "sns.lineplot(data=mmean_corr_sp,legend=False)\n",
    "plt.legend(labels=t_var_names,loc='upper left')\n",
    "plt.show()"
   ]
  },
  {
   "cell_type": "code",
   "execution_count": null,
   "metadata": {},
   "outputs": [],
   "source": [
    "mmean_moran=get_moran(mmean_df,range(1,13))\n",
    "sns.lineplot(x=range(1,13),y=mmean_moran)"
   ]
  },
  {
   "cell_type": "code",
   "execution_count": null,
   "metadata": {},
   "outputs": [],
   "source": [
    "mmean_reg = get_reg_info(mmean_df,range(1,13),cv_split=2)\n",
    "sns.lineplot(data=mmean_reg[['cv_r2','cv_tau']])"
   ]
  },
  {
   "cell_type": "code",
   "execution_count": null,
   "metadata": {},
   "outputs": [],
   "source": [
    "fig, ax = plt.subplots(3, 4, figsize=(16, 12))\n",
    "i = 0\n",
    "for month in range(1,13):\n",
    "    g = sns.barplot(x=['fi_' + elem for elem in t_var_names], \n",
    "                    y=mmean_reg.loc[month-1, ['fi_' + elem for elem in t_var_names]],\n",
    "                    ax=ax[i//4, i%4])\n",
    "    g.set(xticklabels=[])\n",
    "    i += 1\n",
    "plt.legend()\n",
    "plt.show()"
   ]
  },
  {
   "cell_type": "code",
   "execution_count": null,
   "metadata": {},
   "outputs": [],
   "source": [
    "mmean_x = mmean_df[t_var].values\n",
    "mmean_y = mmean_df['log_Value'].values\n",
    "\n",
    "mmean_x = scaler.fit_transform(mmean_x)\n",
    "mmean_y = mmean_y.reshape(-1, 1)\n",
    "mmean_y = scaler.fit_transform(mmean_y)\n",
    "\n",
    "reg.fit(mmean_x, mmean_y)\n",
    "get_cv(reg, mmean_x, mmean_y, splits=10, reshape=True)"
   ]
  },
  {
   "cell_type": "code",
   "execution_count": null,
   "metadata": {},
   "outputs": [],
   "source": [
    "reg.coef_"
   ]
  },
  {
   "cell_type": "code",
   "execution_count": null,
   "metadata": {},
   "outputs": [],
   "source": [
    "get_importance(reg, mmean_x, mmean_y, t_var, method='neg_mean_squared_error')"
   ]
  }
 ],
 "metadata": {
  "interpreter": {
   "hash": "203d01a3458eace725dddcfcdb2c604435d077f4f6685c100707a5d3f77ea293"
  },
  "kernelspec": {
   "display_name": "Python 3.8.10 64-bit ('sds2021': conda)",
   "language": "python",
   "name": "python3"
  },
  "language_info": {
   "codemirror_mode": {
    "name": "ipython",
    "version": 3
   },
   "file_extension": ".py",
   "mimetype": "text/x-python",
   "name": "python",
   "nbconvert_exporter": "python",
   "pygments_lexer": "ipython3",
   "version": "3.8.10"
  },
  "orig_nbformat": 4
 },
 "nbformat": 4,
 "nbformat_minor": 2
}
