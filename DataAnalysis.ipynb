{
 "cells": [
  {
   "cell_type": "code",
   "execution_count": 1,
   "metadata": {},
   "outputs": [],
   "source": [
    "import pandas as pd\n",
    "import geopandas as gpd\n",
    "import matplotlib.pyplot as plt\n",
    "\n",
    "import numpy as np\n",
    "from spreg import OLS\n",
    "import statsmodels.api as sm"
   ]
  },
  {
   "cell_type": "code",
   "execution_count": 2,
   "metadata": {},
   "outputs": [],
   "source": [
    "# Read in all the data\n",
    "\n",
    "AQMS_df=pd.read_csv('data/hourly.csv')\n",
    "Rd_gdf=gpd.read_file('data/london_Road.shp')\n",
    "Gsp_gdf=gpd.read_file('data/LD_GreenSpace.shp')\n",
    "loc_gdf=gpd.read_file('data/AQMS_loc.shp')\n",
    "cond=pd.read_csv('data/cond_hourly.csv')"
   ]
  },
  {
   "cell_type": "code",
   "execution_count": 3,
   "metadata": {},
   "outputs": [
    {
     "name": "stdout",
     "output_type": "stream",
     "text": [
      "<class 'pandas.core.frame.DataFrame'>\n",
      "RangeIndex: 183960 entries, 0 to 183959\n",
      "Data columns (total 3 columns):\n",
      " #   Column    Non-Null Count   Dtype  \n",
      "---  ------    --------------   -----  \n",
      " 0   Site      183960 non-null  object \n",
      " 1   Value     183960 non-null  float64\n",
      " 2   DateTime  183960 non-null  object \n",
      "dtypes: float64(1), object(2)\n",
      "memory usage: 4.2+ MB\n"
     ]
    }
   ],
   "source": [
    "AQMS_df.info()"
   ]
  },
  {
   "cell_type": "code",
   "execution_count": 4,
   "metadata": {},
   "outputs": [
    {
     "name": "stdout",
     "output_type": "stream",
     "text": [
      "<class 'geopandas.geodataframe.GeoDataFrame'>\n",
      "RangeIndex: 209201 entries, 0 to 209200\n",
      "Data columns (total 20 columns):\n",
      " #   Column      Non-Null Count   Dtype   \n",
      "---  ------      --------------   -----   \n",
      " 0   fictitious  209201 non-null  object  \n",
      " 1   identifier  209201 non-null  object  \n",
      " 2   class       209201 non-null  object  \n",
      " 3   roadNumber  32375 non-null   object  \n",
      " 4   name1       172339 non-null  object  \n",
      " 5   name1_lang  0 non-null       object  \n",
      " 6   name2       0 non-null       object  \n",
      " 7   name2_lang  0 non-null       object  \n",
      " 8   formOfWay   209201 non-null  object  \n",
      " 9   length      209201 non-null  int64   \n",
      " 10  primary     209201 non-null  object  \n",
      " 11  trunkRoad   209201 non-null  object  \n",
      " 12  loop        209201 non-null  object  \n",
      " 13  startNode   209201 non-null  object  \n",
      " 14  endNode     209201 non-null  object  \n",
      " 15  structure   93 non-null      object  \n",
      " 16  nameTOID    172339 non-null  object  \n",
      " 17  numberTOID  32375 non-null   object  \n",
      " 18  function    209201 non-null  object  \n",
      " 19  geometry    209201 non-null  geometry\n",
      "dtypes: geometry(1), int64(1), object(18)\n",
      "memory usage: 31.9+ MB\n"
     ]
    }
   ],
   "source": [
    "Rd_gdf.info()"
   ]
  },
  {
   "cell_type": "code",
   "execution_count": 5,
   "metadata": {},
   "outputs": [
    {
     "name": "stdout",
     "output_type": "stream",
     "text": [
      "<class 'geopandas.geodataframe.GeoDataFrame'>\n",
      "RangeIndex: 10021 entries, 0 to 10020\n",
      "Data columns (total 6 columns):\n",
      " #   Column     Non-Null Count  Dtype   \n",
      "---  ------     --------------  -----   \n",
      " 0   function   10021 non-null  object  \n",
      " 1   distName1  2679 non-null   object  \n",
      " 2   distName2  11 non-null     object  \n",
      " 3   distName3  0 non-null      object  \n",
      " 4   distName4  0 non-null      object  \n",
      " 5   geometry   10021 non-null  geometry\n",
      "dtypes: geometry(1), object(5)\n",
      "memory usage: 469.9+ KB\n"
     ]
    }
   ],
   "source": [
    "Gsp_gdf.info()"
   ]
  },
  {
   "cell_type": "code",
   "execution_count": 6,
   "metadata": {},
   "outputs": [
    {
     "name": "stdout",
     "output_type": "stream",
     "text": [
      "<class 'geopandas.geodataframe.GeoDataFrame'>\n",
      "RangeIndex: 21 entries, 0 to 20\n",
      "Data columns (total 3 columns):\n",
      " #   Column    Non-Null Count  Dtype   \n",
      "---  ------    --------------  -----   \n",
      " 0   siteid    21 non-null     object  \n",
      " 1   sitename  21 non-null     object  \n",
      " 2   geometry  21 non-null     geometry\n",
      "dtypes: geometry(1), object(2)\n",
      "memory usage: 632.0+ bytes\n"
     ]
    }
   ],
   "source": [
    "loc_gdf.info()"
   ]
  },
  {
   "cell_type": "code",
   "execution_count": 7,
   "metadata": {},
   "outputs": [
    {
     "name": "stdout",
     "output_type": "stream",
     "text": [
      "<class 'pandas.core.frame.DataFrame'>\n",
      "RangeIndex: 8760 entries, 0 to 8759\n",
      "Data columns (total 4 columns):\n",
      " #   Column    Non-Null Count  Dtype  \n",
      "---  ------    --------------  -----  \n",
      " 0   bp_mean   8760 non-null   float64\n",
      " 1   tmp_mean  8760 non-null   float64\n",
      " 2   rh_mean   8760 non-null   float64\n",
      " 3   DateTime  8760 non-null   object \n",
      "dtypes: float64(3), object(1)\n",
      "memory usage: 273.9+ KB\n"
     ]
    }
   ],
   "source": [
    "cond.info()"
   ]
  },
  {
   "cell_type": "code",
   "execution_count": 8,
   "metadata": {},
   "outputs": [],
   "source": [
    "site_name=AQMS_df['Site'].unique().tolist()"
   ]
  },
  {
   "cell_type": "code",
   "execution_count": 9,
   "metadata": {},
   "outputs": [
    {
     "data": {
      "text/html": [
       "<div>\n",
       "<style scoped>\n",
       "    .dataframe tbody tr th:only-of-type {\n",
       "        vertical-align: middle;\n",
       "    }\n",
       "\n",
       "    .dataframe tbody tr th {\n",
       "        vertical-align: top;\n",
       "    }\n",
       "\n",
       "    .dataframe thead th {\n",
       "        text-align: right;\n",
       "    }\n",
       "</style>\n",
       "<table border=\"1\" class=\"dataframe\">\n",
       "  <thead>\n",
       "    <tr style=\"text-align: right;\">\n",
       "      <th></th>\n",
       "      <th>Value</th>\n",
       "      <th>bp_mean</th>\n",
       "      <th>tmp_mean</th>\n",
       "      <th>rh_mean</th>\n",
       "    </tr>\n",
       "  </thead>\n",
       "  <tbody>\n",
       "    <tr>\n",
       "      <th>Value</th>\n",
       "      <td>1.000000</td>\n",
       "      <td>0.199784</td>\n",
       "      <td>-0.146961</td>\n",
       "      <td>0.052059</td>\n",
       "    </tr>\n",
       "    <tr>\n",
       "      <th>bp_mean</th>\n",
       "      <td>0.199784</td>\n",
       "      <td>1.000000</td>\n",
       "      <td>0.027207</td>\n",
       "      <td>-0.224058</td>\n",
       "    </tr>\n",
       "    <tr>\n",
       "      <th>tmp_mean</th>\n",
       "      <td>-0.146961</td>\n",
       "      <td>0.027207</td>\n",
       "      <td>1.000000</td>\n",
       "      <td>-0.570867</td>\n",
       "    </tr>\n",
       "    <tr>\n",
       "      <th>rh_mean</th>\n",
       "      <td>0.052059</td>\n",
       "      <td>-0.224058</td>\n",
       "      <td>-0.570867</td>\n",
       "      <td>1.000000</td>\n",
       "    </tr>\n",
       "  </tbody>\n",
       "</table>\n",
       "</div>"
      ],
      "text/plain": [
       "             Value   bp_mean  tmp_mean   rh_mean\n",
       "Value     1.000000  0.199784 -0.146961  0.052059\n",
       "bp_mean   0.199784  1.000000  0.027207 -0.224058\n",
       "tmp_mean -0.146961  0.027207  1.000000 -0.570867\n",
       "rh_mean   0.052059 -0.224058 -0.570867  1.000000"
      ]
     },
     "execution_count": 9,
     "metadata": {},
     "output_type": "execute_result"
    }
   ],
   "source": [
    "AQMS_df.merge(cond,how='left',on='DateTime').corr()"
   ]
  },
  {
   "cell_type": "code",
   "execution_count": 11,
   "metadata": {},
   "outputs": [
    {
     "data": {
      "text/plain": [
       "array([[1028.75      ,    9.58314999,   75.24258515],\n",
       "       [1028.75      ,    9.58314999,   75.24258515],\n",
       "       [1028.75      ,    9.58314999,   74.57591848],\n",
       "       ...,\n",
       "       [1025.75      ,    7.2       ,   93.        ],\n",
       "       [1025.75      ,    6.        ,   94.66666667],\n",
       "       [1025.25      ,    4.6       ,   95.        ]])"
      ]
     },
     "execution_count": 11,
     "metadata": {},
     "output_type": "execute_result"
    }
   ],
   "source": [
    "cond[['bp_mean','tmp_mean','rh_mean']].values"
   ]
  },
  {
   "cell_type": "code",
   "execution_count": 24,
   "metadata": {},
   "outputs": [
    {
     "name": "stdout",
     "output_type": "stream",
     "text": [
      "(183960, 3) (183960,)\n"
     ]
    }
   ],
   "source": [
    "Y=AQMS_df['Value'].values\n",
    "X=np.tile(cond[['bp_mean','tmp_mean','rh_mean']].values,(21,1))\n",
    "print(X.shape,Y.shape)"
   ]
  },
  {
   "cell_type": "code",
   "execution_count": 26,
   "metadata": {},
   "outputs": [
    {
     "data": {
      "text/html": [
       "<table class=\"simpletable\">\n",
       "<caption>OLS Regression Results</caption>\n",
       "<tr>\n",
       "  <th>Dep. Variable:</th>            <td>y</td>        <th>  R-squared (uncentered):</th>       <td>   0.569</td>  \n",
       "</tr>\n",
       "<tr>\n",
       "  <th>Model:</th>                   <td>OLS</td>       <th>  Adj. R-squared (uncentered):</th>  <td>   0.569</td>  \n",
       "</tr>\n",
       "<tr>\n",
       "  <th>Method:</th>             <td>Least Squares</td>  <th>  F-statistic:       </th>           <td>8.103e+04</td> \n",
       "</tr>\n",
       "<tr>\n",
       "  <th>Date:</th>             <td>Tue, 01 Mar 2022</td> <th>  Prob (F-statistic):</th>            <td>  0.00</td>   \n",
       "</tr>\n",
       "<tr>\n",
       "  <th>Time:</th>                 <td>08:40:41</td>     <th>  Log-Likelihood:    </th>          <td>-6.9042e+05</td>\n",
       "</tr>\n",
       "<tr>\n",
       "  <th>No. Observations:</th>      <td>183960</td>      <th>  AIC:               </th>           <td>1.381e+06</td> \n",
       "</tr>\n",
       "<tr>\n",
       "  <th>Df Residuals:</th>          <td>183957</td>      <th>  BIC:               </th>           <td>1.381e+06</td> \n",
       "</tr>\n",
       "<tr>\n",
       "  <th>Df Model:</th>              <td>     3</td>      <th>                     </th>               <td> </td>     \n",
       "</tr>\n",
       "<tr>\n",
       "  <th>Covariance Type:</th>      <td>nonrobust</td>    <th>                     </th>               <td> </td>     \n",
       "</tr>\n",
       "</table>\n",
       "<table class=\"simpletable\">\n",
       "<tr>\n",
       "   <td></td>     <th>coef</th>     <th>std err</th>      <th>t</th>      <th>P>|t|</th>  <th>[0.025</th>    <th>0.975]</th>  \n",
       "</tr>\n",
       "<tr>\n",
       "  <th>x1</th> <td>    0.0187</td> <td>    0.000</td> <td>  103.250</td> <td> 0.000</td> <td>    0.018</td> <td>    0.019</td>\n",
       "</tr>\n",
       "<tr>\n",
       "  <th>x2</th> <td>   -0.3361</td> <td>    0.005</td> <td>  -67.010</td> <td> 0.000</td> <td>   -0.346</td> <td>   -0.326</td>\n",
       "</tr>\n",
       "<tr>\n",
       "  <th>x3</th> <td>   -0.0385</td> <td>    0.002</td> <td>  -21.582</td> <td> 0.000</td> <td>   -0.042</td> <td>   -0.035</td>\n",
       "</tr>\n",
       "</table>\n",
       "<table class=\"simpletable\">\n",
       "<tr>\n",
       "  <th>Omnibus:</th>       <td>234870.942</td> <th>  Durbin-Watson:     </th>   <td>   0.289</td>   \n",
       "</tr>\n",
       "<tr>\n",
       "  <th>Prob(Omnibus):</th>   <td> 0.000</td>   <th>  Jarque-Bera (JB):  </th> <td>346510017.774</td>\n",
       "</tr>\n",
       "<tr>\n",
       "  <th>Skew:</th>            <td> 6.280</td>   <th>  Prob(JB):          </th>   <td>    0.00</td>   \n",
       "</tr>\n",
       "<tr>\n",
       "  <th>Kurtosis:</th>        <td>215.248</td>  <th>  Cond. No.          </th>   <td>    215.</td>   \n",
       "</tr>\n",
       "</table><br/><br/>Notes:<br/>[1] R² is computed without centering (uncentered) since the model does not contain a constant.<br/>[2] Standard Errors assume that the covariance matrix of the errors is correctly specified."
      ],
      "text/plain": [
       "<class 'statsmodels.iolib.summary.Summary'>\n",
       "\"\"\"\n",
       "                                 OLS Regression Results                                \n",
       "=======================================================================================\n",
       "Dep. Variable:                      y   R-squared (uncentered):                   0.569\n",
       "Model:                            OLS   Adj. R-squared (uncentered):              0.569\n",
       "Method:                 Least Squares   F-statistic:                          8.103e+04\n",
       "Date:                Tue, 01 Mar 2022   Prob (F-statistic):                        0.00\n",
       "Time:                        08:40:41   Log-Likelihood:                     -6.9042e+05\n",
       "No. Observations:              183960   AIC:                                  1.381e+06\n",
       "Df Residuals:                  183957   BIC:                                  1.381e+06\n",
       "Df Model:                           3                                                  \n",
       "Covariance Type:            nonrobust                                                  \n",
       "==============================================================================\n",
       "                 coef    std err          t      P>|t|      [0.025      0.975]\n",
       "------------------------------------------------------------------------------\n",
       "x1             0.0187      0.000    103.250      0.000       0.018       0.019\n",
       "x2            -0.3361      0.005    -67.010      0.000      -0.346      -0.326\n",
       "x3            -0.0385      0.002    -21.582      0.000      -0.042      -0.035\n",
       "==============================================================================\n",
       "Omnibus:                   234870.942   Durbin-Watson:                   0.289\n",
       "Prob(Omnibus):                  0.000   Jarque-Bera (JB):        346510017.774\n",
       "Skew:                           6.280   Prob(JB):                         0.00\n",
       "Kurtosis:                     215.248   Cond. No.                         215.\n",
       "==============================================================================\n",
       "\n",
       "Notes:\n",
       "[1] R² is computed without centering (uncentered) since the model does not contain a constant.\n",
       "[2] Standard Errors assume that the covariance matrix of the errors is correctly specified.\n",
       "\"\"\""
      ]
     },
     "execution_count": 26,
     "metadata": {},
     "output_type": "execute_result"
    }
   ],
   "source": [
    "m_multi=sm.OLS(Y,X)\n",
    "m_multi_fit=m_multi.fit()\n",
    "m_multi_fit.summary()"
   ]
  },
  {
   "cell_type": "code",
   "execution_count": 27,
   "metadata": {},
   "outputs": [
    {
     "data": {
      "text/html": [
       "<div>\n",
       "<style scoped>\n",
       "    .dataframe tbody tr th:only-of-type {\n",
       "        vertical-align: middle;\n",
       "    }\n",
       "\n",
       "    .dataframe tbody tr th {\n",
       "        vertical-align: top;\n",
       "    }\n",
       "\n",
       "    .dataframe thead th {\n",
       "        text-align: right;\n",
       "    }\n",
       "</style>\n",
       "<table border=\"1\" class=\"dataframe\">\n",
       "  <thead>\n",
       "    <tr style=\"text-align: right;\">\n",
       "      <th></th>\n",
       "      <th>sitename</th>\n",
       "      <th>geometry</th>\n",
       "      <th>buffer_1km</th>\n",
       "    </tr>\n",
       "    <tr>\n",
       "      <th>siteid</th>\n",
       "      <th></th>\n",
       "      <th></th>\n",
       "      <th></th>\n",
       "    </tr>\n",
       "  </thead>\n",
       "  <tbody>\n",
       "    <tr>\n",
       "      <th>BX9</th>\n",
       "      <td>Bexley - Slade Green FDMS</td>\n",
       "      <td>POINT (551862.205 176375.976)</td>\n",
       "      <td>POLYGON ((552862.205 176375.976, 552857.390 17...</td>\n",
       "    </tr>\n",
       "    <tr>\n",
       "      <th>BL0</th>\n",
       "      <td>Camden - Bloomsbury</td>\n",
       "      <td>POINT (530120.048 182038.807)</td>\n",
       "      <td>POLYGON ((531120.048 182038.807, 531115.233 18...</td>\n",
       "    </tr>\n",
       "    <tr>\n",
       "      <th>CD9</th>\n",
       "      <td>Camden - Euston Road</td>\n",
       "      <td>POINT (529900.870 182666.124)</td>\n",
       "      <td>POLYGON ((530900.870 182666.124, 530896.055 18...</td>\n",
       "    </tr>\n",
       "    <tr>\n",
       "      <th>CD1</th>\n",
       "      <td>Camden - Swiss Cottage</td>\n",
       "      <td>POINT (526629.730 184391.024)</td>\n",
       "      <td>POLYGON ((527629.730 184391.024, 527624.915 18...</td>\n",
       "    </tr>\n",
       "    <tr>\n",
       "      <th>CT2</th>\n",
       "      <td>City of London - Farringdon Street</td>\n",
       "      <td>POINT (531622.273 181213.818)</td>\n",
       "      <td>POLYGON ((532622.273 181213.818, 532617.458 18...</td>\n",
       "    </tr>\n",
       "  </tbody>\n",
       "</table>\n",
       "</div>"
      ],
      "text/plain": [
       "                                  sitename                       geometry  \\\n",
       "siteid                                                                      \n",
       "BX9              Bexley - Slade Green FDMS  POINT (551862.205 176375.976)   \n",
       "BL0                    Camden - Bloomsbury  POINT (530120.048 182038.807)   \n",
       "CD9                   Camden - Euston Road  POINT (529900.870 182666.124)   \n",
       "CD1                 Camden - Swiss Cottage  POINT (526629.730 184391.024)   \n",
       "CT2     City of London - Farringdon Street  POINT (531622.273 181213.818)   \n",
       "\n",
       "                                               buffer_1km  \n",
       "siteid                                                     \n",
       "BX9     POLYGON ((552862.205 176375.976, 552857.390 17...  \n",
       "BL0     POLYGON ((531120.048 182038.807, 531115.233 18...  \n",
       "CD9     POLYGON ((530900.870 182666.124, 530896.055 18...  \n",
       "CD1     POLYGON ((527629.730 184391.024, 527624.915 18...  \n",
       "CT2     POLYGON ((532622.273 181213.818, 532617.458 18...  "
      ]
     },
     "execution_count": 27,
     "metadata": {},
     "output_type": "execute_result"
    }
   ],
   "source": [
    "# reindex loc_gdf and set buffer zones around each site (1km)\n",
    "\n",
    "loc_gdf=loc_gdf.set_index('siteid')\n",
    "loc_gdf['buffer_1km']=loc_gdf['geometry'].buffer(1000)\n",
    "loc_gdf.head()"
   ]
  },
  {
   "cell_type": "code",
   "execution_count": 28,
   "metadata": {},
   "outputs": [],
   "source": [
    "# Get all green spaces\n",
    "\n",
    "Gsp=Gsp_gdf['geometry'].unary_union"
   ]
  },
  {
   "cell_type": "code",
   "execution_count": 29,
   "metadata": {},
   "outputs": [],
   "source": [
    "# Set buffer zones for every road (50m)\n",
    "\n",
    "Rd_gdf['buffer_50m']=Rd_gdf['geometry'].buffer(50)"
   ]
  },
  {
   "cell_type": "code",
   "execution_count": 30,
   "metadata": {},
   "outputs": [],
   "source": [
    "# Get all roads\n",
    "Rd=Rd_gdf['geometry'].unary_union"
   ]
  },
  {
   "cell_type": "code",
   "execution_count": 31,
   "metadata": {},
   "outputs": [],
   "source": [
    "# Get all road buffer zones\n",
    "\n",
    "Rd_buffer=Rd_gdf['buffer_50m'].unary_union"
   ]
  },
  {
   "cell_type": "code",
   "execution_count": 32,
   "metadata": {},
   "outputs": [],
   "source": [
    "# Get all near-road green spaces\n",
    "\n",
    "nRd_Gsp=Gsp.intersection(Rd_buffer)"
   ]
  },
  {
   "cell_type": "code",
   "execution_count": 33,
   "metadata": {},
   "outputs": [],
   "source": [
    "AQMS_shp=[]\n",
    "for site in loc_gdf.index:\n",
    "    AQMS_shp.append(loc_gdf.loc[site,'buffer_1km'])"
   ]
  },
  {
   "cell_type": "code",
   "execution_count": 34,
   "metadata": {},
   "outputs": [
    {
     "name": "stdout",
     "output_type": "stream",
     "text": [
      "21 21 21\n"
     ]
    }
   ],
   "source": [
    "Rd_shp=[]\n",
    "Gsp_shp=[]\n",
    "nRd_Gsp_shp=[]\n",
    "for poly in AQMS_shp:\n",
    "    Rd_shp.append(poly.intersection(Rd))\n",
    "    Gsp_shp.append(poly.intersection(Gsp))\n",
    "    nRd_Gsp_shp.append(poly.intersection(nRd_Gsp))\n",
    "print(len(Rd_shp),len(Gsp_shp),len(nRd_Gsp_shp))"
   ]
  },
  {
   "cell_type": "code",
   "execution_count": 35,
   "metadata": {},
   "outputs": [
    {
     "data": {
      "text/html": [
       "<div>\n",
       "<style scoped>\n",
       "    .dataframe tbody tr th:only-of-type {\n",
       "        vertical-align: middle;\n",
       "    }\n",
       "\n",
       "    .dataframe tbody tr th {\n",
       "        vertical-align: top;\n",
       "    }\n",
       "\n",
       "    .dataframe thead th {\n",
       "        text-align: right;\n",
       "    }\n",
       "</style>\n",
       "<table border=\"1\" class=\"dataframe\">\n",
       "  <thead>\n",
       "    <tr style=\"text-align: right;\">\n",
       "      <th></th>\n",
       "      <th>sitename</th>\n",
       "      <th>geometry</th>\n",
       "      <th>buffer_1km</th>\n",
       "      <th>Road</th>\n",
       "      <th>GreenSpace</th>\n",
       "      <th>NR_GreenSpace</th>\n",
       "    </tr>\n",
       "    <tr>\n",
       "      <th>siteid</th>\n",
       "      <th></th>\n",
       "      <th></th>\n",
       "      <th></th>\n",
       "      <th></th>\n",
       "      <th></th>\n",
       "      <th></th>\n",
       "    </tr>\n",
       "  </thead>\n",
       "  <tbody>\n",
       "    <tr>\n",
       "      <th>BX9</th>\n",
       "      <td>Bexley - Slade Green FDMS</td>\n",
       "      <td>POINT (551862.205 176375.976)</td>\n",
       "      <td>POLYGON ((552862.205 176375.976, 552857.390 17...</td>\n",
       "      <td>MULTILINESTRING Z ((552075.170 175434.690 0.00...</td>\n",
       "      <td>MULTIPOLYGON Z (((551286.362 175559.542 0.000,...</td>\n",
       "      <td>MULTIPOLYGON Z (((551286.362 175559.542 0.000,...</td>\n",
       "    </tr>\n",
       "    <tr>\n",
       "      <th>BL0</th>\n",
       "      <td>Camden - Bloomsbury</td>\n",
       "      <td>POINT (530120.048 182038.807)</td>\n",
       "      <td>POLYGON ((531120.048 182038.807, 531115.233 18...</td>\n",
       "      <td>MULTILINESTRING Z ((530175.051 181041.510 0.00...</td>\n",
       "      <td>MULTIPOLYGON Z (((530885.507 181396.082 0.000,...</td>\n",
       "      <td>MULTIPOLYGON Z (((530885.507 181396.082 0.000,...</td>\n",
       "    </tr>\n",
       "    <tr>\n",
       "      <th>CD9</th>\n",
       "      <td>Camden - Euston Road</td>\n",
       "      <td>POINT (529900.870 182666.124)</td>\n",
       "      <td>POLYGON ((530900.870 182666.124, 530896.055 18...</td>\n",
       "      <td>MULTILINESTRING Z ((529650.665 181699.144 0.00...</td>\n",
       "      <td>MULTIPOLYGON Z (((530446.501 181828.697 0.000,...</td>\n",
       "      <td>MULTIPOLYGON Z (((530446.501 181828.697 0.000,...</td>\n",
       "    </tr>\n",
       "    <tr>\n",
       "      <th>CD1</th>\n",
       "      <td>Camden - Swiss Cottage</td>\n",
       "      <td>POINT (526629.730 184391.024)</td>\n",
       "      <td>POLYGON ((527629.730 184391.024, 527624.915 18...</td>\n",
       "      <td>MULTILINESTRING Z ((526806.590 183407.535 0.00...</td>\n",
       "      <td>MULTIPOLYGON Z (((527584.073 184093.479 0.000,...</td>\n",
       "      <td>MULTIPOLYGON Z (((527584.073 184093.479 0.000,...</td>\n",
       "    </tr>\n",
       "    <tr>\n",
       "      <th>CT2</th>\n",
       "      <td>City of London - Farringdon Street</td>\n",
       "      <td>POINT (531622.273 181213.818)</td>\n",
       "      <td>POLYGON ((532622.273 181213.818, 532617.458 18...</td>\n",
       "      <td>MULTILINESTRING Z ((531654.940 180215.423 0.00...</td>\n",
       "      <td>MULTIPOLYGON Z (((531473.204 182201.430 0.000,...</td>\n",
       "      <td>MULTIPOLYGON Z (((531473.204 182201.430 0.000,...</td>\n",
       "    </tr>\n",
       "    <tr>\n",
       "      <th>CT3</th>\n",
       "      <td>City of London - Sir John Cass School</td>\n",
       "      <td>POINT (533480.243 181186.837)</td>\n",
       "      <td>POLYGON ((534480.243 181186.837, 534475.427 18...</td>\n",
       "      <td>MULTILINESTRING Z ((533123.210 180253.779 0.00...</td>\n",
       "      <td>MULTIPOLYGON Z (((534480.226 181186.502 0.000,...</td>\n",
       "      <td>MULTIPOLYGON Z (((534480.226 181186.502 0.000,...</td>\n",
       "    </tr>\n",
       "    <tr>\n",
       "      <th>CR8</th>\n",
       "      <td>Croydon - Norbury Manor</td>\n",
       "      <td>POINT (530322.972 169553.770)</td>\n",
       "      <td>POLYGON ((531322.972 169553.770, 531318.157 16...</td>\n",
       "      <td>MULTILINESTRING Z ((530343.828 168554.795 0.00...</td>\n",
       "      <td>MULTIPOLYGON Z (((530029.704 168597.897 0.000,...</td>\n",
       "      <td>MULTIPOLYGON Z (((530029.704 168597.897 0.000,...</td>\n",
       "    </tr>\n",
       "    <tr>\n",
       "      <th>GR4</th>\n",
       "      <td>Greenwich - Eltham</td>\n",
       "      <td>POINT (543978.694 174655.234)</td>\n",
       "      <td>POLYGON ((544978.694 174655.234, 544973.878 17...</td>\n",
       "      <td>MULTILINESTRING Z ((544415.352 173756.882 0.00...</td>\n",
       "      <td>MULTIPOLYGON Z (((544534.534 173823.964 0.000,...</td>\n",
       "      <td>MULTIPOLYGON Z (((544534.534 173823.964 0.000,...</td>\n",
       "    </tr>\n",
       "    <tr>\n",
       "      <th>GB0</th>\n",
       "      <td>Greenwich - Falconwood FDMS</td>\n",
       "      <td>POINT (544997.933 175098.152)</td>\n",
       "      <td>POLYGON ((545997.933 175098.152, 545993.118 17...</td>\n",
       "      <td>MULTILINESTRING Z ((544952.089 174100.404 0.00...</td>\n",
       "      <td>MULTIPOLYGON Z (((545373.964 174171.892 0.000,...</td>\n",
       "      <td>MULTIPOLYGON Z (((545223.244 174124.937 0.000,...</td>\n",
       "    </tr>\n",
       "    <tr>\n",
       "      <th>GN6</th>\n",
       "      <td>Greenwich - John Harrison Way</td>\n",
       "      <td>POINT (539685.230 179119.938)</td>\n",
       "      <td>POLYGON ((540685.230 179119.938, 540680.415 17...</td>\n",
       "      <td>MULTILINESTRING Z ((539715.046 178121.403 0.00...</td>\n",
       "      <td>MULTIPOLYGON Z (((539996.407 178170.473 0.000,...</td>\n",
       "      <td>MULTIPOLYGON Z (((539996.407 178170.473 0.000,...</td>\n",
       "    </tr>\n",
       "    <tr>\n",
       "      <th>GN3</th>\n",
       "      <td>Greenwich - Plumstead High Street</td>\n",
       "      <td>POINT (545560.664 178526.019)</td>\n",
       "      <td>POLYGON ((546560.664 178526.019, 546555.849 17...</td>\n",
       "      <td>MULTILINESTRING Z ((545635.000 177544.000 0.00...</td>\n",
       "      <td>MULTIPOLYGON Z (((545902.127 177587.391 0.000,...</td>\n",
       "      <td>MULTIPOLYGON Z (((545902.127 177587.391 0.000,...</td>\n",
       "    </tr>\n",
       "    <tr>\n",
       "      <th>GR9</th>\n",
       "      <td>Greenwich - Westhorne Avenue</td>\n",
       "      <td>POINT (541879.857 175016.634)</td>\n",
       "      <td>POLYGON ((542879.857 175016.634, 542875.042 17...</td>\n",
       "      <td>MULTILINESTRING Z ((541625.000 174104.000 0.00...</td>\n",
       "      <td>MULTIPOLYGON Z (((541512.360 174087.320 0.000,...</td>\n",
       "      <td>MULTIPOLYGON Z (((541512.360 174087.320 0.000,...</td>\n",
       "    </tr>\n",
       "    <tr>\n",
       "      <th>HV1</th>\n",
       "      <td>Havering - Rainham</td>\n",
       "      <td>POINT (553108.080 182512.846)</td>\n",
       "      <td>POLYGON ((554108.080 182512.846, 554103.265 18...</td>\n",
       "      <td>MULTILINESTRING Z ((553157.014 181515.250 0.00...</td>\n",
       "      <td>MULTIPOLYGON Z (((552196.328 182104.523 0.000,...</td>\n",
       "      <td>MULTIPOLYGON Z (((552196.328 182104.523 0.000,...</td>\n",
       "    </tr>\n",
       "    <tr>\n",
       "      <th>LH0</th>\n",
       "      <td>Hillingdon - Harlington</td>\n",
       "      <td>POINT (508292.938 177798.905)</td>\n",
       "      <td>POLYGON ((509292.938 177798.905, 509288.123 17...</td>\n",
       "      <td>MULTILINESTRING Z ((508483.972 176817.518 0.00...</td>\n",
       "      <td>MULTIPOLYGON Z (((507807.977 178672.696 0.000,...</td>\n",
       "      <td>MULTIPOLYGON Z (((507807.977 178672.696 0.000,...</td>\n",
       "    </tr>\n",
       "    <tr>\n",
       "      <th>KC1</th>\n",
       "      <td>Kensington and Chelsea - North Ken</td>\n",
       "      <td>POINT (524043.377 181748.825)</td>\n",
       "      <td>POLYGON ((525043.377 181748.825, 525038.562 18...</td>\n",
       "      <td>MULTILINESTRING Z ((523936.028 180755.024 0.00...</td>\n",
       "      <td>MULTIPOLYGON Z (((524899.890 181235.036 0.000,...</td>\n",
       "      <td>MULTIPOLYGON Z (((524899.890 181235.036 0.000,...</td>\n",
       "    </tr>\n",
       "    <tr>\n",
       "      <th>HP1</th>\n",
       "      <td>Lewisham - Honor Oak Park</td>\n",
       "      <td>POINT (536471.270 174125.052)</td>\n",
       "      <td>POLYGON ((537471.270 174125.052, 537466.454 17...</td>\n",
       "      <td>MULTILINESTRING Z ((536848.778 173199.321 0.00...</td>\n",
       "      <td>MULTIPOLYGON Z (((535537.541 174480.209 0.000,...</td>\n",
       "      <td>MULTIPOLYGON Z (((535537.541 174480.209 0.000,...</td>\n",
       "    </tr>\n",
       "    <tr>\n",
       "      <th>LW2</th>\n",
       "      <td>Lewisham - New Cross</td>\n",
       "      <td>POINT (536241.365 176932.134)</td>\n",
       "      <td>POLYGON ((537241.365 176932.134, 537236.549 17...</td>\n",
       "      <td>MULTILINESTRING Z ((536173.000 175937.000 0.00...</td>\n",
       "      <td>MULTIPOLYGON Z (((537142.701 176501.787 0.000,...</td>\n",
       "      <td>MULTIPOLYGON Z (((537142.701 176501.787 0.000,...</td>\n",
       "    </tr>\n",
       "    <tr>\n",
       "      <th>TD5</th>\n",
       "      <td>London Teddington Bushy Park</td>\n",
       "      <td>POINT (515118.557 170881.057)</td>\n",
       "      <td>POLYGON ((516118.557 170881.057, 516113.742 17...</td>\n",
       "      <td>MULTILINESTRING Z ((515983.987 170382.147 0.00...</td>\n",
       "      <td>MULTIPOLYGON Z (((515987.970 170388.792 0.000,...</td>\n",
       "      <td>MULTIPOLYGON Z (((515987.970 170388.792 0.000,...</td>\n",
       "    </tr>\n",
       "    <tr>\n",
       "      <th>ST5</th>\n",
       "      <td>Sutton - Beddington Lane north</td>\n",
       "      <td>POINT (529398.283 167221.137)</td>\n",
       "      <td>POLYGON ((530398.283 167221.137, 530393.468 16...</td>\n",
       "      <td>MULTILINESTRING Z ((529569.070 166242.620 0.00...</td>\n",
       "      <td>MULTIPOLYGON Z (((530398.283 167221.137 0.000,...</td>\n",
       "      <td>MULTIPOLYGON Z (((530398.283 167221.137 0.000,...</td>\n",
       "    </tr>\n",
       "    <tr>\n",
       "      <th>TH4</th>\n",
       "      <td>Tower Hamlets - Blackwall</td>\n",
       "      <td>POINT (538288.159 181448.847)</td>\n",
       "      <td>POLYGON ((539288.159 181448.847, 539283.344 18...</td>\n",
       "      <td>MULTILINESTRING Z ((538168.530 180514.000 0.00...</td>\n",
       "      <td>MULTIPOLYGON Z (((537643.124 180685.482 0.000,...</td>\n",
       "      <td>MULTIPOLYGON Z (((537643.124 180685.482 0.000,...</td>\n",
       "    </tr>\n",
       "    <tr>\n",
       "      <th>MY7</th>\n",
       "      <td>Westminster - Marylebone Road FDMS</td>\n",
       "      <td>POINT (528125.458 182016.273)</td>\n",
       "      <td>POLYGON ((529125.458 182016.273, 529120.642 18...</td>\n",
       "      <td>MULTILINESTRING Z ((528055.650 181033.800 0.00...</td>\n",
       "      <td>MULTIPOLYGON Z (((527127.680 181971.043 0.000,...</td>\n",
       "      <td>MULTIPOLYGON Z (((527127.680 181971.043 0.000,...</td>\n",
       "    </tr>\n",
       "  </tbody>\n",
       "</table>\n",
       "</div>"
      ],
      "text/plain": [
       "                                     sitename                       geometry  \\\n",
       "siteid                                                                         \n",
       "BX9                 Bexley - Slade Green FDMS  POINT (551862.205 176375.976)   \n",
       "BL0                       Camden - Bloomsbury  POINT (530120.048 182038.807)   \n",
       "CD9                      Camden - Euston Road  POINT (529900.870 182666.124)   \n",
       "CD1                    Camden - Swiss Cottage  POINT (526629.730 184391.024)   \n",
       "CT2        City of London - Farringdon Street  POINT (531622.273 181213.818)   \n",
       "CT3     City of London - Sir John Cass School  POINT (533480.243 181186.837)   \n",
       "CR8                   Croydon - Norbury Manor  POINT (530322.972 169553.770)   \n",
       "GR4                        Greenwich - Eltham  POINT (543978.694 174655.234)   \n",
       "GB0               Greenwich - Falconwood FDMS  POINT (544997.933 175098.152)   \n",
       "GN6             Greenwich - John Harrison Way  POINT (539685.230 179119.938)   \n",
       "GN3         Greenwich - Plumstead High Street  POINT (545560.664 178526.019)   \n",
       "GR9              Greenwich - Westhorne Avenue  POINT (541879.857 175016.634)   \n",
       "HV1                        Havering - Rainham  POINT (553108.080 182512.846)   \n",
       "LH0                   Hillingdon - Harlington  POINT (508292.938 177798.905)   \n",
       "KC1        Kensington and Chelsea - North Ken  POINT (524043.377 181748.825)   \n",
       "HP1                 Lewisham - Honor Oak Park  POINT (536471.270 174125.052)   \n",
       "LW2                      Lewisham - New Cross  POINT (536241.365 176932.134)   \n",
       "TD5              London Teddington Bushy Park  POINT (515118.557 170881.057)   \n",
       "ST5            Sutton - Beddington Lane north  POINT (529398.283 167221.137)   \n",
       "TH4                 Tower Hamlets - Blackwall  POINT (538288.159 181448.847)   \n",
       "MY7        Westminster - Marylebone Road FDMS  POINT (528125.458 182016.273)   \n",
       "\n",
       "                                               buffer_1km  \\\n",
       "siteid                                                      \n",
       "BX9     POLYGON ((552862.205 176375.976, 552857.390 17...   \n",
       "BL0     POLYGON ((531120.048 182038.807, 531115.233 18...   \n",
       "CD9     POLYGON ((530900.870 182666.124, 530896.055 18...   \n",
       "CD1     POLYGON ((527629.730 184391.024, 527624.915 18...   \n",
       "CT2     POLYGON ((532622.273 181213.818, 532617.458 18...   \n",
       "CT3     POLYGON ((534480.243 181186.837, 534475.427 18...   \n",
       "CR8     POLYGON ((531322.972 169553.770, 531318.157 16...   \n",
       "GR4     POLYGON ((544978.694 174655.234, 544973.878 17...   \n",
       "GB0     POLYGON ((545997.933 175098.152, 545993.118 17...   \n",
       "GN6     POLYGON ((540685.230 179119.938, 540680.415 17...   \n",
       "GN3     POLYGON ((546560.664 178526.019, 546555.849 17...   \n",
       "GR9     POLYGON ((542879.857 175016.634, 542875.042 17...   \n",
       "HV1     POLYGON ((554108.080 182512.846, 554103.265 18...   \n",
       "LH0     POLYGON ((509292.938 177798.905, 509288.123 17...   \n",
       "KC1     POLYGON ((525043.377 181748.825, 525038.562 18...   \n",
       "HP1     POLYGON ((537471.270 174125.052, 537466.454 17...   \n",
       "LW2     POLYGON ((537241.365 176932.134, 537236.549 17...   \n",
       "TD5     POLYGON ((516118.557 170881.057, 516113.742 17...   \n",
       "ST5     POLYGON ((530398.283 167221.137, 530393.468 16...   \n",
       "TH4     POLYGON ((539288.159 181448.847, 539283.344 18...   \n",
       "MY7     POLYGON ((529125.458 182016.273, 529120.642 18...   \n",
       "\n",
       "                                                     Road  \\\n",
       "siteid                                                      \n",
       "BX9     MULTILINESTRING Z ((552075.170 175434.690 0.00...   \n",
       "BL0     MULTILINESTRING Z ((530175.051 181041.510 0.00...   \n",
       "CD9     MULTILINESTRING Z ((529650.665 181699.144 0.00...   \n",
       "CD1     MULTILINESTRING Z ((526806.590 183407.535 0.00...   \n",
       "CT2     MULTILINESTRING Z ((531654.940 180215.423 0.00...   \n",
       "CT3     MULTILINESTRING Z ((533123.210 180253.779 0.00...   \n",
       "CR8     MULTILINESTRING Z ((530343.828 168554.795 0.00...   \n",
       "GR4     MULTILINESTRING Z ((544415.352 173756.882 0.00...   \n",
       "GB0     MULTILINESTRING Z ((544952.089 174100.404 0.00...   \n",
       "GN6     MULTILINESTRING Z ((539715.046 178121.403 0.00...   \n",
       "GN3     MULTILINESTRING Z ((545635.000 177544.000 0.00...   \n",
       "GR9     MULTILINESTRING Z ((541625.000 174104.000 0.00...   \n",
       "HV1     MULTILINESTRING Z ((553157.014 181515.250 0.00...   \n",
       "LH0     MULTILINESTRING Z ((508483.972 176817.518 0.00...   \n",
       "KC1     MULTILINESTRING Z ((523936.028 180755.024 0.00...   \n",
       "HP1     MULTILINESTRING Z ((536848.778 173199.321 0.00...   \n",
       "LW2     MULTILINESTRING Z ((536173.000 175937.000 0.00...   \n",
       "TD5     MULTILINESTRING Z ((515983.987 170382.147 0.00...   \n",
       "ST5     MULTILINESTRING Z ((529569.070 166242.620 0.00...   \n",
       "TH4     MULTILINESTRING Z ((538168.530 180514.000 0.00...   \n",
       "MY7     MULTILINESTRING Z ((528055.650 181033.800 0.00...   \n",
       "\n",
       "                                               GreenSpace  \\\n",
       "siteid                                                      \n",
       "BX9     MULTIPOLYGON Z (((551286.362 175559.542 0.000,...   \n",
       "BL0     MULTIPOLYGON Z (((530885.507 181396.082 0.000,...   \n",
       "CD9     MULTIPOLYGON Z (((530446.501 181828.697 0.000,...   \n",
       "CD1     MULTIPOLYGON Z (((527584.073 184093.479 0.000,...   \n",
       "CT2     MULTIPOLYGON Z (((531473.204 182201.430 0.000,...   \n",
       "CT3     MULTIPOLYGON Z (((534480.226 181186.502 0.000,...   \n",
       "CR8     MULTIPOLYGON Z (((530029.704 168597.897 0.000,...   \n",
       "GR4     MULTIPOLYGON Z (((544534.534 173823.964 0.000,...   \n",
       "GB0     MULTIPOLYGON Z (((545373.964 174171.892 0.000,...   \n",
       "GN6     MULTIPOLYGON Z (((539996.407 178170.473 0.000,...   \n",
       "GN3     MULTIPOLYGON Z (((545902.127 177587.391 0.000,...   \n",
       "GR9     MULTIPOLYGON Z (((541512.360 174087.320 0.000,...   \n",
       "HV1     MULTIPOLYGON Z (((552196.328 182104.523 0.000,...   \n",
       "LH0     MULTIPOLYGON Z (((507807.977 178672.696 0.000,...   \n",
       "KC1     MULTIPOLYGON Z (((524899.890 181235.036 0.000,...   \n",
       "HP1     MULTIPOLYGON Z (((535537.541 174480.209 0.000,...   \n",
       "LW2     MULTIPOLYGON Z (((537142.701 176501.787 0.000,...   \n",
       "TD5     MULTIPOLYGON Z (((515987.970 170388.792 0.000,...   \n",
       "ST5     MULTIPOLYGON Z (((530398.283 167221.137 0.000,...   \n",
       "TH4     MULTIPOLYGON Z (((537643.124 180685.482 0.000,...   \n",
       "MY7     MULTIPOLYGON Z (((527127.680 181971.043 0.000,...   \n",
       "\n",
       "                                            NR_GreenSpace  \n",
       "siteid                                                     \n",
       "BX9     MULTIPOLYGON Z (((551286.362 175559.542 0.000,...  \n",
       "BL0     MULTIPOLYGON Z (((530885.507 181396.082 0.000,...  \n",
       "CD9     MULTIPOLYGON Z (((530446.501 181828.697 0.000,...  \n",
       "CD1     MULTIPOLYGON Z (((527584.073 184093.479 0.000,...  \n",
       "CT2     MULTIPOLYGON Z (((531473.204 182201.430 0.000,...  \n",
       "CT3     MULTIPOLYGON Z (((534480.226 181186.502 0.000,...  \n",
       "CR8     MULTIPOLYGON Z (((530029.704 168597.897 0.000,...  \n",
       "GR4     MULTIPOLYGON Z (((544534.534 173823.964 0.000,...  \n",
       "GB0     MULTIPOLYGON Z (((545223.244 174124.937 0.000,...  \n",
       "GN6     MULTIPOLYGON Z (((539996.407 178170.473 0.000,...  \n",
       "GN3     MULTIPOLYGON Z (((545902.127 177587.391 0.000,...  \n",
       "GR9     MULTIPOLYGON Z (((541512.360 174087.320 0.000,...  \n",
       "HV1     MULTIPOLYGON Z (((552196.328 182104.523 0.000,...  \n",
       "LH0     MULTIPOLYGON Z (((507807.977 178672.696 0.000,...  \n",
       "KC1     MULTIPOLYGON Z (((524899.890 181235.036 0.000,...  \n",
       "HP1     MULTIPOLYGON Z (((535537.541 174480.209 0.000,...  \n",
       "LW2     MULTIPOLYGON Z (((537142.701 176501.787 0.000,...  \n",
       "TD5     MULTIPOLYGON Z (((515987.970 170388.792 0.000,...  \n",
       "ST5     MULTIPOLYGON Z (((530398.283 167221.137 0.000,...  \n",
       "TH4     MULTIPOLYGON Z (((537643.124 180685.482 0.000,...  \n",
       "MY7     MULTIPOLYGON Z (((527127.680 181971.043 0.000,...  "
      ]
     },
     "execution_count": 35,
     "metadata": {},
     "output_type": "execute_result"
    }
   ],
   "source": [
    "loc_gdf['Road']=Rd_shp\n",
    "loc_gdf['GreenSpace']=Gsp_shp\n",
    "loc_gdf['NR_GreenSpace']=nRd_Gsp_shp\n",
    "loc_gdf=loc_gdf.set_geometry('Road').set_geometry('GreenSpace').set_geometry('NR_GreenSpace')\n",
    "loc_gdf"
   ]
  },
  {
   "cell_type": "code",
   "execution_count": 36,
   "metadata": {},
   "outputs": [
    {
     "data": {
      "text/plain": [
       "sitename           object\n",
       "geometry         geometry\n",
       "buffer_1km       geometry\n",
       "Road             geometry\n",
       "GreenSpace       geometry\n",
       "NR_GreenSpace    geometry\n",
       "dtype: object"
      ]
     },
     "execution_count": 36,
     "metadata": {},
     "output_type": "execute_result"
    }
   ],
   "source": [
    "loc_gdf.dtypes"
   ]
  },
  {
   "cell_type": "code",
   "execution_count": 37,
   "metadata": {},
   "outputs": [],
   "source": [
    "london=gpd.read_file('data/london_boundary.shp')"
   ]
  },
  {
   "cell_type": "code",
   "execution_count": 38,
   "metadata": {},
   "outputs": [
    {
     "data": {
      "image/png": "[encoded data removed]",
      "text/plain": [
       "<Figure size 1080x936 with 1 Axes>"
      ]
     },
     "metadata": {
      "needs_background": "light"
     },
     "output_type": "display_data"
    }
   ],
   "source": [
    "fig,ax=plt.subplots(1,figsize=(15,13))\n",
    "\n",
    "london.plot(color='lightgrey',ax=ax)\n",
    "loc_gdf['buffer_1km'].plot(color='silver',ax=ax)\n",
    "loc_gdf['GreenSpace'].plot(label='Green space',color='limegreen',ax=ax)\n",
    "loc_gdf['NR_GreenSpace'].plot(label='Near_road green space',color='darkgreen',ax=ax)\n",
    "loc_gdf['Road'].plot(color='black',label='Road',linewidth=0.1,ax=ax)\n",
    "loc_gdf['geometry'].plot(markersize=5,marker='^',color='blue',label='Air quality monitoring site',ax=ax)\n",
    "\n",
    "ax.axis('off')\n",
    "\n",
    "legend=ax.legend(loc='best',shadow=True,fontsize=15)\n",
    "\n",
    "#plt.savefig('sample1.png',facecolor='black',dpi=500)\n",
    "plt.show()"
   ]
  },
  {
   "cell_type": "code",
   "execution_count": 39,
   "metadata": {},
   "outputs": [],
   "source": [
    "loc_gdf['min_dis']=pd.Series(dtype='float64')\n",
    "for index, row in loc_gdf.iterrows():\n",
    "    dis=[]\n",
    "    for i, v in loc_gdf['geometry'].iteritems():\n",
    "        dis.append(row['geometry'].distance(v))\n",
    "    dis.remove(0)\n",
    "    loc_gdf.loc[index,'min_dis']=min(dis)"
   ]
  },
  {
   "cell_type": "code",
   "execution_count": 40,
   "metadata": {},
   "outputs": [
    {
     "data": {
      "text/html": [
       "<div>\n",
       "<style scoped>\n",
       "    .dataframe tbody tr th:only-of-type {\n",
       "        vertical-align: middle;\n",
       "    }\n",
       "\n",
       "    .dataframe tbody tr th {\n",
       "        vertical-align: top;\n",
       "    }\n",
       "\n",
       "    .dataframe thead th {\n",
       "        text-align: right;\n",
       "    }\n",
       "</style>\n",
       "<table border=\"1\" class=\"dataframe\">\n",
       "  <thead>\n",
       "    <tr style=\"text-align: right;\">\n",
       "      <th></th>\n",
       "      <th>sitename</th>\n",
       "      <th>geometry</th>\n",
       "      <th>buffer_1km</th>\n",
       "      <th>Road</th>\n",
       "      <th>GreenSpace</th>\n",
       "      <th>NR_GreenSpace</th>\n",
       "      <th>min_dis</th>\n",
       "    </tr>\n",
       "    <tr>\n",
       "      <th>siteid</th>\n",
       "      <th></th>\n",
       "      <th></th>\n",
       "      <th></th>\n",
       "      <th></th>\n",
       "      <th></th>\n",
       "      <th></th>\n",
       "      <th></th>\n",
       "    </tr>\n",
       "  </thead>\n",
       "  <tbody>\n",
       "    <tr>\n",
       "      <th>BL0</th>\n",
       "      <td>Camden - Bloomsbury</td>\n",
       "      <td>POINT (530120.048 182038.807)</td>\n",
       "      <td>POLYGON ((531120.048 182038.807, 531115.233 18...</td>\n",
       "      <td>MULTILINESTRING Z ((530175.051 181041.510 0.00...</td>\n",
       "      <td>MULTIPOLYGON Z (((530885.507 181396.082 0.000,...</td>\n",
       "      <td>MULTIPOLYGON Z (((530885.507 181396.082 0.000,...</td>\n",
       "      <td>664.503439</td>\n",
       "    </tr>\n",
       "    <tr>\n",
       "      <th>CD9</th>\n",
       "      <td>Camden - Euston Road</td>\n",
       "      <td>POINT (529900.870 182666.124)</td>\n",
       "      <td>POLYGON ((530900.870 182666.124, 530896.055 18...</td>\n",
       "      <td>MULTILINESTRING Z ((529650.665 181699.144 0.00...</td>\n",
       "      <td>MULTIPOLYGON Z (((530446.501 181828.697 0.000,...</td>\n",
       "      <td>MULTIPOLYGON Z (((530446.501 181828.697 0.000,...</td>\n",
       "      <td>664.503439</td>\n",
       "    </tr>\n",
       "    <tr>\n",
       "      <th>GR4</th>\n",
       "      <td>Greenwich - Eltham</td>\n",
       "      <td>POINT (543978.694 174655.234)</td>\n",
       "      <td>POLYGON ((544978.694 174655.234, 544973.878 17...</td>\n",
       "      <td>MULTILINESTRING Z ((544415.352 173756.882 0.00...</td>\n",
       "      <td>MULTIPOLYGON Z (((544534.534 173823.964 0.000,...</td>\n",
       "      <td>MULTIPOLYGON Z (((544534.534 173823.964 0.000,...</td>\n",
       "      <td>1111.316933</td>\n",
       "    </tr>\n",
       "    <tr>\n",
       "      <th>GB0</th>\n",
       "      <td>Greenwich - Falconwood FDMS</td>\n",
       "      <td>POINT (544997.933 175098.152)</td>\n",
       "      <td>POLYGON ((545997.933 175098.152, 545993.118 17...</td>\n",
       "      <td>MULTILINESTRING Z ((544952.089 174100.404 0.00...</td>\n",
       "      <td>MULTIPOLYGON Z (((545373.964 174171.892 0.000,...</td>\n",
       "      <td>MULTIPOLYGON Z (((545223.244 174124.937 0.000,...</td>\n",
       "      <td>1111.316933</td>\n",
       "    </tr>\n",
       "  </tbody>\n",
       "</table>\n",
       "</div>"
      ],
      "text/plain": [
       "                           sitename                       geometry  \\\n",
       "siteid                                                               \n",
       "BL0             Camden - Bloomsbury  POINT (530120.048 182038.807)   \n",
       "CD9            Camden - Euston Road  POINT (529900.870 182666.124)   \n",
       "GR4              Greenwich - Eltham  POINT (543978.694 174655.234)   \n",
       "GB0     Greenwich - Falconwood FDMS  POINT (544997.933 175098.152)   \n",
       "\n",
       "                                               buffer_1km  \\\n",
       "siteid                                                      \n",
       "BL0     POLYGON ((531120.048 182038.807, 531115.233 18...   \n",
       "CD9     POLYGON ((530900.870 182666.124, 530896.055 18...   \n",
       "GR4     POLYGON ((544978.694 174655.234, 544973.878 17...   \n",
       "GB0     POLYGON ((545997.933 175098.152, 545993.118 17...   \n",
       "\n",
       "                                                     Road  \\\n",
       "siteid                                                      \n",
       "BL0     MULTILINESTRING Z ((530175.051 181041.510 0.00...   \n",
       "CD9     MULTILINESTRING Z ((529650.665 181699.144 0.00...   \n",
       "GR4     MULTILINESTRING Z ((544415.352 173756.882 0.00...   \n",
       "GB0     MULTILINESTRING Z ((544952.089 174100.404 0.00...   \n",
       "\n",
       "                                               GreenSpace  \\\n",
       "siteid                                                      \n",
       "BL0     MULTIPOLYGON Z (((530885.507 181396.082 0.000,...   \n",
       "CD9     MULTIPOLYGON Z (((530446.501 181828.697 0.000,...   \n",
       "GR4     MULTIPOLYGON Z (((544534.534 173823.964 0.000,...   \n",
       "GB0     MULTIPOLYGON Z (((545373.964 174171.892 0.000,...   \n",
       "\n",
       "                                            NR_GreenSpace      min_dis  \n",
       "siteid                                                                  \n",
       "BL0     MULTIPOLYGON Z (((530885.507 181396.082 0.000,...   664.503439  \n",
       "CD9     MULTIPOLYGON Z (((530446.501 181828.697 0.000,...   664.503439  \n",
       "GR4     MULTIPOLYGON Z (((544534.534 173823.964 0.000,...  1111.316933  \n",
       "GB0     MULTIPOLYGON Z (((545223.244 174124.937 0.000,...  1111.316933  "
      ]
     },
     "execution_count": 40,
     "metadata": {},
     "output_type": "execute_result"
    }
   ],
   "source": [
    "loc_gdf[loc_gdf['min_dis']<=1500]"
   ]
  },
  {
   "cell_type": "code",
   "execution_count": 41,
   "metadata": {},
   "outputs": [
    {
     "data": {
      "text/html": [
       "<div>\n",
       "<style scoped>\n",
       "    .dataframe tbody tr th:only-of-type {\n",
       "        vertical-align: middle;\n",
       "    }\n",
       "\n",
       "    .dataframe tbody tr th {\n",
       "        vertical-align: top;\n",
       "    }\n",
       "\n",
       "    .dataframe thead tr th {\n",
       "        text-align: left;\n",
       "    }\n",
       "\n",
       "    .dataframe thead tr:last-of-type th {\n",
       "        text-align: right;\n",
       "    }\n",
       "</style>\n",
       "<table border=\"1\" class=\"dataframe\">\n",
       "  <thead>\n",
       "    <tr>\n",
       "      <th></th>\n",
       "      <th colspan=\"8\" halign=\"left\">Value</th>\n",
       "    </tr>\n",
       "    <tr>\n",
       "      <th></th>\n",
       "      <th>count</th>\n",
       "      <th>mean</th>\n",
       "      <th>std</th>\n",
       "      <th>min</th>\n",
       "      <th>25%</th>\n",
       "      <th>50%</th>\n",
       "      <th>75%</th>\n",
       "      <th>max</th>\n",
       "    </tr>\n",
       "    <tr>\n",
       "      <th>Site</th>\n",
       "      <th></th>\n",
       "      <th></th>\n",
       "      <th></th>\n",
       "      <th></th>\n",
       "      <th></th>\n",
       "      <th></th>\n",
       "      <th></th>\n",
       "      <th></th>\n",
       "    </tr>\n",
       "  </thead>\n",
       "  <tbody>\n",
       "    <tr>\n",
       "      <th>BL0</th>\n",
       "      <td>8760.0</td>\n",
       "      <td>10.773266</td>\n",
       "      <td>9.996294</td>\n",
       "      <td>-3.3</td>\n",
       "      <td>4.8</td>\n",
       "      <td>7.8</td>\n",
       "      <td>12.425</td>\n",
       "      <td>92.4</td>\n",
       "    </tr>\n",
       "    <tr>\n",
       "      <th>CD9</th>\n",
       "      <td>8760.0</td>\n",
       "      <td>13.636306</td>\n",
       "      <td>10.394547</td>\n",
       "      <td>-7.3</td>\n",
       "      <td>7.2</td>\n",
       "      <td>11.0</td>\n",
       "      <td>16.300</td>\n",
       "      <td>83.9</td>\n",
       "    </tr>\n",
       "    <tr>\n",
       "      <th>GB0</th>\n",
       "      <td>8760.0</td>\n",
       "      <td>12.170311</td>\n",
       "      <td>8.973293</td>\n",
       "      <td>-1.2</td>\n",
       "      <td>6.8</td>\n",
       "      <td>9.5</td>\n",
       "      <td>14.000</td>\n",
       "      <td>79.8</td>\n",
       "    </tr>\n",
       "    <tr>\n",
       "      <th>GR4</th>\n",
       "      <td>8760.0</td>\n",
       "      <td>10.887170</td>\n",
       "      <td>9.774989</td>\n",
       "      <td>-2.7</td>\n",
       "      <td>5.3</td>\n",
       "      <td>8.2</td>\n",
       "      <td>12.300</td>\n",
       "      <td>97.6</td>\n",
       "    </tr>\n",
       "  </tbody>\n",
       "</table>\n",
       "</div>"
      ],
      "text/plain": [
       "       Value                                                    \n",
       "       count       mean        std  min  25%   50%     75%   max\n",
       "Site                                                            \n",
       "BL0   8760.0  10.773266   9.996294 -3.3  4.8   7.8  12.425  92.4\n",
       "CD9   8760.0  13.636306  10.394547 -7.3  7.2  11.0  16.300  83.9\n",
       "GB0   8760.0  12.170311   8.973293 -1.2  6.8   9.5  14.000  79.8\n",
       "GR4   8760.0  10.887170   9.774989 -2.7  5.3   8.2  12.300  97.6"
      ]
     },
     "execution_count": 41,
     "metadata": {},
     "output_type": "execute_result"
    }
   ],
   "source": [
    "AQMS_df[AQMS_df['Site'].isin(['BL0','CD9','GR4','GB0'])].groupby('Site').describe()"
   ]
  },
  {
   "cell_type": "code",
   "execution_count": null,
   "metadata": {},
   "outputs": [],
   "source": [
    "loc_gdf.drop(['BL0','GR4'],inplace=True)"
   ]
  },
  {
   "cell_type": "code",
   "execution_count": 42,
   "metadata": {},
   "outputs": [],
   "source": [
    "loc_gdf['buffer_area']=loc_gdf['buffer_1km'].area"
   ]
  },
  {
   "cell_type": "code",
   "execution_count": 43,
   "metadata": {},
   "outputs": [],
   "source": [
    "loc_gdf['pct_Gsp_area']=loc_gdf['GreenSpace'].area/loc_gdf['buffer_area'] # percentage of gsp area\n",
    "loc_gdf['pct_nR_Gsp_area']=loc_gdf['NR_GreenSpace'].area/loc_gdf['buffer_area'] # percentage of near road gsp area"
   ]
  },
  {
   "cell_type": "code",
   "execution_count": 44,
   "metadata": {},
   "outputs": [
    {
     "name": "stdout",
     "output_type": "stream",
     "text": [
      "<class 'geopandas.geodataframe.GeoDataFrame'>\n",
      "Index: 21 entries, BX9 to MY7\n",
      "Data columns (total 10 columns):\n",
      " #   Column           Non-Null Count  Dtype   \n",
      "---  ------           --------------  -----   \n",
      " 0   sitename         21 non-null     object  \n",
      " 1   geometry         21 non-null     geometry\n",
      " 2   buffer_1km       21 non-null     geometry\n",
      " 3   Road             21 non-null     geometry\n",
      " 4   GreenSpace       21 non-null     geometry\n",
      " 5   NR_GreenSpace    21 non-null     geometry\n",
      " 6   min_dis          21 non-null     float64 \n",
      " 7   buffer_area      21 non-null     float64 \n",
      " 8   pct_Gsp_area     21 non-null     float64 \n",
      " 9   pct_nR_Gsp_area  21 non-null     float64 \n",
      "dtypes: float64(4), geometry(5), object(1)\n",
      "memory usage: 2.3+ KB\n"
     ]
    }
   ],
   "source": [
    "loc_gdf.info()"
   ]
  },
  {
   "cell_type": "code",
   "execution_count": 47,
   "metadata": {},
   "outputs": [
    {
     "name": "stdout",
     "output_type": "stream",
     "text": [
      "<class 'pandas.core.frame.DataFrame'>\n",
      "Int64Index: 183960 entries, 0 to 183959\n",
      "Data columns (total 6 columns):\n",
      " #   Column           Non-Null Count   Dtype  \n",
      "---  ------           --------------   -----  \n",
      " 0   Site             183960 non-null  object \n",
      " 1   Value            183960 non-null  float64\n",
      " 2   DateTime         183960 non-null  object \n",
      " 3   buffer_area      183960 non-null  float64\n",
      " 4   pct_Gsp_area     183960 non-null  float64\n",
      " 5   pct_nR_Gsp_area  183960 non-null  float64\n",
      "dtypes: float64(4), object(2)\n",
      "memory usage: 9.8+ MB\n"
     ]
    }
   ],
   "source": [
    "df=AQMS_df.merge(loc_gdf,left_on='Site',right_index=True)\n",
    "df.drop(['sitename','geometry','buffer_1km','Road','GreenSpace','NR_GreenSpace','min_dis']\n",
    "        ,axis=1,inplace=True)\n",
    "df.info()"
   ]
  },
  {
   "cell_type": "code",
   "execution_count": 48,
   "metadata": {},
   "outputs": [
    {
     "name": "stdout",
     "output_type": "stream",
     "text": [
      "<class 'pandas.core.frame.DataFrame'>\n",
      "Int64Index: 183960 entries, 0 to 183959\n",
      "Data columns (total 9 columns):\n",
      " #   Column           Non-Null Count   Dtype  \n",
      "---  ------           --------------   -----  \n",
      " 0   Site             183960 non-null  object \n",
      " 1   Value            183960 non-null  float64\n",
      " 2   DateTime         183960 non-null  object \n",
      " 3   buffer_area      183960 non-null  float64\n",
      " 4   pct_Gsp_area     183960 non-null  float64\n",
      " 5   pct_nR_Gsp_area  183960 non-null  float64\n",
      " 6   bp_mean          183960 non-null  float64\n",
      " 7   tmp_mean         183960 non-null  float64\n",
      " 8   rh_mean          183960 non-null  float64\n",
      "dtypes: float64(7), object(2)\n",
      "memory usage: 14.0+ MB\n"
     ]
    }
   ],
   "source": [
    "df=df.merge(cond,on='DateTime')\n",
    "df.info()"
   ]
  },
  {
   "cell_type": "code",
   "execution_count": 58,
   "metadata": {},
   "outputs": [
    {
     "name": "stdout",
     "output_type": "stream",
     "text": [
      "<class 'pandas.core.frame.DataFrame'>\n",
      "Int64Index: 183960 entries, 0 to 183959\n",
      "Data columns (total 9 columns):\n",
      " #   Column           Non-Null Count   Dtype         \n",
      "---  ------           --------------   -----         \n",
      " 0   Site             183960 non-null  object        \n",
      " 1   Value            183960 non-null  float64       \n",
      " 2   DateTime         183960 non-null  datetime64[ns]\n",
      " 3   buffer_area      183960 non-null  float64       \n",
      " 4   pct_Gsp_area     183960 non-null  float64       \n",
      " 5   pct_nR_Gsp_area  183960 non-null  float64       \n",
      " 6   bp_mean          183960 non-null  float64       \n",
      " 7   tmp_mean         183960 non-null  float64       \n",
      " 8   rh_mean          183960 non-null  float64       \n",
      "dtypes: datetime64[ns](1), float64(7), object(1)\n",
      "memory usage: 14.0+ MB\n"
     ]
    }
   ],
   "source": [
    "df['DateTime']=pd.to_datetime(df['DateTime'])\n",
    "df.info()"
   ]
  },
  {
   "cell_type": "code",
   "execution_count": 71,
   "metadata": {},
   "outputs": [],
   "source": [
    "df['month']=df['DateTime'].dt.month"
   ]
  },
  {
   "cell_type": "code",
   "execution_count": 74,
   "metadata": {},
   "outputs": [
    {
     "data": {
      "text/plain": [
       "Site                       object\n",
       "Value                     float64\n",
       "DateTime           datetime64[ns]\n",
       "buffer_area               float64\n",
       "pct_Gsp_area              float64\n",
       "pct_nR_Gsp_area           float64\n",
       "bp_mean                   float64\n",
       "tmp_mean                  float64\n",
       "rh_mean                   float64\n",
       "month                       int64\n",
       "dtype: object"
      ]
     },
     "execution_count": 74,
     "metadata": {},
     "output_type": "execute_result"
    }
   ],
   "source": [
    "df.dtypes"
   ]
  },
  {
   "cell_type": "code",
   "execution_count": 75,
   "metadata": {},
   "outputs": [
    {
     "data": {
      "text/plain": [
       "0         False\n",
       "1         False\n",
       "2         False\n",
       "3         False\n",
       "4         False\n",
       "          ...  \n",
       "183955    False\n",
       "183956    False\n",
       "183957    False\n",
       "183958    False\n",
       "183959    False\n",
       "Name: month, Length: 183960, dtype: bool"
      ]
     },
     "execution_count": 75,
     "metadata": {},
     "output_type": "execute_result"
    }
   ],
   "source": [
    "df['month'].isin([2,3,4])"
   ]
  },
  {
   "cell_type": "code",
   "execution_count": 76,
   "metadata": {},
   "outputs": [
    {
     "name": "stdout",
     "output_type": "stream",
     "text": [
      "<class 'pandas.core.frame.DataFrame'>\n",
      "Int64Index: 44856 entries, 504 to 170351\n",
      "Data columns (total 10 columns):\n",
      " #   Column           Non-Null Count  Dtype         \n",
      "---  ------           --------------  -----         \n",
      " 0   Site             44856 non-null  object        \n",
      " 1   Value            44856 non-null  float64       \n",
      " 2   DateTime         44856 non-null  datetime64[ns]\n",
      " 3   buffer_area      44856 non-null  float64       \n",
      " 4   pct_Gsp_area     44856 non-null  float64       \n",
      " 5   pct_nR_Gsp_area  44856 non-null  float64       \n",
      " 6   bp_mean          44856 non-null  float64       \n",
      " 7   tmp_mean         44856 non-null  float64       \n",
      " 8   rh_mean          44856 non-null  float64       \n",
      " 9   month            44856 non-null  int64         \n",
      "dtypes: datetime64[ns](1), float64(7), int64(1), object(1)\n",
      "memory usage: 3.8+ MB\n"
     ]
    }
   ],
   "source": [
    "high=df[df['month'].isin([2,3,4])].copy()\n",
    "high.info()"
   ]
  },
  {
   "cell_type": "code",
   "execution_count": 77,
   "metadata": {},
   "outputs": [
    {
     "name": "stdout",
     "output_type": "stream",
     "text": [
      "                                 OLS Regression Results                                \n",
      "=======================================================================================\n",
      "Dep. Variable:                      y   R-squared (uncentered):                   0.576\n",
      "Model:                            OLS   Adj. R-squared (uncentered):              0.576\n",
      "Method:                 Least Squares   F-statistic:                          1.219e+04\n",
      "Date:                Tue, 01 Mar 2022   Prob (F-statistic):                        0.00\n",
      "Time:                        16:35:51   Log-Likelihood:                     -1.8228e+05\n",
      "No. Observations:               44856   AIC:                                  3.646e+05\n",
      "Df Residuals:                   44851   BIC:                                  3.646e+05\n",
      "Df Model:                           5                                                  \n",
      "Covariance Type:            nonrobust                                                  \n",
      "==============================================================================\n",
      "                 coef    std err          t      P>|t|      [0.025      0.975]\n",
      "------------------------------------------------------------------------------\n",
      "x1            -5.8189      1.174     -4.957      0.000      -8.120      -3.518\n",
      "x2            20.6196      4.437      4.647      0.000      11.922      29.317\n",
      "x3             0.0239      0.001     44.543      0.000       0.023       0.025\n",
      "x4            -0.3744      0.016    -22.870      0.000      -0.406      -0.342\n",
      "x5            -0.0551      0.005    -10.535      0.000      -0.065      -0.045\n",
      "==============================================================================\n",
      "Omnibus:                    28637.508   Durbin-Watson:                   0.259\n",
      "Prob(Omnibus):                  0.000   Jarque-Bera (JB):          1466401.793\n",
      "Skew:                           2.424   Prob(JB):                         0.00\n",
      "Kurtosis:                      30.588   Cond. No.                     6.94e+04\n",
      "==============================================================================\n",
      "\n",
      "Notes:\n",
      "[1] R² is computed without centering (uncentered) since the model does not contain a constant.\n",
      "[2] Standard Errors assume that the covariance matrix of the errors is correctly specified.\n",
      "[3] The condition number is large, 6.94e+04. This might indicate that there are\n",
      "strong multicollinearity or other numerical problems.\n"
     ]
    }
   ],
   "source": [
    "vars=['pct_Gsp_area','pct_nR_Gsp_area','bp_mean','tmp_mean','rh_mean']\n",
    "Y=high['Value'].values\n",
    "X=high[vars].values\n",
    "m_con=sm.OLS(Y,X)\n",
    "m_con_fit=m_con.fit()\n",
    "print(m_con_fit.summary())"
   ]
  },
  {
   "cell_type": "code",
   "execution_count": 78,
   "metadata": {},
   "outputs": [
    {
     "data": {
      "text/plain": [
       "0.05207088679208671"
      ]
     },
     "execution_count": 78,
     "metadata": {},
     "output_type": "execute_result"
    }
   ],
   "source": [
    "from sklearn.linear_model import LinearRegression\n",
    "\n",
    "reg=LinearRegression().fit(X,Y)\n",
    "reg.score(X,Y)"
   ]
  },
  {
   "cell_type": "code",
   "execution_count": 80,
   "metadata": {},
   "outputs": [
    {
     "data": {
      "text/html": [
       "<div>\n",
       "<style scoped>\n",
       "    .dataframe tbody tr th:only-of-type {\n",
       "        vertical-align: middle;\n",
       "    }\n",
       "\n",
       "    .dataframe tbody tr th {\n",
       "        vertical-align: top;\n",
       "    }\n",
       "\n",
       "    .dataframe thead th {\n",
       "        text-align: right;\n",
       "    }\n",
       "</style>\n",
       "<table border=\"1\" class=\"dataframe\">\n",
       "  <thead>\n",
       "    <tr style=\"text-align: right;\">\n",
       "      <th></th>\n",
       "      <th>Value</th>\n",
       "      <th>buffer_area</th>\n",
       "      <th>pct_Gsp_area</th>\n",
       "      <th>pct_nR_Gsp_area</th>\n",
       "      <th>bp_mean</th>\n",
       "      <th>tmp_mean</th>\n",
       "      <th>rh_mean</th>\n",
       "      <th>month</th>\n",
       "    </tr>\n",
       "  </thead>\n",
       "  <tbody>\n",
       "    <tr>\n",
       "      <th>Value</th>\n",
       "      <td>1.000</td>\n",
       "      <td>-0.032</td>\n",
       "      <td>-0.006</td>\n",
       "      <td>0.008</td>\n",
       "      <td>0.214</td>\n",
       "      <td>-0.095</td>\n",
       "      <td>0.037</td>\n",
       "      <td>0.026</td>\n",
       "    </tr>\n",
       "    <tr>\n",
       "      <th>buffer_area</th>\n",
       "      <td>-0.032</td>\n",
       "      <td>1.000</td>\n",
       "      <td>0.346</td>\n",
       "      <td>0.225</td>\n",
       "      <td>0.068</td>\n",
       "      <td>-0.064</td>\n",
       "      <td>0.025</td>\n",
       "      <td>-0.069</td>\n",
       "    </tr>\n",
       "    <tr>\n",
       "      <th>pct_Gsp_area</th>\n",
       "      <td>-0.006</td>\n",
       "      <td>0.346</td>\n",
       "      <td>1.000</td>\n",
       "      <td>0.848</td>\n",
       "      <td>-0.000</td>\n",
       "      <td>0.000</td>\n",
       "      <td>0.000</td>\n",
       "      <td>0.000</td>\n",
       "    </tr>\n",
       "    <tr>\n",
       "      <th>pct_nR_Gsp_area</th>\n",
       "      <td>0.008</td>\n",
       "      <td>0.225</td>\n",
       "      <td>0.848</td>\n",
       "      <td>1.000</td>\n",
       "      <td>-0.000</td>\n",
       "      <td>-0.000</td>\n",
       "      <td>0.000</td>\n",
       "      <td>0.000</td>\n",
       "    </tr>\n",
       "    <tr>\n",
       "      <th>bp_mean</th>\n",
       "      <td>0.214</td>\n",
       "      <td>0.068</td>\n",
       "      <td>-0.000</td>\n",
       "      <td>-0.000</td>\n",
       "      <td>1.000</td>\n",
       "      <td>-0.102</td>\n",
       "      <td>-0.124</td>\n",
       "      <td>-0.220</td>\n",
       "    </tr>\n",
       "    <tr>\n",
       "      <th>tmp_mean</th>\n",
       "      <td>-0.095</td>\n",
       "      <td>-0.064</td>\n",
       "      <td>0.000</td>\n",
       "      <td>-0.000</td>\n",
       "      <td>-0.102</td>\n",
       "      <td>1.000</td>\n",
       "      <td>-0.669</td>\n",
       "      <td>0.117</td>\n",
       "    </tr>\n",
       "    <tr>\n",
       "      <th>rh_mean</th>\n",
       "      <td>0.037</td>\n",
       "      <td>0.025</td>\n",
       "      <td>0.000</td>\n",
       "      <td>0.000</td>\n",
       "      <td>-0.124</td>\n",
       "      <td>-0.669</td>\n",
       "      <td>1.000</td>\n",
       "      <td>-0.150</td>\n",
       "    </tr>\n",
       "    <tr>\n",
       "      <th>month</th>\n",
       "      <td>0.026</td>\n",
       "      <td>-0.069</td>\n",
       "      <td>0.000</td>\n",
       "      <td>0.000</td>\n",
       "      <td>-0.220</td>\n",
       "      <td>0.117</td>\n",
       "      <td>-0.150</td>\n",
       "      <td>1.000</td>\n",
       "    </tr>\n",
       "  </tbody>\n",
       "</table>\n",
       "</div>"
      ],
      "text/plain": [
       "                 Value  buffer_area  pct_Gsp_area  pct_nR_Gsp_area  bp_mean  \\\n",
       "Value            1.000       -0.032        -0.006            0.008    0.214   \n",
       "buffer_area     -0.032        1.000         0.346            0.225    0.068   \n",
       "pct_Gsp_area    -0.006        0.346         1.000            0.848   -0.000   \n",
       "pct_nR_Gsp_area  0.008        0.225         0.848            1.000   -0.000   \n",
       "bp_mean          0.214        0.068        -0.000           -0.000    1.000   \n",
       "tmp_mean        -0.095       -0.064         0.000           -0.000   -0.102   \n",
       "rh_mean          0.037        0.025         0.000            0.000   -0.124   \n",
       "month            0.026       -0.069         0.000            0.000   -0.220   \n",
       "\n",
       "                 tmp_mean  rh_mean  month  \n",
       "Value              -0.095    0.037  0.026  \n",
       "buffer_area        -0.064    0.025 -0.069  \n",
       "pct_Gsp_area        0.000    0.000  0.000  \n",
       "pct_nR_Gsp_area    -0.000    0.000  0.000  \n",
       "bp_mean            -0.102   -0.124 -0.220  \n",
       "tmp_mean            1.000   -0.669  0.117  \n",
       "rh_mean            -0.669    1.000 -0.150  \n",
       "month               0.117   -0.150  1.000  "
      ]
     },
     "execution_count": 80,
     "metadata": {},
     "output_type": "execute_result"
    }
   ],
   "source": [
    "high.corr().round(3)"
   ]
  },
  {
   "cell_type": "code",
   "execution_count": 54,
   "metadata": {},
   "outputs": [
    {
     "name": "stdout",
     "output_type": "stream",
     "text": [
      "<class 'pandas.core.frame.DataFrame'>\n",
      "Int64Index: 183960 entries, 0 to 183959\n",
      "Data columns (total 9 columns):\n",
      " #   Column           Non-Null Count   Dtype  \n",
      "---  ------           --------------   -----  \n",
      " 0   Site             183960 non-null  object \n",
      " 1   Value            183960 non-null  float64\n",
      " 2   DateTime         183960 non-null  object \n",
      " 3   buffer_area      183960 non-null  float64\n",
      " 4   pct_Gsp_area     183960 non-null  float64\n",
      " 5   pct_nR_Gsp_area  183960 non-null  float64\n",
      " 6   bp_mean          183960 non-null  float64\n",
      " 7   tmp_mean         183960 non-null  float64\n",
      " 8   rh_mean          183960 non-null  float64\n",
      "dtypes: float64(7), object(2)\n",
      "memory usage: 14.0+ MB\n"
     ]
    }
   ],
   "source": [
    "df.info()"
   ]
  },
  {
   "cell_type": "code",
   "execution_count": 81,
   "metadata": {},
   "outputs": [
    {
     "name": "stdout",
     "output_type": "stream",
     "text": [
      "<class 'pandas.core.frame.DataFrame'>\n",
      "RangeIndex: 7665 entries, 0 to 7664\n",
      "Data columns (total 3 columns):\n",
      " #   Column    Non-Null Count  Dtype  \n",
      "---  ------    --------------  -----  \n",
      " 0   DateTime  7665 non-null   object \n",
      " 1   Value     7665 non-null   float64\n",
      " 2   Site      7665 non-null   object \n",
      "dtypes: float64(1), object(2)\n",
      "memory usage: 179.8+ KB\n"
     ]
    }
   ],
   "source": [
    "daily=pd.read_csv('data/daily.csv')\n",
    "daily.info()"
   ]
  },
  {
   "cell_type": "code",
   "execution_count": 84,
   "metadata": {},
   "outputs": [
    {
     "name": "stdout",
     "output_type": "stream",
     "text": [
      "<class 'pandas.core.frame.DataFrame'>\n",
      "RangeIndex: 365 entries, 0 to 364\n",
      "Data columns (total 4 columns):\n",
      " #   Column    Non-Null Count  Dtype  \n",
      "---  ------    --------------  -----  \n",
      " 0   DateTime  365 non-null    object \n",
      " 1   bp_mean   365 non-null    float64\n",
      " 2   tmp_mean  365 non-null    float64\n",
      " 3   rh_mean   365 non-null    float64\n",
      "dtypes: float64(3), object(1)\n",
      "memory usage: 11.5+ KB\n"
     ]
    }
   ],
   "source": [
    "cond_daily=pd.read_csv('data/cond_daily.csv')\n",
    "cond_daily.info()"
   ]
  },
  {
   "cell_type": "code",
   "execution_count": 85,
   "metadata": {},
   "outputs": [
    {
     "name": "stdout",
     "output_type": "stream",
     "text": [
      "<class 'pandas.core.frame.DataFrame'>\n",
      "Int64Index: 7665 entries, 0 to 7664\n",
      "Data columns (total 9 columns):\n",
      " #   Column           Non-Null Count  Dtype  \n",
      "---  ------           --------------  -----  \n",
      " 0   DateTime         7665 non-null   object \n",
      " 1   Value            7665 non-null   float64\n",
      " 2   Site             7665 non-null   object \n",
      " 3   bp_mean          7665 non-null   float64\n",
      " 4   tmp_mean         7665 non-null   float64\n",
      " 5   rh_mean          7665 non-null   float64\n",
      " 6   buffer_area      7665 non-null   float64\n",
      " 7   pct_Gsp_area     7665 non-null   float64\n",
      " 8   pct_nR_Gsp_area  7665 non-null   float64\n",
      "dtypes: float64(7), object(2)\n",
      "memory usage: 598.8+ KB\n"
     ]
    }
   ],
   "source": [
    "daily_df=daily.merge(cond_daily,on='DateTime')\n",
    "daily_df=daily_df.merge(loc_gdf,left_on='Site',right_index=True)\n",
    "daily_df.drop(['sitename','geometry','buffer_1km','Road','GreenSpace','NR_GreenSpace','min_dis']\n",
    "        ,axis=1,inplace=True)\n",
    "daily_df.info()"
   ]
  },
  {
   "cell_type": "code",
   "execution_count": 86,
   "metadata": {},
   "outputs": [],
   "source": [
    "daily_df['DateTime']=pd.to_datetime(daily_df['DateTime'])"
   ]
  },
  {
   "cell_type": "code",
   "execution_count": 87,
   "metadata": {},
   "outputs": [
    {
     "data": {
      "text/html": [
       "<div>\n",
       "<style scoped>\n",
       "    .dataframe tbody tr th:only-of-type {\n",
       "        vertical-align: middle;\n",
       "    }\n",
       "\n",
       "    .dataframe tbody tr th {\n",
       "        vertical-align: top;\n",
       "    }\n",
       "\n",
       "    .dataframe thead th {\n",
       "        text-align: right;\n",
       "    }\n",
       "</style>\n",
       "<table border=\"1\" class=\"dataframe\">\n",
       "  <thead>\n",
       "    <tr style=\"text-align: right;\">\n",
       "      <th></th>\n",
       "      <th>Value</th>\n",
       "      <th>bp_mean</th>\n",
       "      <th>tmp_mean</th>\n",
       "      <th>rh_mean</th>\n",
       "      <th>buffer_area</th>\n",
       "      <th>pct_Gsp_area</th>\n",
       "      <th>pct_nR_Gsp_area</th>\n",
       "    </tr>\n",
       "  </thead>\n",
       "  <tbody>\n",
       "    <tr>\n",
       "      <th>Value</th>\n",
       "      <td>1.000000</td>\n",
       "      <td>2.404436e-01</td>\n",
       "      <td>-1.396962e-01</td>\n",
       "      <td>-5.041142e-02</td>\n",
       "      <td>-0.039560</td>\n",
       "      <td>-1.329513e-02</td>\n",
       "      <td>1.267480e-04</td>\n",
       "    </tr>\n",
       "    <tr>\n",
       "      <th>bp_mean</th>\n",
       "      <td>0.240444</td>\n",
       "      <td>1.000000e+00</td>\n",
       "      <td>5.244268e-02</td>\n",
       "      <td>-3.622951e-01</td>\n",
       "      <td>-0.001407</td>\n",
       "      <td>1.019764e-14</td>\n",
       "      <td>1.807044e-15</td>\n",
       "    </tr>\n",
       "    <tr>\n",
       "      <th>tmp_mean</th>\n",
       "      <td>-0.139696</td>\n",
       "      <td>5.244268e-02</td>\n",
       "      <td>1.000000e+00</td>\n",
       "      <td>-4.161895e-01</td>\n",
       "      <td>0.000804</td>\n",
       "      <td>1.896323e-16</td>\n",
       "      <td>6.791586e-17</td>\n",
       "    </tr>\n",
       "    <tr>\n",
       "      <th>rh_mean</th>\n",
       "      <td>-0.050411</td>\n",
       "      <td>-3.622951e-01</td>\n",
       "      <td>-4.161895e-01</td>\n",
       "      <td>1.000000e+00</td>\n",
       "      <td>0.002579</td>\n",
       "      <td>-2.898289e-15</td>\n",
       "      <td>-1.005143e-15</td>\n",
       "    </tr>\n",
       "    <tr>\n",
       "      <th>buffer_area</th>\n",
       "      <td>-0.039560</td>\n",
       "      <td>-1.407013e-03</td>\n",
       "      <td>8.039049e-04</td>\n",
       "      <td>2.578953e-03</td>\n",
       "      <td>1.000000</td>\n",
       "      <td>3.756169e-01</td>\n",
       "      <td>2.776423e-01</td>\n",
       "    </tr>\n",
       "    <tr>\n",
       "      <th>pct_Gsp_area</th>\n",
       "      <td>-0.013295</td>\n",
       "      <td>1.019764e-14</td>\n",
       "      <td>1.896323e-16</td>\n",
       "      <td>-2.898289e-15</td>\n",
       "      <td>0.375617</td>\n",
       "      <td>1.000000e+00</td>\n",
       "      <td>8.479318e-01</td>\n",
       "    </tr>\n",
       "    <tr>\n",
       "      <th>pct_nR_Gsp_area</th>\n",
       "      <td>0.000127</td>\n",
       "      <td>1.807044e-15</td>\n",
       "      <td>6.791586e-17</td>\n",
       "      <td>-1.005143e-15</td>\n",
       "      <td>0.277642</td>\n",
       "      <td>8.479318e-01</td>\n",
       "      <td>1.000000e+00</td>\n",
       "    </tr>\n",
       "  </tbody>\n",
       "</table>\n",
       "</div>"
      ],
      "text/plain": [
       "                    Value       bp_mean      tmp_mean       rh_mean  \\\n",
       "Value            1.000000  2.404436e-01 -1.396962e-01 -5.041142e-02   \n",
       "bp_mean          0.240444  1.000000e+00  5.244268e-02 -3.622951e-01   \n",
       "tmp_mean        -0.139696  5.244268e-02  1.000000e+00 -4.161895e-01   \n",
       "rh_mean         -0.050411 -3.622951e-01 -4.161895e-01  1.000000e+00   \n",
       "buffer_area     -0.039560 -1.407013e-03  8.039049e-04  2.578953e-03   \n",
       "pct_Gsp_area    -0.013295  1.019764e-14  1.896323e-16 -2.898289e-15   \n",
       "pct_nR_Gsp_area  0.000127  1.807044e-15  6.791586e-17 -1.005143e-15   \n",
       "\n",
       "                 buffer_area  pct_Gsp_area  pct_nR_Gsp_area  \n",
       "Value              -0.039560 -1.329513e-02     1.267480e-04  \n",
       "bp_mean            -0.001407  1.019764e-14     1.807044e-15  \n",
       "tmp_mean            0.000804  1.896323e-16     6.791586e-17  \n",
       "rh_mean             0.002579 -2.898289e-15    -1.005143e-15  \n",
       "buffer_area         1.000000  3.756169e-01     2.776423e-01  \n",
       "pct_Gsp_area        0.375617  1.000000e+00     8.479318e-01  \n",
       "pct_nR_Gsp_area     0.277642  8.479318e-01     1.000000e+00  "
      ]
     },
     "execution_count": 87,
     "metadata": {},
     "output_type": "execute_result"
    }
   ],
   "source": [
    "daily_df.corr()"
   ]
  },
  {
   "cell_type": "code",
   "execution_count": null,
   "metadata": {},
   "outputs": [],
   "source": [
    "df=AQMS_df.drop(AQMS_df[AQMS_df['Site'].isin(['BL0','GR4'])].index).reset_index(drop=True)\n",
    "df.info()"
   ]
  },
  {
   "cell_type": "code",
   "execution_count": null,
   "metadata": {},
   "outputs": [],
   "source": [
    "df.groupby('Site').describe()"
   ]
  },
  {
   "cell_type": "code",
   "execution_count": null,
   "metadata": {},
   "outputs": [],
   "source": [
    "df=df.merge(loc_gdf,left_on='Site',right_index=True)\n",
    "df"
   ]
  },
  {
   "cell_type": "code",
   "execution_count": null,
   "metadata": {},
   "outputs": [],
   "source": [
    "fig,ax=plt.subplots(1,figsize=(15,13))\n",
    "\n",
    "london.plot(color='lightgrey',ax=ax)\n",
    "loc_gdf['buffer_1km'].plot(color='silver',ax=ax)\n",
    "loc_gdf['GreenSpace'].plot(label='Green space',color='limegreen',ax=ax)\n",
    "loc_gdf['NR_GreenSpace'].plot(label='Near_road green space',color='darkgreen',ax=ax)\n",
    "loc_gdf['Road'].plot(color='black',label='Road',linewidth=0.1,ax=ax)\n",
    "loc_gdf['geometry'].plot(markersize=5,marker='^',color='blue',label='Air quality monitoring site',ax=ax)\n",
    "\n",
    "ax.axis('off')\n",
    "\n",
    "legend=ax.legend(loc='best',shadow=True,fontsize=15)\n",
    "\n",
    "#plt.savefig('sample1.png',facecolor='black',dpi=500)\n",
    "plt.show()"
   ]
  },
  {
   "cell_type": "code",
   "execution_count": null,
   "metadata": {},
   "outputs": [],
   "source": [
    "loc_gdf.head()"
   ]
  },
  {
   "cell_type": "code",
   "execution_count": null,
   "metadata": {},
   "outputs": [],
   "source": [
    "df.head()"
   ]
  },
  {
   "cell_type": "code",
   "execution_count": null,
   "metadata": {},
   "outputs": [],
   "source": [
    "cond.head()"
   ]
  },
  {
   "cell_type": "code",
   "execution_count": null,
   "metadata": {},
   "outputs": [],
   "source": [
    "df=df.merge(cond,on='DateTime')\n",
    "df.head()"
   ]
  },
  {
   "cell_type": "code",
   "execution_count": null,
   "metadata": {},
   "outputs": [],
   "source": [
    "df.info()"
   ]
  },
  {
   "cell_type": "code",
   "execution_count": null,
   "metadata": {},
   "outputs": [],
   "source": [
    "loc_gdf.info()"
   ]
  },
  {
   "cell_type": "code",
   "execution_count": null,
   "metadata": {},
   "outputs": [],
   "source": [
    "df=df.merge(loc_gdf,left_on='Site',right_index=True)\n",
    "df.info()"
   ]
  },
  {
   "cell_type": "code",
   "execution_count": null,
   "metadata": {},
   "outputs": [],
   "source": [
    "var=['pct_Gsp_area','pct_nR_Gsp_area','BP','Tmp','RH']"
   ]
  }
 ],
 "metadata": {
  "interpreter": {
   "hash": "203d01a3458eace725dddcfcdb2c604435d077f4f6685c100707a5d3f77ea293"
  },
  "kernelspec": {
   "display_name": "Python 3.8.10 64-bit ('sds2021': conda)",
   "language": "python",
   "name": "python3"
  },
  "language_info": {
   "codemirror_mode": {
    "name": "ipython",
    "version": 3
   },
   "file_extension": ".py",
   "mimetype": "text/x-python",
   "name": "python",
   "nbconvert_exporter": "python",
   "pygments_lexer": "ipython3",
   "version": "3.8.10"
  },
  "orig_nbformat": 4
 },
 "nbformat": 4,
 "nbformat_minor": 2
}
